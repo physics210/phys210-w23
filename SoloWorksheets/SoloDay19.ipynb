{
 "cells": [
  {
   "cell_type": "markdown",
   "metadata": {},
   "source": [
    "# PHYS 210, Solo Worksheet 19\n",
    "Due Wed, Nov 22, 2023 at the start of class on Canvas"
   ]
  },
  {
   "cell_type": "markdown",
   "metadata": {},
   "source": [
    "## *19.1: Animating a dataset*"
   ]
  },
  {
   "cell_type": "markdown",
   "metadata": {
    "id": "Vm6BcNQf1O1q"
   },
   "source": [
    "For this task, we are giving you a dataset showing the propagation of a sin wave over time, `SoloDay19-Data.txt`. Your task is to animate this dataset using either `Artistanimation` or `FuncAnimation`, and then use this animation to determine when the direction of the wave changes. The dataset is structured with 3 columns: `t`, `x` and `y`.\n",
    "\n",
    "1. Create an animation of the wave over time. \n",
    "1. Include the current time in the title so that you can determine the approximate time that the sin wave turns around.\n",
    "1. After determining the time of the direction change, modify your animation to display the points that are moving backward as red. "
   ]
  },
  {
   "cell_type": "code",
   "execution_count": null,
   "metadata": {
    "id": "vbhJibxD4usZ"
   },
   "outputs": [],
   "source": [
    "# Your code here\n",
    "\n",
    "\n"
   ]
  },
  {
   "cell_type": "markdown",
   "metadata": {},
   "source": [
    "## *19.2: Animating a damped pendulum*"
   ]
  },
  {
   "cell_type": "markdown",
   "metadata": {},
   "source": [
    "For this task you will animate a damped pendulum using `ArtistAnimation` or `FuncAnimation`.\n",
    "\n",
    "Use Euler's method to determine the motion:\n",
    "\n",
    "* Angular acceleration\n",
    "$$α = -b \\omega - \\frac{g}{L}\\sin\\theta$$\n",
    "* Angular velocity\n",
    "$$\\omega \\mathrel{+}= \\alpha \\, dt$$\n",
    "* Angular position\n",
    "$$\\theta \\mathrel{+}= \\omega \\, dt$$\n",
    "\n",
    "You are provided the following constants:\n",
    "- Length of the pendulum, $L$: 0.5 meters\n",
    "- Acceleration due to gravity, $g$: 9.81 m/s^2\n",
    "- Damping coefficient, $b$: 0.4\n",
    "- Initial angle $\\theta$: 120 degrees (counterclockwise from the negative y-axis)\n",
    "- Initial angular velocity, $\\omega$: 12 rad/s counterclockwise\n",
    "- Time step, $dt$: 0.05 seconds\n",
    "- Total length of simulation: 10 seconds\n",
    "\n",
    "Use your animation to determine:\n",
    "- The number of times the pendulum crosses over the top (crosses the positive y-axis) and then check your answer below\n",
    "\n",
    "***Warning!*** You need to be careful to make sure you can see what is happening in the first couple of frames since the pendulum is already near the top and starts moving in that direction."
   ]
  },
  {
   "cell_type": "code",
   "execution_count": null,
   "metadata": {},
   "outputs": [],
   "source": [
    "# Your solution here\n"
   ]
  },
  {
   "cell_type": "code",
   "execution_count": null,
   "metadata": {},
   "outputs": [],
   "source": [
    "# Report number of times the pendulum passes across positive y axis here\n",
    "passes = \"99\" # Update this number with your value\n",
    "\n",
    "import hashlib\n",
    "assert passes in [\"0\", \"1\", \"2\", \"3\", \"4\", \"5\", \"6\", \"7\"], \"Your answer did not match any of the choices\"\n",
    "assert hashlib.sha256(passes.encode()).hexdigest() == \\\n",
    "    '4e07408562bedb8b60ce05c1decfe3ad16b72230967de01f640b7e4729b49fce' or \\\n",
    "    hashlib.sha256(passes.encode()).hexdigest() == \\\n",
    "    'ef2d127de37b942baad06145e54b0c619a1f22327b2ebbcfbec78f5564afe39d', \"Your answer is incorrect\"\n",
    "print(\"Your answer\", passes, \"is correct\") # Passed all assert statements above"
   ]
  },
  {
   "cell_type": "markdown",
   "metadata": {},
   "source": [
    "## *Completing this solo worksheet and submitting it to Canvas*\n",
    "Before submitting your work, restart + rerun your entire notebook to make sure that everything runs correctly and without error.\n",
    "\n",
    "To do this:\n",
    "1. **Restart & Run All:** From the \"Kernel\" menu to the right of the \"Cell\" menu, select \"Restart & Run All\". This will restart the python Kernel, erasing all variables currently stored in memory so that when you \"Run All\" cells, you can ensure that if you were to run your notebook again on a later day, it would run as intended.\n",
    "1. Look through the whole notebook and make sure there are no errors. Many questions have purposeful errors in the distributed version so make sure you have fixed them all such that \"Restart & Run All\" will run through the whole book and successfully print \"The notebook ran without errors\" at the end. If you have any trouble resolving the errors, please ask one of your classmates or ask us in class or on Piazza.\n",
    "\n",
    "**Export notebook as HTML:** After you've executed and checked your notebook, choose: File => Save_and_Export_Notebook_As => HTML. This will download an HTML version of your notebook to your computer. This version is can not be executed or modified. You may need to disable any pop-up blockers to allow the file to be downloaded.\n",
    "\n",
    "**Submit to Canvas:** Submit the html file that you just downloaded to the appropriate Solo Worksheet submission on Canvas."
   ]
  },
  {
   "cell_type": "code",
   "execution_count": null,
   "metadata": {},
   "outputs": [],
   "source": [
    "print(\"The notebook ran without errors\")"
   ]
  },
  {
   "cell_type": "code",
   "execution_count": null,
   "metadata": {},
   "outputs": [],
   "source": []
  }
 ],
 "metadata": {
  "colab": {
   "provenance": []
  },
  "kernelspec": {
   "display_name": "Python 3",
   "language": "python",
   "name": "python3"
  },
  "language_info": {
   "codemirror_mode": {
    "name": "ipython",
    "version": 3
   },
   "file_extension": ".py",
   "mimetype": "text/x-python",
   "name": "python",
   "nbconvert_exporter": "python",
   "pygments_lexer": "ipython3",
   "version": "3.7.6"
  }
 },
 "nbformat": 4,
 "nbformat_minor": 1
}
