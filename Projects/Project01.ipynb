{
 "cells": [
  {
   "cell_type": "markdown",
   "metadata": {
    "id": "L6BPQwluF50w"
   },
   "source": [
    "# Project 01: Collision mini-project\n",
    "**Due:** Wednesday, Oct 11, 2023 at the start of class<br>\n",
    "**Name:** (your name here...)"
   ]
  },
  {
   "cell_type": "markdown",
   "metadata": {
    "id": "jsQISSBkRtc5"
   },
   "source": [
    "# Instructions:\n",
    "This mini project is designed to prepare you for Projects 02-04 by reducing some of the communication expectations with respect to the later project. Below, you are given incomplete code that, when complete, should simulate what happens when two objects (balls) collide with each other and with barriers on either side. You have five tasks for this mini project:\n",
    "\n",
    "* **Task 1:** Update the starter code so that the collision between the two obejcts is handled correctly.\n",
    "* **Task 2:** Extend the physics of the simulation by introducing at least one additional challenging or interesting piece of physics (see below for some examples).\n",
    "* **Task 3:** Develop a multi-subplot graph that provides insight into the behaviour of your simulation. At least one of these subplots should be a new or novel visualization that we have not yet seen in the course, which provides further insight into the behaviour of your simulation.\n",
    "* **Task 4:** Choose two different sets of starting parameters and peform some calcualtions by hand to confirm that your simulation is behaving correctly. You can focus on the first collision with these calculations.\n",
    "* **Task 5:** Perform a series of self-assessments and reflections regarding how thoroughly you completed each task and how much you extended yourself when completing this mini-project.\n",
    "\n",
    "As outlined in the course's [overview of project assessment](https://physics210.github.io/phys210-w23/project_assessment.html), your project grade will be built from the following:\n",
    "1. The points awarded on the project assessment scale during your self-assessment, as updated by the grader.\n",
    "1. The grader's assessment of the accuracy of your self-assessments and the thoroughness of your reflections.\n",
    "\n",
    "Examples of interesting of challenging physics you could include in your simulation:\n",
    "* Incorporating an adjustable coefficient of restitution.\n",
    "* Incorporating rolling or other relevant types of friction.\n",
    "* Incorporating other external forces or energy by having the objects be two pendula, two objects on an inclined plane, etc.\n",
    "* Turning it into a two-dimensional collision.\n"
   ]
  },
  {
   "cell_type": "markdown",
   "metadata": {
    "id": "EFoJI9fh84DZ"
   },
   "source": [
    "# Code\n",
    "*Below is your starter code. In the text before the code, provide a brief description of what new physics you added in. Make sure to provide comments in your code so that a peer from this course could easily make sense of what you have done.*\n"
   ]
  },
  {
   "cell_type": "markdown",
   "metadata": {
    "id": "qVaRxMqG_2wf"
   },
   "source": [
    "**Description of new physics:** (your words here...)  "
   ]
  },
  {
   "cell_type": "code",
   "execution_count": null,
   "metadata": {
    "id": "pcEWlC1L9-ym"
   },
   "outputs": [],
   "source": [
    "# Starter collision code\n",
    "# - Add additional code and text blocks as needed\n",
    "# - Code for visualizations should go in the next section\n",
    "\n",
    "## Constants\n",
    "dt = 0.1 # s\n",
    "tmax = 100 # s\n",
    "t = [0.] # List to store time values corresponding to position/velocity values\n",
    "left_barrier = -10 # m\n",
    "right_barrier = 10 # m\n",
    "\n",
    "## Object 1\n",
    "xi1 = -5 # m\n",
    "vi1 = 2 # m/s\n",
    "x1 = [xi1] # List to store position values\n",
    "v1 = [vi1] # List to store velocity values\n",
    "r1 = 0.05 # m\n",
    "m1 = .01 # kg\n",
    "\n",
    "## Object 2\n",
    "xi2 = 7 # m\n",
    "vi2 = -1 #m /s\n",
    "x2 = [xi2]\n",
    "v2 = [vi2]\n",
    "r2 = 0.02 # m\n",
    "m2 = .001 # kg\n",
    "\n",
    "\n",
    "while t[-1] < tmax:\n",
    "\n",
    "  # Retrieve the kinematic quantities from the previous iteration\n",
    "  x1_last = x1[-1]\n",
    "  v1_last = v1[-1]\n",
    "  x2_last = x2[-1]\n",
    "  v2_last = v2[-1]\n",
    "  t_last = t[-1]\n",
    "\n",
    "  # Calculate new physical quantities\n",
    "  x1_new = x1_last + v1_last * dt\n",
    "  x2_new = x2_last + v2_last * dt\n",
    "  v1_new = v1_last\n",
    "  v2_new = v2_last\n",
    "  t_new = t_last + dt\n",
    "\n",
    "  # Check for collisions and update kinematic quantities as needed\n",
    "  if x1_new + r1 >= right_barrier or x1_new - r1 <= left_barrier:\n",
    "    v1_new = -v1_new\n",
    "\n",
    "  if x2_new + r2 >= right_barrier or x2_new - r2 <= left_barrier:\n",
    "    v2_new = -v2_new\n",
    "\n",
    "  # Append updated quantities to their lists\n",
    "  x1.append(x1_new)\n",
    "  x2.append(x2_new)\n",
    "  v1.append(v1_new)\n",
    "  v2.append(v2_new)\n",
    "  t.append(t_new)\n",
    "\n",
    "# Note that your visualization code should go in the next section"
   ]
  },
  {
   "cell_type": "markdown",
   "metadata": {
    "id": "nHM9GSlhW0E0"
   },
   "source": [
    "# Visualizations\n",
    "\n",
    "*Below is where you should include your code for your visualizations. Make sure to include your own new or novel way of visualizing this simulation and provide a brief description of your new or novel visualization below. If you use multiple visualizations, please use a single canvas with subplot(s).*"
   ]
  },
  {
   "cell_type": "markdown",
   "metadata": {
    "id": "TnduCHWar_VA"
   },
   "source": [
    "**Description of new or novel visualization:** (your words here...)"
   ]
  },
  {
   "cell_type": "code",
   "execution_count": null,
   "metadata": {
    "id": "kYrvyOdAW7I3"
   },
   "outputs": [],
   "source": [
    "# Your multi-subplot visualization code\n",
    "\n",
    "## Importing libraries\n",
    "import matplotlib.pyplot as plt\n",
    "\n"
   ]
  },
  {
   "cell_type": "markdown",
   "metadata": {
    "id": "q6IEwv1S98ql"
   },
   "source": [
    "# Comparison of simulation results to calculations\n",
    "*Below show the results of your simulation compared with your by-hand calculations using two different sets of starting parameters. Make sure to discuss \n",
    "\n",
    "Use as many code blocks below as needed for re-running your code with different starting parameters and extracting the relevant quantities. Your calculations only need to be performed for the first collision between the two objects for each set of parameters. Show your calculation work either using LaTeX in the markdown cell or by uploading a document/picture on Canvas as part of your submission.*"
   ]
  },
  {
   "cell_type": "markdown",
   "metadata": {
    "id": "NP6qP8tWDman"
   },
   "source": [
    "**Your calculation work here in Latex (or you can upload a document/picture on Canvas):**\n",
    "\n",
    "(your words here, as needed...)"
   ]
  },
  {
   "cell_type": "markdown",
   "metadata": {
    "id": "NP6qP8tWDman"
   },
   "source": [
    "**Discussion of how your by-hand calculations verify the output of your simulation:** (your words here...)"
   ]
  },
  {
   "cell_type": "code",
   "execution_count": null,
   "metadata": {
    "id": "34ZjRK59OzjG"
   },
   "outputs": [],
   "source": [
    "# Additional code block to run your simulation with new parameters if needed\n",
    "\n"
   ]
  },
  {
   "cell_type": "code",
   "execution_count": null,
   "metadata": {
    "id": "5nePZ__POzzf"
   },
   "outputs": [],
   "source": [
    "# Another additional code block to run your sumulation with new parameters if needed\n",
    "\n"
   ]
  },
  {
   "cell_type": "markdown",
   "metadata": {
    "id": "QbCvG4Gvrz-j"
   },
   "source": [
    "# Self-assessments and reflections\n",
    "Please visit the [Project 01 assessment criteria Section](https://physics210.github.io/phys210-w23/project_assessment.html#21-project-01-assessment-criteria) of the Grading and self-assessment document for the detailed criteria to use in your self-assessments."
   ]
  },
  {
   "cell_type": "markdown",
   "metadata": {
    "id": "64uFXa5xM3SK"
   },
   "source": [
    "\n",
    "### *Self-assessment 1: Coding approaches*\n",
    "*Discuss how you applied and extended your coding knowledge in this project. Consider steps you took to make the code more efficient, more readable or more concise. Discuss any new-to-you coding techniques that you learned or python packages you looked up. Mention something you feel you did particularily well and discuss what would be the next improvement you would make if you had more time.*"
   ]
  },
  {
   "cell_type": "markdown",
   "metadata": {
    "id": "K6Ak8zXkzhIQ"
   },
   "source": [
    "**Self-assessment rating (*Outstanding, Publish, Minor Revisions, Major Revisions, Rework, Absent*):** (your rating here...)\n",
    "\n"
   ]
  },
  {
   "cell_type": "markdown",
   "metadata": {
    "id": "amXCCPntpvf3"
   },
   "source": [
    "**Discussion of your coding approaches and justification of your rating:** (your words here...)"
   ]
  },
  {
   "cell_type": "markdown",
   "metadata": {
    "id": "7ELuWCkasSrU"
   },
   "source": [
    "\n",
    "### *Self-assessment 2: Physics and physics translation approaches*\n",
    "*Discuss how you applied and extended your physics knowledge in this project. Consider how you translated physics into code representations, how you used your physics knowledge to verify output, and any new physics you learned or developed a more thorough understanding of. Mention something you feel you did particularily well and discuss what would be the next improvement you would make if you had more time.*\n",
    "\n",
    "\n"
   ]
  },
  {
   "cell_type": "markdown",
   "metadata": {
    "id": "BI_1WBQk0e9R"
   },
   "source": [
    "**Self-assessment rating (*Outstanding, Publish, Minor Revisions, Major Revisions, Rework, Absent*):** (your rating here...)\n",
    "\n"
   ]
  },
  {
   "cell_type": "markdown",
   "metadata": {
    "id": "mA1K2in-sS24"
   },
   "source": [
    "**Discussion of your physics and physics translation approaches and justification of your rating:** (your words here...)"
   ]
  },
  {
   "cell_type": "markdown",
   "metadata": {
    "id": "Afcl99Yh7UhM"
   },
   "source": [
    "### *Self-assessment 3: Effectiveness of your visualizations*\n",
    "\n",
    "*Discuss how well your visualizations summarized the outcomes of the simulation. Describe how you included a new or novel visualization. If you used multiple visualzations, how effective was your use of subplots? Did you make effective use of plot labels, titles and legends? Mention something you feel you did particularily well and discuss what would be the next improvement you would make if you had more time. The self-assessment of this category should be based on the overall effectiveness of your visualizations.*\n",
    "\n"
   ]
  },
  {
   "cell_type": "markdown",
   "metadata": {
    "id": "FZBvRcYh0fxI"
   },
   "source": [
    "**Self-assessment rating (*Outstanding, Publish, Minor Revisions, Major Revisions, Rework, Absent*):** (your rating here...)\n",
    "\n"
   ]
  },
  {
   "cell_type": "markdown",
   "metadata": {
    "id": "oXa0VFq2Wk2a"
   },
   "source": [
    "**Discussion of the effectiveness of your visualizations and justification of your rating:** (your words here...)"
   ]
  },
  {
   "cell_type": "markdown",
   "metadata": {
    "id": "MQuir6j3rRbk"
   },
   "source": [
    "### *Self-assessment 4: Unforeseen challenges*\n",
    "\n",
    "*Detail at least three unforseen challenges you faced in completing this project. These challenges could be errors that were effortful to debug or didn't understand and had to look up; functions you realized you didn't understand and had to look up or ask somebody about; tasks that took a lot longer than expected, or anything else that surprised you along the way. The self-assessment of this category should be based on the thoroughness of your discussion of these unforseen challenges.*"
   ]
  },
  {
   "cell_type": "markdown",
   "metadata": {
    "id": "O7BQtfXC0gBw"
   },
   "source": [
    "**Self-assessment rating (*Outstanding, Publish, Minor Revisions, Major Revisions, Rework, Absent*):** (your rating here...)\n",
    "\n"
   ]
  },
  {
   "cell_type": "markdown",
   "metadata": {
    "id": "ASfAI-cFWlqE"
   },
   "source": [
    "**Discussion of unforeseen challenges and justification of your rating:** (your words here...)\n",
    "\n"
   ]
  },
  {
   "cell_type": "code",
   "execution_count": null,
   "metadata": {
    "id": "eSzi_Sfj5pv4"
   },
   "outputs": [],
   "source": []
  }
 ],
 "metadata": {
  "colab": {
   "provenance": []
  },
  "kernelspec": {
   "display_name": "Python 3",
   "language": "python",
   "name": "python3"
  },
  "language_info": {
   "codemirror_mode": {
    "name": "ipython",
    "version": 3
   },
   "file_extension": ".py",
   "mimetype": "text/x-python",
   "name": "python",
   "nbconvert_exporter": "python",
   "pygments_lexer": "ipython3",
   "version": "3.7.6"
  }
 },
 "nbformat": 4,
 "nbformat_minor": 1
}
