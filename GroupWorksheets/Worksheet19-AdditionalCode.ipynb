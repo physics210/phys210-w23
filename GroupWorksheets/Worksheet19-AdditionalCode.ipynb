{
 "cells": [
  {
   "cell_type": "markdown",
   "metadata": {},
   "source": [
    "# Day 19 Group Worksheet - Additional Code"
   ]
  },
  {
   "cell_type": "markdown",
   "metadata": {
    "id": "Km1PqaaP7eA0"
   },
   "source": [
    "Below is a working version of the Day 17, Task 1 random walks activity"
   ]
  },
  {
   "cell_type": "code",
   "execution_count": 15,
   "metadata": {
    "colab": {
     "base_uri": "https://localhost:8080/",
     "height": 406
    },
    "id": "70-fti9JCpMX",
    "outputId": "277df656-6571-4733-d688-165e8c7546bc"
   },
   "outputs": [
    {
     "data": {
      "image/png": "[encoded data removed]",
      "text/plain": [
       "<Figure size 432x432 with 1 Axes>"
      ]
     },
     "metadata": {
      "needs_background": "light"
     },
     "output_type": "display_data"
    }
   ],
   "source": [
    "## Working Random Walk Code\n",
    "\n",
    "## Solution\n",
    "\n",
    "import numpy as np\n",
    "import matplotlib.pyplot as plt\n",
    "\n",
    "# DLA simulation function\n",
    "def DLA(grid, n_particles):\n",
    "    directions = [(0, 1), (0, -1), (1, 0), (-1, 0)]  # Down, up, right, left\n",
    "\n",
    "    for i in range(n_particles):\n",
    "        \n",
    "        # If there's already a particle at the center, we're done\n",
    "        if grid[center, center]:\n",
    "            return\n",
    "        \n",
    "        # Start a new particle at the center\n",
    "        x, y = center, center\n",
    "\n",
    "        # Perform the random walk\n",
    "        while True:\n",
    "            # Move the particle in one of the four directions\n",
    "            j = np.random.randint(0,4)\n",
    "            dx, dy = directions[j]\n",
    "            x += dx\n",
    "            y += dy\n",
    "\n",
    "            # Check if the particle has hit a wall\n",
    "            if x == 0 or x == grid_size - 1 or y == 0 or y == grid_size - 1:\n",
    "                grid[x, y] = 1\n",
    "                break\n",
    "\n",
    "            # Check if the particle has reached another part of the aggregate\n",
    "            elif grid[x-1,y] or grid[x+1,y] or grid[x,y-1] or grid[x,y+1]:\n",
    "                grid[x, y] = 1\n",
    "                break\n",
    "\n",
    "# Grid \n",
    "grid_size = 51\n",
    "center = grid_size // 2\n",
    "grid = np.zeros((grid_size, grid_size), dtype=bool)\n",
    "\n",
    "# Run DLA simulation\n",
    "n_particles = 500\n",
    "DLA(grid, n_particles)\n",
    "\n",
    "# Plot the final state\n",
    "y, x = np.where(grid == True)\n",
    "plt.figure(figsize=(6, 6))\n",
    "plt.scatter(x, y, marker='s', s=20)\n",
    "plt.axis('equal') \n",
    "plt.axis('off')  \n",
    "plt.show()"
   ]
  },
  {
   "cell_type": "code",
   "execution_count": null,
   "metadata": {},
   "outputs": [],
   "source": []
  }
 ],
 "metadata": {
  "colab": {
   "provenance": []
  },
  "kernelspec": {
   "display_name": "Python 3",
   "language": "python",
   "name": "python3"
  },
  "language_info": {
   "codemirror_mode": {
    "name": "ipython",
    "version": 3
   },
   "file_extension": ".py",
   "mimetype": "text/x-python",
   "name": "python",
   "nbconvert_exporter": "python",
   "pygments_lexer": "ipython3",
   "version": "3.7.6"
  }
 },
 "nbformat": 4,
 "nbformat_minor": 1
}
