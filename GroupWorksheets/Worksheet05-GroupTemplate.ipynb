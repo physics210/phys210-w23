{
 "cells": [
  {
   "cell_type": "markdown",
   "metadata": {
    "id": "68gKoP9jF9lU"
   },
   "source": [
    "# Day 05 Group Worksheet\n",
    "Sept 20, 2023\n",
    "\n",
    "If you're working on CoCalc, it's good to rename your notebook with a fun group name and to include your names below so that you can easily find it later for reference."
   ]
  },
  {
   "cell_type": "markdown",
   "metadata": {
    "id": "B8UKtrg1F9lm"
   },
   "source": [
    "* Fun group name:   \n",
    "* Group members:"
   ]
  },
  {
   "cell_type": "markdown",
   "metadata": {},
   "source": [
    "## *5.1 `plt.plot()`*\n",
    "\n",
    "Ask chatGPT for a summary of how to use `plt.plot()`. What important information stands out? Is there anything new or confusing that shows up in this summary? Add some notes below and try to resolve any confusing points."
   ]
  },
  {
   "cell_type": "markdown",
   "metadata": {},
   "source": [
    "* Your notes here\n",
    "* .."
   ]
  },
  {
   "cell_type": "markdown",
   "metadata": {},
   "source": [
    "## *5.2 `plt.plot()`, `plt.scatter()` and list comprehension* "
   ]
  },
  {
   "cell_type": "markdown",
   "metadata": {},
   "source": [
    "### 5.2.1 List comprehension to apply equations to lists\n",
    "\n",
    "Below is a single line of code that produces a list (`x`) consisting of all of the numbers from 0-10, inclusive, in steps of 0.5. And then another line of code that builds a list (`y`) consisting of the square-root of each of the values from the list (`x`). These lists are built using a python technique called list comprehension. Look up (or ask ChatGPT) how list comprehension works.\n",
    "\n",
    "**Your task:** Update the `y` list to instead be\n",
    "\n",
    "$$y_i = -3 x_i^3,$$\n",
    "\n",
    "and then make a `plt.plot` graph of `y` vs `x`. "
   ]
  },
  {
   "cell_type": "code",
   "execution_count": null,
   "metadata": {},
   "outputs": [],
   "source": [
    "# Update this code\n",
    "\n",
    "x = [i/2 for i in range(21)]\n",
    "y = [xi**(1/2) for xi in x]\n",
    "\n"
   ]
  },
  {
   "attachments": {
    "522.png": {
     "image/png": "[encoded data removed]"
    }
   },
   "cell_type": "markdown",
   "metadata": {},
   "source": [
    "### 5.2.2 Adding a scatter plot, `plt.scatter()`\n",
    "\n",
    "Now let's use `plt.scatter()` to add some data point markers whose size and colour we can control across individual points. Note that we could also have added data point markers with `plt.plot()` as you learned in 5.2.1, but would not be able to control the size and colour across the individual points. \n",
    "\n",
    "Copy your code from above into the cell below and then modify it to also add data point markers via `plt.scatter()` using the lists `x2` and `y2` and setting their individual size via the list `s2`. You should be able to reproduce the graph shown below.\n",
    "\n",
    "![522.png](attachment:522.png)\n",
    "\n",
    "**Optional bonus task:** Make a colours list and then make the data point markers all have different colours. "
   ]
  },
  {
   "cell_type": "code",
   "execution_count": null,
   "metadata": {},
   "outputs": [],
   "source": [
    "# Update your code here\n",
    "\n",
    "x2 = [0, 2, 4, 6, 8, 10]\n",
    "y2 = [0, -24, -192, -648, -1536, -3000]\n",
    "s2 = [10, 20, 30, 40, 50, 60]\n",
    "\n",
    "\n"
   ]
  },
  {
   "cell_type": "markdown",
   "metadata": {},
   "source": [
    "## *5.3 Plotting error bars*\n",
    "\n",
    "You just completed an experiment to test the classic projectile equation $\\Delta y = V_{0y} t + \\frac{1}{2}at^2$\n",
    "using a sensor to collect the position and time data. The results are found in the three lists below, corresponding to the time, position, and error in position, respectively.\n",
    "\n",
    "Using $g = 9.81$ m/s$^2$ and\n",
    "$V_{0y} = 10$ m/s, make a plot with\n",
    "* The experimental data as points with error bars (`plt.errorbar()`), \n",
    "* Theoretical equation as a line. \n",
    "* Include a title, legend, and appropriate axis labels. \n",
    "* Set reasonable limits on the axes, if needed.\n",
    "\n",
    "For help with `plt.errorbars()`, see the documentation: https://matplotlib.org/stable/api/_as_gen/matplotlib.pyplot.errorbar.html"
   ]
  },
  {
   "cell_type": "code",
   "execution_count": null,
   "metadata": {},
   "outputs": [],
   "source": [
    "# Add your code to this cell\n",
    "\n",
    "# Data points\n",
    "tdata = [0, 0.1, 0.2, 0.3, 0.4, 0.5, 0.6, 0.7, 0.8, 0.9, 1, \n",
    "     1.1, 1.2, 1.3, 1.4, 1.5, 1.6, 1.7, 1.8, 1.9, 2] # s\n",
    "ydata = [0.05, 0.99, 1.97, 2.53, 3.35, 3.95, 4.17, 4.72, 4.83, 5.16, \n",
    "     5.13, 5.10, 4.99, 4.66, 4.53, 4.11, 3.39, 2.88, 2.26, 1.39, 0.40] # m\n",
    "ydata_error = [0, 0.0475, 0.0902, 0.1279, 0.1608, 0.1887, 0.2117, 0.2298, 0.2430, 0.2513, \n",
    "           0.2547, 0.2532, 0.2468, 0.2355, 0.2193, 0.1981, 0.1721, 0.1412, 0.1053, 0.0646, 0.019] # m\n",
    "\n",
    "\n",
    "\n",
    "\n",
    "\n",
    "\n"
   ]
  },
  {
   "cell_type": "markdown",
   "metadata": {},
   "source": [
    "## *5.4 Curve fitting by hand with the damped harmonic oscillator*\n",
    "\n",
    "For this task, you will again combine data points and a theoretical line on the same graph, but this time you will be doing this as a data fitting task. You collected some data from a damped harmonic oscillator and expect data to follow the relationship\n",
    "\n",
    "$$y(t) = e^{-t/\\tau} \\sin(\\omega t + \\phi).$$\n",
    "\n",
    "Your data, with error bars are shown below. \n",
    "\n",
    "1. Plot the these data points, with error bars.\n",
    "1. On the same plot, add the theortical line. You will need to make some reasonable initial guesses for parameters $\\tau$, $\\omega$ and $\\phi$. Adjust the parameters by hand to try to make the theoretical curve look as good of a fit as possible. This fit should look good to the eye, but you do not need to use any goodness of fit measures to make a precise fit beyond that.\n",
    "1. Add titles and a legend, as appropriate"
   ]
  },
  {
   "cell_type": "code",
   "execution_count": null,
   "metadata": {},
   "outputs": [],
   "source": [
    "# Add your code to this cell\n",
    "\n",
    "# Data points\n",
    "tdata = [0.0, 0.4, 0.8, 1.2, 1.6, 2.0, 2.4, 2.8, 3.2, 3.6, 4.0, 4.4, 4.8, \n",
    "     5.2, 5.6, 6.0, 6.4, 6.8, 7.2, 7.6, 8.0, 8.4, 8.8, 9.2, 9.6, 10.0] # s\n",
    "ydata = [0.058, 0.559, 0.836, 0.72, 0.457, -0.009, -0.377, -0.549, -0.532, -0.219, -0.009, 0.182, 0.319, 0.339, \n",
    "         0.181, -0.007, -0.141, -0.26, -0.231, -0.136, -0.048, 0.062, 0.169, 0.084, 0.046, -0.006] # m\n",
    "ydata_err = [0.059, 0.069, 0.067, 0.046, 0.053, 0.044, 0.07, 0.065, 0.043, 0.054, 0.072, 0.043, \n",
    "             0.059, 0.067, 0.071, 0.068, 0.07, 0.045, 0.066, 0.073, 0.076, 0.044, 0.064, 0.06, 0.074, 0.041] # m\n",
    "\n",
    "\n",
    "\n",
    "\n"
   ]
  },
  {
   "cell_type": "code",
   "execution_count": null,
   "metadata": {},
   "outputs": [],
   "source": []
  }
 ],
 "metadata": {
  "colab": {
   "provenance": []
  },
  "kernelspec": {
   "display_name": "Python 3",
   "language": "python",
   "name": "python3"
  },
  "language_info": {
   "codemirror_mode": {
    "name": "ipython",
    "version": 3
   },
   "file_extension": ".py",
   "mimetype": "text/x-python",
   "name": "python",
   "nbconvert_exporter": "python",
   "pygments_lexer": "ipython3",
   "version": "3.7.6"
  }
 },
 "nbformat": 4,
 "nbformat_minor": 1
}
