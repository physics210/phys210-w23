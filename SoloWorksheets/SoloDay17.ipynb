{
 "cells": [
  {
   "cell_type": "markdown",
   "metadata": {
    "collapsed": true,
    "id": "-94MVQDSk-Qe",
    "nbgrader": {
     "grade": false,
     "grade_id": "cell-1d46bd574f1f3b7e",
     "locked": true,
     "schema_version": 3,
     "solution": false,
     "task": false
    }
   },
   "source": [
    "# PHYS 210, Solo Worksheet 17\n",
    "Due Wed, Nov 1, 2023 at the start of class on Canvas"
   ]
  },
  {
   "cell_type": "markdown",
   "metadata": {},
   "source": [
    "## *Return to Monte Carlo uncertainty propagation*"
   ]
  },
  {
   "cell_type": "markdown",
   "metadata": {},
   "source": [
    "Let's return to Monte Carlo uncertainty propagation to engage with a very tedious uncertainty propagation example which many of you will have seen in Physics 119. In this example, we are using single-slit diffraction of a laser from a hair to determine the thickness of the hair. The image below shows the relevant dimensions and labels, where the red ovals are meant to represent the diffraction pattern visible on the screen at a distance $L$ from the hair. \n",
    "\n",
    "<img src = \"https://lh5.googleusercontent.com/HEzh8QL1Qdl3XJHoEPduTG5Ldv7ImuqgsbxpTDjKpctXYZF-SIBIdqzTLPxnertXRMC1LNwfYzTv1m0YDIjEeLfLAk1-t4imVXrdCbKssocpsDh70Jj57NwPZ9OIRwW_sivOOpNr7iTT7Ov-Qf_GDss\" alt = \"diffraction pattern\">\n",
    "\n",
    "- We shine a blue laser ($\\lambda = 473 \\mbox{nm}$) onto a strand of cashmere (fine wool from the undercoat of a goat).\n",
    "- We measure the distance from the hair to the screen to be $L = (0.8130 \\pm 0.0015) \\mbox{ m}$.\n",
    "- We locate the first dark spot (marked $p = 1$) at a distance $y_1 = (0.0195 \\pm 0.0013) \\mbox{ m}$ above the central bright fringe."
   ]
  },
  {
   "cell_type": "markdown",
   "metadata": {},
   "source": [
    "We won't re-derive this here, but if we substitute\n",
    "\n",
    "$$\\sin \\theta = \\frac{y}{\\sqrt{y^2+L^2}}$$\n",
    "\n",
    "into our expression above, we can rewrite the expression for the thickness of the hair as\n",
    "\n",
    "$$a = p\\lambda\\sqrt{1 + \\left( \\frac{L}{y} \\right)^2}.$$\n",
    "\n",
    "To make the rest of the uncertainty propagation a bit easier, we substitute $z=L/y$, giving\n",
    "\n",
    "$$a = p\\lambda\\sqrt{1 + z^2}.$$\n",
    "\n",
    "We will skip the steps of the uncertainty propagation, but the final expressions for the uncertainties for $dz$ and $da$ are as follows.\n",
    "\n",
    "$$dz = z \\sqrt{\\left(\\frac{dL}{L}\\right)^2 + \\left(\\frac{dy}{y}\\right)^2},$$\n",
    "\n",
    "and\n",
    "\n",
    "$$da = \\frac{p\\lambda \\cdot dz \\cdot z}{\\sqrt{1+z^2}}.$$"
   ]
  },
  {
   "cell_type": "markdown",
   "metadata": {},
   "source": [
    "### Calculating $da$ \"the regular way\"\n",
    "\n",
    "Let's first use the expressions above find the uncertainty in $a$ \"the regular way\":"
   ]
  },
  {
   "cell_type": "code",
   "execution_count": null,
   "metadata": {},
   "outputs": [],
   "source": [
    "import numpy as np\n",
    "\n",
    "L, dL = 0.8130, 0.0015\n",
    "y, dy = 0.0195, 0.0013\n",
    "p = 1\n",
    "wavelength = 473e-9\n",
    "\n",
    "z = L/y\n",
    "dz = z * np.sqrt( (dL/L)**2 + (dy/y)**2 )\n",
    "print(f\"z = ({z:.2f} ± {dz:.2f})\")\n",
    "\n",
    "a = p * wavelength * np.sqrt(1 + (L/y)**2)\n",
    "da = p * wavelength * dz * z / np.sqrt(1 + z**2)\n",
    "print(f\"a = ({a:.7f} ± {da:.7f}) m\")"
   ]
  },
  {
   "cell_type": "markdown",
   "metadata": {},
   "source": [
    "We could also express this in hair thickness in microns/micometers, µm."
   ]
  },
  {
   "cell_type": "code",
   "execution_count": null,
   "metadata": {},
   "outputs": [],
   "source": [
    "print(f\"a = ({a*10e6:.1f} ± {da*10e6:.1f}) µm\")"
   ]
  },
  {
   "cell_type": "markdown",
   "metadata": {},
   "source": [
    "### Your turn to use Monte Carlo error propagation to find $da$\n",
    "\n",
    "Use Monte Carlo error propagation to determine $da$ based on the expression below\n",
    "\n",
    "$$a = p\\lambda\\sqrt{1 + \\left( \\frac{L}{y} \\right)^2}.$$\n",
    "\n",
    "Collect at least 5000 samples for each of $L$ and $y$ and report your Monte Carlo estimates for the mean value of $a$ and the uncertainty $da$ in a format similar to above. \n",
    "\n",
    "***Important!*** You do not need to make all of the fancy graphs, but may find it helpful to make histograms of some of the quantities if you need to engage in any toubleshooting"
   ]
  },
  {
   "cell_type": "code",
   "execution_count": null,
   "metadata": {},
   "outputs": [],
   "source": [
    "# Your Monte Carlo error propagation code\n",
    "\n"
   ]
  },
  {
   "cell_type": "markdown",
   "metadata": {},
   "source": [
    "## *Markov Chain Monte Carlo*\n",
    "\n",
    "We will continue working with Markov Chain Monte Carlos on the next Solo Worksheet."
   ]
  },
  {
   "cell_type": "markdown",
   "metadata": {},
   "source": [
    "## *Completing this solo worksheet and submitting it to Canvas*\n",
    "Before submitting your work, restart + rerun your entire notebook to make sure that everything runs correctly and without error.\n",
    "\n",
    "To do this:\n",
    "1. **Restart & Run All:** From the \"Kernel\" menu to the right of the \"Cell\" menu, select \"Restart & Run All\". This will restart the python Kernel, erasing all variables currently stored in memory so that when you \"Run All\" cells, you can ensure that if you were to run your notebook again on a later day, it would run as intended.\n",
    "1. Look through the whole notebook and make sure there are no errors. Many questions have purposeful errors in the distributed version so make sure you have fixed them all such that \"Restart & Run All\" will run through the whole book and successfully print \"The notebook ran without errors\" at the end. If you have any trouble resolving the errors, please ask one of your classmates or ask us in class or on Piazza.\n",
    "\n",
    "**Export notebook as HTML:** After you've executed and checked your notebook, choose: File => Save_and_Export_Notebook_As => HTML. This will download an HTML version of your notebook to your computer. This version is can not be executed or modified. You may need to disable any pop-up blockers to allow the file to be downloaded.\n",
    "\n",
    "**Submit to Canvas:** Submit the html file that you just downloaded to the appropriate Solo Worksheet submission on Canvas."
   ]
  },
  {
   "cell_type": "code",
   "execution_count": null,
   "metadata": {},
   "outputs": [],
   "source": [
    "print(\"The notebook ran without errors\")"
   ]
  }
 ],
 "metadata": {
  "celltoolbar": "Create Assignment",
  "colab": {
   "provenance": []
  },
  "kernelspec": {
   "display_name": "Python 3",
   "language": "python",
   "name": "python3"
  },
  "language_info": {
   "codemirror_mode": {
    "name": "ipython",
    "version": 3
   },
   "file_extension": ".py",
   "mimetype": "text/x-python",
   "name": "python",
   "nbconvert_exporter": "python",
   "pygments_lexer": "ipython3",
   "version": "3.7.6"
  },
  "nbgrader": {
   "__altered": false,
   "__hash": 782104853,
   "_root": {
    "entries": [
     [
      "size",
      6
     ],
     [
      "_root",
      {
       "entries": [
        [
         "size",
         1
        ],
        [
         "_root",
         {
          "entries": [
           [
            "cocalc_minimal_stubs",
            false
           ]
          ],
          "ownerID": {}
         }
        ],
        [
         "__ownerID",
         null
        ],
        [
         "__hash",
         -335098374
        ],
        [
         "__altered",
         false
        ],
        [
         "cocalc_minimal_stubs",
         false
        ]
       ],
       "ownerID": {}
      }
     ],
     [
      "__hash",
      633336276
     ],
     [
      "__altered",
      false
     ],
     [
      "cocalc_minimal_stubs",
      false
     ]
    ],
    "ownerID": {}
   },
   "cocalc_minimal_stubs": false,
   "size": 5
  }
 },
 "nbformat": 4,
 "nbformat_minor": 1
}
