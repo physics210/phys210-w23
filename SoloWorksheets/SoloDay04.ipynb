{
 "cells": [
  {
   "cell_type": "markdown",
   "metadata": {
    "id": "s7LPEdMxDJwD"
   },
   "source": [
    "# PHYS 210, Solo Worksheet 04\n",
    "Due Wednesday, Sep 20, 2023 at the start of class on Canvas"
   ]
  },
  {
   "cell_type": "markdown",
   "metadata": {},
   "source": [
    "## *4.1 Slicing and step practice*"
   ]
  },
  {
   "cell_type": "markdown",
   "metadata": {},
   "source": [
    "Which *one* of the following will not produce the list `['G', 'E', 'C']`?\n",
    "```python\n",
    "long = [\"A\", \"B\", \"C\", \"D\", \"E\", \"F\", \"G\", \"H\", \"I\", \"J\"]\n",
    "```\n",
    "A)\n",
    "```python\n",
    "long[6:0:-2]\n",
    "```\n",
    "B)\n",
    "```python\n",
    "long[-4:-9:-2]\n",
    "```\n",
    "C)\n",
    "```python\n",
    "long[2:8:2][::-1]\n",
    "```\n",
    "D)\n",
    "```python\n",
    "long[2:8][::-2]\n",
    "```\n",
    "E)\n",
    "```python\n",
    "short = []\n",
    "for i in range(6,0,-2):\n",
    "    short.append(long[i])\n",
    "print(short)\n",
    "```\n",
    "F)\n",
    "```python\n",
    "short = []\n",
    "i = 6\n",
    "while i > 1:\n",
    "    short.append(long[i])\n",
    "    i -= 2\n",
    "print(short)\n",
    "```"
   ]
  },
  {
   "cell_type": "code",
   "execution_count": 4,
   "metadata": {},
   "outputs": [],
   "source": [
    "# Code testing area to help answer this question\n",
    "\n"
   ]
  },
  {
   "cell_type": "code",
   "execution_count": 5,
   "metadata": {},
   "outputs": [
    {
     "ename": "AssertionError",
     "evalue": "Your answer did not match any of the choices",
     "output_type": "error",
     "traceback": [
      "\u001b[1;31m---------------------------------------------------------------------------\u001b[0m",
      "\u001b[1;31mAssertionError\u001b[0m                            Traceback (most recent call last)",
      "\u001b[1;32m<ipython-input-5-510ffa43208e>\u001b[0m in \u001b[0;36m<module>\u001b[1;34m\u001b[0m\n\u001b[0;32m      4\u001b[0m \u001b[1;33m\u001b[0m\u001b[0m\n\u001b[0;32m      5\u001b[0m \u001b[1;32mimport\u001b[0m \u001b[0mhashlib\u001b[0m\u001b[1;33m\u001b[0m\u001b[1;33m\u001b[0m\u001b[0m\n\u001b[1;32m----> 6\u001b[1;33m \u001b[1;32massert\u001b[0m \u001b[0manswer\u001b[0m \u001b[1;32min\u001b[0m \u001b[1;33m[\u001b[0m\u001b[1;34m'A'\u001b[0m\u001b[1;33m,\u001b[0m \u001b[1;34m'B'\u001b[0m\u001b[1;33m,\u001b[0m \u001b[1;34m'C'\u001b[0m\u001b[1;33m,\u001b[0m \u001b[1;34m'D'\u001b[0m\u001b[1;33m,\u001b[0m \u001b[1;34m'E'\u001b[0m\u001b[1;33m,\u001b[0m \u001b[1;34m'F'\u001b[0m\u001b[1;33m]\u001b[0m\u001b[1;33m,\u001b[0m \u001b[1;34m\"Your answer did not match any of the choices\"\u001b[0m\u001b[1;33m\u001b[0m\u001b[1;33m\u001b[0m\u001b[0m\n\u001b[0m\u001b[0;32m      7\u001b[0m \u001b[1;32massert\u001b[0m \u001b[0mhashlib\u001b[0m\u001b[1;33m.\u001b[0m\u001b[0msha256\u001b[0m\u001b[1;33m(\u001b[0m\u001b[0manswer\u001b[0m\u001b[1;33m.\u001b[0m\u001b[0mencode\u001b[0m\u001b[1;33m(\u001b[0m\u001b[1;33m)\u001b[0m\u001b[1;33m)\u001b[0m\u001b[1;33m.\u001b[0m\u001b[0mhexdigest\u001b[0m\u001b[1;33m(\u001b[0m\u001b[1;33m)\u001b[0m \u001b[1;33m==\u001b[0m\u001b[0;31m \u001b[0m\u001b[0;31m\\\u001b[0m\u001b[1;33m\u001b[0m\u001b[1;33m\u001b[0m\u001b[0m\n\u001b[0;32m      8\u001b[0m     \u001b[1;34m'3f39d5c348e5b79d06e842c114e6cc571583bbf44e4b0ebfda1a01ec05745d43'\u001b[0m\u001b[1;33m,\u001b[0m \u001b[1;34m\"Your answer is incorrect\"\u001b[0m\u001b[1;33m\u001b[0m\u001b[1;33m\u001b[0m\u001b[0m\n",
      "\u001b[1;31mAssertionError\u001b[0m: Your answer did not match any of the choices"
     ]
    }
   ],
   "source": [
    "# Enter your answer inside the string quotes and then run this cell to check your anwer\n",
    "\n",
    "answer = \"\"\n",
    "\n",
    "import hashlib\n",
    "assert answer in ['A', 'B', 'C', 'D', 'E', 'F'], \"Your answer did not match any of the choices\"\n",
    "assert hashlib.sha256(answer.encode()).hexdigest() == \\\n",
    "    '3f39d5c348e5b79d06e842c114e6cc571583bbf44e4b0ebfda1a01ec05745d43', \"Your answer is incorrect\"\n",
    "print(\"Your answer\", answer, \"is correct\") # Passed all assert statements above"
   ]
  },
  {
   "attachments": {
    "SoloDay04-img01.png": {
     "image/png": "[encoded data removed]"
    }
   },
   "cell_type": "markdown",
   "metadata": {
    "id": "fz_u0eb53VRP"
   },
   "source": [
    "## *4.2 Fourth root estimate: Newton's Method*\n",
    "You may have seen Newton's Method [https://en.wikipedia.org/wiki/Newton's_method](https://en.wikipedia.org/wiki/Newton's_method) in a calculus class as a way to find roots of an equation. As a quick review, the method is illustrated in the figure:\n",
    "\n",
    "![SoloDay04-img01.png](attachment:SoloDay04-img01.png)\n",
    "\n",
    "The way it works is that you pick a starting point on the x-axis and call it $x_0$, (1.25 in the example above). You then evaluate the function, $f(x_0)$, and its derivative, $f'(x_0)$, at that point. Then using the derivative, slide down the tangent line (in blue) until you get back to the x axis. Call that point $x_1$. Then you can repeat the procedure, getting closer and closer to the root, which is where the equation passes through 0.\n",
    "\n",
    "This method can be expressed as:\n",
    "$$ x_{n+1} = x_n - \\frac{f(x_n)}{f'(x_n)}$$\n",
    "\n",
    "Subject to certain conditions on the function $f(x)$ and its first derivative (that we will not worry about), if $x_0$ is close enough to one of the roots, the sequence will converge to that nearest root.\n",
    "Because the function may have more than one root, which root is arrived at depends on the initial guess, $x_0$.\n",
    "\n",
    "Write a program, using a `while` or `for` loop, that finds the root of the funtion $f(x) = x^4-1$ by iterating Newton's method from the starting point `x0`. The output of this program should be two integer values:\n",
    "\n",
    "* `n`: This is the number of iterations of Newton's method that was required for convergence. Here we define convergence as when the distance between $x_n$ and one of the roots (`-1` or `1`) is less than 0.02. If the starting value, `x0`, is already within 0.02 of a root, the number of iterations required is 0. If it takes two iterations ($x_1$ and $x_2$), then this should be `n = 2`.\n",
    "* `root`: This is the value of the root that was converged to, `-1` or `1`.\n",
    "\n",
    "**Failure to converge:** Your loop should perform a maximum of 100 iterations. If it gets to a 100th iteration and then does not converge during that iteration, the values above should be `n = 100`, `root = -99`. Otherwise, if it does converge during the 100th iteration, the values should be `n = 100` and then `root = -1` or `root = 1`, as appropriate.\n",
    "\n",
    "We provide some assert statements below your code cell for you to check some initial values."
   ]
  },
  {
   "cell_type": "code",
   "execution_count": null,
   "metadata": {
    "id": "gok7Dir96P1p"
   },
   "outputs": [],
   "source": [
    "# Your code here\n",
    "\n"
   ]
  },
  {
   "cell_type": "code",
   "execution_count": null,
   "metadata": {
    "id": "gQX7gpWu6P14",
    "outputId": "8d03da08-10a5-40fd-cc68-737e3b7583ca"
   },
   "outputs": [
    {
     "name": "stdout",
     "output_type": "stream",
     "text": [
      "Passed the test for x0 = 1.1\n"
     ]
    }
   ],
   "source": [
    "# Test your output here\n",
    "\n",
    "if x0 == 0.000005:\n",
    "    assert root == -99 and n == 100\n",
    "    print(\"Passed the test for x0 =\",x0)\n",
    "elif x0 == 1.1:\n",
    "    assert root == 1 and n == 1\n",
    "    print(\"Passed the test for x0 =\",x0)\n",
    "elif x0 == -1.25:\n",
    "    assert root == -1 and n == 2\n",
    "    print(\"Passed the test for x0 =\",x0)\n",
    "else:\n",
    "    print(\"Your test x0 value should be one of the values shown above\")"
   ]
  },
  {
   "cell_type": "markdown",
   "metadata": {
    "id": "XLyUJjjS6P17"
   },
   "source": [
    "## *4.3 Fourth root estimate, part 2*\n",
    "\n",
    "Copy and modify your code from 4.1 so that it can instead accept a list `x0_list` as its input and then provide the lists `root_list` and `n_list` as its output. Like in the previous question, we provide some assert statements to provide feedback and help debug your code. Note that the `assert x0 ==` statement is to ensure you don't accidentally change `x0_list`."
   ]
  },
  {
   "cell_type": "code",
   "execution_count": null,
   "metadata": {
    "id": "V3dSyCdG6P1_"
   },
   "outputs": [],
   "source": [
    "# Your code here\n",
    "x0_list = [0.00005, 1.1, -1.25, 0.000053, 0.000052, 1.01, -1.01, 0.99, -0.99, 0.001, -0.001]\n",
    "\n",
    "\n"
   ]
  },
  {
   "cell_type": "code",
   "execution_count": null,
   "metadata": {
    "id": "zW-Ly9XO6P2H",
    "outputId": "f0060c6b-3ef5-428e-b2f2-468275bc4447"
   },
   "outputs": [
    {
     "name": "stdout",
     "output_type": "stream",
     "text": [
      "Yay! All assert statements were passed\n"
     ]
    }
   ],
   "source": [
    "# Use the assert statements below to check your results for x0_list\n",
    "\n",
    "assert x0_list == [5e-05, 1.1, -1.25, 5.3e-05, 5.2e-05, 1.01, -1.01, 0.99, -0.99, 0.001, -0.001]\n",
    "assert root_list == [-99, 1, -1, 1, -99, 1, -1, 1, -1, 1, -1]\n",
    "assert n_list == [100, 1, 2, 100, 100, 0, 0, 0, 0, 70, 70]\n",
    "\n",
    "print(\"Yay! All assert statements were passed\")"
   ]
  },
  {
   "cell_type": "markdown",
   "metadata": {
    "id": "KKBcgJ-fDJwg"
   },
   "source": [
    "## *Completing this solo worksheet and submitting it to Canvas*"
   ]
  },
  {
   "cell_type": "markdown",
   "metadata": {
    "id": "bDmgj-cYDJwg"
   },
   "source": [
    "Before submitting your work, restart + rerun your entire notebook to make sure that everything runs correctly and without error.\n",
    "\n",
    "To do this:\n",
    "1. **Restart & Run All:** From the \"Kernel\" menu to the right of the \"Cell\" menu, select \"Restart & Run All\". This will restart the python Kernel, erasing all variables currently stored in memory so that when you \"Run All\" cells, you can ensure that if you were to run your notebook again on a later day, it would run as intended.\n",
    "1. Look through the whole notebook and make sure there are no errors. Many questions have purposeful errors in the distributed version so make sure you have fixed them all such that \"Restart & Run All\" will run through the whole book and successfully print \"The notebook ran without errors\" at the end. If you have any trouble resolving the errors, please ask one of your classmates or ask us in class or on Piazza.\n",
    "\n",
    "**Export notebook as HTML:** After you've executed and checked your notebook, choose: File => Save_and_Export_Notebook_As => HTML. This will download an HTML version of your notebook to your computer. This version is can not be executed or modified. You may need to disable any pop-up blockers to allow the file to be downloaded.\n",
    "\n",
    "**Submit to Canvas:** Submit the html file that you just downloaded to the appropriate Solo Worksheet submission on Canvas."
   ]
  },
  {
   "cell_type": "code",
   "execution_count": null,
   "metadata": {
    "id": "06eWAWMiDJwh",
    "tags": []
   },
   "outputs": [],
   "source": [
    "print(\"The notebook ran without errors\")"
   ]
  }
 ],
 "metadata": {
  "colab": {
   "provenance": []
  },
  "kernelspec": {
   "display_name": "Python 3",
   "language": "python",
   "name": "python3"
  },
  "language_info": {
   "codemirror_mode": {
    "name": "ipython",
    "version": 3
   },
   "file_extension": ".py",
   "mimetype": "text/x-python",
   "name": "python",
   "nbconvert_exporter": "python",
   "pygments_lexer": "ipython3",
   "version": "3.7.6"
  }
 },
 "nbformat": 4,
 "nbformat_minor": 1
}
