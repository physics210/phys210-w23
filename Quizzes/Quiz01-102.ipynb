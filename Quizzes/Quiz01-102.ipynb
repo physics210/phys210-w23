{
 "cells": [
  {
   "cell_type": "markdown",
   "metadata": {
    "id": "FBtDqWQqaAwr"
   },
   "source": [
    "# PHYS 210, Quiz01\n",
    "**Date:** Sep 26, 2023, 3:30pm\n",
    "\n",
    "**Time:** 40 minutes. You will be provided with 5 additional minutes to submit your quiz through Canvas."
   ]
  },
  {
   "cell_type": "markdown",
   "metadata": {
    "id": "Imsp2xqEsoVp"
   },
   "source": [
    "# Before you start\n",
    "Read through all of the tasks for this quiz so that you have a good understanding of the endpoint and can make appropriate decisions along the way.\n",
    "\n",
    "**Reminder:** As with the homework, the variable `time_A` indicates when the police car first has a higher speed than the speeding car and the variable `time_B` for when the police car passes the speeding car."
   ]
  },
  {
   "cell_type": "markdown",
   "metadata": {
    "id": "34479197-cfb0-4920-b66c-39e1ada292fb"
   },
   "source": [
    "# Task 1: Copy in your Homework 01 code (2 points)\n",
    "The first task on this quiz is to copy your working Homework 01 code directly below so that we can see your starting point for the rest of the quiz. Double-check that your code is still working correctly here in case you made any copy-paste errors.\n",
    "\n",
    "**Points awarded:**\n",
    "* 1 point for copying in your Homework 01 code\n",
    "* 1 point for your graphical output following the specifications from the homework"
   ]
  },
  {
   "cell_type": "code",
   "execution_count": 1,
   "metadata": {
    "id": "BJz1_mhVsoVr"
   },
   "outputs": [],
   "source": [
    "# Your Homework 01 code here\n",
    "\n"
   ]
  },
  {
   "cell_type": "code",
   "execution_count": 2,
   "metadata": {
    "id": "cNBvxezWsoVt"
   },
   "outputs": [],
   "source": [
    "# Add additional cells as needed"
   ]
  },
  {
   "cell_type": "markdown",
   "metadata": {
    "id": "jvpDXFK1soVu"
   },
   "source": [
    "# Task 2 - Update to 2x2 subplot(s) grid (5 points)\n",
    "Copy your Task 1 code into the cell below and then update the code with the following changes\n",
    "\n",
    "1. Change the figure size to 12x12 and then change the Canvas from a 1 column * 2 row subplot/sublplots grid to a 2 column * 2 row subplot/subplots grid\n",
    "1. Your third subplot on this grid should be an acceleration vs time plot, using the same colors, linestyles and legend for the cars as for your position vs time and speed vs time graphs. This new graph does not need a title, but the axis titles should be updated as appropriate.\n",
    "1. Your fourth subplot on this grid should be a plot of the relative velocity of the speeding car with respect to the police car vs time. The linestyle and/or color should be distinct from the other plots since this line represents information about both vehicles at the same time. This new graph does not need a title, but the axis titles should be updated as appropriate.\n",
    "\n",
    "As long as all four subplots are present on the 2x2 grid, their order does not matter.\n",
    "\n",
    "**Points awarded:**\n",
    "* 1 point for updating figure size and using a 2x2 subplot or subplots canvas with previous graphs included\n",
    "* 1 point for an acceleration vs time subplot with correct data\n",
    "* 1 point for a relative velocity vs time subplot with correct data\n",
    "* 1 point for correct formatting of the new acceleration vs time subplot\n",
    "* 1 point for correct formatting of the new relative velocity vs time subplot\n"
   ]
  },
  {
   "cell_type": "code",
   "execution_count": 3,
   "metadata": {
    "id": "OftBWsRfsoVv"
   },
   "outputs": [],
   "source": [
    "# Update your code from Task 1 here\n",
    "\n"
   ]
  },
  {
   "cell_type": "code",
   "execution_count": 4,
   "metadata": {
    "id": "Y-zk_hOTsoVw"
   },
   "outputs": [],
   "source": [
    "# Add additional cells as needed"
   ]
  },
  {
   "cell_type": "markdown",
   "metadata": {
    "id": "1gU5GBNxsoVx"
   },
   "source": [
    "# Task 3 - New initial speed and acceleration for the speeding car (5 points)\n",
    "You are going to change the motion of the initial car such that it becomes the following:\n",
    "* The speeding car's initial speed is changed to $13 \\mbox{ m/s}$.\n",
    "* The speeding car is now speeding up with an acceleration of $0.2 \\mbox{ m/s}^2$ throughout the entire time period we are investigating, from $t = 0 \\mbox{ s}$ to $t = 60 \\mbox{ s}$.\n",
    "\n",
    "The police car should keep it's original parameters of starting to accelerate at $5.0 \\mbox{ seconds}$ and then accelerating until it gets to a maximum speed of $25 \\mbox{ m/s}$, $12.5 \\mbox{ seconds}$ after it starts moving.\n",
    "\n",
    "Note that your `time_A` and `time_B` should be updated automatically by your code and their information embedded into your titles for the position vs time and speed vs time graphs also updated automatically.\n",
    "\n",
    "**Points awarded:**\n",
    "\n",
    "* 1 point for correct implementation of the speeding car's new initial speed\n",
    "* 1 point for correct implementation of the speeding car's acceleration\n",
    "* 1 point for the graphical data being updated correctly for this information\n",
    "* 1 point for `time_A` and `time_B` being determined in the code such that they are updated automatically if the speeding car's initial position or acceleration are changed\n",
    "* 1 point for `time_A` and `time_B`  being incorporated as variables into the string formatting used for the subplot titles of the v vs t and x vs t graphs, respectively"
   ]
  },
  {
   "cell_type": "code",
   "execution_count": 5,
   "metadata": {
    "id": "iaMZKaTysoVy"
   },
   "outputs": [],
   "source": [
    "# Update your code from Task 2 here\n",
    "\n"
   ]
  },
  {
   "cell_type": "code",
   "execution_count": 6,
   "metadata": {
    "id": "SNVaQZmTsoVz"
   },
   "outputs": [],
   "source": [
    "# Add additional cells as needed"
   ]
  },
  {
   "cell_type": "markdown",
   "metadata": {
    "id": "QxGgCBAysoVz"
   },
   "source": [
    "# Task 4 - Adding a condition for the speeding car to slow down (2 points)\n",
    "For your final task you will add a condition that will cause the speeding car to slow down. Two seconds after the police car is first going faster than the speeding car, the speeding car will have a new acceleration and will instead be slowing down at a rate of $0.2 \\mbox{ m/s}^2$. Note that `time_A` and/or `time_B` may be no longer be the same as from Task 3.\n",
    "\n",
    "**Points awarded:**\n",
    "\n",
    "* 1 point for incorporating into the code an event that causes the speeding car to start to slow down. This should be done in such a way that the the event would be found correctly if the time between when the speeding car starts to slow down and when the police car was first going faster than the speeding car was changed to something other than $2.0 \\mbox{ s}$.\n",
    "* 1 point for `time_A` and `time_B`being updated and displayed correctly based on the new physics"
   ]
  },
  {
   "cell_type": "code",
   "execution_count": 7,
   "metadata": {
    "id": "oqND-sK9soV0"
   },
   "outputs": [],
   "source": [
    "# Update your code from Task 3 here\n",
    "\n"
   ]
  },
  {
   "cell_type": "markdown",
   "metadata": {
    "id": "wse4qIDuRjm5"
   },
   "source": [
    "# Task 5 - Uploading `html` and `ipynb` copies of your notebook to Canvas (1 point)\n",
    "Submit your notebook to canvas in two formats: `ipynb` (i.e., your notebook Homework01,ipynb) and `html` (i.e., an exported version of your notebook Homework01.html). The html version is needed for easy grading in Canvas's SpeedGrader and the ipynb version is needed if we need to dig deeper into your work. Run your notebook without errors before exporting your html version so that all of your notebook output is present in this html file.\n",
    "\n",
    "**Points awarded:**\n",
    "\n",
    "* 1 point: both the html and ipynb files are present and the html file has output included"
   ]
  },
  {
   "cell_type": "code",
   "execution_count": null,
   "metadata": {
    "id": "vkX5uLz2RlBV"
   },
   "outputs": [],
   "source": []
  }
 ],
 "metadata": {
  "colab": {
   "provenance": []
  },
  "kernelspec": {
   "display_name": "Python 3",
   "language": "python",
   "name": "python3"
  },
  "language_info": {
   "codemirror_mode": {
    "name": "ipython",
    "version": 3
   },
   "file_extension": ".py",
   "mimetype": "text/x-python",
   "name": "python",
   "nbconvert_exporter": "python",
   "pygments_lexer": "ipython3",
   "version": "3.7.6"
  }
 },
 "nbformat": 4,
 "nbformat_minor": 5
}
