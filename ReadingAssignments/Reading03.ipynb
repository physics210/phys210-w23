{
 "cells": [
  {
   "cell_type": "markdown",
   "metadata": {
    "id": "UFf2XTsPQjrb"
   },
   "source": [
    "# Pre-class Reading: Day 03 (Sep 13, 2023)<br>Conditionals and Loops\n",
    "Learning goals\n",
    "1. Build conditional statements using the the `if`, `elif` (\"else if\") and `else` keywords\n",
    "1. Use multiple conditional statements in a single `if` or `elif` statement using the `and`, `or` and `not` keywords\n",
    "1. Build a nested conditional (if you must)\n",
    "1. Build a while loop that will successfully complete as intended"
   ]
  },
  {
   "cell_type": "markdown",
   "metadata": {
    "id": "f7cSshwHQjri"
   },
   "source": [
    "## *Before you get started: run the cell below*"
   ]
  },
  {
   "cell_type": "code",
   "execution_count": null,
   "metadata": {
    "id": "5HqAmabGQjrj"
   },
   "outputs": [],
   "source": [
    "# Run me before running any other cells in this notebook\n",
    "#import base64\n",
    "import hashlib\n",
    "\n",
    "# answers to self-assessment Qs\n",
    "answ = {'q1':'559aead08264d5795d3909718cdd05abd49572e84fe55590eef31a88a08fdffd',\n",
    "        'q2':'a9f51566bd6705f7ea6ad54bb9deb449f795582d6529a0e22207b8981233ec58',\n",
    "        'q3':'df7e70e5021544f4834bbee64a9e3789febc4be81470df629cad6ddb03320a5c'}"
   ]
  },
  {
   "cell_type": "markdown",
   "metadata": {
    "id": "2R0I6Ya9Qjrl"
   },
   "source": [
    "## *Self-assessment questions*\n",
    "\n",
    "**If you can already answer these correctly, you can skip the rest of the reading assignment and submit it. Otherwise, complete the rest of the reading assignment and return to these questions to test what you learned. You might decide you would benefit from further review before class.**\n",
    "\n",
    "Note that these questions can often be answered easily by running the provided code, so the intellectual work on your part is figuring out the correct answer and then running the code to check your answer.\n",
    "\n",
    "Please ensure all of these self-assessment questions are answered correctly before submitting this pre-class reading assignment. The *Your Turn* questions, found throughout the rest of this assignment, are for your practice as you learn this material and do not need to be answered correctly to receive full completion marks for this pre-class reading assignment.\n",
    "\n",
    "Instructions for submission can be found at the end of this document."
   ]
  },
  {
   "cell_type": "markdown",
   "metadata": {
    "id": "vA70U7i9Qjrm"
   },
   "source": [
    "### Self-assessment question 3.1\n",
    "\n",
    "Assuming `x` is a number (float or integer), which value(s) of `x` would make `The 'elif' statement is true` print?\n",
    "\n",
    "```python\n",
    "if x > 0 :\n",
    "    print(\"The 'if' statement is true\")\n",
    "elif x > 2:\n",
    "    print(\"The 'elif' statement is true\")\n",
    "else:\n",
    "    print(\"The 'else' statement executed\")\n",
    "```\n",
    "\n",
    "A) No possible values of `x` <br>\n",
    "B) Any value greater than 0<br>\n",
    "C) Any value greater than 2<br>\n",
    "D) Any value in between 0 and 2"
   ]
  },
  {
   "cell_type": "code",
   "execution_count": null,
   "metadata": {
    "id": "z6A4TCPTQjrn"
   },
   "outputs": [],
   "source": [
    "# Code testing area to help answer this question\n",
    "\n"
   ]
  },
  {
   "cell_type": "code",
   "execution_count": null,
   "metadata": {
    "id": "j11Vz1q2Qjrn",
    "outputId": "bf84b70f-38ed-4411-a9e1-89a09e5178fe"
   },
   "outputs": [],
   "source": [
    "# Enter your answer inside the string quotes and then run this cell to check your anwer\n",
    "\n",
    "answer = \"\"\n",
    "\n",
    "assert answer in ['A', 'B', 'C', 'D'], \"Your answer did not match any of the choices\"\n",
    "assert hashlib.sha256(answer.encode()).hexdigest() == answ['q1'], \"Your answer is incorrect\"\n",
    "print(\"Your answer\", answer, \"is correct\") # Passed all assert statements above"
   ]
  },
  {
   "cell_type": "markdown",
   "metadata": {
    "id": "9Ih__kIUQjrr"
   },
   "source": [
    "### Self-assessment question 3.2\n",
    "\n",
    "Assuming `x` is a number (float or integer), which value(s) of `x` would make `The 'else' statement executed` print?\n",
    "\n",
    "```python\n",
    "if x<0 and x> -4:\n",
    "    print(\"The 'if' statement is true\")\n",
    "elif x<-4:\n",
    "    print(\"The 'elif' statement is true\")\n",
    "else:\n",
    "    print(\"The 'else' statement executed\")\n",
    "```\n",
    "\n",
    "A) No possible values of `x`<br>\n",
    "B) Any value greater than 0<br>\n",
    "C) Any value equal to or greater than 0<br>\n",
    "D) -4 <br>\n",
    "E) -4 and any value equal to or greater than 0"
   ]
  },
  {
   "cell_type": "code",
   "execution_count": null,
   "metadata": {
    "id": "Cv2I7AH8Qjrs"
   },
   "outputs": [],
   "source": [
    "# Code testing area to help answer this question\n",
    "\n"
   ]
  },
  {
   "cell_type": "code",
   "execution_count": null,
   "metadata": {
    "id": "l92p2eIdQjrt",
    "outputId": "8a09421b-0337-4fd9-970b-d09475b0eb3a"
   },
   "outputs": [],
   "source": [
    "# Enter your answer inside the string quotes and then run this cell to check your anwer\n",
    "\n",
    "answer = \"\"\n",
    "\n",
    "assert answer in ['A', 'B', 'C', 'D', 'E'], \"Your answer did not match any of the choices\"\n",
    "assert hashlib.sha256(answer.encode()).hexdigest() == answ['q2'], \"Your answer is incorrect\"\n",
    "print(\"Your answer\", answer, \"is correct\") # Passed all assert statements above"
   ]
  },
  {
   "cell_type": "markdown",
   "metadata": {
    "id": "lmdd9pYcQjru"
   },
   "source": [
    "### Self-assessment question 3.3\n",
    "\n",
    "What will the following code output? Note that commas are used here to help present the answer, but each number would actually appear on a new line\n",
    "\n",
    "```python\n",
    "i = 0\n",
    "while i<10:\n",
    "    print(i+1)\n",
    "    i = i + 1\n",
    "```\n",
    "\n",
    "A) `0, 1, 2, 3, 4, 5, 6, 7, 8, 9`<br>\n",
    "B) `1, 2, 3, 4, 5, 6, 7, 8, 9, 10`<br>\n",
    "C) `1, 2, 3, 4, 5, 6, 7, 8, 9`<br>\n",
    "D) `0, 1, 2, 3, 4, 5, 6, 7, 8, 9, 10` <br>"
   ]
  },
  {
   "cell_type": "code",
   "execution_count": null,
   "metadata": {
    "id": "ngzGCVuvQjrv"
   },
   "outputs": [],
   "source": [
    "# Code testing area to help answer this question\n"
   ]
  },
  {
   "cell_type": "code",
   "execution_count": null,
   "metadata": {
    "id": "Ouyx4O6RQjrv",
    "outputId": "55d47e38-2ac0-4689-d97e-dd2bf95180c8"
   },
   "outputs": [],
   "source": [
    "# Enter your answer inside the string quotes and then run this cell to check your anwer\n",
    "\n",
    "answer = \"\"\n",
    "\n",
    "assert answer in ['A', 'B', 'C', 'D'], \"Your answer did not match any of the choices\"\n",
    "assert hashlib.sha256(answer.encode()).hexdigest() == answ['q3'], \"Your answer is incorrect\"\n",
    "print(\"Your answer\", answer, \"is correct\") # Passed all assert statements above"
   ]
  },
  {
   "cell_type": "markdown",
   "metadata": {
    "id": "CpfiZdD5Qjrw"
   },
   "source": [
    "## *3.1* If Statements\n",
    "\n",
    "In Python, an `if` statement is used to check if a *condition* is true, and then to subsequently run specific code only if that condition is true. Otherwise it will skip the code associated with that `if` statement.  Note that the `if` line must end in a colon or else there will be a syntax error.\n",
    "\n",
    "The generic syntax is as follows:\n",
    "\n",
    "```python\n",
    "if condition:\n",
    "    Code line 1 # Code executed if the condition is True\n",
    "    Code line 2 # More code executed if the condition is True\n",
    "Code line 3 # Code executed whether or not the condidtion is true\n",
    "```\n",
    "\n",
    "Notice that indentation plays an important role here regarding which lines of code will be run by the True condition. Lines of code sharing the same level of indentation represent a code block.\n",
    "\n",
    "Run the examples below to see how the `if` statement works and the role played by indention in defining which lines of code are run"
   ]
  },
  {
   "cell_type": "code",
   "execution_count": null,
   "metadata": {
    "id": "2SrDpTwgQjrw"
   },
   "outputs": [],
   "source": [
    "# Run me!\n",
    "\n",
    "x = 1\n",
    "y = 10\n",
    "z = 100\n",
    "\n",
    "print(\"checking z > x\")\n",
    "\n",
    "if x > z:\n",
    "    print(x, \"is greater than\", z)\n",
    "\n",
    "print(\"checking y > x\")\n",
    "\n",
    "if y > x:\n",
    "    print(y, \"is greater than\", x)"
   ]
  },
  {
   "cell_type": "code",
   "execution_count": null,
   "metadata": {
    "id": "JTUUCnc9Qjrw"
   },
   "outputs": [],
   "source": [
    "# Run me too and notice the impact of the change in indentation\n",
    "\n",
    "print(\"checking z > x\")\n",
    "\n",
    "if x > z:\n",
    "    print(x, \"is greater than\", z)\n",
    "\n",
    "    print(\"checking y > x\") # Note the change in indentiation\n",
    "\n",
    "if y > x:\n",
    "    print(y, \"is greater than\", x)"
   ]
  },
  {
   "cell_type": "markdown",
   "metadata": {
    "id": "9Uwbo3FnQjry"
   },
   "source": [
    "## *3.2 if-else statements (alternate execution)*\n",
    "\n",
    "A second form of the if statement is “alternative execution”, in which there are two possibilities and the condition determines which one runs. The syntax looks like this (example and partial text from https://greenteapress.com/thinkpython2/html/thinkpython2006.html):\n",
    "\n",
    "```python\n",
    "if x % 2 == 0:\n",
    "    print('x is even')\n",
    "else:\n",
    "    print('x is odd')\n",
    "```\n",
    "\n",
    "If the remainder when x is divided by 2 is 0, then we know that x is even, and the program displays an appropriate message. If the condition is false, the second set of statements runs. Since the condition must be true or false, exactly one of the alternatives will run. The alternatives are called branches, because they are branches in the flow of execution.\n",
    "\n"
   ]
  },
  {
   "cell_type": "markdown",
   "metadata": {
    "id": "7SsbR_1nQjry"
   },
   "source": [
    "## *3.3 if-elif-else statatements (chained conditionals)*\n",
    "\n",
    "We introduce `elif` (\"else if\"), which will only execute if all preceeding `if` and `elif` conditions are False. The final `else` block is executed if none of the preceding conditions are True."
   ]
  },
  {
   "cell_type": "code",
   "execution_count": null,
   "metadata": {
    "id": "N5mdtZyeQjry"
   },
   "outputs": [],
   "source": [
    "# Try out different values of x below\n",
    "# - Is it possible to trigger the 'else' condition?\n",
    "\n",
    "x = 3\n",
    "\n",
    "if x > 0:\n",
    "    print (\"x is greater than 0\")\n",
    "elif x < 0:\n",
    "    print(\"x is less than zero\")\n",
    "elif x == 0:\n",
    "    print(\"x is 0\")\n",
    "else:\n",
    "    print(\"x is something else?\")"
   ]
  },
  {
   "cell_type": "markdown",
   "metadata": {
    "id": "yFoApo4LQjrz"
   },
   "source": [
    "## *3.4 Nested conditionals*\n",
    "\n",
    "Section 5.7 of https://greenteapress.com/thinkpython2/html/thinkpython2006.html provides a really good overview of nested conditionals, reproduced below. It may also be worthwhile to read Sections 5.2-5.6 as a review of the topics above.\n",
    "\n",
    "One conditional can also be nested within another. We could have written the example in the previous section like this:\n",
    "\n",
    "```python\n",
    "if x == y:\n",
    "    print('x and y are equal')\n",
    "else:\n",
    "    if x < y:\n",
    "        print('x is less than y')\n",
    "    else:\n",
    "        print('x is greater than y')\n",
    "```\n",
    "\n",
    "The outer conditional contains two branches. The first branch contains a simple statement. The second branch contains another if statement, which has two branches of its own. Those two branches are both simple statements, although they could have been conditional statements as well.\n",
    "\n",
    "Although the indentation of the statements makes the structure apparent, nested conditionals become difficult to read very quickly. It is a good idea to avoid them when you can.\n",
    "\n",
    "Logical operators often provide a way to simplify nested conditional statements. For example, we can rewrite the following code using a single conditional:\n",
    "\n",
    "```python\n",
    "if 0 < x:\n",
    "    if x < 10:\n",
    "        print('x is a positive single-digit number.')\n",
    "```\n",
    "      \n",
    "The print statement runs only if we make it past both conditionals, so we can get the same effect with the `and` operator:\n",
    "\n",
    "```python\n",
    "if 0 < x and x < 10:\n",
    "    print('x is a positive single-digit number.')\n",
    "```    \n",
    "    \n",
    "For this kind of condition, Python provides a more concise option:\n",
    "\n",
    "```python\n",
    "if 0 < x < 10:\n",
    "    print('x is a positive single-digit number.')\n",
    "```\n",
    "    \n",
    "(This section was reproduced from https://greenteapress.com/thinkpython2/html/thinkpython2006.html)"
   ]
  },
  {
   "cell_type": "markdown",
   "metadata": {
    "id": "n91hmNAWQjrz"
   },
   "source": [
    "## *3.5. More complicated logic statements as conditions*\n",
    "\n",
    "We can combine multiople logic statements to create a more complicated logic statement to check if our `condition` is `True` or `False`.\n",
    "Let's use some code examples to look at the most common logic modifying and joining statements of `and`, `or` and `not`:"
   ]
  },
  {
   "cell_type": "code",
   "execution_count": null,
   "metadata": {
    "id": "ZW_Yv2IPQjr0"
   },
   "outputs": [],
   "source": [
    "# Run me!\n",
    "conditionA = True\n",
    "conditionB = False\n",
    "\n",
    "if conditionA and conditionB:\n",
    "    # This code will run only if conditionA==True and conditionB=True\n",
    "    print(\"The 'and' condition is True\")\n",
    "else:\n",
    "    print(\"The 'and' condition is False\")"
   ]
  },
  {
   "cell_type": "code",
   "execution_count": null,
   "metadata": {
    "id": "JB9dD0XoQjr0"
   },
   "outputs": [],
   "source": [
    "# Run me!\n",
    "\n",
    "if conditionA or conditionB:\n",
    "    # This code will run if either conditionA==True or conditionB=True\n",
    "    print(\"The 'or' condition is True\")\n",
    "else:\n",
    "    print(\"The 'or' condition is False\")"
   ]
  },
  {
   "cell_type": "code",
   "execution_count": null,
   "metadata": {
    "id": "ajvaDwf5Qjr1"
   },
   "outputs": [],
   "source": [
    "# Run me\n",
    "\n",
    "# 'not' flips the boolean to the opposite value\n",
    "if not conditionB:\n",
    "    print(\"'not condition B' is True\")\n",
    "else:\n",
    "    print(\"'not condition B' is False\")\n",
    "\n",
    "if not conditionA:\n",
    "    print(\"'not condition A' is True\")\n",
    "else:\n",
    "    print(\"'not condition A' is False\")"
   ]
  },
  {
   "cell_type": "markdown",
   "metadata": {
    "id": "8ocUuq5tQjr1"
   },
   "source": [
    "### Your turn 3.1\n",
    "\n",
    "Without adding or removing any of the variables, fix the following `if` statements so that the \"I should be printed\" statements are printed and the \"I should not be printed\" statements are not printed"
   ]
  },
  {
   "cell_type": "code",
   "execution_count": null,
   "metadata": {
    "id": "GP7O_UQYQjr1",
    "outputId": "90d2df7f-a90b-411f-c838-e194fcb8f502"
   },
   "outputs": [],
   "source": [
    "# Fix these 'if' statements\n",
    "\n",
    "num1 = 10\n",
    "num2 = 5\n",
    "bool1 = True\n",
    "bool2 = False\n",
    "\n",
    "if num1 < num2:\n",
    "    print(\"3.1a: I should be printed\")\n",
    "\n",
    "if (num1 > num2) and not (num1 == 5):\n",
    "    print(\"3.1b: I should not be printed\")\n",
    "\n",
    "if bool1 or bool2:\n",
    "    print(\"3.1c: I should not be printed\")"
   ]
  },
  {
   "cell_type": "markdown",
   "metadata": {
    "id": "l1nqUWy9Qjr2"
   },
   "source": [
    "## 3.6 *`while` loops*\n",
    "\n",
    "Read the following (not the whole chapter, just the first three sections):\n",
    "* **Sections 7.1 to 7.3** from http://greenteapress.com/thinkpython2/html/thinkpython2008.html"
   ]
  },
  {
   "cell_type": "markdown",
   "metadata": {
    "id": "wjCwTAGPQjr2"
   },
   "source": [
    "**A `while` loop:** This conditional statement will continue looping through a block of code  as long as 'condition' is `True`. The generic syntax is:\n",
    "\n",
    "```python\n",
    "while condition:\n",
    "    statements if condition is True\n",
    "    returns to the start of while loop while condition is True\n",
    "\n",
    "subsequent statements\n",
    "```\n",
    "\n",
    "Like with the `if` statements, the `:` at the end of the line and the indenting are both mantatory again. The condition is checked when the while statement is first encountered, and then each time the end of the block is reached. If the condition becomes false part way through the block, the rest of the block **is** executed and then the loop terminates at the end of the block when it goes to check that `condition` == `True` again."
   ]
  },
  {
   "cell_type": "markdown",
   "metadata": {
    "id": "3y5oB-mkQjr3"
   },
   "source": [
    "### Your turn 3.2\n",
    "\n",
    "Run the cell below and then explore the following questions (***Note!*** While loops can be a bit fragile and you are asked to modify the code below, which could result in a block of code that runs an infinite number of times. Some code indicated by `###` has been added to prevent the cell from remaining in any infinite loop you might inadvertently create):\n",
    "\n",
    "1. Does the \"I really wasn't expecting this result\" ever print?\n",
    "1. What happens if you add four spaces in front of the 'print(\"Loop finished\")' statement?\n",
    "1. What happens if you comment out or delete the x = x + dx line?\n",
    "1. What happens if we define `xmax` as a value smaller than our initial value of `x=0.`?\n",
    "\n",
    "*Note that this program is a very un-python way of doing this sort of calculatio and is really the kind of construction is the kind of approach used in older programming languages like C or Fortran. A much more pythonesque way of doing this would be to make x an array and do all the calculations at once, which is something we will learn in a lesson in the near future.*"
   ]
  },
  {
   "cell_type": "code",
   "execution_count": null,
   "metadata": {
    "id": "3Ti-9zAVQjr3"
   },
   "outputs": [],
   "source": [
    "# Run me and then explore the additional your turn questions\n",
    "\n",
    "import numpy as np\n",
    "import time # To help save us from runaway cells\n",
    "\n",
    "x = 0.\n",
    "xmax = np.pi\n",
    "dx = .25\n",
    "\n",
    "print(\"Starting the loop with x =\",x)\n",
    "\n",
    "### Don't delete this statement, it helps save us from runaway cells\n",
    "time_then = time.time()\n",
    "###\n",
    "\n",
    "while x <= xmax:\n",
    "\n",
    "    ### Don't delete this statement, it saves us from runaway cells\n",
    "    if (time.time()-time_then) > 0.1: print(\"Cell timed out\"); break\n",
    "    ###\n",
    "\n",
    "    if (x > xmax):\n",
    "        print(\"I really wasn't expecting this result\")\n",
    "    else :\n",
    "        print(f\"sin({x}) = {np.sin(x):.3f}\")\n",
    "    x = x + dx\n",
    "\n",
    "print(\"Loop finished\")"
   ]
  },
  {
   "cell_type": "markdown",
   "metadata": {
    "id": "OENdW00hQjr4"
   },
   "source": [
    "## *3.7 Submitting this reading assignment*\n",
    "Before submitting your work, restart + rerun your notebook to make sure that everything runs correctly and without error. We will only check that the Self-assessment questions at the start of the assignment have run correctly. After you've executed and checked your notebook, choose: File => Save_and_Export_Notebook_As => HTML. This will download an HTML version of your notebook to your computer which you can upload to Canvas"
   ]
  },
  {
   "cell_type": "code",
   "execution_count": null,
   "metadata": {
    "id": "kuqFL488Qjr4"
   },
   "outputs": [],
   "source": []
  }
 ],
 "metadata": {
  "colab": {
   "provenance": []
  },
  "kernelspec": {
   "display_name": "Python 3",
   "language": "python",
   "name": "python3"
  },
  "language_info": {
   "codemirror_mode": {
    "name": "ipython",
    "version": 3
   },
   "file_extension": ".py",
   "mimetype": "text/x-python",
   "name": "python",
   "nbconvert_exporter": "python",
   "pygments_lexer": "ipython3",
   "version": "3.7.6"
  }
 },
 "nbformat": 4,
 "nbformat_minor": 1
}
