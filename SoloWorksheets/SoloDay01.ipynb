{
 "cells": [
  {
   "cell_type": "markdown",
   "metadata": {},
   "source": [
    "# PHYS 210, Solo Worksheet 01\n",
    "Due Monday, Sep 11, 2023 on Canvas (at the start of class)"
   ]
  },
  {
   "cell_type": "markdown",
   "metadata": {},
   "source": [
    "## _Today's solo worksheet_\n",
    "Today's solo worksheet is a combination of the typical pre-class reading assignments and solo worksheets assigned in this course. Solo worksheets are a type of exercise-based homework designed for you to further practice and synthesize the skills developed during the pre-class reading assignments, and the in-class interactive lectures and group worksheets. They are submitted through Canvas (see the bottom of this document for further instructions) and graded for completion.\n",
    "\n",
    "Every link on Canvas that directs you to a resource or assessment on UBC Open Jupyter will take you to that resource on Open Jupyter and will also update your account with any new documents that have been added. If you ever want to restore a document to the original version we distributed to you, simply rename your local version of that and then click on any of the Open Jupyter resource links on Canvas, or the \"UBC Open Jupyter\" link on Canvas, and the original version of the document will reappear."
   ]
  },
  {
   "cell_type": "markdown",
   "metadata": {},
   "source": [
    "## _Introduction to Jupyter, Markdown and python_\n",
    "_(This document draws from the introductory notebook used in Physics 119, materials from last year in this course and newly developed material.)_\n",
    "\n",
    "This Jupyter notebook is designed to teach you about interacting with Jupyter notebooks and the two main types of Jupyter cells we will using in this course: code (python) and markdown (formatted text).\n",
    "\n",
    "\n",
    "\n",
    "The first thing to know is that the notebook you are working in today is stored 'in the cloud' in a service operated by UBC. You are working in your own copy of this document and any changes you make to it are automatically saved frequently. If you want to force it to save immediately, you can type: CTRL+S, or go to File->Save Notebook."
   ]
  },
  {
   "cell_type": "markdown",
   "metadata": {},
   "source": [
    "## _Cells - Code and Markdown_\n",
    "The first thing we will introduce is the \"base unit\" of the Jupyter notebook, the \"cell.\" There are two types of cells: Code cells (where you run Python code) and Markdown cells (where you can write formatted text, including headings and equations). Formatted text is entered in Markdown (a markup language that you may also have encountered on Discord, Slack, Github and elsehwere).\n",
    "\n",
    "This cell you are reading is a markdown cell."
   ]
  },
  {
   "cell_type": "code",
   "execution_count": null,
   "metadata": {},
   "outputs": [],
   "source": [
    "# This is a Code cell.\n",
    "# Python treats any lines with a \"#\" in front as a comment.\n",
    "# So these lines will do nothing even if the cell is run.\n",
    "\n",
    "# Click the play button to the left to run the code in this Code cell\n",
    "\n",
    "x = 3.1415 # You can also put comments after code\n",
    "y = 2.7\n",
    "z = x + y\n",
    "print(z) "
   ]
  },
  {
   "cell_type": "markdown",
   "metadata": {},
   "source": [
    "## _Running cells_\n",
    "There are many different ways to execute run a cell after clicking on or highlighting a cell\n",
    "* Pressing Shift+Enter\n",
    "* Clicking on the \"⏵Run\" button in the menu above\n"
   ]
  },
  {
   "cell_type": "markdown",
   "metadata": {},
   "source": [
    "## _Markdown_\n",
    "In the 'Help' menu above, you will find a 'Markdown' entry. If you then follow the link 'Basic writing and formatting syntax', you will have a really good overview of using Markdown to format text. Read down to 'Lists in that help link.\n",
    "\n",
    "Use the notebook help link to learn about how to format text in markdown.\n",
    "\n",
    "Markdown makes formatting text easy. Here's an enumerated list with the entries formatted in different ways:\n",
    "\n",
    "1. Normal,\n",
    "2. **bold**,\n",
    "3. *italic*,\n",
    "4. ***both***\n",
    "\n",
    "It also does LaTeX-style mathematics as inline equations, such as $F=ma$, or as display equations, meaning the whole line is a centered equation:\n",
    "\n",
    "$$V =\\frac{4}{3}\\pi r^3$$\n",
    "\n",
    "There is much more information at https://www.markdownguide.org. A two-page cheatsheet for math typesetting with $\\LaTeX$ can be found at http://tug.ctan.org/info/undergradmath/undergradmath.pdf."
   ]
  },
  {
   "cell_type": "markdown",
   "metadata": {},
   "source": [
    "### Question 1:\n",
    "Double-click the cell \"Type _Markdown_ and LaTeX: $a^2$\" below and try to reproduce the 4-point list from above. Additionally, try creating inline and display LateX-formatted equations. You can double-click on the cell above to see how the formatting was done, but try to figure it out first yourself. Remember that after you have modified the markdown text, you execute the cell as outlined above."
   ]
  },
  {
   "cell_type": "markdown",
   "metadata": {},
   "source": []
  },
  {
   "cell_type": "markdown",
   "metadata": {},
   "source": [
    "# PYTHON BASICS\n",
    "\n",
    "To do computations in python, we'll need to learn the basics of the language. A brief introduction to some of the basics can be found at the links below. These readings mention both Python 2 and Python 3, and we'll be using Python 3.\n",
    "\n",
    "**Important!** In this course we will interact with Python primarily through the use of interactive Jupyter notebooks `(*.ipynb)` like this one you are currently interacting with. Another possible method to interact with Python is through an interactive python interpreter, which is what is what is being shown in the readings below, as indicated by all python commands being preceeded by `>>>`."
   ]
  },
  {
   "cell_type": "markdown",
   "metadata": {},
   "source": [
    "## _Intro to numbers and strings: basic operators and manipulations_\n",
    "\n",
    "These readings introduce concepts such as values vs types, variables, assignments, expressions, and string operations. Please read the following if these ideas are unfamiliar to you in the context of python.\n",
    "\n",
    "Read\n",
    "\n",
    "* Sections 1.1 to 1.6 in http://greenteapress.com/thinkpython2/html/thinkpython2002.html  \n",
    "* Sections 2.1 to 2.3 and 2.5 to 2.9 in http://greenteapress.com/thinkpython2/html/thinkpython2003.html \n",
    "* Sections  5.1 and 5,2 at: http://greenteapress.com/thinkpython2/html/thinkpython2006.html "
   ]
  },
  {
   "cell_type": "markdown",
   "metadata": {},
   "source": [
    "## _Different types of division_\n",
    "\n",
    "In the reading above, you encountered division, but here's a brief summary of the various types of division operators you might encounter\n",
    "\n",
    "\n",
    "\n",
    "-  For example, 10 // 3 will result in 3.\n",
    "\n",
    "- Modulo (%): The modulo operator is used to find the remainder of the division of one number by another. For example, 10 % 3 will result in 1. Don't worry if you haven't used this before."
   ]
  },
  {
   "cell_type": "markdown",
   "metadata": {},
   "source": [
    "**Division `/`:** The division operator is used to divide one number by another. It returns a floating-point result, meaning \n",
    "that even if the result would be an integer, it is expressed as a value with a decimal place."
   ]
  },
  {
   "cell_type": "code",
   "execution_count": null,
   "metadata": {},
   "outputs": [],
   "source": [
    "# Run me!\n",
    "\n",
    "a = 1/2\n",
    "b = 2/1\n",
    "print(a)\n",
    "print(b)"
   ]
  },
  {
   "cell_type": "markdown",
   "metadata": {},
   "source": [
    "**Floor Division `//`:** The floor division operator is used to divide one number by another and _round down_ the result to the nearest integer. It returns an integer result."
   ]
  },
  {
   "cell_type": "code",
   "execution_count": null,
   "metadata": {},
   "outputs": [],
   "source": [
    "# Run me! \n",
    "\n",
    "# divides 1 by 2, which is 0.5, rounded down is 0\n",
    "c = 1//2\n",
    "print(c)\n",
    "\n",
    "# divides -1 by 2, which is -0.5, rounded down is -1\n",
    "d = -1//2\n",
    "print(d)"
   ]
  },
  {
   "cell_type": "markdown",
   "metadata": {},
   "source": [
    "**Modulo `%`:** The modulo operator is used to find the remainder of the division of one number by another. You may need to remember back to learning how to do long division by hand to remember what a remainder is."
   ]
  },
  {
   "cell_type": "code",
   "execution_count": null,
   "metadata": {},
   "outputs": [],
   "source": [
    "# Run me!\n",
    "\n",
    "e = 11 % 3\n",
    "print(e)"
   ]
  },
  {
   "cell_type": "markdown",
   "metadata": {},
   "source": [
    "### Question 2: a simple debugging example using `assert`\n",
    "\n",
    "The code below executes a modulo operation (`%`) and assigns the result to the variable `h`."
   ]
  },
  {
   "cell_type": "code",
   "execution_count": null,
   "metadata": {},
   "outputs": [],
   "source": [
    "# Run me!\n",
    "f = 11\n",
    "g = 3\n",
    "h = f % g"
   ]
  },
  {
   "cell_type": "markdown",
   "metadata": {},
   "source": [
    "In our notebook, if we wanted to double-check that value that was assigned to the variable `h`, we could use the `print()` function. This is what we have been using above to communicate the results of the different types of division we've been looking at so far. Notice that the result of `h = f % g` is not automatically displayed and that we need to use `print` (below) to have it displayed."
   ]
  },
  {
   "cell_type": "code",
   "execution_count": null,
   "metadata": {},
   "outputs": [],
   "source": [
    "print(h)"
   ]
  },
  {
   "cell_type": "markdown",
   "metadata": {},
   "source": [
    "What if we had actually wanted the value of `h` to be equal to `1` via our modulo operation? One way we could catch this is to use the `assert` keyword which generates an \"AssertionError\" when you try to test that the statement `assert h == 1` is true. Note that `==` is used instead of `=` when you are testing if two things are equal to each other.\n",
    "\n",
    "**Your task:** Modify either `f = 11` or `g = 3` above (and then re-run that cell) such that `h = f % g` will result in `1` being assigned to the variable `h`, fixing the assertion error below."
   ]
  },
  {
   "cell_type": "code",
   "execution_count": null,
   "metadata": {},
   "outputs": [],
   "source": [
    "# Fix the code above so that there is no longer an assertion error\n",
    "# when you run this cell\n",
    "\n",
    "assert h == 1"
   ]
  },
  {
   "cell_type": "markdown",
   "metadata": {},
   "source": [
    "## _Boolean variables_\n",
    "\n",
    "Python can compare numbers to give logical (boolean True/False) results:"
   ]
  },
  {
   "cell_type": "code",
   "execution_count": null,
   "metadata": {},
   "outputs": [],
   "source": [
    "# Run me! See if you understand why each statement gives true or false\n",
    "\n",
    "print(1 < 2)\n",
    "\n",
    "print(1 < 1)\n",
    "\n",
    "print(1 <= 1) # 1 =< 1 gives a syntax error\n",
    "\n",
    "print(1 == 1.0) # 1 = 1 gives an error, but mixing number types is OK\n",
    "\n",
    "print(1 != 1.0)"
   ]
  },
  {
   "cell_type": "markdown",
   "metadata": {},
   "source": [
    "You can save a comparison into a boolean variable:"
   ]
  },
  {
   "cell_type": "code",
   "execution_count": null,
   "metadata": {},
   "outputs": [],
   "source": [
    "# Run me!\n",
    "\n",
    "a = 2.0 > 1\n",
    "print(a)"
   ]
  },
  {
   "cell_type": "markdown",
   "metadata": {},
   "source": [
    "### Question 3: revenge of `assert`\n",
    "\n",
    "Update the operator '==' below to '>' or '<' to make it so that the assertion error is resolved"
   ]
  },
  {
   "cell_type": "code",
   "execution_count": null,
   "metadata": {},
   "outputs": [],
   "source": [
    "# Fix me!\n",
    "assert 11**9 == 9**11"
   ]
  },
  {
   "cell_type": "markdown",
   "metadata": {},
   "source": [
    "## _Python built-in Functions_\n",
    "\n",
    "Python has only a few built-in functions that can be called from the prompt. They are listed here (you don’t need to read it all): \n",
    "\n",
    "* https://docs.python.org/3/library/functions.html#\n",
    "\n",
    "Do not feel that you need to read and understand all of this. Follow the link, spend a minute or two looking at what kind of information is there, but don’t spend a lot of time on it not. The link will be useful for reference.\n",
    "\n",
    "For now we will use a very small number of them, such as `str()`, `type()`, or `print()`. You can tell that these are functions because of the '(' right after the name. Many functions take arguments – variables or expressions that the function uses. Functions can also return one or more values."
   ]
  },
  {
   "cell_type": "markdown",
   "metadata": {},
   "source": [
    "## *Math functions in Python*\n",
    "\n",
    "The standard functions like `sqrt(x)`, `sin(x)`, `exp(x)`, `log(x)` are not built-in functions in Python, as you can see below"
   ]
  },
  {
   "cell_type": "code",
   "execution_count": null,
   "metadata": {},
   "outputs": [],
   "source": [
    "# Run me! \n",
    "\n",
    "sqrt(2)"
   ]
  },
  {
   "cell_type": "markdown",
   "metadata": {},
   "source": [
    "Instead, these functions are found in libraries. To use these functions, we must tell the python that we want to import the library functions so that we are able to use them. These functions are available in both the `math` module and the `numpy` module. Because we will make extensive use of numpy later on, we'll use the numpy versions for our example. The standard way to import numpy and then use a function from this library is:"
   ]
  },
  {
   "cell_type": "code",
   "execution_count": null,
   "metadata": {},
   "outputs": [],
   "source": [
    "# Run me! \n",
    "\n",
    "import numpy as np\n",
    "np.sqrt(2)"
   ]
  },
  {
   "cell_type": "code",
   "execution_count": null,
   "metadata": {},
   "outputs": [],
   "source": [
    "# Run me!\n",
    "\n",
    "np.sin(20.4) # we don't need to re-import python each time"
   ]
  },
  {
   "cell_type": "markdown",
   "metadata": {},
   "source": [
    "Here is a list of math functions you can use with the numpy module: https://docs.scipy.org/doc/numpy/reference/routines.math.html \n",
    "\n",
    "Again, do not spend a lot of time here – see what kinds of things are listed, but don’t try to absorb it all. The link will be useful for reference.\n",
    "\n",
    "You could just have done: import numpy, and then accessed functions as numpy.sin(), but numpy is almost universally imported as np to save a bit of typing, and that is what you should do too."
   ]
  },
  {
   "cell_type": "markdown",
   "metadata": {},
   "source": [
    "## *Syntax and runtime errors*\n",
    "\n",
    "If python does not understand what you have typed, you get a *syntax error*. Before the code is run, the interpreter checks that the syntax in each line is correct, as in that everything makes sense in the context of how python code is written and formatted:"
   ]
  },
  {
   "cell_type": "code",
   "execution_count": null,
   "metadata": {},
   "outputs": [],
   "source": [
    "# Run me for a syntax error\n",
    "# - fix me by making it a print function like we've been using elsewhere\n",
    "\n",
    "printt 1"
   ]
  },
  {
   "cell_type": "markdown",
   "metadata": {},
   "source": [
    "If the syntax of what you type is correct but then when trying to actually run the commands in the code, it encounters an error that causes it stop, you get a *runtime error*. In the example below, we are trying to add an integer (`int`) to a string (`str`), which results in a type error (a type of runtime error)."
   ]
  },
  {
   "cell_type": "code",
   "execution_count": null,
   "metadata": {},
   "outputs": [],
   "source": [
    "# Run me for a runtime error\n",
    "# - fix me by making a1 a string: a1 = '5'\n",
    "\n",
    "a1 = 5; a2 = 'stuff'; a3 = a1 + a2\n",
    "print(a3)"
   ]
  },
  {
   "cell_type": "markdown",
   "metadata": {},
   "source": [
    "## _Optional Further Reading_\n",
    "\n",
    "If you are interested in other resources, there is a book that is available for download. Visit:\n",
    "\n",
    "* http://freecomputerbooks.com/Computational-Physics-with-Python-by-Eric-Ayars.html \n",
    "\n",
    "and find the “Read and Download Links” section. Click on “Computational Physics with Python (Eric Ayars)”\n",
    "\n",
    "The book presents things in a different order from what we’ll do, but the book it is a good (and free!) resource. For today’s material, Sections 1.0, 1.1, and 1.3-1.5 are relevant, but they do introduce a few things we won’t see till a little later.\n"
   ]
  },
  {
   "cell_type": "markdown",
   "metadata": {},
   "source": [
    "# Completing this solo worksheet and submitting it to Canvas"
   ]
  },
  {
   "cell_type": "markdown",
   "metadata": {},
   "source": [
    "Before submitting your work, restart + rerun your entire notebook to make sure that everything runs correctly and without error. \n",
    "\n",
    "To do this:\n",
    "1. Clear all output in your notebook by clicking on \"Edit\" in the menu bar at the top that also contains File, Edit, View, etc. From this drop down click \"Clear All Outputs\". This will ensure that when you re-run your notebook to make sure that everything executes as intended, including the \"The notebook ran without errors\" print statement below.\n",
    "2. **Restart & Run All:** From the \"Kernel\" menu to the right of the \"Cell\" menu, select \"Restart & Run All\". This will restart the python Kernel, erasing all variables currently stored in memory so that when you \"Run All\" cells, you can ensure that if you were to run your notebook again on a later day, it would run as intended.\n",
    "3. Look through the whole notebook and make sure there are no errors. Questions 2 and 3, as well as the sections on \"Math functions in Python\" and \"Syntax and runtime errors\" had purposeful errors in the distributed version of this notebook so make sure you have fixed them all. Again, if you execute steps 1 and 2 above and get the \"The notebook ran without errors\" statement printed at the bottom, then the notebooks has run successfully with no errors. Don't forget to also complete Question 1. If you have any trouble resolving the errors, please ask one of your classmates or ask us in class or on Piazza. \n",
    "\n",
    "Note that your copy of this notebook is stored in your private UBC Open Jupyter account so you will need to download or export it so that you can submit it on Canvas.\n",
    "\n",
    "**Export notebook as HTML:** After you've executed and checked your notebook, choose: File => Save_and_Export_Notebook_As => HTML. This will download an HTML version of your notebook to your computer. This version is can not be executed or modified. You may need to disable any pop-up blockers to allow the file to be downloaded.\n",
    "\n",
    "**Submit to Canvas:** Submit the html file that you just downloaded to the Solo Worksheet Day 01 submission assignment on Canvas. \n",
    "\n",
    "**Other stuff to do:**\n",
    "* If you haven't already done so, complete the \"Get to know you survey\" on Canvas, which will count as your Day 01 pre-class reading assignment\n",
    "* There is also a Day 02 Reading, due at the start of Monday's class."
   ]
  },
  {
   "cell_type": "code",
   "execution_count": null,
   "metadata": {},
   "outputs": [],
   "source": [
    "print(\"The notebook ran without errors\")"
   ]
  }
 ],
 "metadata": {
  "kernelspec": {
   "display_name": "Python 3 (ipykernel)",
   "language": "python",
   "name": "python3"
  },
  "language_info": {
   "codemirror_mode": {
    "name": "ipython",
    "version": 3
   },
   "file_extension": ".py",
   "mimetype": "text/x-python",
   "name": "python",
   "nbconvert_exporter": "python",
   "pygments_lexer": "ipython3",
   "version": "3.10.8"
  },
  "widgets": {
   "application/vnd.jupyter.widget-state+json": {
    "state": {},
    "version_major": 2,
    "version_minor": 0
   }
  }
 },
 "nbformat": 4,
 "nbformat_minor": 4
}
