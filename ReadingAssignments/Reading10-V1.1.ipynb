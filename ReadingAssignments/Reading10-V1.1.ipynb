{
 "cells": [
  {
   "cell_type": "markdown",
   "metadata": {},
   "source": [
    "# Pre-class Reading: Day 10 (Oct 12, 2023)<br>Introduction to NumPy arrays\n",
    "Learning goals\n",
    "1. Identify the rank, number of rows, number of columns and length for a given numpy array.\n",
    "1. Identify the attributes ndim, shape, size and dtype for a given numpy array.\n",
    "1. Predict the output from combining two numerical numpy arrays of the same shape using the common arithmetic operations `+`, `-`, `/`, and `*`.\n",
    "1. Define (create) an array with one or more dimensions and fill it with values provided via a list (e.g., `numpy.array([1, 2, 3])`).\n",
    "1. Use an intrinsic array creation function to define an array and fill it with zeros or ones (e.g., `numpy.zeros(3)`).\n",
    "1. Specify data type when creating a numpy array (e.g., `np.array([1, 2, 3],dtype=float)`).\n",
    "1. Index or slice a numpy array having one or more dimensions. \n",
    "1. Use array methods such as `sum()`, `max()` and `std()` to perform operations on arrays"
   ]
  },
  {
   "cell_type": "markdown",
   "metadata": {},
   "source": [
    "## *Self-assessment questions*\n",
    "\n",
    "**If you can already answer these correctly, you can skip the rest of the reading assignment and submit it. Otherwise, complete the rest of the reading assignment and return to these questions to test what you learned. You might decide you would benefit from further review before class.**\n",
    "\n",
    "Note that these questions can often be answered easily by running the provided code, so the intellectual work on your part is figuring out the correct answer and then running the code to check your answer.\n",
    "\n",
    "Please ensure all of these self-assessment questions are answered correctly before submitting this pre-class reading assignment. The *Your Turn* questions, found throughout the rest of this assignment, are for your practice as you learn this material and do not need to be answered correctly to receive full completion marks for this pre-class reading assignment."
   ]
  },
  {
   "cell_type": "markdown",
   "metadata": {},
   "source": [
    "### Self-assessment question 10.1\n",
    "\n",
    "What will the following code print?\n",
    "```python\n",
    "import numpy as np\n",
    "a = np.array([[1, 2, 3], [4, 5, 6], [7, 8, 9]])\n",
    "print(np.ndim(a))\n",
    "```\n",
    "A) 1<br>\n",
    "B) 2<br>\n",
    "C) 3<br>\n",
    "D) 9<br>"
   ]
  },
  {
   "cell_type": "code",
   "execution_count": null,
   "metadata": {},
   "outputs": [],
   "source": [
    "# Code testing area to help answer this question\n",
    "\n"
   ]
  },
  {
   "cell_type": "code",
   "execution_count": null,
   "metadata": {},
   "outputs": [],
   "source": [
    "# Enter your answer inside the string quotes and run this cell to check your anwer\n",
    "\n",
    "answer = \"\"\n",
    "\n",
    "import hashlib\n",
    "assert answer in ['A', 'B', 'C', 'D'], \"Your answer did not match any of the choices\"\n",
    "assert hashlib.sha256(answer.encode()).hexdigest() == \\\n",
    "    'df7e70e5021544f4834bbee64a9e3789febc4be81470df629cad6ddb03320a5c', \"Your answer is incorrect\"\n",
    "print(\"Your answer\", answer, \"is correct\") # Passed all assert statements above"
   ]
  },
  {
   "cell_type": "markdown",
   "metadata": {},
   "source": [
    "### Self-assessment question 10.2\n",
    "\n",
    "What will the variable C contain after running the following code?\n",
    "\n",
    "```python\n",
    "import numpy as np\n",
    "A = np.array([[9, 1], [4, 2]])\n",
    "C = np.zeros(np.size(A))\n",
    "```\n",
    "\n",
    "A) A list of four zeros<br>\n",
    "B) A one-dimensional numpy array of four integer zeros<br>\n",
    "C) A one-dimensional  numpy array of four floating point zeros<br>\n",
    "D) A three-dimensional numpy array containing a total of 72 floating point zeros<br>\n",
    "E) A two-dimensional numpy array containing a total of 4 floating point zeros."
   ]
  },
  {
   "cell_type": "code",
   "execution_count": null,
   "metadata": {},
   "outputs": [],
   "source": [
    "# Code testing area to help answer this question\n",
    "\n"
   ]
  },
  {
   "cell_type": "code",
   "execution_count": null,
   "metadata": {},
   "outputs": [],
   "source": [
    "# Enter your answer inside the string quotes and run this cell to check your anwer\n",
    "\n",
    "answer = \"\"\n",
    "\n",
    "import hashlib\n",
    "assert answer in ['A', 'B', 'C', 'D', 'E'], \"Your answer did not match any of the choices\"\n",
    "assert hashlib.sha256(answer.encode()).hexdigest() == \\\n",
    "    '6b23c0d5f35d1b11f9b683f0b0a617355deb11277d91ae091d399c655b87940d', \"Your answer is incorrect\"\n",
    "print(\"Your answer\", answer, \"is correct\") # Passed all assert statements above"
   ]
  },
  {
   "cell_type": "markdown",
   "metadata": {},
   "source": [
    "### Self-assessment question 10.3\n",
    "\n",
    "What is printed by this array operation?\n",
    "\n",
    "```python\n",
    "import numpy as np\n",
    "A = np.array([1,2,3])\n",
    "B = np.array([4,5,6])\n",
    "print(A*B)\n",
    "```\n",
    "\n",
    "A) `32`<br>\n",
    "B) `[5 7 18]`<br>\n",
    "C) `[4 10 18]`<br>\n",
    "D) `[12 10 4]`<br>\n",
    "E) `15`"
   ]
  },
  {
   "cell_type": "code",
   "execution_count": null,
   "metadata": {},
   "outputs": [],
   "source": [
    "# Code testing area to help answer this question\n",
    "\n"
   ]
  },
  {
   "cell_type": "code",
   "execution_count": null,
   "metadata": {},
   "outputs": [],
   "source": [
    "# Enter your answer inside the string quotes\n",
    "# and run this cell to check your anwer\n",
    "\n",
    "answer = \"\"  \n",
    "\n",
    "import hashlib\n",
    "assert answer in ['A', 'B', 'C', 'D', 'E'], \"Your answer did not match any of the choices\"\n",
    "assert hashlib.sha256(answer.encode()).hexdigest() == \\\n",
    "    '6b23c0d5f35d1b11f9b683f0b0a617355deb11277d91ae091d399c655b87940d', \"Your answer is incorrect\"\n",
    "print(\"Your answer\", answer, \"is correct\") # Passed all assert statements above"
   ]
  },
  {
   "cell_type": "markdown",
   "metadata": {},
   "source": [
    "### Self-assessment question 10.4\n",
    "\n",
    "What output will the following code produce?\n",
    "\n",
    "```python\n",
    "import numpy as np\n",
    "A = np.array([[9,1],[4,2]])\n",
    "X = np.sqrt(np.sort(A))\n",
    "print(X)\n",
    "\n",
    "# A\n",
    "[[1. 2.]\n",
    "[1.41421356 3.]]\n",
    "\n",
    "# B\n",
    "[[1. 1.41421356]\n",
    "[2. 3.]]\n",
    "\n",
    "# C\n",
    "[[1. 3.]\n",
    "[1.41421356 2.]]\n",
    "\n",
    "# D\n",
    "[[1. 1.41421356]\n",
    "[3. 2.]]\n",
    "\n",
    "# E\n",
    "[1., 1.41421356, 2., 3.]\n",
    "```"
   ]
  },
  {
   "cell_type": "code",
   "execution_count": null,
   "metadata": {},
   "outputs": [],
   "source": [
    "# Code testing area to help answer this question\n",
    "\n"
   ]
  },
  {
   "cell_type": "code",
   "execution_count": null,
   "metadata": {},
   "outputs": [],
   "source": [
    "# Enter your answer inside the string quotes\n",
    "# and run this cell to check your anwer\n",
    "\n",
    "answer = \"\"  \n",
    "\n",
    "import hashlib\n",
    "assert answer in ['A', 'B', 'C', 'D', 'E'], \"Your answer did not match any of the choices\"\n",
    "assert hashlib.sha256(answer.encode()).hexdigest() == \\\n",
    "    '6b23c0d5f35d1b11f9b683f0b0a617355deb11277d91ae091d399c655b87940d', \"Your answer is incorrect\"\n",
    "print(\"Your answer\", answer, \"is correct\") # Passed all assert statements above"
   ]
  },
  {
   "cell_type": "markdown",
   "metadata": {},
   "source": [
    "### Self-assessment question 10.5\n",
    "\n",
    "What will be the output of the following?\n",
    "\n",
    "```python\n",
    "import numpy as np\n",
    "A = np.array([[1,2,3],[4,5,6],[7,8,9],[10,11,12]])\n",
    "print( A[:, 1] )\n",
    "```\n",
    "A) `[1, 4, 7, 10]` <br>\n",
    "B) `[2, 5, 8, 11]` <br>\n",
    "C) `[1, 2, 3]` <br>\n",
    "D) `[4, 5, 6]` <br>"
   ]
  },
  {
   "cell_type": "code",
   "execution_count": null,
   "metadata": {},
   "outputs": [],
   "source": [
    "# Code testing area to help answer this question\n",
    "\n"
   ]
  },
  {
   "cell_type": "code",
   "execution_count": null,
   "metadata": {},
   "outputs": [],
   "source": [
    "# Enter your answer inside the string quotes\n",
    "# and run this cell to check your anwer\n",
    "\n",
    "answer = \"\"  \n",
    "\n",
    "import hashlib\n",
    "assert answer in ['A', 'B', 'C', 'D', 'E'], \"Your answer did not match any of the choices\"\n",
    "assert hashlib.sha256(answer.encode()).hexdigest() == \\\n",
    "    'df7e70e5021544f4834bbee64a9e3789febc4be81470df629cad6ddb03320a5c', \"Your answer is incorrect\"\n",
    "print(\"Your answer\", answer, \"is correct\") # Passed all assert statements above"
   ]
  },
  {
   "cell_type": "markdown",
   "metadata": {},
   "source": [
    "## *10.1 Introduction to NumPy*\n",
    "\n",
    "The fundamental library needed for scientific computing with Python is called NumPy.\n",
    "This __Open Source__ library contains:\n",
    "\n",
    "- A powerful N-dimensional array object;\n",
    "- Advanced array slicing methods (to select array elements); and\n",
    "- Convenient array reshaping methods.\n",
    "\n",
    "It also contains libraries with numerical routines, including:\n",
    "\n",
    "* Basic linear algebra functions;\n",
    "* Fourier transforms; and\n",
    "* Sophisticated random number capabilities.\n",
    "\n",
    "Class 10 is about learning how to create and manipulate arrays and using some of the most common methods applied to arrays. We’ll look at some more advanced array and NumPy concepts later in the course."
   ]
  },
  {
   "cell_type": "markdown",
   "metadata": {},
   "source": [
    "## *10.2 Overview of NumPy arrays*\n",
    "\n",
    "NumPy's main object is the homogeneous multidimensional array called ndarray.  Homogeneous here means that every element of the array has the same type (i.e., an array of ints, floats or complex values).\n",
    "\n",
    "* An array is a table of elements (usually numbers), all of the same type, indexed by one or more non-negative integers. Typical examples of multidimensional arrays include vectors, matrices, images and spreadsheets, but are not limited to these.\n",
    "* The array can have multiple dimensions, also called _axes_. The number of axes is also known as the _rank_.\n",
    "\n",
    "The link below should take you to the NumPy section of this webpage, where you will read up to, but not including the subsection Broadcasting (a concept we will cover later). This means you will read the subsections Arrays, Array Indexing, Datatypes, and Array Math.\n",
    "\n",
    "* http://cs231n.github.io/python-numpy-tutorial/#numpy"
   ]
  },
  {
   "cell_type": "markdown",
   "metadata": {},
   "source": [
    "## *10.3 Some array examples*\n",
    "Before executing this code, see if you can figure out what to expect as the output."
   ]
  },
  {
   "cell_type": "code",
   "execution_count": null,
   "metadata": {},
   "outputs": [],
   "source": [
    "# Run me!\n",
    "\n",
    "import numpy\n",
    "a = numpy.array([1,3,5,7,9])\n",
    "b = numpy.array([3,5,6,7,9])\n",
    "c = a + b\n",
    "print(c)"
   ]
  },
  {
   "cell_type": "markdown",
   "metadata": {},
   "source": [
    "You might be asking youtself, why are there two (different) sets of brackets when creating each of the arrays, e.g., `a = numpy.array([1, 3, 5, 7, 9])`?\n",
    "\n",
    "The `numpy.array()` function attempts to turn the argument it is given into an array. The: `[1, 3, 5, 7, 9]` is a python list, which we have already seen. Lists and arrays have a number of things in common, but arrays have many additional useful features not available when working with lists."
   ]
  },
  {
   "cell_type": "markdown",
   "metadata": {},
   "source": [
    "### `import numpy as np`\n",
    "Instead of typing `numpy` every time we use an array, it is common to rename it, e.g. as `np` with the following modified import command:"
   ]
  },
  {
   "cell_type": "code",
   "execution_count": null,
   "metadata": {},
   "outputs": [],
   "source": [
    "# Run me!\n",
    "\n",
    "import numpy as np\n",
    "a = np.array([1, 3, 5, 7, 9])\n",
    "b = np.array([3, 5, 6, 7, 9])\n",
    "c = a + b\n",
    "print(c)"
   ]
  },
  {
   "cell_type": "markdown",
   "metadata": {},
   "source": [
    "You should always import `numpy` this way."
   ]
  },
  {
   "cell_type": "markdown",
   "metadata": {},
   "source": [
    "## *10.4 The meaning of rank, row, column, length and axis*\n",
    "\n",
    "Let's start with a couple of examples to highlight how some of this terminology is used\n",
    "\n",
    "* `[7, 5, -1]`: An array of rank 1 i.e. It has 1 axis of length 3\n",
    "* `[ [ 1.5, 0.2, -3.7], [ 0.1, 1.7, 2.9] ]`: An array of rank 2, meaning that it has two axes (two rows and three columns). The first is of length 2 and the second of length 3. "
   ]
  },
  {
   "cell_type": "markdown",
   "metadata": {},
   "source": [
    "### NumPy array attributes\n",
    "Every array has a number of attributes that describe the array or the data it holds. These attributes include:\n",
    "\n",
    "* `ndarray.ndim`: the number of axes (dimensions) of the array i.e. the rank.\n",
    "* `ndarray.shape`: the dimensions of the array – the lengths along each of the axes.\n",
    "* `ndarray.size`: the total number of elements of the array, equal to the product of the elements of shape.\n",
    "* `ndarray.dtype`: an object describing the type of the elements in the array. One can create or specify dtypes using standard Python types. NumPy also provides many types, for example bool, int8, int16, int32, int64, float16, float32, float64, float128, complex64, complex128. The numerical parts of these names indicate how many “bits” are used to store the number. Larger numbers indicate that larger values that can be stored in the data type, and for floats, with higher precision.\n",
    "* `ndarray.itemsize`: the size in bytes of each element of the array. E.g. for elements of type float64, itemsize is 8 (=64/8), while complex32 has itemsize 4 (=32/8) (equivalent to ndarray.dtype.itemsize).\n",
    "* `ndarray.data`: the buffer containing the actual elements of the array. Normally, we won't need to use this attribute because we will access the elements in an array using indexing facilities."
   ]
  },
  {
   "cell_type": "markdown",
   "metadata": {},
   "source": [
    "Some examples of attributes of the array `a` from earlier:"
   ]
  },
  {
   "cell_type": "code",
   "execution_count": null,
   "metadata": {},
   "outputs": [],
   "source": [
    "# Run me (and the other cells below)!\n",
    "# I use an array created in the previous section\n",
    "\n",
    "a"
   ]
  },
  {
   "cell_type": "code",
   "execution_count": null,
   "metadata": {},
   "outputs": [],
   "source": [
    "a.ndim # equivalent to np.ndim(a)"
   ]
  },
  {
   "cell_type": "code",
   "execution_count": null,
   "metadata": {},
   "outputs": [],
   "source": [
    "a.shape # or np.shape(a)"
   ]
  },
  {
   "cell_type": "code",
   "execution_count": null,
   "metadata": {},
   "outputs": [],
   "source": [
    "a.size"
   ]
  },
  {
   "cell_type": "code",
   "execution_count": null,
   "metadata": {},
   "outputs": [],
   "source": [
    "a.dtype"
   ]
  },
  {
   "cell_type": "code",
   "execution_count": null,
   "metadata": {},
   "outputs": [],
   "source": [
    "a.itemsize"
   ]
  },
  {
   "cell_type": "code",
   "execution_count": null,
   "metadata": {},
   "outputs": [],
   "source": [
    "a.data"
   ]
  },
  {
   "cell_type": "markdown",
   "metadata": {},
   "source": [
    "## *10.5 NumPy array creation and use*\n",
    "Let's again use some examples, in this case to highlight array creation and use:"
   ]
  },
  {
   "cell_type": "code",
   "execution_count": null,
   "metadata": {},
   "outputs": [],
   "source": [
    "# Run me (and the other cells below)!\n",
    "\n",
    "import numpy as np\n",
    "# Creates a 2-dimensional array\n",
    "a = np.array([[1, 2, 3], [3, 6, 9], [2, 4, 6]])  "
   ]
  },
  {
   "cell_type": "code",
   "execution_count": null,
   "metadata": {},
   "outputs": [],
   "source": [
    "a"
   ]
  },
  {
   "cell_type": "code",
   "execution_count": null,
   "metadata": {},
   "outputs": [],
   "source": [
    "a.ndim  # check attribute ndim"
   ]
  },
  {
   "cell_type": "code",
   "execution_count": null,
   "metadata": {},
   "outputs": [],
   "source": [
    "print(a[0, :])  # prints the first row"
   ]
  },
  {
   "cell_type": "markdown",
   "metadata": {},
   "source": [
    "The notation above is similar to what we saw for strings and lists, but for two dimensional arrays you can provide two indicies, separated by a comma, such as `a[0, 1]` or `a[0:1, 0:2]`"
   ]
  },
  {
   "cell_type": "code",
   "execution_count": null,
   "metadata": {},
   "outputs": [],
   "source": [
    "# Run me (and the other cells below)!\n",
    "\n",
    "print(a[1, 2])  # prints an element of the array"
   ]
  },
  {
   "cell_type": "code",
   "execution_count": null,
   "metadata": {},
   "outputs": [],
   "source": [
    "print(a[1, 1:3])  # and slices"
   ]
  },
  {
   "cell_type": "code",
   "execution_count": null,
   "metadata": {},
   "outputs": [],
   "source": [
    "print(a[:, 1])  # prints the second column"
   ]
  },
  {
   "cell_type": "markdown",
   "metadata": {},
   "source": [
    "Consider what you think the two arrays `b` and `c` will be..."
   ]
  },
  {
   "cell_type": "code",
   "execution_count": null,
   "metadata": {},
   "outputs": [],
   "source": [
    "# Try it!\n",
    "import numpy as np\n",
    "b = np.ones(10)\n",
    "c = np.zeros((2,3), dtype=np.complex)\n",
    "\n",
    "# Use some code here to see what arrays b and c look like\n"
   ]
  },
  {
   "cell_type": "markdown",
   "metadata": {},
   "source": [
    "## *10.6 NumPy array methods*\n",
    "There are many functions in `numpy` that can manipulate or perform calculations on arrays. Examples using the (2d) array `a` from above:"
   ]
  },
  {
   "cell_type": "code",
   "execution_count": null,
   "metadata": {},
   "outputs": [],
   "source": [
    "# Run me (and the other cells below)!\n",
    "# I continue to use previously defined arrays\n",
    "\n",
    "a"
   ]
  },
  {
   "cell_type": "code",
   "execution_count": null,
   "metadata": {},
   "outputs": [],
   "source": [
    "a.sum()"
   ]
  },
  {
   "cell_type": "code",
   "execution_count": null,
   "metadata": {},
   "outputs": [],
   "source": [
    "a.mean()"
   ]
  },
  {
   "cell_type": "code",
   "execution_count": null,
   "metadata": {},
   "outputs": [],
   "source": [
    "a.std() # standard deviation"
   ]
  },
  {
   "cell_type": "code",
   "execution_count": null,
   "metadata": {},
   "outputs": [],
   "source": [
    "a.max()"
   ]
  },
  {
   "cell_type": "code",
   "execution_count": null,
   "metadata": {},
   "outputs": [],
   "source": [
    "a.min()"
   ]
  },
  {
   "cell_type": "markdown",
   "metadata": {},
   "source": [
    "An exhaustive list of numpy methods can be found at:\n",
    "\n",
    "* http://docs.scipy.org/doc/numpy/reference/routines.html\n",
    "\n",
    "Have a look at to see what's there, but don't spend a long time reading about them all – the list is very, very long!"
   ]
  },
  {
   "cell_type": "markdown",
   "metadata": {},
   "source": [
    "## *10.7 NumPy mathematics*\n",
    "You can use the conventional operators +, -, /, * for numpy arrays. You can also use methods for mathematical operations:"
   ]
  },
  {
   "cell_type": "code",
   "execution_count": null,
   "metadata": {},
   "outputs": [],
   "source": [
    "# Run me!\n",
    "\n",
    "# Addition is element by element\n",
    "import numpy as np\n",
    "F = np.array([1,2,3])\n",
    "G = np.array([4,5,6])\n",
    "print(F + G)"
   ]
  },
  {
   "cell_type": "code",
   "execution_count": null,
   "metadata": {},
   "outputs": [],
   "source": [
    "# Run me!\n",
    "\n",
    "# We can do mathematical operations on an entire array at once\n",
    "import numpy as np\n",
    "H = 3 * F\n",
    "print(H)"
   ]
  },
  {
   "cell_type": "code",
   "execution_count": null,
   "metadata": {},
   "outputs": [],
   "source": [
    "# Run me!\n",
    "\n",
    "np.sqrt(a)"
   ]
  },
  {
   "cell_type": "code",
   "execution_count": null,
   "metadata": {},
   "outputs": [],
   "source": [
    "# Run me!\n",
    "\n",
    "x = np.array([4.5, 2.3, 6.7, 1.2, 1.8, 5.5])\n",
    "np.sort(x)"
   ]
  },
  {
   "cell_type": "markdown",
   "metadata": {},
   "source": [
    "### math vs numpy:\n",
    "You may remember we mentioned last time that functions like sin, cos, tan, exp, etc. are available in both the math module and in numpy as the numpy versions are more flexible. The math module functions will not work on a numpy array."
   ]
  },
  {
   "cell_type": "markdown",
   "metadata": {},
   "source": [
    "### Array mathematics can simplify many of the things we have been doing with lists\n",
    "\n",
    "Below is our Euler's method code from Solo Worksheet 09. We highlight some changes (`### NEW ARRAY STUFF ###`) that make the residuals calculations look much simpler. Also note that all of our graphs can use lists or arrays for their plotting variables."
   ]
  },
  {
   "cell_type": "code",
   "execution_count": null,
   "metadata": {},
   "outputs": [],
   "source": [
    "def euler(y, v, t, t_end, t_step):\n",
    "    \"\"\"Euler's method integrator\n",
    "    Args:\n",
    "    - y: initial height\n",
    "    - v: initial y-velocity\n",
    "    - t, t_end: start and end time\n",
    "    - t_step: step size\n",
    "    Returns: list of times and corresponding y values\n",
    "    \"\"\"\n",
    "    t_list = [t]\n",
    "    y_list = [y]\n",
    "    v_list = [v]\n",
    "    a = -9.81  # gravitational acceleration\n",
    "    \n",
    "    while t < t_end:\n",
    "        y = y + t_step * v\n",
    "        v = v + t_step * a\n",
    "        t = t + t_step\n",
    "\n",
    "        y_list.append(y)\n",
    "        v_list.append(v)\n",
    "        t_list.append(t)\n",
    "        \n",
    "    return t_list, y_list\n",
    "\n",
    "## Main part of the program\n",
    "import numpy as np\n",
    "import matplotlib.pyplot as plt\n",
    "\n",
    "y0, v0 = 0, 10  # Initial position and velocity\n",
    "t0, tmax, dt = 0, 2, 0.1  # Start, end times and step size\n",
    "\n",
    "# Euler solution\n",
    "times, y_euler = euler(y0, v0, t0, tmax, dt)\n",
    "\n",
    "\n",
    "### NEW ARRAY STUFF ###\n",
    "\n",
    "# Convert the returned lists to numpy arrays\n",
    "times = np.array(times)\n",
    "y_euler = np.array(y_euler)\n",
    "\n",
    "# Exact solution at the same times as Euler solution\n",
    "# - Because of array math, 'y_exact' will be the same length as 'time'\n",
    "#   and each element will be calculated with respect to what was contained in\n",
    "#   that element in 'times'\n",
    "y_exact = y0 + v0*times - 0.5*9.81*times**2\n",
    "\n",
    "# Residuals using numpy arrays\n",
    "# - We only have to subtract one array from the other to get residuals!\n",
    "residuals_euler = y_euler - y_exact\n",
    "\n",
    "\n",
    "### ALL OF THE PLOTTING STILL WORKS WITH ARRAYS ###\n",
    "\n",
    "# Create figure and subplots\n",
    "fig, ax = plt.subplots(nrows=2, ncols=1, figsize=(10, 8))\n",
    "\n",
    "# Main plot (Euler's method vs Exact solution)\n",
    "ax[0].plot(times, y_exact, 'r--', label='Exact Solution' ) \n",
    "ax[0].plot(times, y_euler, 'b', label=\"Euler's method\" )\n",
    "ax[0].set_title(\"One-dimensional motion\")\n",
    "ax[0].set_xlabel(\"t (s)\")\n",
    "ax[0].set_ylabel(\"y (m)\")\n",
    "ax[0].legend()\n",
    "ax[0].grid(True)\n",
    "\n",
    "# Residuals subplot\n",
    "ax[1].plot(times, residuals_euler, 'b', label=\"Euler's method\" )\n",
    "ax[1].set_xlabel(\"t (s)\")\n",
    "ax[1].set_ylabel(\"Residual (m)\")\n",
    "ax[1].legend()\n",
    "ax[1].grid(True)\n",
    "\n",
    "plt.tight_layout()\n",
    "plt.show()"
   ]
  },
  {
   "cell_type": "markdown",
   "metadata": {},
   "source": [
    "## *10.8 Further optional reading*\n",
    "http://freecomputerbooks.com/Computational-Physics-with-Python-by-Eric-Ayars.html\n",
    "* There is a (very) short introduction to numpy in section 3.0 of the book mentioned last day. On that website find the 'Read and Download Links' section. Click on 'Computational Physics with Python (Eric Ayars)'. Again, material in that book is presented in a very different order from our approach.\n"
   ]
  },
  {
   "cell_type": "markdown",
   "metadata": {},
   "source": [
    "## *Submitting this reading assignment*\n",
    "Before submitting your work, restart + rerun your notebook to make sure that your self-assessmet questions run correctly and without error. We will only check that the Self-assessment questions at the start of the assignment have run correctly. After you've executed and checked your notebook, choose: File >> Save_and_Export_Notebook_As >> HTML. This will download an HTML version of your notebook to your computer which you can upload to Canvas"
   ]
  },
  {
   "cell_type": "code",
   "execution_count": null,
   "metadata": {},
   "outputs": [],
   "source": []
  }
 ],
 "metadata": {
  "kernelspec": {
   "display_name": "Python 3",
   "language": "python",
   "name": "python3"
  },
  "language_info": {
   "codemirror_mode": {
    "name": "ipython",
    "version": 3
   },
   "file_extension": ".py",
   "mimetype": "text/x-python",
   "name": "python",
   "nbconvert_exporter": "python",
   "pygments_lexer": "ipython3",
   "version": "3.7.6"
  }
 },
 "nbformat": 4,
 "nbformat_minor": 4
}
