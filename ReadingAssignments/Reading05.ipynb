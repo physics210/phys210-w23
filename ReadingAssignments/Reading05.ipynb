{
 "cells": [
  {
   "cell_type": "markdown",
   "metadata": {},
   "source": [
    "# Pre-class Reading: Day 05 (Sep 20, 2023)<br>Plotting data with Matplotlib\n",
    "Learning goals\n",
    "1. Make a 2d plot and set the color, marker type and line type\n",
    "1. Manually change the range shown for one or both axes on a plot\n",
    "1. Add titles, axis titles and additional text displayed on a plot\n",
    "1. Make an error bar graph, histogram, bar plot or scatter plot and make use of their most common arguments\n",
    "1. Plot more than one data set on a single set of axes\n",
    "1. Make a multipanel plot using `plt.subplot()` or `plt.subplots()`"
   ]
  },
  {
   "cell_type": "markdown",
   "metadata": {},
   "source": [
    "## *Self-assessment questions*\n",
    "\n",
    "**If you can already answer these correctly, you can skip the rest of the reading assignment and submit it. Otherwise, complete the rest of the reading assignment and return to these questions to test what you learned. You might decide you would benefit from further review before class.**\n",
    "\n",
    "Note that these questions can often be answered easily by running the provided code, so the intellectual work on your part is figuring out the correct answer and then running the code to check your answer.\n",
    "\n",
    "Please ensure all of these self-assessment questions are answered correctly before submitting this pre-class reading assignment. The *Your Turn* questions, found throughout the rest of this assignment, are for your practice as you learn this material and do not need to be answered correctly to receive full completion marks for this pre-class reading assignment."
   ]
  },
  {
   "cell_type": "markdown",
   "metadata": {},
   "source": [
    "### Self-assessment question 5.1\n",
    "\n",
    "Which one of the following will make a plot where the lines are black squares connected by dotted lines? Assume `import matplotlib.pyplot as plt` was run first.\n",
    "\n",
    "A) `plt.plot([1,2,3], [1,4,9], \"bs:\")`<br>\n",
    "B) `plt.plot([1,2,3], [1,4,9], \"bx--\")`<br>\n",
    "C) `plt.plot([1,2,3], [1,4,9], \"bq..\")`<br>\n",
    "D) `plt.plot([1,2,3], [1,4,9], \"ks:\") `"
   ]
  },
  {
   "cell_type": "code",
   "execution_count": null,
   "metadata": {},
   "outputs": [],
   "source": [
    "# Code testing area to help answer this question\n",
    "\n"
   ]
  },
  {
   "cell_type": "code",
   "execution_count": null,
   "metadata": {},
   "outputs": [],
   "source": [
    "# Enter your answer inside the string quotes and then run this cell to check your anwer\n",
    "\n",
    "answer = \"\"\n",
    "\n",
    "import hashlib\n",
    "assert answer in ['A', 'B', 'C', 'D'], \"Your answer did not match any of the choices\"\n",
    "assert hashlib.sha256(answer.encode()).hexdigest() == \\\n",
    "    '3f39d5c348e5b79d06e842c114e6cc571583bbf44e4b0ebfda1a01ec05745d43', \"Your answer is incorrect\"\n",
    "print(\"Your answer\", answer, \"is correct\") # Passed all assert statements above"
   ]
  },
  {
   "cell_type": "markdown",
   "metadata": {},
   "source": [
    "### Self-assessment question 5.2\n",
    "\n",
    "To plot multiple sets of data on a single set of axes you can:\n",
    "\n",
    "A)\n",
    "```python\n",
    "plt.plot(x1, y1)                       \n",
    "plt.plot(x2, y2)\n",
    "plt.plot(x3, y3)\n",
    "```\n",
    "\n",
    "B)\n",
    "```python\n",
    "plt.plot(x1, y1, x2, y2, x3, y3)\n",
    "```\n",
    "\n",
    "C) \n",
    "```python\n",
    "plt.plot_multi(x1, y1, x2, y2, x3, y3)\n",
    "```\n",
    "\n",
    "D) Both A and B will work<br><br>\n",
    "E) A, B and C will all work"
   ]
  },
  {
   "cell_type": "code",
   "execution_count": null,
   "metadata": {},
   "outputs": [],
   "source": [
    "# Code testing area to help answer this question\n",
    "\n"
   ]
  },
  {
   "cell_type": "code",
   "execution_count": null,
   "metadata": {},
   "outputs": [],
   "source": [
    "# Enter your answer inside the string quotes and then run this cell to check your anwer\n",
    "\n",
    "answer = \"\"\n",
    "\n",
    "import hashlib\n",
    "assert answer in ['A', 'B', 'C', 'D'], \"Your answer did not match any of the choices\"\n",
    "assert hashlib.sha256(answer.encode()).hexdigest() == \\\n",
    "    '3f39d5c348e5b79d06e842c114e6cc571583bbf44e4b0ebfda1a01ec05745d43', \"Your answer is incorrect\"\n",
    "print(\"Your answer\", answer, \"is correct\") # Passed all assert statements above"
   ]
  },
  {
   "cell_type": "markdown",
   "metadata": {},
   "source": [
    "### Self-assessment question 5.3\n",
    "\n",
    "In a multipanel plot using `plt.subplot()`, which of the following will be the correct indices to make two side-by-side plots?\n",
    "\n",
    "A) `plt.subplot(211)` and `plt.subplot(212)`<br>\n",
    "B) `plt.subplot(211)` and `plt.subplot(221)`<br>\n",
    "C) `plt.subplot(121)` and `plt.subplot(122)`<br>"
   ]
  },
  {
   "cell_type": "code",
   "execution_count": null,
   "metadata": {},
   "outputs": [],
   "source": [
    "# Code testing area to help answer this question\n",
    "\n"
   ]
  },
  {
   "cell_type": "code",
   "execution_count": null,
   "metadata": {},
   "outputs": [],
   "source": [
    "# Enter your answer inside the string quotes and then run this cell to check your anwer\n",
    "\n",
    "answer = \"\"\n",
    "\n",
    "import hashlib\n",
    "assert answer in ['A', 'B', 'C'], \"Your answer did not match any of the choices\"\n",
    "assert hashlib.sha256(answer.encode()).hexdigest() == \\\n",
    "    '6b23c0d5f35d1b11f9b683f0b0a617355deb11277d91ae091d399c655b87940d', \"Your answer is incorrect\"\n",
    "print(\"Your answer\", answer, \"is correct\") # Passed all assert statements above"
   ]
  },
  {
   "cell_type": "markdown",
   "metadata": {},
   "source": [
    "## *5.1 What is Matplotlib?*\n",
    "\n",
    "`matplotlib` is a powerful plotting package for python, which makes very nice plots that can be customized in many ways.\n",
    "\n",
    "The link below contains a gallery of examples, which itself is only a tiny subset of what `matplotlib` can do. Have a look at the gallery so you get some idea of what can be done.  Clicking on any example in the gallery shows you the code used to make the plot. There’s no need to go through these in detail now, but know they’re there.\n",
    "\n",
    "* http://matplotlib.org/stable/gallery\n",
    "\n",
    "Today’s goal is to familiarize yourself with the basic plotting tools that will be needed. Most of the plots we will make are neither fancy nor overly complicated. Thus, it is relatively straightforward to cover the basics and your knowledge of `matplotlib` can grow over time from there as you use it more and more.\n",
    "\n",
    "`matplotlib` comes with an extensive collection of modules listed at:\n",
    "\n",
    "* http://matplotlib.org/py-modindex.html\n",
    "\n",
    "With some exceptions, we will not usually access these modules directly, we will\n",
    "generally use an interface to matplot called pyplot (which was originally implemented so that plotting with `matplotlib` would be similar to plotting in the commercial program Matlab). The module `matplotlib.pyplot` comes with several functions which can alter the plot in many ways. You can access the whole list of these functions at:\n",
    "\n",
    "* http://matplotlib.org/stable/api/index.html#the-pyplot_api"
   ]
  },
  {
   "cell_type": "markdown",
   "metadata": {},
   "source": [
    "## *5.2 Simple Plots*\n",
    "\n",
    "Notice that, similar to the way we have often used `import numpy as np`, we typically use\n",
    "`import matplitlib.pyplot as plt`. \n",
    "\n",
    "**A simple 2d plot:** Let’s get started with a simple plot. "
   ]
  },
  {
   "cell_type": "code",
   "execution_count": null,
   "metadata": {},
   "outputs": [],
   "source": [
    "# Run me!\n",
    "\n",
    "import matplotlib.pyplot as plt\n",
    "\n",
    "xlist = [1, 2, 3] # make xlist\n",
    "ylist = [3, 4, 6] # make ylist\n",
    "plt.plot(xlist, ylist) # plot y vs x\n",
    "plt.show()"
   ]
  },
  {
   "cell_type": "markdown",
   "metadata": {},
   "source": [
    "**Adding markers for the data points, changing colour, adding labels/titles and modifying axis ranges manually:**: A third, optional argument in `plot()` is related to point/line/color style. The options are:\n",
    "\n",
    "* `rgbcymkw` : red, green, blue, cyan, yellow, magenta, black, white\n",
    "* \"`-`\" line \"`--`\" dashed line \"`-.`\" dash-dot line \":\" dotted line\n",
    "* \"`o`\" circle \"`+`\" plus \"`x`\" x-symbol \"`s`\" square \"`*`\" star\n",
    "* \"`^`\" up-triangle \"`v`\" down-triangle \"`D`\" diamond\n",
    "* Default \"`b-`\" is a solid blue line with *no points*\n",
    "* \"`ro--`\" is red circles connected by red dashed lines\n",
    "\n",
    "For example, the following script uses red circles for the data points and joins them with a solid red line (`\"ro-\"`). The example also shows you how you can alter the x and y ranges and add titles/labels:"
   ]
  },
  {
   "cell_type": "code",
   "execution_count": null,
   "metadata": {},
   "outputs": [],
   "source": [
    "# Run me!\n",
    "\n",
    "xlist = [1, 2, 3] # make xlist\n",
    "ylist = [3, 4, 6] # make ylist\n",
    "plt.plot(xlist, ylist, \"ro-\")\n",
    "plt.title(\"This is the Title\")\n",
    "plt.xlabel(\"x axis label\")\n",
    "plt.ylabel(\"y axis label\")\n",
    "plt.xlim(0.0, 4.0)\n",
    "plt.ylim(2.5, 6.5)\n",
    "plt.show()"
   ]
  },
  {
   "attachments": {
    "Reading05-2.png": {
     "image/png": "[encoded data removed]"
    }
   },
   "cell_type": "markdown",
   "metadata": {},
   "source": [
    "### Your turn 5.1\n",
    "\n",
    "Modify the code from the graph above (and reproduced below) to use black squares connected by dotted lines. You should also allow the x-axis range to be set automatically, while expanding the y-axis range to cover y=1 to y=8. These changes are all shown in the image below.<br><br>\n",
    "![Reading05-2.png](attachment:Reading05-2.png)"
   ]
  },
  {
   "cell_type": "code",
   "execution_count": null,
   "metadata": {},
   "outputs": [],
   "source": [
    "# Your answer (modify me!)\n",
    "\n",
    "xlist = [1, 2, 3] # make xlist\n",
    "ylist = [3, 4, 6] # make ylist\n",
    "plt.plot(xlist, ylist, \"ro-\")\n",
    "plt.title(\"This is the Title\")\n",
    "plt.xlabel(\"x axis label\")\n",
    "plt.ylabel(\"y axis label\")\n",
    "plt.xlim(0.0, 4.0)\n",
    "plt.ylim(2.5, 6.5)\n",
    "plt.show()"
   ]
  },
  {
   "cell_type": "markdown",
   "metadata": {},
   "source": [
    "**Plotting multiple data sets on the same set of axes and adding a legend:** An example of plotting multiple data sets, with different lines styles and adding a legend. Notice that we add an additional argument to our `plt.plot` function (e.g., `label =`)."
   ]
  },
  {
   "cell_type": "code",
   "execution_count": null,
   "metadata": {},
   "outputs": [],
   "source": [
    "# Run me!\n",
    "\n",
    "xlist = [1,2,3]\n",
    "ylist = [3,4,6]\n",
    "plt.plot(xlist, ylist, \"o--r\", label = \"Line 1\")\n",
    "plt.plot(ylist, xlist, \"*:g\" , label = \"Line 2\")\n",
    "plt.legend()\n",
    "plt.show()"
   ]
  },
  {
   "cell_type": "markdown",
   "metadata": {},
   "source": [
    "## *5.3 Adding error bars*\n",
    "Instead of just being an extra argument in `plt.plot()`, a plot with error bars requires a different function `plt.errorbar()`."
   ]
  },
  {
   "cell_type": "code",
   "execution_count": null,
   "metadata": {},
   "outputs": [],
   "source": [
    "# Run me!\n",
    "\n",
    "xlist = [1, 2, 3]\n",
    "ylist = [3, 4, 6]\n",
    "yerrs = [0.5, 1, 2]\n",
    "plt.errorbar(xlist, ylist, yerrs)\n",
    "plt.show()"
   ]
  },
  {
   "cell_type": "markdown",
   "metadata": {},
   "source": [
    "**Important (and annoying)!** In contrast to how line styles are specified in `plt.plot()`, in `plt.errorbar()` we need to use the `fmt` (format) keyword when specifying line styles. Both graph types use the same options. \n",
    "\n",
    "In out example below,  we just make them red points: `fmt=\"ro\"`:"
   ]
  },
  {
   "cell_type": "code",
   "execution_count": null,
   "metadata": {},
   "outputs": [],
   "source": [
    "# Run me!\n",
    "\n",
    "xlist = [ 1, 2, 3]\n",
    "ylist = [ 3, 4, 6]\n",
    "yerrs = [0.5, 1, 2]\n",
    "plt.errorbar(xlist, ylist, yerrs, fmt=\"ro\")\n",
    "plt.show()"
   ]
  },
  {
   "cell_type": "markdown",
   "metadata": {},
   "source": [
    "## *5.4 Lots and lots of arguments*\n",
    "\n",
    "Note that many of the functions in `matplotlib`can be called with a large number of arguments. Fortunately, there are sensible default values for most of those arguments, and in practice it is ok to call most functions with only a few arguments. Learning what the function really does and how to adjust the input arguments comes with the experience of trying to solve specific problems.\n",
    "\n",
    "The example below illustrates plotting several lines with different format styles in one command. See if you can figure out how each of the three data sets was generated and plotted."
   ]
  },
  {
   "cell_type": "code",
   "execution_count": null,
   "metadata": {},
   "outputs": [],
   "source": [
    "# Run me!\n",
    "\n",
    "import matplotlib.pyplot as plt\n",
    "\n",
    "t = [0.0, 0.5, 1.0, 1.5, 2.0, 2.5, 3.0, 3.5, 4.0, 4.5]\n",
    "t_squared = [0.0, 0.25, 1.0, 2.25, 4.0, 6.25, 9.0, 12.25, 16.0, 20.25]\n",
    "t_cubed = [0.0, 0.125, 1.0, 3.375, 8.0, 15.625, 27.0, 42.875, 64.0, 91.125]\n",
    "\n",
    "plt.plot(t, t, 'r--', t, t_squared, 'bs', t, t_cubed, 'g^')\n",
    "plt.savefig(\"my_saved_fig.png\") # See below for discussion of saving a figure\n",
    "plt.show()"
   ]
  },
  {
   "cell_type": "markdown",
   "metadata": {},
   "source": [
    "## *5.5 Saving a figure*\n",
    "\n",
    "When you want to save a figure to file, such as when you want to use it in another document or to print it, you use the \n",
    " `plt.savefig(filename)` method. This saves it to a file name specified by `filename`. Note that `plt.savefig()` comes with several arguments which can alter the layout of the saved figure. Supported formats are png, pdf, ps, eps and svg. You should notice that the previous plot saved `my_saved_fig.png` to the same folder in which this notebook is located."
   ]
  },
  {
   "cell_type": "markdown",
   "metadata": {},
   "source": [
    "## *5.6 Multiple Plots method 1: `plt.subplot()`*\n",
    "\n",
    "The `plt.subplot()` method specifies `numrows, numcols, fignum`, where `fignum` ranges from 1 to `numrows*numcols`. Try the following:"
   ]
  },
  {
   "cell_type": "code",
   "execution_count": null,
   "metadata": {},
   "outputs": [],
   "source": [
    "# Run me!\n",
    "\n",
    "import matplotlib.pyplot as plt\n",
    "\n",
    "t = [0.0, 0.1, 0.2, 0.3, 0.4, 0.5, 0.6, 0.7, 0.8, 0.9, 1.0, 1.1, 1.2, 1.3, 1.4, 1.5, 1.6, 1.7, 1.8, 1.9]\n",
    "y1 = [1.0, 0.732, 0.253, -0.229, -0.542, -0.607, -0.444, -0.153, 0.139, 0.329, 0.368, 0.269, 0.093, \n",
    "      -0.084, -0.2, -0.223, -0.163, -0.056, 0.051, 0.121]\n",
    "y2 = [1.0, 0.809, 0.309, -0.309, -0.809, -1.0, -0.809, -0.309, 0.309, 0.809, 1.0, 0.809, 0.309, \n",
    "      -0.309, -0.809, -1.0, -0.809, -0.309, 0.309, 0.809]\n",
    "\n",
    "plt.subplot(211) # Can also specify as plt.subplot(2, 1, 1)\n",
    "plt.plot(t, y1, 'bo', t, y1, 'k')\n",
    "\n",
    "plt.subplot(212) # Can also specify as plt.subplot(2, 1, 2)\n",
    "plt.plot(t, y2,'r--')\n",
    "\n",
    "plt.tight_layout()  # Adjusts spacing between subplots for better layout\n",
    "plt.show()"
   ]
  },
  {
   "attachments": {
    "Reading05-1.png": {
     "image/png": "[encoded data removed]"
    }
   },
   "cell_type": "markdown",
   "metadata": {},
   "source": [
    "### Your turn 5.2\n",
    "\n",
    "Modify the code below such that the plots are side by side, as shown in the figure below, instead of stacked on top of each other.\n",
    "\n",
    "![Reading05-1.png](attachment:Reading05-1.png)\n"
   ]
  },
  {
   "cell_type": "code",
   "execution_count": null,
   "metadata": {},
   "outputs": [],
   "source": [
    "# Modify the code below to make the plots side by side instead of stacked\n",
    "\n",
    "import matplotlib.pyplot as plt\n",
    "\n",
    "t = [0.0, 0.1, 0.2, 0.3, 0.4, 0.5, 0.6, 0.7, 0.8, 0.9, 1.0, 1.1, 1.2, 1.3, 1.4, 1.5, 1.6, 1.7, 1.8, 1.9]\n",
    "y1 = [1.0, 0.732, 0.253, -0.229, -0.542, -0.607, -0.444, -0.153, 0.139, 0.329, 0.368, 0.269, 0.093, \n",
    "      -0.084, -0.2, -0.223, -0.163, -0.056, 0.051, 0.121]\n",
    "y2 = [1.0, 0.809, 0.309, -0.309, -0.809, -1.0, -0.809, -0.309, 0.309, 0.809, 1.0, 0.809, 0.309, \n",
    "      -0.309, -0.809, -1.0, -0.809, -0.309, 0.309, 0.809]\n",
    "\n",
    "plt.subplot(211)\n",
    "plt.plot(t, y1, 'bo', t, y1, 'k')\n",
    "\n",
    "plt.subplot(212)\n",
    "plt.plot(t, y2,'r--')\n",
    "\n",
    "plt.tight_layout()  # Adjusts spacing between subplots for better layout\n",
    "plt.show()"
   ]
  },
  {
   "cell_type": "code",
   "execution_count": null,
   "metadata": {},
   "outputs": [],
   "source": [
    "# Modify the code below to make the plots side by side instead of stacked\n",
    "\n",
    "import matplotlib.pyplot as plt\n",
    "\n",
    "t = [0.0, 0.1, 0.2, 0.3, 0.4, 0.5, 0.6, 0.7, 0.8, 0.9, 1.0, 1.1, 1.2, 1.3, 1.4, 1.5, 1.6, 1.7, 1.8, 1.9]\n",
    "y1 = [1.0, 0.732, 0.253, -0.229, -0.542, -0.607, -0.444, -0.153, 0.139, 0.329, 0.368, 0.269, 0.093, \n",
    "      -0.084, -0.2, -0.223, -0.163, -0.056, 0.051, 0.121]\n",
    "y2 = [1.0, 0.809, 0.309, -0.309, -0.809, -1.0, -0.809, -0.309, 0.309, 0.809, 1.0, 0.809, 0.309, \n",
    "      -0.309, -0.809, -1.0, -0.809, -0.309, 0.309, 0.809]\n",
    "\n",
    "plt.subplot(211)\n",
    "plt.plot(t, y1, 'bo', t, y1, 'k')\n",
    "\n",
    "plt.subplot(212)\n",
    "plt.plot(t, y2,'r--')\n",
    "\n",
    "plt.tight_layout()  # Adjusts spacing between subplots for better layout\n",
    "plt.show()"
   ]
  },
  {
   "cell_type": "markdown",
   "metadata": {},
   "source": [
    "## *5.6 Multiple Plots method 2: plt.subplots()*\n",
    "\n",
    "Notice that we have added an 's', such that it is `subplots()` for method 2, not `subplot()`. The example below shows the line `fig, ax = plt.subplots(2,1)`, where `fig` refers to the figure type object that is made, and then `ax` is an array of axes objects. Specifically in this case, there are two of these axes objects, where the first one is `ax[0]` and the second is `ax[1]`. This `subplots()` function is considered a more modern approach than `subplot()`."
   ]
  },
  {
   "cell_type": "code",
   "execution_count": null,
   "metadata": {},
   "outputs": [],
   "source": [
    "# Modify the code below to make the plots side by side instead of stacked\n",
    "\n",
    "import matplotlib.pyplot as plt\n",
    "\n",
    "t = [0.0, 0.1, 0.2, 0.3, 0.4, 0.5, 0.6, 0.7, 0.8, 0.9, 1.0, 1.1, 1.2, 1.3, 1.4, 1.5, 1.6, 1.7, 1.8, 1.9]\n",
    "y1 = [1.0, 0.732, 0.253, -0.229, -0.542, -0.607, -0.444, -0.153, 0.139, 0.329, 0.368, 0.269, 0.093, \n",
    "      -0.084, -0.2, -0.223, -0.163, -0.056, 0.051, 0.121]\n",
    "y2 = [1.0, 0.809, 0.309, -0.309, -0.809, -1.0, -0.809, -0.309, 0.309, 0.809, 1.0, 0.809, 0.309, \n",
    "      -0.309, -0.809, -1.0, -0.809, -0.309, 0.309, 0.809]\n",
    "\n",
    "fig, ax = plt.subplots(2,1)\n",
    "\n",
    "ax[0].plot(t, y1, 'bo', t, y1, 'k')\n",
    "ax[1].plot(t, y2,'r--')\n",
    "\n",
    "plt.tight_layout()\n",
    "plt.show()"
   ]
  },
  {
   "cell_type": "markdown",
   "metadata": {},
   "source": [
    "## *5.7 Histograms*\n",
    "The function`plt.hist()` creates a histogram of values in an `array` or `arrays`. \n",
    "\n",
    "The following script will first create a normal distribution of random values and then makes a histogram. You may wish to lookup (Google, ChatGPT,...) exactly what `np.random.randn(10000)` does."
   ]
  },
  {
   "cell_type": "code",
   "execution_count": null,
   "metadata": {},
   "outputs": [],
   "source": [
    "# Run me several times to see the generated histogram change!\n",
    "\n",
    "import numpy as np\n",
    "import matplotlib.pyplot as plt\n",
    "\n",
    "mu = 100\n",
    "sigma = 15\n",
    "x = mu + sigma * np.random.randn(10000) # 10,000 randomly generated values\n",
    "\n",
    "# Plot a histogram of the values below\n",
    "plt.hist(x,50,facecolor='g',alpha=0.75, density=True)\n",
    "\n",
    "plt.xlabel('IQ')\n",
    "plt.ylabel('Probability')\n",
    "\n",
    "# See below for a discussion of of plt.text()\n",
    "plt.text(45, .027, f\"$\\mu={mu}, \\sigma={sigma}$\", fontsize=16)\n",
    "plt.axis([40, 160, 0, 0.03]) # Set axis bounds manually\n",
    "plt.grid(True)\n",
    "plt.show()"
   ]
  },
  {
   "cell_type": "markdown",
   "metadata": {},
   "source": [
    "Notice that the `plt.text()` method accepts LaTeX syntax text and can also use the string formatting tricks that we've been learning. If you are new to LaTeX, there is a library of common symbols here: http://artofproblemsolving.com/wiki/index.php?title=LaTeX:Symbols "
   ]
  },
  {
   "cell_type": "markdown",
   "metadata": {},
   "source": [
    "## *5.8 Scatter Plots*\n",
    "\n",
    "The example below is a 2-dimensional scatter plot with a bar next to it to indicate the colour scheme. `plt.plot()` can also create scatter plots, but is primarily used for creating line plots. In contrast, `plt.scatter()` is used when you want to have control over the characteristics of the individual data points, such as size or colo(u)r."
   ]
  },
  {
   "cell_type": "code",
   "execution_count": null,
   "metadata": {},
   "outputs": [],
   "source": [
    "import matplotlib.pyplot as plt\n",
    "x = [1, 2, 3, 4, 5]\n",
    "y = [1, 4, 9, 16, 25]\n",
    "colors = [10, 20, 30, 40, 50]\n",
    "sizes = [100, 200, 300, 400, 500]\n",
    "plt.scatter(x, y, c=colors, s=sizes)  # Custom colors and sizes\n",
    "plt.colorbar()  # show color scale\n",
    "plt.show()"
   ]
  },
  {
   "cell_type": "markdown",
   "metadata": {},
   "source": [
    "## *5.9 Bar Plots*"
   ]
  },
  {
   "cell_type": "code",
   "execution_count": null,
   "metadata": {},
   "outputs": [],
   "source": [
    "import matplotlib.pyplot as plt\n",
    "\n",
    "categories = ['Category A', 'Category B', 'Category C', 'Category D']\n",
    "values = [25, 30, 15, 20]\n",
    "\n",
    "plt.bar(categories, values)\n",
    "plt.xlabel('Categories')\n",
    "plt.ylabel('Values')\n",
    "plt.title('Bar Plot')\n",
    "plt.show()"
   ]
  },
  {
   "cell_type": "markdown",
   "metadata": {},
   "source": [
    "## *5.10 3D Plots*\n",
    "\n",
    "This is a bit more advanced and we won’t use it right away, but it shows that you can also create a 3D scatter plot. "
   ]
  },
  {
   "cell_type": "code",
   "execution_count": null,
   "metadata": {},
   "outputs": [],
   "source": [
    "# Run me!\n",
    "import numpy as np\n",
    "import matplotlib.pyplot as plt\n",
    "from mpl_toolkits.mplot3d import axes3d\n",
    "\n",
    "x = np.random.random(50)\n",
    "y = np.random.random(50)\n",
    "z = np.random.random(50)\n",
    "c = np.random.random(50)\n",
    "\n",
    "fig = plt.figure()\n",
    "ax = fig.add_subplot(projection='3d')\n",
    "\n",
    "# A regular call to scatter since 3d projection was already specified \n",
    "ax.scatter(x, y, z, c=c)\n",
    "\n",
    "ax.set_xlabel('X')\n",
    "ax.set_ylabel('Y')\n",
    "ax.set_zlabel('Z')\n",
    "plt.show()"
   ]
  },
  {
   "cell_type": "markdown",
   "metadata": {},
   "source": [
    "## *Submitting this reading assignment*\n",
    "Before submitting your work, restart + rerun your notebook to make sure that everything runs correctly and without error. We will only check that the Self-assessment questions at the start of the assignment have run correctly. After you've executed and checked your notebook, choose: File >> Save_and_Export_Notebook_As >> HTML. This will download an HTML version of your notebook to your computer which you can upload to Canvas"
   ]
  },
  {
   "cell_type": "code",
   "execution_count": null,
   "metadata": {},
   "outputs": [],
   "source": []
  }
 ],
 "metadata": {
  "kernelspec": {
   "display_name": "Python 3",
   "language": "python",
   "name": "python3"
  },
  "language_info": {
   "codemirror_mode": {
    "name": "ipython",
    "version": 3
   },
   "file_extension": ".py",
   "mimetype": "text/x-python",
   "name": "python",
   "nbconvert_exporter": "python",
   "pygments_lexer": "ipython3",
   "version": "3.7.6"
  }
 },
 "nbformat": 4,
 "nbformat_minor": 4
}
