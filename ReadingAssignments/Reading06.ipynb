{
 "cells": [
  {
   "cell_type": "markdown",
   "metadata": {},
   "source": [
    "# Pre-class Reading: Day 06 (Sep 20, 2023)<br>Advanced techniques with Day 01 - 05 content\n",
    "Learning goals\n",
    "1. Use the `if in` conditional to check the membership of a list or other iterable object\n",
    "1. Create a list using list comprehension. \n",
    "1. Extend list comprehension skills by using conditionals within the one-line `for` loops\n",
    "1. Develop command line skills further"
   ]
  },
  {
   "cell_type": "markdown",
   "metadata": {},
   "source": [
    "## *Self-assessment questions*\n",
    "\n",
    "**If you can already answer these correctly, you can skip the rest of the reading assignment and submit it. Otherwise, complete the rest of the reading assignment and return to these questions to test what you learned. You might decide you would benefit from further review before class.**\n",
    "\n",
    "Note that these questions can often be answered easily by running the provided code, so the intellectual work on your part is figuring out the correct answer and then running the code to check your answer.\n",
    "\n",
    "Please ensure all of these self-assessment questions are answered correctly before submitting this pre-class reading assignment. The *Your Turn* questions, found throughout the rest of this assignment, are for your practice as you learn this material and do not need to be answered correctly to receive full completion marks for this pre-class reading assignment."
   ]
  },
  {
   "cell_type": "markdown",
   "metadata": {},
   "source": [
    "### Self-assessment question 6.1\n",
    "\n",
    "How many times will `I found a cat!` be printed?\n",
    "```python\n",
    "animals = [\"dog\", \"cat\", \"African swallow\", \"European swallow\"]\n",
    "for i in range(4):\n",
    "    animals = animals[i:]\n",
    "    if \"cat\" in animals:\n",
    "        print (\"I found a cat!\")\n",
    "```\n",
    "A) 0<br>\n",
    "B) 1<br>\n",
    "C) 2<br>\n",
    "D) 3<br>\n",
    "E) 4"
   ]
  },
  {
   "cell_type": "code",
   "execution_count": null,
   "metadata": {},
   "outputs": [],
   "source": [
    "# Code testing area to help answer this question\n",
    "\n"
   ]
  },
  {
   "cell_type": "code",
   "execution_count": null,
   "metadata": {},
   "outputs": [],
   "source": [
    "# Enter your answer inside the string quotes and then run this cell to check your anwer\n",
    "\n",
    "answer = \"\"\n",
    "\n",
    "import hashlib\n",
    "assert answer in ['A', 'B', 'C', 'D', 'E'], \"Your answer did not match any of the choices\"\n",
    "assert hashlib.sha256(answer.encode()).hexdigest() == \\\n",
    "    '6b23c0d5f35d1b11f9b683f0b0a617355deb11277d91ae091d399c655b87940d', \"Your answer is incorrect\"\n",
    "print(\"Your answer\", answer, \"is correct\") # Passed all assert statements above"
   ]
  },
  {
   "cell_type": "markdown",
   "metadata": {},
   "source": [
    "### Self-assessment question 6.2\n",
    "\n",
    "What will the following print?\n",
    "```\n",
    "print( [x**2 for x in range(9) if x % 3 == 0] )\n",
    "```\n",
    "\n",
    "A) [0, 1, 4, 9, 16, 25, 36, 49, 64] <br>\n",
    "B) [1, 4, 9, 16, 25, 36, 49, 64, 81] <br>\n",
    "C) [0, 9, 36, 81]<br>\n",
    "D) [0, 9, 36]<br>\n",
    "E) [9, 36, 81]"
   ]
  },
  {
   "cell_type": "code",
   "execution_count": null,
   "metadata": {},
   "outputs": [],
   "source": [
    "# Code testing area to help answer this question\n",
    "\n"
   ]
  },
  {
   "cell_type": "code",
   "execution_count": null,
   "metadata": {},
   "outputs": [],
   "source": [
    "# Enter your answer inside the string quotes and then run this cell to check your anwer\n",
    "\n",
    "answer = \"\"\n",
    "\n",
    "import hashlib\n",
    "assert answer in ['A', 'B', 'C', 'D', 'E'], \"Your answer did not match any of the choices\"\n",
    "assert hashlib.sha256(answer.encode()).hexdigest() == \\\n",
    "    '3f39d5c348e5b79d06e842c114e6cc571583bbf44e4b0ebfda1a01ec05745d43', \"Your answer is incorrect\"\n",
    "print(\"Your answer\", answer, \"is correct\") # Passed all assert statements above"
   ]
  },
  {
   "cell_type": "markdown",
   "metadata": {},
   "source": [
    "### Self-assessment question 6.3\n",
    "\n",
    "How would you use `grep` to search for the word \"hello\" in a file named \"sample.txt\"?\n",
    "\n",
    "A) `grep search \"hello\" sample.txt`<br>\n",
    "B) `grep \"hello\" from sample.txt`<br>\n",
    "C) `grep \"hello\" in sample.txt`<br>\n",
    "D) `grep \"hello\" sample.txt`"
   ]
  },
  {
   "cell_type": "code",
   "execution_count": null,
   "metadata": {},
   "outputs": [],
   "source": [
    "# Code testing area to help answer this question\n",
    "\n"
   ]
  },
  {
   "cell_type": "code",
   "execution_count": null,
   "metadata": {},
   "outputs": [],
   "source": [
    "# Enter your answer inside the string quotes and then run this cell to check your anwer\n",
    "\n",
    "answer = \"\"\n",
    "\n",
    "import hashlib\n",
    "assert answer in ['A', 'B', 'C', 'D'], \"Your answer did not match any of the choices\"\n",
    "assert hashlib.sha256(answer.encode()).hexdigest() == \\\n",
    "    '3f39d5c348e5b79d06e842c114e6cc571583bbf44e4b0ebfda1a01ec05745d43', \"Your answer is incorrect\"\n",
    "print(\"Your answer\", answer, \"is correct\") # Passed all assert statements above"
   ]
  },
  {
   "cell_type": "markdown",
   "metadata": {},
   "source": [
    "## *6.1 More conditionals: `if in`*\n",
    "\n",
    "We have already encountered the python keyword `in` when working with for loops, where our iterator `x` iterates through each element `in` our `list`. For example, ..."
   ]
  },
  {
   "cell_type": "code",
   "execution_count": null,
   "metadata": {},
   "outputs": [],
   "source": [
    "# Run me!\n",
    "animals = [\"dog\", \"cat\", \"African swallow\", \"European swallow\"]\n",
    "for x in animals:\n",
    "    print(x)"
   ]
  },
  {
   "cell_type": "markdown",
   "metadata": {},
   "source": [
    "However, `in` is a keyword that can also be used to check membership of an iterable object like a `list` or `string`.\n",
    "\n",
    "A couple of examples are provided. Notice that with the string, you can search for a sub-string. "
   ]
  },
  {
   "cell_type": "code",
   "execution_count": null,
   "metadata": {},
   "outputs": [],
   "source": [
    "# Run me !\n",
    "\n",
    "animals = [\"dog\", \"cat\", \"African swallow\", \"European swallow\"]\n",
    "\n",
    "if \"dog\" in animals:\n",
    "    print (\"I found a dog!\")"
   ]
  },
  {
   "cell_type": "code",
   "execution_count": null,
   "metadata": {},
   "outputs": [],
   "source": [
    "# Run me !\n",
    "\n",
    "my_word = \"assume\"\n",
    "\n",
    "if \"me\" in my_word:\n",
    "    print (\"You and me\")"
   ]
  },
  {
   "cell_type": "code",
   "execution_count": null,
   "metadata": {},
   "outputs": [],
   "source": [
    "# Run me!\n",
    "animals = [\"dog\", \"cat\", \"African swallow\", \"European swallow\"]\n",
    "for i in range(4):\n",
    "    animals = animals[i:]\n",
    "    if \"cat\" in animals:\n",
    "        print (\"I found a cat!\")"
   ]
  },
  {
   "cell_type": "markdown",
   "metadata": {},
   "source": [
    "## *6.2 More list comprehension*\n",
    "\n",
    "In the Day 05 group worksheet, we encountered list comprehension, which is a way to use a one-line for loop to create a list."
   ]
  },
  {
   "cell_type": "code",
   "execution_count": null,
   "metadata": {},
   "outputs": [],
   "source": [
    "# Run me to be reminded how these work\n",
    "\n",
    "x = [i/2 for i in range(11)] \n",
    "y = [xi**(1/2) for xi in x] # Iterates over the first list\n",
    "print(x)\n",
    "print(y)"
   ]
  },
  {
   "cell_type": "code",
   "execution_count": null,
   "metadata": {},
   "outputs": [],
   "source": [
    "numbers = [1, 2, 3, 4, 5]\n",
    "even_numbers = [x for x in numbers if x % 2 == 0]\n",
    "print(even_numbers)"
   ]
  },
  {
   "cell_type": "markdown",
   "metadata": {},
   "source": [
    "Ask ChatGPT to tell you about \"python list comprehension\" and you will probably see that these expressions can get quite complicated since you can include conditionals within these expressions. Here are some additional examples from ChatGPT:"
   ]
  },
  {
   "cell_type": "markdown",
   "metadata": {},
   "source": [
    "**List comprehension with a condition:** Create a list of even numbers from 0 to 9:"
   ]
  },
  {
   "cell_type": "code",
   "execution_count": null,
   "metadata": {},
   "outputs": [],
   "source": [
    "# Run me!\n",
    "\n",
    "evens = [x for x in range(10) if x % 2 == 0]\n",
    "print(evens)"
   ]
  },
  {
   "cell_type": "markdown",
   "metadata": {},
   "source": [
    "**Nested list comprehension:** Flatten a matrix (list of lists):"
   ]
  },
  {
   "cell_type": "code",
   "execution_count": null,
   "metadata": {},
   "outputs": [],
   "source": [
    "# Run me!\n",
    "\n",
    "matrix = [[1, 2, 3], [4, 5, 6], [7, 8, 9]]\n",
    "flattened = [num for row in matrix for num in row]\n",
    "print(flattened)"
   ]
  },
  {
   "cell_type": "markdown",
   "metadata": {},
   "source": [
    "**Conditional expression inside list comprehension:** Create a list where odd numbers are turned into their negatives and even numbers are unchanged from 0 to 9:"
   ]
  },
  {
   "cell_type": "code",
   "execution_count": null,
   "metadata": {},
   "outputs": [],
   "source": [
    "numbers = [-x if x % 2 else x for x in range(10)]\n",
    "print(numbers)"
   ]
  },
  {
   "cell_type": "markdown",
   "metadata": {},
   "source": [
    "## *6.3 Return of the command line*"
   ]
  },
  {
   "cell_type": "markdown",
   "metadata": {},
   "source": [
    "In Solo Worksheet 02, we introduced the Linux command line and are going to revisit it here. Let's start with a summary of some useful basic commands beyond those that you learned in Solo Worksheet 02:"
   ]
  },
  {
   "cell_type": "markdown",
   "metadata": {},
   "source": [
    "`less filename` displays the content of a text file one screen at a time (more does something similar). Use `h` inside less to get a list of keyboard shortcuts. Most important are `space` to advance a screenful, and `q` to quit.\n",
    "\n",
    "`head -n filename` displays the first n lines of a text file (default n=10)\n",
    "\n",
    "`tail -n filename` displays the last n lines of a text file (default y)\n",
    "\n",
    "`wc filename` displays the number of lines, words and character in filename\n",
    "\n",
    "`mkdir dirName` creates the directory `dirName`\n",
    "\n",
    "`rmdir dirName` deletes a directory `dirName`. If `dirName` is not empty rmdir returns an error message\n",
    "\n",
    "`rm filename1 filename …` deletes files `filename1`, `filename2`, `…`\n",
    "\n",
    "`rm -r dirName` deletes the entire directory `dirName` even if directory is not empty, even its sub-directories, if any (use with caution!).\n",
    "\n",
    "`cp inName outName` creates a copy of file `inName` and names it `outName` (unless outName is a directory, in which case it will create a new file inside the `outName` directory).\n",
    "\n",
    "`cp -r inDirName outDirName` does the same as `cp` but when `inName` is a directory\n",
    "\n",
    "`mv inName outName` moves `inName` to `outName` (same as `cp -r` followed by the deletion of `inName`)"
   ]
  },
  {
   "cell_type": "markdown",
   "metadata": {},
   "source": [
    "### 6.3.1 Text File manipulation with nano text editor\n",
    "\n",
    "Open a terminal in Jupyter, CoCalc or anywhere else you might have access to a Linux terminal. \n",
    "\n",
    "Let's add a file to our home directory. We’ll use a text editor called `nano` to create a new text file `newfile.txt`.\n",
    "```\n",
    "jovyan@jupyter-[yourCWL]:~$ nano newfile.txt\n",
    "```\n",
    "Write a few sentences within nano and make sure you use the word 'the' on at least 3 different lines. Then use CTRL-O (indicated as ^O in the menu) to save the file and then enter to confirm. Finally use CTRL-X (^X) to exit.\n",
    "\n",
    "Next, make a copy of your file with the name: `file2.txt`\n",
    "\n",
    "Verify that `file2.txt` contains what it should using the less command.\n",
    "\n",
    "Using one of the commands from the list above, count how many lines, words and characters there are in `file2.txt`"
   ]
  },
  {
   "cell_type": "markdown",
   "metadata": {},
   "source": [
    "### 6.3.2 Pattern searching within text files\n",
    "\n",
    "`nano` does have a `find` function (called \"Where Is\"). However, you probably shouldn't use it when running a terminal inside your broser (like in Open Jupyter or Cocalc) since the required keyboard shortcut `^W` might be interpreted by your broswer as being a command to close your browser tab instead of as a command with nano. \n",
    "\n",
    "Instead we will use a very powerful commmand-line command for searching within files: `grep`.\n",
    "\n",
    "The basic syntax of grep is:\n",
    "```\n",
    "grep pattern filename\n",
    "```\n",
    "So, to search for occurences of the word 'the' in your text file, you would type:\n",
    "```\n",
    "jovyan@jupyter-[yourCWL]:~$ grep the file2.txt\n",
    "```\n",
    "or\n",
    "```\n",
    "jovyan@jupyter-[yourCWL]:~$ grep \"the\" file2.txt\n",
    "```\n",
    "**Try it out!**\n",
    "\n",
    "Grep will show you the entire line on which the pattern occurs."
   ]
  },
  {
   "cell_type": "markdown",
   "metadata": {},
   "source": [
    "### 6.3.3 Redirecting output\n",
    "\n",
    "Command lines generate output information on the screen. However, you can redirect this information to a file filename by adding `> filename` at the end of the command line.\n",
    "\n",
    "You can pass on the output of a command as input for another command in the same line. This is done by putting `|` between the two commands, this is called a 'pipe'.\n",
    "\n",
    "For instance the command:\n",
    "```\n",
    "$ ls -l dirname | less \n",
    "```\n",
    "will show the detailed file list in directory `dirname` one screen at a time with the less command.\n",
    "\n"
   ]
  },
  {
   "cell_type": "markdown",
   "metadata": {},
   "source": [
    "### Your turn\n",
    "\n",
    "Use the pipe construction described above to list the contents of the directory `/bin` so that only a page at a time displays on the screen.\n",
    "\n",
    "\n"
   ]
  },
  {
   "cell_type": "markdown",
   "metadata": {},
   "source": [
    "### 6.3.4 More on redirecting output\n",
    "\n",
    "`grep` can also act inside a pipe to filter the text output from other commands, as in:\n",
    "```\n",
    "$ ls dirName | grep filter | less\n",
    "```\n",
    "This will show only filenames the have 'filter; in them. As shown in this example you can have multiple commands piped together."
   ]
  },
  {
   "cell_type": "markdown",
   "metadata": {},
   "source": [
    "### Your turn: try out the following\n",
    "1. Use ls and grep to find files that contain the string 'mk' in /bin\n",
    "1. Do this again, but redirect the output to a file called: mk-files.txt\n",
    "1. Use `less mk-files.txt` to verify that the list of files is correct"
   ]
  },
  {
   "cell_type": "markdown",
   "metadata": {},
   "source": [
    "### 6.3.5 Wildcards\n",
    "\n",
    "Many commands can take a list of files or directories. To minimize writing, it is useful to use the concept of wildcards (using the asterisk character `*`)\n",
    "\n",
    "`ls *.txt` will list all files in the current directory whose file names end in .txt"
   ]
  },
  {
   "cell_type": "markdown",
   "metadata": {},
   "source": [
    "### Your turn:\n",
    "\n",
    "Compare the outputs of `ls` and `ls *.txt` in the directory that you have been working in\n"
   ]
  },
  {
   "cell_type": "markdown",
   "metadata": {},
   "source": [
    "## *Submitting this reading assignment*\n",
    "Before submitting your work, restart + rerun your notebook to make sure that everything runs correctly and without error. We will only check that the Self-assessment questions at the start of the assignment have run correctly. After you've executed and checked your notebook, choose: File >> Save_and_Export_Notebook_As >> HTML. This will download an HTML version of your notebook to your computer which you can upload to Canvas"
   ]
  },
  {
   "cell_type": "code",
   "execution_count": null,
   "metadata": {},
   "outputs": [],
   "source": []
  }
 ],
 "metadata": {
  "kernelspec": {
   "display_name": "Python 3",
   "language": "python",
   "name": "python3"
  },
  "language_info": {
   "codemirror_mode": {
    "name": "ipython",
    "version": 3
   },
   "file_extension": ".py",
   "mimetype": "text/x-python",
   "name": "python",
   "nbconvert_exporter": "python",
   "pygments_lexer": "ipython3",
   "version": "3.7.6"
  }
 },
 "nbformat": 4,
 "nbformat_minor": 4
}
