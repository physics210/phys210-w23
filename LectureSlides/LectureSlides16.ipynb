{
 "cells": [
  {
   "cell_type": "markdown",
   "metadata": {
    "slideshow": {
     "slide_type": "slide"
    }
   },
   "source": [
    "# PHYS 210 Lecture 16 - Nov 01, 2023\n",
    "Agenda:\n",
    "\n",
    "1. Announcements\n",
    "1. Reading recap, polling questions and Q&A\n",
    "1. Group Worksheet 16"
   ]
  },
  {
   "cell_type": "markdown",
   "metadata": {
    "slideshow": {
     "slide_type": "slide"
    }
   },
   "source": [
    "## Heads up for Monday, Nov 06\n",
    "* No Solo Worksheet from today. Focus on your project\n",
    "* Reading Assignment 17 due. This is Monte-Carlo Methods 2\n",
    "* In-class Group Worksheet today for Days 15 and 16"
   ]
  },
  {
   "cell_type": "markdown",
   "metadata": {
    "slideshow": {
     "slide_type": "slide"
    }
   },
   "source": [
    "## Reading recap, ~~polling questions~~ and Q&A"
   ]
  },
  {
   "cell_type": "markdown",
   "metadata": {
    "slideshow": {
     "slide_type": "slide"
    }
   },
   "source": [
    "**Q:** Could we go over why we put a star in front of fit params `*fitparams`?\n",
    "    \n",
    "This is known as the scatter operator `*` and is used to unpack a container (such as a list, tuple or array) into its individual elements as *positional arguments* when it is being passed to a function. \n",
    "\n",
    "Let's look at an example:"
   ]
  },
  {
   "cell_type": "code",
   "execution_count": null,
   "metadata": {
    "slideshow": {
     "slide_type": "slide"
    }
   },
   "outputs": [],
   "source": [
    "def sum_of_three_numbers(a, b, c):\n",
    "    return a + b + c\n",
    "\n",
    "numbers = (1, 2, 3)\n",
    "mysum = sum_of_three_numbers(numbers[0], numbers[1], numbers[2])\n",
    "print(mysum)"
   ]
  },
  {
   "cell_type": "code",
   "execution_count": null,
   "metadata": {},
   "outputs": [],
   "source": [
    "numbers = (1, 2, 3)\n",
    "mysum = sum_of_three_numbers(*numbers)\n",
    "print(mysum)"
   ]
  },
  {
   "cell_type": "markdown",
   "metadata": {
    "slideshow": {
     "slide_type": "slide"
    }
   },
   "source": [
    "Now let's loop back to how this was used in the reading:\n",
    "\n",
    "```python\n",
    "def line(x, m, b):\n",
    "    return m*x + b\n",
    "\n",
    "xf = np.linspace(x_data.min(), x_data.max(), num = 50)\n",
    "yf2 = line(xf, *fitparams2)\n",
    "```"
   ]
  },
  {
   "cell_type": "markdown",
   "metadata": {
    "slideshow": {
     "slide_type": "slide"
    }
   },
   "source": [
    "**Q:** is there any way to increase the accuracy when **initial guesses** are not very good? I am wondering because in many of my labs, using this method of fitting, I have had some pretty terrible initial guesses and still outputted a good fit result however in the reading assignment even if the amplitude was off by 1 it got a wildly inaccurate result.<br>\n",
    "**Q:** Is there a way to use the curve_fit without having to make **initial guesses**?<br>\n",
    "**Q:** Need help understanding why the fit fails without **initial guesses**.<br>\n",
    "**Q:** Could we also go over in a bit more detail the benefit of giving **initial guesses**?\n",
    "\n",
    "**A:** `curve_fit` is a nonlinear fitting function, meaning it can fit functions other than straight lines, and as a result every fit that it does requires initial guesses, where the defaults are `1` for each parameter if not specified. Long example alert!"
   ]
  },
  {
   "cell_type": "code",
   "execution_count": null,
   "metadata": {
    "slideshow": {
     "slide_type": "slide"
    }
   },
   "outputs": [],
   "source": [
    "import numpy as np\n",
    "import matplotlib.pyplot as plt\n",
    "from scipy.optimize import curve_fit\n",
    "\n",
    "t_data = np.array([ 0.        ,  0.25645654,  0.51291309,  0.76936963,  1.02582617,\n",
    "        1.28228272,  1.53873926,  1.7951958 ,  2.05165235,  2.30810889,\n",
    "        2.56456543,  2.82102197,  3.07747852,  3.33393506,  3.5903916 ,\n",
    "        3.84684815,  4.10330469,  4.35976123,  4.61621778,  4.87267432,\n",
    "        5.12913086,  5.38558741,  5.64204395,  5.89850049,  6.15495704,\n",
    "        6.41141358,  6.66787012,  6.92432667,  7.18078321,  7.43723975,\n",
    "        7.69369629,  7.95015284,  8.20660938,  8.46306592,  8.71952247,\n",
    "        8.97597901,  9.23243555,  9.4888921 ,  9.74534864, 10.00180518,\n",
    "       10.25826173, 10.51471827, 10.77117481, 11.02763136, 11.2840879 ,\n",
    "       11.54054444, 11.79700098, 12.05345753, 12.30991407, 12.56637061])\n",
    "y_data = np.array([-1.71815239e-03, -2.08015913e-01,  5.64748219e-01,  9.62492904e-01,\n",
    "        9.20418866e-01,  9.35737259e-01,  1.32776675e+00,  1.58956031e+00,\n",
    "        1.88558979e+00,  1.66143882e+00,  2.03767118e+00,  2.25638778e+00,\n",
    "        2.00445035e+00,  2.04773244e+00,  2.17685040e+00,  1.88546903e+00,\n",
    "        1.81505858e+00,  1.48373884e+00,  1.59274906e+00,  1.57320479e+00,\n",
    "        9.91393316e-01,  1.08707412e+00,  7.51733967e-01, -4.56799784e-02,\n",
    "       -3.91397237e-01, -1.96417994e-01, -2.74839190e-01, -4.23692135e-01,\n",
    "       -7.91822825e-01, -1.31857939e+00, -1.12749963e+00, -1.84915218e+00,\n",
    "       -1.90104185e+00, -2.06498665e+00, -1.90021998e+00, -1.85630497e+00,\n",
    "       -2.16964289e+00, -2.38494504e+00, -1.79373814e+00, -1.84252623e+00,\n",
    "       -1.61829111e+00, -1.70084067e+00, -1.63726353e+00, -1.41318373e+00,\n",
    "       -1.14480241e+00, -1.20080281e+00, -9.50884586e-01, -8.69321294e-01,\n",
    "       -1.45618763e-01, -2.32657944e-01])"
   ]
  },
  {
   "cell_type": "code",
   "execution_count": null,
   "metadata": {
    "slideshow": {
     "slide_type": "slide"
    }
   },
   "outputs": [],
   "source": [
    "plt.scatter(t_data, y_data, s=10)\n",
    "plt.grid(True); plt.show()"
   ]
  },
  {
   "cell_type": "code",
   "execution_count": null,
   "metadata": {
    "slideshow": {
     "slide_type": "slide"
    }
   },
   "outputs": [],
   "source": [
    "def sin_model(x, a, omega):\n",
    "    return a * np.sin(omega * x)\n",
    "\n",
    "def make_plots(p0):\n",
    "    plt.plot(t_data, sin_model(t_data, *p0), 'r--')\n",
    "    plt.scatter(t_data, y_data, s=10)\n",
    "    plt.grid(True); plt.show\n",
    "    \n",
    "make_plots(p0=[2, 0.5]) # default values if unspecified"
   ]
  },
  {
   "cell_type": "code",
   "execution_count": null,
   "metadata": {
    "slideshow": {
     "slide_type": "slide"
    }
   },
   "outputs": [],
   "source": [
    "def make_plots(p0):\n",
    "    residuals = y_data - sin_model(t_data, *p0)\n",
    "    sors = sum(residuals**2)\n",
    "    print(f\"Sum of residuals squared = {sors:.1f}\")\n",
    "    fig, ax = plt.subplots(2,1,figsize=(8,6))\n",
    "    ax[0].plot(t_data, sin_model(t_data, *p0), 'r--')\n",
    "    ax[0].scatter(t_data, y_data, s=10)\n",
    "    ax[0].grid(True)\n",
    "    ax[1].scatter(t_data, residuals)\n",
    "    ax[1].grid(True)\n",
    "    plt.show"
   ]
  },
  {
   "cell_type": "code",
   "execution_count": null,
   "metadata": {
    "slideshow": {
     "slide_type": "slide"
    }
   },
   "outputs": [],
   "source": [
    "make_plots(p0=[2,0.5])"
   ]
  },
  {
   "cell_type": "code",
   "execution_count": null,
   "metadata": {
    "slideshow": {
     "slide_type": "slide"
    }
   },
   "outputs": [],
   "source": [
    "def get_sors(p0):\n",
    "    residuals = y_data - sin_model(t_data, *p0)\n",
    "    sors = sum(residuals**2)\n",
    "    return sors\n",
    "\n",
    "# Create meshgrid\n",
    "a_vals = np.linspace(0.1, 2.0, 100)\n",
    "A, B = np.meshgrid(a_vals, a_vals)\n",
    "\n",
    "# Calculate SORS for each combination of parameters\n",
    "SORS = np.empty_like(A)\n",
    "for i in range(A.shape[0]):\n",
    "    for j in range(A.shape[1]):\n",
    "        SORS[i, j] = get_sors([A[i, j], B[i, j]])"
   ]
  },
  {
   "cell_type": "code",
   "execution_count": null,
   "metadata": {
    "slideshow": {
     "slide_type": "slide"
    }
   },
   "outputs": [],
   "source": [
    "# Plot\n",
    "plt.figure(figsize=(8,6))\n",
    "cp = plt.contourf(A, B, SORS, cmap=\"viridis\")\n",
    "plt.colorbar(cp, label=\"SORS\")\n",
    "plt.scatter(1, 1, color=\"white\", s=200, zorder=5, edgecolor=\"black\")\n",
    "plt.xlabel(\"p0[0]\"); plt.ylabel(\"p0[1]\")\n",
    "plt.show()"
   ]
  },
  {
   "cell_type": "code",
   "execution_count": null,
   "metadata": {
    "slideshow": {
     "slide_type": "slide"
    }
   },
   "outputs": [],
   "source": [
    "def make_fit(p0):\n",
    "    popt, _ = curve_fit(sin_model, t_data, y_data, p0=p0)\n",
    "    plt.plot(t_data, sin_model(t_data, *popt), 'r--')\n",
    "    plt.scatter(t_data, y_data, s=10)\n",
    "    plt.grid(True); plt.show"
   ]
  },
  {
   "cell_type": "code",
   "execution_count": null,
   "metadata": {},
   "outputs": [],
   "source": [
    "make_fit(p0=[2, 0.5])"
   ]
  },
  {
   "cell_type": "markdown",
   "metadata": {
    "slideshow": {
     "slide_type": "slide"
    }
   },
   "source": [
    "## The rest of today\n",
    "Group Worksheet 16: Fitting and generating simulated data. Have at it!"
   ]
  },
  {
   "cell_type": "code",
   "execution_count": null,
   "metadata": {
    "slideshow": {
     "slide_type": "slide"
    }
   },
   "outputs": [],
   "source": []
  }
 ],
 "metadata": {
  "celltoolbar": "Slideshow",
  "kernelspec": {
   "display_name": "Python 3",
   "language": "python",
   "name": "python3"
  },
  "language_info": {
   "codemirror_mode": {
    "name": "ipython",
    "version": 3
   },
   "file_extension": ".py",
   "mimetype": "text/x-python",
   "name": "python",
   "nbconvert_exporter": "python",
   "pygments_lexer": "ipython3",
   "version": "3.7.6"
  }
 },
 "nbformat": 4,
 "nbformat_minor": 4
}
