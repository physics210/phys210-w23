{
 "cells": [
  {
   "cell_type": "markdown",
   "metadata": {},
   "source": [
    "# PHYS 210, Homework 03\n",
    "**First Draft Due:** Wed, Nov 22, 2023, at the start of class on Canvas<br>\n",
    "**Final Draft Due:** Mon, Nov 27, 2023, at the start of class on Canvas"
   ]
  },
  {
   "cell_type": "markdown",
   "metadata": {},
   "source": [
    "You are working for an engineering company specializing in radiation shielding and have been tasked with simulating the effectiveness of a new radiation shielding device. It has been designed to be exposed to two types of radiation, beta and gamma particles. The device is made up of two layers of shielding. The layers have different probabilities of *stopping* each kind of decay particle as summarized in the table below:\n",
    "\n",
    "| Shielding |  Type 1 | Type 2 |\n",
    "|---------|---------|---------|\n",
    "| Beta | p = .6| p = .8|\n",
    "| Gamma| p = .05| p = .025|\n",
    "\n",
    "You will be using Monte Carlo simulation methods to generate radiation data and investigate the total number of particles that make it through this shielding."
   ]
  },
  {
   "cell_type": "markdown",
   "metadata": {},
   "source": [
    "## *Characterization of your radiation source and the shielded box*"
   ]
  },
  {
   "cell_type": "markdown",
   "metadata": {},
   "source": [
    "### The source\n",
    "You radiation source, being produced at an on-site cyclotron, is a mixture of two elements: \n",
    "\n",
    "* $^{208}$Tl: The beta-emitter you encountered in Section 15.5 of the Day 15 reading assignment, and\n",
    "* $^{55}$Fe: The gamma-emitter you may have encountered in the Physics 119 or 129 lab.\n",
    "\n",
    "Your company produces the radioactive sample in the cyclotron and then moves it to the radiation shielding testing area. The process results in a sample where you can reliably start any testing experiment with the radioactive sample having the following characteristics:\n",
    "\n",
    "* $^{208}$Tl: Initial number of radioactive $^{208}$Tl atoms is 500,000. The half-life is 3.053 minutes\n",
    "* $^{55}$Fe: Because $^{55}$Fe has a half-life on the order of years, it is more helpful to use decay-rate to describe its activity. When initially produced, 15.0 gammas per second are being emitted by the sample."
   ]
  },
  {
   "cell_type": "markdown",
   "metadata": {},
   "source": [
    "### The shielding\n",
    "The source will be placed in a box with the layers of shielding described above."
   ]
  },
  {
   "cell_type": "markdown",
   "metadata": {},
   "source": [
    "## *Task 1: Generate your simulated data*"
   ]
  },
  {
   "cell_type": "markdown",
   "metadata": {},
   "source": [
    "Build a function, `data_simulation()`, that uses Monte-Carlo methods to model the cumulative radiation escaping from the shielded box in 100-second intervals for 2000 seconds. It should return two array-like objects, `tdata` (the times) and `ndata` (the cumulative radiation that escaped from the box at the end of each time interval). \n",
    "* Use the methods introduced in Section 15.5 of the Day 15 Reading Assignment to model the $^{208}$Tl decay.\n",
    "* Use the method of sampling a Poisson distribution, introduced in the Day 16 Group Worksheet, to model the number of gamma rays being emitted by the sample. As detailed above, the expected number of gamma rays emitted by the sample every second is expected to be 15.0, so is expected to be 1500.0 during every 100-second interval.\n",
    "* For each 100-second interval, determine the number of particles that escape the shielded box. Use this number to keep an updated cumulative total of the number of particles that escape the box.\n",
    "* You are welcome to create as many additional helper functions as you need.\n",
    "\n",
    "Additionally, build a function, `plot_it(times, ntot)`, that produces a plot like the example we provide below using the data returned from `data_simulation()`:\n",
    "* Based on the numbers provided, you should be able to reproduce this graph quite closely. Note that $t=0$ should not be incuded in `tdata` (or `ndata`) since the first time we will have measured the total counts that escape the box will be at the end of the $t=0-100 \\mbox{ s}$ interval.\n",
    "* Although the error bars will be too small to be visible, model the uncertainty in the cumulative total number of particles that escape the box as the square root of this number, as we encountered previously."
   ]
  },
  {
   "cell_type": "markdown",
   "metadata": {},
   "source": [
    "<font color='red'>(*Please note that the intended time interval for this part of the assignment was 100s so any reference to 10-second intervals should be interpreted as 100-second intervals, as appropriate.*)</font>"
   ]
  },
  {
   "cell_type": "markdown",
   "metadata": {},
   "source": [
    "<img src=\"https://i.ibb.co/ZSQzgqq/escape.png\" alt=\"escape\">"
   ]
  },
  {
   "cell_type": "markdown",
   "metadata": {},
   "source": [
    "### Task 1 grade breakdowns\n",
    "1 point allocated to each of the following:\n",
    "\n",
    "1. The function `data_simulation()` exists and returns simulation data\n",
    "1. The returned array-like objects `tdata` and `ndata` are of the correct length\n",
    "1. The function `plot_it(tdat, ndata)` exists and accepts the specified arguments\n",
    "1. The function `plot_it(tdat, ndata)` generates a plot with appropriate axis labels\n",
    "1. The $^{208}$Tl decay is calculated correctly for each 100-second interval\n",
    "1. The $^{55}$Fe decay is calculated correctly for each 100-second interval\n",
    "1. The number of decay particles that make it through the shielding is calculated correctly for each 100-second interval"
   ]
  },
  {
   "cell_type": "code",
   "execution_count": null,
   "metadata": {},
   "outputs": [],
   "source": [
    "# Your Task 1 code here\n",
    "\n"
   ]
  },
  {
   "cell_type": "code",
   "execution_count": null,
   "metadata": {},
   "outputs": [],
   "source": [
    "# Add additional cells as needed\n",
    "\n"
   ]
  },
  {
   "cell_type": "markdown",
   "metadata": {},
   "source": [
    "### Task 1 data creation\n",
    "Use the call to your function `data_simulation()` to generate the simulated data"
   ]
  },
  {
   "cell_type": "code",
   "execution_count": null,
   "metadata": {
    "deletable": false,
    "editable": false
   },
   "outputs": [],
   "source": [
    "# Show that your simulated data are formatted correctly\n",
    "# (this cell cannot be edited)\n",
    "\n",
    "tdata, ndata = data_simulation()\n",
    "\n",
    "assert len(tdata) == 20\n",
    "assert len(ndata) == 20\n",
    "print(\"The returned 'tdata' and 'ndata' are the correct length\")"
   ]
  },
  {
   "cell_type": "markdown",
   "metadata": {},
   "source": [
    "### Task 1 visualization\n",
    "\n",
    "Use only the function call below to produce your visualization. Your visualization should reproduce the same general features as the visualization we provided."
   ]
  },
  {
   "cell_type": "code",
   "execution_count": null,
   "metadata": {
    "deletable": false,
    "editable": false
   },
   "outputs": [],
   "source": [
    "# Show your task 1 visualization \n",
    "# (this cell cannot be edited)\n",
    "\n",
    "plot_it(tdata, ndata)"
   ]
  },
  {
   "cell_type": "markdown",
   "metadata": {},
   "source": [
    "## *Task 2: Model your data*"
   ]
  },
  {
   "cell_type": "markdown",
   "metadata": {},
   "source": [
    "Find the model that best fits the data. Your boss suggested that the total counts observed from the beta emitter will probably be fit with one of the two following functions:\n",
    "\n",
    "$$a\\left(1-e^{-bt+c}\\right), \\mbox{ or}$$\n",
    "\n",
    "$$\\frac{a}{1+e^{-bt+c}}.$$\n",
    "\n",
    "Unfortunately they didn't provide any suggestions for how to account for the gamma radiation so you will need to figure that out yourself.\n",
    "\n",
    "Your solution to this task should read like a lab notebook of your attempts at fitting the data including any additional thoughts you have on how to fit the data.\n",
    "\n",
    "***Note:***\n",
    "* This is a fit where good initial guesses of your fitting parameters is important\n",
    "\n",
    "**Visualization of your fit**\n",
    "* Build a function , `fit_it(tdata, ndata, p0)` that will run your fit and produce the desired visualzations. It should accept the arguments `tdata` and `ndata` from task one, and initial guesses for your fit in the form of a list or tuple, `p0`. This will likely take many iterations and we have provided the space below for you to document your progress toward finding a best-fit model.\n",
    "* Make sure you are plotting the data and fit in one panel and residuals in another, as shown in the example below.\n",
    "* If you are interested in adjusting the relative sizes of the two panels, the following shows how to do this with `plt.subplots()`:<br>\n",
    "`fig, ax = plt.subplots(2, 1, figsize=(8, 8), gridspec_kw={'height_ratios': [3, 2]})`\n",
    "* As discussed above, the uncertainty in your `ndata` values and associated residuals will be the square root of `ndata`."
   ]
  },
  {
   "cell_type": "markdown",
   "metadata": {},
   "source": [
    "<img src=\"https://i.ibb.co/1rJ7h03/fit.png\" alt=\"fit\">"
   ]
  },
  {
   "cell_type": "markdown",
   "metadata": {},
   "source": [
    "### Task 2 grade breakdowns\n",
    "1 point allocated to each of the following:\n",
    "\n",
    "1. The function `fit_it(tdata, ndata, p0)` exists and accepts the specified arguments\n",
    "1. The function `fit_it()` correctly performs a fit\n",
    "1. The fitting function used is reasonable and a good fit was achieved\n",
    "1. The process of getting to a good fit was documented in \"Task 2 fitting process\"\n",
    "1. The visualization produced by `fit_it()` is a multi-panel visualization produced using `.subplot()` or `.suplots()`\n",
    "1. The top panel of the visualization produced by `fit_it()` shows the data and best-fit line\n",
    "1. The bottom panel of the visualization produced by `fit_it()` shows the residuals with correct error bars\n",
    "1. The visualization produced by `fit_it()` has appropriate axis titles\n"
   ]
  },
  {
   "cell_type": "markdown",
   "metadata": {},
   "source": [
    "### Task 2 fitting process\n",
    "\n",
    "Use the code and markdown boxes below to detail your investigations as you try to find the best model to fit these data."
   ]
  },
  {
   "cell_type": "code",
   "execution_count": null,
   "metadata": {},
   "outputs": [],
   "source": [
    "# Fitting attempt 1\n",
    "\n"
   ]
  },
  {
   "cell_type": "markdown",
   "metadata": {},
   "source": [
    "*Your discussion of fitting attempt 1:*\n",
    "\n",
    "* .."
   ]
  },
  {
   "cell_type": "code",
   "execution_count": null,
   "metadata": {},
   "outputs": [],
   "source": [
    "# Fitting attempt 2\n",
    "\n"
   ]
  },
  {
   "cell_type": "markdown",
   "metadata": {},
   "source": [
    "*Your discussion of fitting attempt 2:*\n",
    "\n",
    "* .."
   ]
  },
  {
   "cell_type": "code",
   "execution_count": null,
   "metadata": {},
   "outputs": [],
   "source": [
    "# Fitting attempt 3\n",
    "\n"
   ]
  },
  {
   "cell_type": "markdown",
   "metadata": {},
   "source": [
    "*Your discussion of fitting attempt 3:*\n",
    "\n",
    "* .."
   ]
  },
  {
   "cell_type": "code",
   "execution_count": null,
   "metadata": {},
   "outputs": [],
   "source": [
    "# Fitting attempt 4 (continue adding cells as needed)\n",
    "\n"
   ]
  },
  {
   "cell_type": "markdown",
   "metadata": {},
   "source": [
    "*Your discussion of fitting attempt 4: (continue adding cells as needed)*\n",
    "\n",
    "* .."
   ]
  },
  {
   "cell_type": "markdown",
   "metadata": {},
   "source": [
    "### Task 2 visualization\n",
    "Use only the function call below to produce your visualization. Your visualization should reproduce the same general features as the visualization we provided."
   ]
  },
  {
   "cell_type": "code",
   "execution_count": null,
   "metadata": {},
   "outputs": [],
   "source": [
    "# Update the list below to provide the initial guesses that will be used for your fit\n",
    "\n",
    "p0 = []"
   ]
  },
  {
   "cell_type": "code",
   "execution_count": null,
   "metadata": {
    "deletable": false,
    "editable": false
   },
   "outputs": [],
   "source": [
    "# Show your task 2 plot\n",
    "# (this cell cannot be edited)\n",
    "\n",
    "fit_it(tdata, ndata, p0)"
   ]
  },
  {
   "cell_type": "markdown",
   "metadata": {},
   "source": [
    "## *Task 3: Additional shielding*"
   ]
  },
  {
   "cell_type": "markdown",
   "metadata": {
    "id": "ZHDpWmCt4hER"
   },
   "source": [
    "Your boss wants to know what happens when additional layers of shielding are added. To show them how the results would turn out,  update your function `data_simulation()` to accept a list, `layers`, as an argument. For example, the list `layers = [1, 2, 1, 2]` would indicate four layers of alternating type 1 and 2 shielding."
   ]
  },
  {
   "cell_type": "markdown",
   "metadata": {},
   "source": [
    "### Task 3 grade breakdowns\n",
    "1 point allocated to each of the following:\n",
    "\n",
    "1. The updated function `data_simulation(layers)` accepts a `layers` list and acts on it correctly\n",
    "1. When using `layers = [1, 1, 1]`, the data look correct\n",
    "1. When using `layers = [1, 1, 1]`, the fit is performed correctly\n",
    "1. When using `layers = [2, 2, 2]`, the data look correct\n",
    "1. When using `layers = [2, 2, 2]`, the fit is performed correctly"
   ]
  },
  {
   "cell_type": "markdown",
   "metadata": {},
   "source": [
    "### Task 3 visualization #1"
   ]
  },
  {
   "cell_type": "code",
   "execution_count": null,
   "metadata": {},
   "outputs": [],
   "source": [
    "# Update p0 if needed\n",
    "\n",
    "p0 = p0"
   ]
  },
  {
   "cell_type": "code",
   "execution_count": null,
   "metadata": {
    "deletable": false,
    "editable": false
   },
   "outputs": [],
   "source": [
    "# Show your task 3 plot with layers = [1, 1, 1]\n",
    "# (this cell cannot be edited)\n",
    "\n",
    "layers = [1, 1, 1]\n",
    "tdata, ndata = data_simulation(layers)\n",
    "fit_it(tdata, ndata, p0)"
   ]
  },
  {
   "cell_type": "markdown",
   "metadata": {},
   "source": [
    "### Task 3 visualization #2"
   ]
  },
  {
   "cell_type": "code",
   "execution_count": null,
   "metadata": {},
   "outputs": [],
   "source": [
    "# Update p0 if needed\n",
    "\n",
    "p0 = p0"
   ]
  },
  {
   "cell_type": "code",
   "execution_count": null,
   "metadata": {
    "deletable": false,
    "editable": false
   },
   "outputs": [],
   "source": [
    "# Show your task 3 plot with layers = [1, 1, 1]\n",
    "# (this cell cannot be edited)\n",
    "\n",
    "layers = [2, 2, 2]\n",
    "tdata, ndata = data_simulation(layers)\n",
    "fit_it(tdata, ndata, p0)"
   ]
  },
  {
   "cell_type": "markdown",
   "metadata": {},
   "source": [
    "## *Task 4: Please provide attribution for any help you received*\n",
    "Detail any resources from which you took code snippets or code ideas, and any resources/people you used for help. These should include people, online resources and generative AI, such as ChatGPT."
   ]
  },
  {
   "cell_type": "markdown",
   "metadata": {},
   "source": [
    "*Your responses for Task 4 here*\n",
    "\n",
    ".."
   ]
  },
  {
   "cell_type": "markdown",
   "metadata": {},
   "source": [
    "## *Preparing for Quiz 03*"
   ]
  },
  {
   "cell_type": "markdown",
   "metadata": {},
   "source": [
    "Quiz 03 on Wednesday, Nov 29 will follow a format similar to the previous quizzes. You will first copy in the code from your homework assignment, and then the remainder of the quiz will consist of extensions of your code. You should (1) make sure that you build your code in such a way that you can easily modify to account for new details and extensions, and (2) make sure that you have a very good understanding of how all aspects of your code work, whether you are using existing existing tools from the course or learning new ones beyond what we have covered so far.\n",
    "\n",
    "Some examples of the types of changes, modifications or extensions that you might expect to see include:\n",
    "\n",
    "* Introducing an additional radiation source, such as an alpha emitter, with specific shielding properties related blocking this type of radiation\n",
    "* Introducing additional shielding types\n",
    "* Extracting the parameters and their uncertainties related to the best fit model\n",
    "* Being able to peform fits that do or do not account for y-uncertainties in the data (the `sigma` and `absolute_sigma` parameters in `curve_fit`)\n",
    "* Introducing additional flags and parameters into existing function to modify their behaviours"
   ]
  },
  {
   "cell_type": "code",
   "execution_count": null,
   "metadata": {},
   "outputs": [],
   "source": []
  }
 ],
 "metadata": {
  "colab": {
   "provenance": []
  },
  "kernelspec": {
   "display_name": "Python 3",
   "language": "python",
   "name": "python3"
  },
  "language_info": {
   "codemirror_mode": {
    "name": "ipython",
    "version": 3
   },
   "file_extension": ".py",
   "mimetype": "text/x-python",
   "name": "python",
   "nbconvert_exporter": "python",
   "pygments_lexer": "ipython3",
   "version": "3.7.6"
  }
 },
 "nbformat": 4,
 "nbformat_minor": 1
}
