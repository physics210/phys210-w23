{
 "cells": [
  {
   "cell_type": "markdown",
   "metadata": {},
   "source": [
    "# Pre-class Reading: Day 11 (Oct 16, 2023)<br>Containers: dictionaries, tuples, etc\n",
    "Learning goals\n",
    "1. Create and recognize tuples and dictionaries\n",
    "1. Describe the difference between in place operation and new object creation\n",
    "1. Modify provided `solve_ivp()` code when the equivalent Euler's method for motion code is already be well-understood\n",
    "1. Add or modify an event in `solve_ivp()` to cause the solver/simulation to end before it gets to `t_end`"
   ]
  },
  {
   "cell_type": "markdown",
   "metadata": {},
   "source": [
    "## *Self-assessment questions*\n",
    "\n",
    "**If you can already answer these correctly, you can skip the rest of the reading assignment and submit it. Otherwise, complete the rest of the reading assignment and return to these questions to test what you learned. You might decide you would benefit from further review before class.**\n",
    "\n",
    "Note that these questions can often be answered easily by running the provided code, so the intellectual work on your part is figuring out the correct answer and then running the code to check your answer.\n",
    "\n",
    "Please ensure all of these self-assessment questions are answered correctly before submitting this pre-class reading assignment. The *Your Turn* questions, found throughout the rest of this assignment, are for your practice as you learn this material and do not need to be answered correctly to receive full completion marks for this pre-class reading assignment."
   ]
  },
  {
   "cell_type": "markdown",
   "metadata": {},
   "source": [
    "### Self-assessment question 11.1\n",
    "\n",
    "Which of the following is the correct way to define a tuple?\n",
    "\n",
    "A) my_tuple = (1, 2)<br>\n",
    "B) my_tuple = 1, 2<br>\n",
    "C) my_tuple = tuple([1, 2])<br>\n",
    "D) All three of the above are correct"
   ]
  },
  {
   "cell_type": "code",
   "execution_count": null,
   "metadata": {},
   "outputs": [],
   "source": [
    "# Code testing area to help answer this question\n",
    "\n",
    "\n"
   ]
  },
  {
   "cell_type": "code",
   "execution_count": null,
   "metadata": {},
   "outputs": [],
   "source": [
    "# Enter your answer inside the string quotes and run this cell to check your anwer\n",
    "\n",
    "answer = \"\"\n",
    "\n",
    "import hashlib\n",
    "assert answer in ['A', 'B', 'C', 'D'], \"Your answer did not match any of the choices\"\n",
    "assert hashlib.sha256(answer.encode()).hexdigest() == \\\n",
    "    '3f39d5c348e5b79d06e842c114e6cc571583bbf44e4b0ebfda1a01ec05745d43', \"Your answer is incorrect\"\n",
    "print(\"Your answer\", answer, \"is correct\") # Passed all assert statements above"
   ]
  },
  {
   "cell_type": "markdown",
   "metadata": {},
   "source": [
    "### Self-assessment question 11.2\n",
    "\n",
    "What will the following code print?\n",
    "```python\n",
    "r = (4, 'candles', 4.0, 'handles')\n",
    "r[1]='knife'\n",
    "print(r[1])\n",
    "```\n",
    "\n",
    "A) candles<br>\n",
    "B) knife<br>\n",
    "C) 4<br>\n",
    "D) An error"
   ]
  },
  {
   "cell_type": "code",
   "execution_count": null,
   "metadata": {},
   "outputs": [],
   "source": [
    "# Code testing area to help answer this question\n",
    "\n",
    "\n"
   ]
  },
  {
   "cell_type": "code",
   "execution_count": null,
   "metadata": {},
   "outputs": [],
   "source": [
    "# Enter your answer inside the string quotes and run this cell to check your anwer\n",
    "\n",
    "answer = \"\"\n",
    "\n",
    "import hashlib\n",
    "assert answer in ['A', 'B', 'C', 'D'], \"Your answer did not match any of the choices\"\n",
    "assert hashlib.sha256(answer.encode()).hexdigest() == \\\n",
    "    '3f39d5c348e5b79d06e842c114e6cc571583bbf44e4b0ebfda1a01ec05745d43', \"Your answer is incorrect\"\n",
    "print(\"Your answer\", answer, \"is correct\") # Passed all assert statements above"
   ]
  },
  {
   "cell_type": "markdown",
   "metadata": {},
   "source": [
    "### Self-assessment question 11.3\n",
    "\n",
    "How would we print 'brown' from this dictionary?\n",
    "```python\n",
    "a = {'eyecolour':'brown', 'height':152.0, 42:'the answer'}\n",
    "```\n",
    "\n",
    "A) `print(a[0])`<br>\n",
    "B) `print(a['eyecolour'])`<br>\n",
    "C) `print(a.eyecolour)`<br>\n",
    "D) More than one of these is correct"
   ]
  },
  {
   "cell_type": "code",
   "execution_count": null,
   "metadata": {},
   "outputs": [],
   "source": [
    "# Code testing area to help answer this question\n",
    "\n"
   ]
  },
  {
   "cell_type": "code",
   "execution_count": null,
   "metadata": {},
   "outputs": [],
   "source": [
    "# Enter your answer inside the string quotes and run this cell to check your anwer\n",
    "\n",
    "answer = \"\"\n",
    "\n",
    "import hashlib\n",
    "assert answer in ['A', 'B', 'C', 'D'], \"Your answer did not match any of the choices\"\n",
    "assert hashlib.sha256(answer.encode()).hexdigest() == \\\n",
    "    'df7e70e5021544f4834bbee64a9e3789febc4be81470df629cad6ddb03320a5c', \"Your answer is incorrect\"\n",
    "print(\"Your answer\", answer, \"is correct\") # Passed all assert statements above"
   ]
  },
  {
   "cell_type": "markdown",
   "metadata": {},
   "source": [
    "### Self-assessment question 11.4\n",
    "\n",
    "We are using `solve_ivp()` for one-dimensional projectile motion with the following function for our differential equations:\n",
    "\n",
    "```python\n",
    "def diff_eqns(t, state):\n",
    "    dydt = state[1]\n",
    "    dvdt = -9.81\n",
    "    return [dydt, dvdt]\n",
    "```\n",
    "How do we define a function `event1`, with the appropriately assigned attributes `terminal` and `direction` so that the solver/simulation will stop when the object has a height that crosses from above 4 meters to below 4 meters?\n",
    "```python\n",
    "### A ###\n",
    "def event1(t, state):\n",
    "    return state[0] + 4\n",
    "event1.terminal = True\n",
    "event1.direction = -1 \n",
    "\n",
    "\n",
    "### B ###\n",
    "def event1(t, state):\n",
    "    return state[0] + 4\n",
    "event1.terminal = True\n",
    "event1.direction = 1 \n",
    "\n",
    "\n",
    "### C ###\n",
    "def event1(t, state):\n",
    "    return state[0] - 4\n",
    "event1.terminal = True\n",
    "event1.direction = -1 \n",
    "\n",
    "\n",
    "### D ###\n",
    "def event1(t, state):\n",
    "    return state[0] - 4\n",
    "    event1.terminal = True\n",
    "    event1.direction = 1 \n",
    "```"
   ]
  },
  {
   "cell_type": "code",
   "execution_count": null,
   "metadata": {},
   "outputs": [],
   "source": [
    "# Code testing area to help answer this question\n",
    "\n"
   ]
  },
  {
   "cell_type": "code",
   "execution_count": null,
   "metadata": {},
   "outputs": [],
   "source": [
    "# Enter your answer inside the string quotes and run this cell to check your anwer\n",
    "\n",
    "answer = \"\"\n",
    "\n",
    "import hashlib\n",
    "assert answer in ['A', 'B', 'C', 'D'], \"Your answer did not match any of the choices\"\n",
    "assert hashlib.sha256(answer.encode()).hexdigest() == \\\n",
    "    '6b23c0d5f35d1b11f9b683f0b0a617355deb11277d91ae091d399c655b87940d', \"Your answer is incorrect\"\n",
    "print(\"Your answer\", answer, \"is correct\") # Passed all assert statements above"
   ]
  },
  {
   "cell_type": "markdown",
   "metadata": {},
   "source": [
    "## *11.1 Containers*"
   ]
  },
  {
   "cell_type": "markdown",
   "metadata": {},
   "source": [
    "Today's reading expands on the concept of Python containers. A container is any object that holds an arbitrary number of other objects. Generally, containers provide a way to access the contained objects and to iterate over them. Different containers store data differently and provide different ways to access their data. Some containers are more convenient than others for some specific tasks.\n",
    "\n",
    "Common python container types (not including those additional ones available via Numpy):\n",
    "\n",
    "* **list** – the most popular container data type in python; can store any number of any objects.\n",
    "* **tuple** – similar to list, yet once created are immutable (i.e., cannot be further changed).\n",
    "* **set** – can store only unique elements – we won’t really look at these.\n",
    "* **dictionary** – also known as associative arrays. They contain mapping of keys into values.\n",
    "* **str** – string, a sequence of characters.\n",
    "\n",
    "Containers in Python can be either **mutable** or **immutable**. Mutable means it can be changed, immutable objects cannot be changed once created. The fact that a container object is immutable doesn’t always mean that the objects it holds are also immutable (e.g., an immutable tuple holding mutable lists).\n",
    "\n",
    "Examples of *mutable containers* include:\n",
    "\n",
    "* list, set, dictionary,\n",
    "\n",
    "Examples of *immutable containers* include:\n",
    "\n",
    "* string, tuple.\n",
    "\n",
    "Container objects can store their content in either an ordered or unordered manner. Orderedness is unrelated to the mutability of objects. This means that both mutable and immutable objects can be either ordered or unordered.\n",
    "\n",
    "Examples of *ordered containers* include:\n",
    "\n",
    "* list, string, tuple\n",
    "\n",
    "Examples of *unordered containers* include:\n",
    "\n",
    "* dictionary, set  (to be complete, dictionaries generally do remember the order of elements in the latest versions of python but that’s a very recent change)\n",
    "\n",
    "From the list above, our new containers that we will spend some time with are **tuples** and **dictionaries**. You already have familiarity with strings and lists."
   ]
  },
  {
   "cell_type": "markdown",
   "metadata": {},
   "source": [
    "## *11.2 In place operation vs new object creation*\n",
    "We will use lists and functions help us understand the difference between _in place_ operations versus _new object_ creation."
   ]
  },
  {
   "cell_type": "markdown",
   "metadata": {},
   "source": [
    "First, we show an example of creating a new list (\"new object creation\") by concatenation. Adding lists this way makes a combined list."
   ]
  },
  {
   "cell_type": "code",
   "execution_count": null,
   "metadata": {},
   "outputs": [],
   "source": [
    "# Run me for a new object creation example!\n",
    "\n",
    "a = [1, 2, 3]\n",
    "b = [4, 5, 6]\n",
    "\n",
    "# Creating a new list by concatenation\n",
    "c = a + b\n",
    "\n",
    "print(a,b)\n",
    "print(c)"
   ]
  },
  {
   "cell_type": "markdown",
   "metadata": {},
   "source": [
    "An \"in place operation\" applies a function or method to the object, but does not assign the result to a variable or new object. Effectively, `.extend()` is a void function that modifies the original list `a`."
   ]
  },
  {
   "cell_type": "code",
   "execution_count": null,
   "metadata": {},
   "outputs": [],
   "source": [
    "# Run me for an in place operation example\n",
    "\n",
    "# In place modification of a, by appending b to a\n",
    "a.extend(b)\n",
    "\n",
    "print(a)"
   ]
  },
  {
   "cell_type": "markdown",
   "metadata": {},
   "source": [
    "Summary of in place opration vs new object creation when combining lists:\n",
    "\n",
    "In place (modifies the original object):\n",
    "\n",
    "* `A.extend(B)` \n",
    "* `A += B` \n",
    "\n",
    "New list (new object): \n",
    "\n",
    "* `A = A + B`\n",
    "\n",
    "In the course we have been treating `A += B` and `A = A + B` interchangeably, but as outlined above they are actually  a bit different. Perhaps the easiest way to see that this is the case is that we could replace `A = A + B` with `C = A + B` and see that `C` is an entirely new object with a name that is distinct from `A` and `B`. However, `A += B` updates `A` and we can see that `C += B` is an entirely different operation than `A += B`."
   ]
  },
  {
   "cell_type": "markdown",
   "metadata": {},
   "source": [
    "This concept of \"in place operation\" versus \"new objectcreation \" also has meaning with functions, for functions can return a new object AND they can also change the values of input objects. For instance:"
   ]
  },
  {
   "cell_type": "code",
   "execution_count": null,
   "metadata": {},
   "outputs": [],
   "source": [
    "# Run me!\n",
    "\n",
    "def swap(a):\n",
    "    b = a[0]\n",
    "    a[0] = a[1]\n",
    "    a[1] = b\n",
    "\n",
    "a = [1, 2, 3]\n",
    "\n",
    "swap(a)\n",
    "print(a)"
   ]
  },
  {
   "cell_type": "markdown",
   "metadata": {},
   "source": [
    "The function swap modifies the list `a` in place (an \"in place operation\").\n",
    "\n",
    "Some Python keywords (http://www.programiz.com/python-programming/keyword-list) work on lists, e.g. `del`, will delete an element from a list as an in-place operation:"
   ]
  },
  {
   "cell_type": "code",
   "execution_count": null,
   "metadata": {},
   "outputs": [],
   "source": [
    "# Run me!\n",
    "\n",
    "list1 = ['physics', 'chemistry', 1997, 2000]\n",
    "print(list1)\n",
    "\n",
    "del list1[2]\n",
    "print (list1)"
   ]
  },
  {
   "cell_type": "markdown",
   "metadata": {},
   "source": [
    "Hopefully this discusison of \"in place operations\" vs \"new object creation\" helps you understand why some (void) functions are able to mofidy objects sent to them as arguments (e.g., `swap(a)` from above) as do many methods (e.g. the list method `a.extend(b)`). "
   ]
  },
  {
   "cell_type": "markdown",
   "metadata": {},
   "source": [
    "## *11.3 Dictionaries*"
   ]
  },
  {
   "cell_type": "markdown",
   "metadata": {},
   "source": [
    "We won’t need to use dictionaries much in our computational physics projects this term, but an introduction to dictionaries will help us make sense of the complicated objects that are going to be sent back by `solve_ivp()`. Python's dictionaries are hash tables (https://en.wikipedia.org/wiki/Hash_table), which means a dictionary is a mapping between collections of objects: *keys* and *values*. Keys can be almost any Python type, but are usually numbers or strings. Values, on the other hand, can be any arbitrary Python object. Dictionaries are enclosed by curly braces `{ }` and values can be assigned and accessed using square brackets `[ ]`.\n",
    "\n",
    "**Read** sections 11.1 to 11.7 in http://greenteapress.com/thinkpython2/html/thinkpython2012.html\n",
    "\n",
    "Here are some basic creation, deletion and visualization tools for dictionaries:"
   ]
  },
  {
   "cell_type": "code",
   "execution_count": null,
   "metadata": {},
   "outputs": [],
   "source": [
    "# Run me for a dictionary creation!\n",
    "\n",
    "a = {'eyecolour':'brown', 'height':152.0, 42:'the answer'}\n",
    "print(a)"
   ]
  },
  {
   "cell_type": "code",
   "execution_count": null,
   "metadata": {},
   "outputs": [],
   "source": [
    "# Run me to see how to append another key/value pair to our dictionary!\n",
    "\n",
    "a['age']=28\n",
    "print(a)"
   ]
  },
  {
   "cell_type": "code",
   "execution_count": null,
   "metadata": {},
   "outputs": [],
   "source": [
    "# Run me to see looking at the sets of keys or values!\n",
    "\n",
    "print(a.keys())\n",
    "print(a.values())"
   ]
  },
  {
   "cell_type": "code",
   "execution_count": null,
   "metadata": {},
   "outputs": [],
   "source": [
    "# Run me to see how delete a key/value pair!\n",
    "\n",
    "del(a['height'])\n",
    "print(a)"
   ]
  },
  {
   "cell_type": "code",
   "execution_count": null,
   "metadata": {},
   "outputs": [],
   "source": [
    "# Run me!\n",
    "\n",
    "b={} # empty dictionary\n",
    "type(b)"
   ]
  },
  {
   "cell_type": "code",
   "execution_count": null,
   "metadata": {},
   "outputs": [],
   "source": [
    "# Run me!\n",
    "\n",
    "b['hello']='Hi!' # add a key/value pair to the empty dictionary\n",
    "b"
   ]
  },
  {
   "cell_type": "markdown",
   "metadata": {},
   "source": [
    "Here is a partial list of dictionary methods:\n",
    "\n",
    "* `dict.clear()` -  Removes all elements of dictionary dict\n",
    "* `dict.copy()` - Returns a shallow copy of dictionary dict\n",
    "* `dict.fromkeys()` - Create a new dictionary with keys from seq and values set to value.\n",
    "* `dict.get(key, default=None)` - For key key, returns value or default if key not in dictionary\n",
    "* `in` keyword - used to find if a value exists as a key, eg: `if key in dict:`\n",
    "* `dict.items()` - Returns a list of dict's (key, value) tuple pairs\n",
    "* `dict.keys()` - Returns list of dictionary dict's keys\n",
    "* `dict.setdefault(key, default=None)` - Similar to get(), but will set `dict[key]=default` if key is not already in dict\n",
    "* `dict.update(dict2)` - Adds dictionary dict2's key-values pairs to dict\n",
    "* `dict.values()` - Returns list of dictionary `dict`'s values"
   ]
  },
  {
   "cell_type": "markdown",
   "metadata": {},
   "source": [
    "## *11.4 Tuples*"
   ]
  },
  {
   "cell_type": "markdown",
   "metadata": {},
   "source": [
    "A tuple is another container data type and is most similar to a list. A tuple consists of a number of values separated by commas. However, unlike lists, tuples are (often) enclosed within parentheses. The main differences between lists and tuples are: Lists are enclosed square in brackets `[ ]`, and their elements and size can be changed, while tuples are usually enclosed in parentheses `( )`, and cannot be changed. The parentheses are not always required. Tuples can be thought of as **read-only** lists since they are **immutable**.\n",
    "\n",
    "Below are some tuples definitions and operations which cover the essentials:"
   ]
  },
  {
   "cell_type": "code",
   "execution_count": null,
   "metadata": {},
   "outputs": [],
   "source": [
    "# Run me!\n",
    "\n",
    "q = (1, 2, 4, 8, 16) # tuple of integers\n",
    "\n",
    "print(q)"
   ]
  },
  {
   "cell_type": "code",
   "execution_count": null,
   "metadata": {},
   "outputs": [],
   "source": [
    "# Run me!\n",
    "\n",
    "r = (4, 'candles', 4.0, 'handles') # can mix types\n",
    "s = ('lonely',)                    # singleton - tuple with 1 element\n",
    "t = ()                             # empty\n",
    "\n",
    "print(r[1])"
   ]
  },
  {
   "cell_type": "code",
   "execution_count": null,
   "metadata": {},
   "outputs": [],
   "source": [
    "# Run me!\n",
    "\n",
    "r[1]='knife' # cannot change tuples"
   ]
  },
  {
   "cell_type": "code",
   "execution_count": null,
   "metadata": {},
   "outputs": [],
   "source": [
    "# Run me!\n",
    "\n",
    "u = 3, 2, 1 # parentheses are not necessary when creating tubples\n",
    "\n",
    "print(u, type(u))\n"
   ]
  },
  {
   "cell_type": "code",
   "execution_count": null,
   "metadata": {},
   "outputs": [],
   "source": [
    "# Run me!\n",
    "v, w = 'this', 'that'\n",
    "tt = v, w\n",
    "\n",
    "print(\"v =\", v, type(v))\n",
    "print(\"w =\", w, type(w))\n",
    "print(\"tt type =\", type(tt))"
   ]
  },
  {
   "cell_type": "markdown",
   "metadata": {},
   "source": [
    "The only tuple methods are `count()` and `index()`. Really, there are only two!\n",
    "\n",
    "Note that, for defining a tuple, the comma `,` is mandatory and parentheses `()` are not:"
   ]
  },
  {
   "cell_type": "code",
   "execution_count": null,
   "metadata": {},
   "outputs": [],
   "source": [
    "# Run me!\n",
    "\n",
    "s1 = ('loner')   # this is not a tuple\n",
    "print(\"s1 = \",type(s1))\n",
    "\n",
    "s2 = ('loaner',) # but this is!\n",
    "print(\"s2 = \", type(s2))\n",
    "\n",
    "s3 = 'lohner',   # so is this.\n",
    "print(\"s3 = \", type(s3))"
   ]
  },
  {
   "cell_type": "markdown",
   "metadata": {},
   "source": [
    "## *11.5 Tuples from the past*"
   ]
  },
  {
   "cell_type": "markdown",
   "metadata": {},
   "source": [
    "In reading assignment 09 we looked at how you can return multiple values from a function using commas. Well, we also just learned that you can make a tuple by assigning multiple values separated by commas to a single (object) variable. So let's revisit one of our example from Reading 09 through this lens:"
   ]
  },
  {
   "cell_type": "code",
   "execution_count": null,
   "metadata": {},
   "outputs": [],
   "source": [
    "# Run me!\n",
    "\n",
    "def fruitful_two_values(n):\n",
    "    this_list = [i for i in range(n)]\n",
    "    return this_list[-1], this_list[-2] # Returns two values\n",
    "\n",
    "two_values = fruitful_two_values(5) # Assigns the two returned values to a single variable\n",
    "\n",
    "print(\"two values = \", two_values)\n",
    "print(\"two values type = \", type(two_values))"
   ]
  },
  {
   "cell_type": "markdown",
   "metadata": {},
   "source": [
    "As you can see, when a `return` statement has multiple objects or variables separated by commas, the function is actually returning a tuple."
   ]
  },
  {
   "cell_type": "markdown",
   "metadata": {},
   "source": [
    "## *11.6 Differential equations and `solve_ivp()`*"
   ]
  },
  {
   "cell_type": "markdown",
   "metadata": {},
   "source": [
    "For one-dimensional projectile motion, we can think of our main equation of motion as\n",
    "\n",
    "$$a(t) = -g.$$\n",
    "\n",
    "Knowing that we can represent acceleration as the second derivative of position, $a=d^2y/dt^2$, we can rewrite the equation above as a second-order differential equation.\n",
    "\n",
    "$$\\frac{d^2y}{dt^2} = -g.$$\n",
    "\n",
    "A second-order differential equation can be turned into a system of first-order differential equations by introducing a substitution. We can introduce a new variable to convert this second-order differential equation into a system of first-order differential equations. Let:\n",
    "\n",
    "$$v = \\frac{dy}{dt}.$$\n",
    "\n",
    "So, now we have two first-order differential equations:\n",
    "\n",
    "$$\\frac{dy}{dt} = v,$$\n",
    "<br>\n",
    "$$\\frac{dv}{dt} = -g.$$"
   ]
  },
  {
   "cell_type": "markdown",
   "metadata": {},
   "source": [
    "We will use this in a moment with `solve_ivp()`, but first let's have a quick reminder of what our one-dimensional projectile Euler's method code looked like. \n",
    "\n",
    "**Our Euler's method code from Reading 09:**"
   ]
  },
  {
   "cell_type": "code",
   "execution_count": null,
   "metadata": {},
   "outputs": [],
   "source": [
    "# Run me!\n",
    "import numpy as np\n",
    "import matplotlib.pyplot as plt\n",
    "\n",
    "def euler(y, v, t, t_end, t_step):\n",
    "    \"\"\"Euler's method integrator\n",
    "    Args:\n",
    "    - y: initial height\n",
    "    - v: initial y-velocity\n",
    "    - t, t_end: start and end time\n",
    "    - t_step: step size\n",
    "    Returns: list of times and corresponding y values\n",
    "    \"\"\"\n",
    "    t_list = [t]\n",
    "    y_list = [y]    \n",
    "    v_list = [v]\n",
    "    a = -9.81  # gravitational acceleration\n",
    "    \n",
    "    while t < t_end:\n",
    "        y = y + t_step * v\n",
    "        v = v + t_step * a\n",
    "        t = t + t_step\n",
    "\n",
    "        y_list.append(y)\n",
    "        v_list.append(v)\n",
    "        t_list.append(t)\n",
    "        \n",
    "    return t_list, y_list\n",
    "\n",
    "## Main part of the program\n",
    "y0, v0 = 0, 10 # Initial position and velocity\n",
    "t0, tmax, dt = 0, 2, 0.01  # Start, end times and step size\n",
    "\n",
    "times, y_results = euler(y0, v0, t0, tmax, dt)\n",
    "\n",
    "plt.plot(times, y_results)\n",
    "plt.title(\"One-dimensional motion (Euler's method)\")\n",
    "plt.xlabel(\"t (s)\")\n",
    "plt.ylabel(\"y (m)\")\n",
    "plt.grid(True)\n",
    "plt.show()"
   ]
  },
  {
   "cell_type": "markdown",
   "metadata": {},
   "source": [
    "Next we will look at how the same code would look if we used `solve_ivp`. Note that the there have been a number of comments added to highlight the differences and commonalities.\n",
    "\n",
    "It is important to note that we no longer need to define a function equivalent to `euler` since it's job has been replaced by `solve_ivp`. Instead, we need to introduce a new function, `diff_eqns` (although you can call it whatever you like), that describes our system of ordinary differential equations or what we would often think of as the code that is describing the physics.\n",
    "\n",
    "**Our updated code using `solve_ivp()`:**"
   ]
  },
  {
   "cell_type": "code",
   "execution_count": null,
   "metadata": {},
   "outputs": [],
   "source": [
    "import numpy as np\n",
    "import matplotlib.pyplot as plt\n",
    "from scipy.integrate import solve_ivp # Need to import solve_ivp\n",
    "\n",
    "# Define the system of ODEs\n",
    "def diff_eqns(t, state):\n",
    "    \"\"\" The system of ordinary differential equations to be solved\n",
    "    - solve_ivp calls this function at each time step\n",
    "    Args:\n",
    "    - t: instantaneous time\n",
    "    - state: the instantaneous variables in the differential \n",
    "      equation describing the state\n",
    "    Returns: the derivatives of 'state'\n",
    "    \"\"\"\n",
    "    \n",
    "    # state = [y, v]\n",
    "    # g: gravitational acceleration\n",
    "    g = 9.81  \n",
    "    \n",
    "    # dy/dt = v, which in this case is that the derivative of\n",
    "    # the first state variable is the second state variable\n",
    "    # - defining this is similar to our use of 'y = y + t_step * v'\n",
    "    #   in Euler's method in that it is telling solve_ivp the\n",
    "    #   slope to use when updating 'y' (state[0])\n",
    "    dydt = state[1]\n",
    "    \n",
    "    # dv/dt = a, which in this case is a constant accleration\n",
    "    # of a = -g\n",
    "    # - defining this is similar to our use of 'v = v + t_step * a'\n",
    "    #   in Euler's method in that it is telling solve_ivp the\n",
    "    #   slope to use when updating 'v' (state[1])\n",
    "    dvdt = -g\n",
    "    \n",
    "    # We return the derivatives of the state variables in the \n",
    "    # form of a list in the same order as the original state\n",
    "    # variable parameter\n",
    "    state_derivatives = [dydt, dvdt]\n",
    "    return state_derivatives\n",
    "\n",
    "# Initial conditions (same as before)\n",
    "y0, v0 = 0, 10  # Initial position and velocity\n",
    "\n",
    "# Instead of a list of times, solve ivp takes the following arguments\n",
    "# t_span: the solver starts at t_span[0] and stops at t_span[1]\n",
    "# t_eval: an array or list of the times steps to be used by the solver\n",
    "#         - if not specified, solve_ivp will decide how many time steps\n",
    "#           and it rarely makes good decisions from this perspective\n",
    "t_start, t_stop = 0, 2\n",
    "t_span = (t_start, t_stop) # from t=0 to t=2\n",
    "# a 201 point array going from t_start to t_stop inclusive\n",
    "t_eval = np.linspace(t_start, t_stop, 201) \n",
    "\n",
    "# Solve the ODE\n",
    "# - In python, you can pass a function as an argument to another function, such as\n",
    "#   our use of the function 'diff_eqns' as an argument here\n",
    "# - Notice that 't_eval' and 'method' are both optional arguments\n",
    "#   where \"RK45\" is the default algorithm, but many are available\n",
    "solution = solve_ivp(diff_eqns, t_span, [y0, v0], t_eval=t_eval, method='RK45')\n",
    "\n",
    "# Our solution object that gets returned is a complicated object\n",
    "# where we can use the following dictionary-style notation\n",
    "# to extract the desired results quantities\n",
    "times = solution['t'] # alternatively 'solution.t'\n",
    "\n",
    "# solve_ivp() uses 'y' to represent the overall state variable (confusing!)\n",
    "# which has both position (y) and velocity (vy) in our case\n",
    "state_results = solution['y']\n",
    "y_results = state_results[0] # alternatively solution.y[0]\n",
    "v_results = state_results[1] # alternatively solution.y[1]\n",
    "\n",
    "# Plotting the solution\n",
    "plt.plot(times, y_results)\n",
    "plt.title(\"One-dimensional motion (solve_ivp method)\")\n",
    "plt.xlabel(\"t (s)\")\n",
    "plt.ylabel(\"y (m)\")\n",
    "plt.grid(True)\n",
    "plt.show()"
   ]
  },
  {
   "cell_type": "markdown",
   "metadata": {},
   "source": [
    "## *11.7 Event detection with `solve_ivp()`*"
   ]
  },
  {
   "cell_type": "markdown",
   "metadata": {},
   "source": [
    "Like with our police-car chase from Homework 01 or scoring a goal in our Electric Field Hockey, we often want to detect events during the motion that will cause our motion simulation to stop or to tag an event for later use. \n",
    "\n",
    "This is done in solve_ivp by making event detection functions and then passing our event detection functions to `solve_ivp()` as a list, such as `events=[event1, event2]` where `event1` and `event2` are our event detection functions in this example. Note that these event detection functions can be named anything you like and it is usually better to use a descriptive name when possible.\n",
    "\n",
    "We will look at a specific example of stopping the solver (the motion simulation) when the projectile gets to the maximum height in the code below, but if you want to read a bit more about these events, you can find the `events` argument in \n",
    "https://docs.scipy.org/doc/scipy/reference/generated/scipy.integrate.solve_ivp.html\n",
    "\n",
    "In addition to passing the argument `events=[max_height]` to `solve_ivp()`, we will add the following to the code below\n",
    "```python\n",
    "def max_height(t, state):\n",
    "    return state[1]  # Event is triggered when this return value crosses 0\n",
    "\n",
    "max_height.terminal = True\n",
    "```\n",
    "The condition for maximum height is when our velocity (`state[1]`) crosses zero (specifically when it goes from positive to negative), which we indicate by providing a `return` statement that will equal `0` when we want the event to trigger. It doesn't actually have to be exactly `0` but instead needs to cross zero, which as mentioned already happens when the velocity goes from positive to negative as the object passes through the maximum height.\n",
    "\n",
    "We also provide a bit more information to `solve_ivp()` by indicating that when this `return 0` condition happens in `max_height()` that the simulation should stop. We do this by setting the .terminal attribute via `max_height.terminal = True`. If we just wanted to save the time that it happens at for later use, we could instead use `max_height.terminal = False`.\n",
    "\n",
    "By default, the event will trigger when `return 0` is crossed from positive to negative or from negative to positive, but if you want to specify the direction, you can use the `.direction` attribute: \n",
    "* `max_height.direction = -1`: events will only be found when going from positive to negative values, which is what we would want if we needed to specify the direction for this example. We don't need to specify it in this example because our initial conditions and acceleration in the negative direction mean the velocity will only ever cross 0 going from positive to negative so we can leave it as the default value of 0 (see below). \n",
    "* `max_height.direction = 1`: events will only be found when going from negative to positive values, which would be nonsense for this simulation, but could be used to detect a ball bouncing off the ground, for example. \n",
    "* `max_height.direction = 0` this is the default when `.direction` has not been set and events will be found in both directions.\n",
    "\n",
    "We include a commented-out line `# max_height.direction = -1` to show how you would include `.direction` in this example if you chose to do so. "
   ]
  },
  {
   "cell_type": "code",
   "execution_count": null,
   "metadata": {},
   "outputs": [],
   "source": [
    "def max_height(t, state):\n",
    "    return state[1]  # Event is triggered when this return value crosses 0\n",
    "\n",
    "max_height.terminal = True\n",
    "# max_height.direction = -1 \n",
    "\n",
    "# Initial conditions\n",
    "y0, v0 = 0, 10  # Initial position and velocity\n",
    "\n",
    "# Time\n",
    "t_start, t_stop = 0, 2\n",
    "t_span = (t_start, t_stop)\n",
    "t_eval = np.linspace(t_start, t_stop, 201) \n",
    "\n",
    "solution = solve_ivp(diff_eqns, t_span, [y0, v0], t_eval=t_eval, events=[max_height])\n",
    "\n",
    "times = solution.t\n",
    "y_results = solution.y[0]\n",
    "v_results = solution.y[1]\n",
    "\n",
    "# Output the time at which maximum height is achieved\n",
    "# - solution.t_events[0] is the first time at which our event 'max_height' is triggered\n",
    "t_max_height = solution.t_events[0]\n",
    "print(f\"Time when projectile reaches maximum height: {t_max_height[0]:.4f} s\")\n",
    "\n",
    "# Plotting the solution\n",
    "plt.plot(times, y_results)\n",
    "plt.title(\"One-dimensional motion (solve_ivp method)\")\n",
    "plt.xlabel(\"t (s)\")\n",
    "plt.ylabel(\"y (m)\")\n",
    "plt.grid(True)\n",
    "plt.show()"
   ]
  },
  {
   "cell_type": "markdown",
   "metadata": {},
   "source": [
    "### Your turn: event detection in `solve_ivp()`\n",
    "In the copy of the code below (where we have renamed the event function to `event1`), see if you can figure out how change the function `event1()` and its attribute `event1.direction` to make the simulation stop when each of the following conditions are met. Note that you will likely have to increase `t_stop` to have the simulation run long enough to trigger some of these. If you are struggling to understand how to do some of the formatting, the last **Self-assessment** question above specifically asks about the first one of these and the answers to #2 and #3 are at the end of this notebook.\n",
    "\n",
    "1. Have the simulation stop when the object gets to `y = 4 m` on the way down.\n",
    "1. Have the simulation stop when the object gets to `y = 4 m` on the way up.\n",
    "1. Have the simulation stop when the object's speed is greater than 12 m/s."
   ]
  },
  {
   "cell_type": "code",
   "execution_count": null,
   "metadata": {},
   "outputs": [],
   "source": [
    "def event1(t, state):\n",
    "    return state[1] # Event is triggered when 0 is returned\n",
    "\n",
    "event1.terminal = True\n",
    "# event1.direction = -1 \n",
    "\n",
    "## The rest of the code is the same as before\n",
    "\n",
    "# Initial conditions\n",
    "y0, v0 = 0, 10  # Initial position and velocity\n",
    "\n",
    "# Time\n",
    "t_start, t_stop = 0, 2\n",
    "t_span = (t_start, t_stop)\n",
    "t_eval = np.linspace(t_start, t_stop, 201) \n",
    "\n",
    "solution = solve_ivp(diff_eqns, t_span, [y0, v0], t_eval=t_eval, events=[event1])\n",
    "\n",
    "times = solution.t\n",
    "y_results = solution.y[0]\n",
    "v_results = solution.y[1]\n",
    "\n",
    "# Output the time at which event1 was triggered\n",
    "t_event1 = solution.t_events[0]\n",
    "print(f\"event1 was triggered at: {t_event1[0]:.4f} s\")\n",
    "\n",
    "# Plotting the solution\n",
    "plt.plot(times, y_results)\n",
    "plt.title(\"One-dimensional motion (solve_ivp method)\")\n",
    "plt.xlabel(\"t (s)\")\n",
    "plt.ylabel(\"y (m)\")\n",
    "plt.grid(True)\n",
    "plt.show()"
   ]
  },
  {
   "cell_type": "markdown",
   "metadata": {},
   "source": [
    "## *11.8 Next steps with event detection with `solve_ivp()`*\n",
    "In the future we will look at flagging multiple different types of events without stopping the solver (the simulation). "
   ]
  },
  {
   "cell_type": "markdown",
   "metadata": {},
   "source": [
    "## *Submitting this reading assignment*\n",
    "Before submitting your work, restart + rerun your notebook to make sure that your self-assessmet questions run correctly and without error. We will only check that the Self-assessment questions at the start of the assignment have run correctly. After you've executed and checked your notebook, choose: File >> Save_and_Export_Notebook_As >> HTML. This will download an HTML version of your notebook to your computer which you can upload to Canvas"
   ]
  },
  {
   "cell_type": "markdown",
   "metadata": {},
   "source": [
    "## *Answers to Your Turn #2 and #3*\n",
    "Your turn #2\n",
    "```python\n",
    "def event1(t, state):\n",
    "    return state[0] - 4 # Crosses y - 4 = 0\n",
    "\n",
    "event1.direction = 1 \n",
    "```\n",
    "Your turn #3\n",
    "```python\n",
    "def event1(t, state):\n",
    "    return state[1] + 12 # Crosses y - (-12) = 0\n",
    "\n",
    "event1.direction = -1 \n",
    "```"
   ]
  },
  {
   "cell_type": "code",
   "execution_count": null,
   "metadata": {},
   "outputs": [],
   "source": []
  }
 ],
 "metadata": {
  "kernelspec": {
   "display_name": "Python 3",
   "language": "python",
   "name": "python3"
  },
  "language_info": {
   "codemirror_mode": {
    "name": "ipython",
    "version": 3
   },
   "file_extension": ".py",
   "mimetype": "text/x-python",
   "name": "python",
   "nbconvert_exporter": "python",
   "pygments_lexer": "ipython3",
   "version": "3.7.6"
  }
 },
 "nbformat": 4,
 "nbformat_minor": 4
}
