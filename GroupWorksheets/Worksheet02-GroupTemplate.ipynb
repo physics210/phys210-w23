{
 "cells": [
  {
   "cell_type": "markdown",
   "metadata": {},
   "source": [
    "# Day 02 Group Worksheet\n",
    "Sept 11, 2023"
   ]
  },
  {
   "cell_type": "markdown",
   "metadata": {},
   "source": [
    "If you're working on CoCalc, it's good to rename your notebook with a fun group name and to include your names below so that you can easily find it later for reference."
   ]
  },
  {
   "cell_type": "markdown",
   "metadata": {},
   "source": [
    "* Fun group name:   \n",
    "* Group members:   "
   ]
  },
  {
   "cell_type": "markdown",
   "metadata": {},
   "source": [
    "## 2.1 Playing with syntax\n",
    "In the cell below, try out each of the following. In a few words, explain the results in the cell below that\n",
    "1. In printed math notation, you can multiply x and y like this: $xy$.  What happens if you try that in python?\n",
    "1. What if you import numpy as np, but call numpy.sin(2)?\n",
    "1. What is the difference between using `+` and `*` for strings and numbers?\n",
    "1. Can you use `-` or `/` on strings?\n",
    "1. Is there a difference between defining a string as `string1 = 'all the words'` vs `string2 = \"all the words\"`? Can you define one by mixing the two, `string3 = 'all the words\"`?\n",
    "1. You can use a minus sign to make a negative number like -2. What happens if you put a plus sign before a number? What about `2++2` or `2 ++ +2`?\n",
    "1. In math notation, leading zeros are ok, as in 09. What happens if you try this in Python?"
   ]
  },
  {
   "cell_type": "code",
   "execution_count": null,
   "metadata": {},
   "outputs": [],
   "source": [
    "# Do your testing here\n",
    "\n"
   ]
  },
  {
   "cell_type": "markdown",
   "metadata": {},
   "source": [
    "Put your responses to \"Playing with syntax\" in this cell:\n",
    "\n",
    "1. ...\n",
    "1. ...\n",
    "1. ...\n",
    "1. ...\n",
    "1. ...\n",
    "1. ...\n",
    "1. ..."
   ]
  },
  {
   "cell_type": "markdown",
   "metadata": {},
   "source": [
    "Put your responses to \"Playing with syntax\" in this cell:\n",
    "\n",
    "1. Sticking two variables x and y together as in xy refers to a completely different variable, which will make an error if it hasn't been defined.\n",
    "1. if you import numpy as np but then try to call numpy.sin you'll get an error\n",
    "1. `+` and `*` are addition and multiplication for numbers, but are concatenation and repetition for strings\n",
    "1. `-` and `/` don't work with strings\n",
    "1. 'all the words' and \"all the words\" are identical beyond the fact that if you want to include one kind of quote inside your string, use the other kind to start and end it\n",
    "1. Extra `+` signs in front of numbers are ignored\n",
    "1. Leading zeros as in 09 produce an error"
   ]
  },
  {
   "cell_type": "markdown",
   "metadata": {},
   "source": [
    "## 2.2 Debugging\n",
    "The code in the following cell should print: \n",
    "```\n",
    "sin(1.987) =  \n",
    "x.xxxxx\n",
    "is less than 8 is True\n",
    "```\n",
    "Find and correct the mistakes (there are a few). `x.xxxxx` represents that actual numerical value of sin for that value to the number of decimal places specified."
   ]
  },
  {
   "cell_type": "code",
   "execution_count": null,
   "metadata": {},
   "outputs": [],
   "source": [
    "print(sin(1.987) = )\n",
    "print( np.sin(1.987))\n",
    "\n",
    "Sometext = 'ibidbu is less than dodi'\n",
    "subtext = Sometext[6:17]\n",
    "A = 16/2\n",
    "print(subtext , A, \"is\", (A > np.sin(1.987)))"
   ]
  },
  {
   "cell_type": "markdown",
   "metadata": {},
   "source": [
    "## 2.3 Math practice\n",
    "\n",
    "Zerubbabel says they are 1525465600 seconds old. Use python to print their age in years, days, hours and seconds. Your program should print a line that looks like: \n",
    "```\n",
    "Zerubbabel is x years, y days, z hours and m seconds old\n",
    "```\n",
    "where `x`, `y`, `z`, and `m` are replaced with the appropriate numbers. Let's choose not to discuss the fact that by the time you figure out their age, they will already be older.\n",
    "\n",
    "Ignore leap years (assume every year has 365 days).\n",
    "\n",
    "Use string concatenation or string formatting to print it all in one statement  \n",
    "\n",
    "Hint: to convert from one variable type to another, you can use `str()` or `int()`."
   ]
  },
  {
   "cell_type": "code",
   "execution_count": null,
   "metadata": {},
   "outputs": [],
   "source": [
    "# Code for Zerubbabel's age here.\n",
    "\n"
   ]
  },
  {
   "cell_type": "markdown",
   "metadata": {},
   "source": [
    "## 2.4 String formatting with some help from generative AI\n",
    "\n",
    "We're going to get a hand from generative AI for a couple of different tasks with this question. The following is a list of places that you can use ChatGPT for free, but if you have other generative AI that you would prefer to interact with, you can use those services to complete these tasks as well:\n",
    "\n",
    "* https://chat.openai.com/ - requires a free account\n",
    "* https://www.bing.com/new - provides references; requires that you are using the Microsoft Edge web browser; click on \"Chat now\" and then the \"More precice\" conversation style\n",
    "* https://cocalc.com/ - also requires a free account, but you already have one of those\n",
    "* https://www.perplexity.ai/ - provides references; does not require an account\n",
    "\n",
    "Each of these services can look and feel quite different to interact with despite the fact that they all are primarily using ChatGPT. Within your group, try to spread yourself across as many different services as you can so that you can compare notes.\n",
    "\n",
    "**Task 1:**\n",
    "* Use your chosen service to learn how to get a value for 1/e in python. An example prompt you could use is \"How do I calculate 1/e in python?\", but you should experiment to learn different ways to write a prompt. Ask it how to get values for pi, tau and other mathematical constant using different styles of prompts. What happens if you ask it to specifically use the math or numpy libraries? What happens if you ask it for a function as opposed to a constant?\n",
    "* Compare with the other people in your group and record a few notes on what you learned about the different services or different ways of creating generative AI prompts\n"
   ]
  },
  {
   "cell_type": "markdown",
   "metadata": {},
   "source": [
    "**Your group's notes on task 1:**\n",
    "* ...\n",
    "* ...\n",
    "* ..."
   ]
  },
  {
   "cell_type": "markdown",
   "metadata": {},
   "source": [
    "**Task 2:**\n",
    "* You are going to use your preferred string formatting method to create a string \"In one time constant a value decays to 1/e or 36.8% of its original value\" using a string variable `oneovere = \"1/e\"` and your preferred method of determining a value for 1/e from task 1. Recall that the string formatting methods are percent-style string formatting (old style), str.format() (new style) and f-strings.\n",
    "* Apply your string formatting method to `my_string` to incorporate `oneovere` and `value` in a way that will give the desired output to pass the assert statement\n",
    "* Your group can choose to all work on your individual preferred methods, team-up to work on one method, or divide up the different string formatting approaches between group members"
   ]
  },
  {
   "cell_type": "code",
   "execution_count": null,
   "metadata": {},
   "outputs": [],
   "source": [
    "# Update the code to pass the assert statement\n",
    "\n",
    "oneovere = \"1/e\"\n",
    "value = 1 # Use a math or numpy constant or function\n",
    "my_string = \"After one time constant a value decays to (something) or (something else) of its original value\""
   ]
  },
  {
   "cell_type": "code",
   "execution_count": null,
   "metadata": {},
   "outputs": [],
   "source": [
    "assert my_string == \"After one time constant a value decays to 1/e or 36.8% of its original value\""
   ]
  },
  {
   "cell_type": "markdown",
   "metadata": {},
   "source": [
    "**Task 3:**\n",
    "* Use one or more of the generative AI services to convert your formatted string from one string formatting method to another. Try to figure out the most concise prompt needed to do this"
   ]
  },
  {
   "cell_type": "markdown",
   "metadata": {},
   "source": [
    "**Your group's most concise prompt for the conversion:**\n",
    "* ..."
   ]
  },
  {
   "cell_type": "markdown",
   "metadata": {},
   "source": [
    "## 2.5 Practice with indexing strings among us\n",
    "Someone in this class is an imposter and sent out a secret message to reveal their identity to the other imposters in class. Write code in python to complete the steps below to find out who it is!\n",
    "```\n",
    "A = 'Dsjhsofdjinwraebsebyiuhjijenrheegrbeqiloieskjbdkb'\n",
    "```\n",
    "**Hints:**\n",
    "1. Remember the difference between element number (how most of us are used to counting) and index, which starts at 0 for the left-most element.\n",
    "1. Also remember that negative indices start at the right-most element, with an index of -1\n",
    "\n",
    "**Steps: (use python code to do all of the steps)**\n",
    "\n",
    "* The first letter:\n",
    "    1. Get the number of times ‘o’ appears in elements 2 to 8 in the string\n",
    "    2. This is the index of string A which is the first letter\n",
    "    3. Capitalize it\n",
    "\n",
    "\n",
    "* The second letter:\n",
    "    1. Take the length of the string A, divide it by 7 and add 3   \n",
    "    2. The answer from 1 is the negative index of the second letter. This means that if you calculated `5` in step 1, you are looking for the letter found at `A[-5]`. Don't forget that an index must be an integer.\n",
    "\n",
    "\n",
    "* The third letter:\n",
    "    1. Create a string that is made up of every second letter from index 14 to index 34 (inclusive). You may wish to ask ChatGPT for help in making a string with every second letter. We will learn more about this on day 3 when we are learning about lists.\n",
    "    2. Find the number of times the letter ‘i’ is in this substring and raise it to the power of 2. This is the index of the third letter\n",
    "\n",
    "\n",
    "* Fourth Letter:\n",
    "    1. Add the number of times the letter ‘e’ appears to the number of times the letter ‘c’ appears (in the whole string). Use this as a negative index to determine the fourth letter."
   ]
  },
  {
   "cell_type": "code",
   "execution_count": null,
   "metadata": {},
   "outputs": [],
   "source": [
    "# Code for your answer here\n",
    "\n"
   ]
  }
 ],
 "metadata": {
  "kernelspec": {
   "display_name": "Python 3",
   "language": "python",
   "name": "python3"
  },
  "language_info": {
   "codemirror_mode": {
    "name": "ipython",
    "version": 3
   },
   "file_extension": ".py",
   "mimetype": "text/x-python",
   "name": "python",
   "nbconvert_exporter": "python",
   "pygments_lexer": "ipython3",
   "version": "3.7.6"
  }
 },
 "nbformat": 4,
 "nbformat_minor": 4
}
