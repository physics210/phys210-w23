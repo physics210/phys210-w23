{
 "cells": [
  {
   "cell_type": "markdown",
   "metadata": {
    "id": "s7LPEdMxDJwD"
   },
   "source": [
    "# PHYS 210, Solo Worksheet 03\n",
    "Due Monday, Sep 18, 2023 at the start of class on Canvas"
   ]
  },
  {
   "cell_type": "markdown",
   "metadata": {
    "id": "q1_8qSQc3VRA"
   },
   "source": [
    "## *3.1 Motion diagram*\n",
    "\n",
    "Using a `while` loop, write a small program that displays a representation of motion of a constant-velocity object moving across a 10 \"pixel\" track using print statements. Below are two examples where one frame refers to a printed line."
   ]
  },
  {
   "cell_type": "markdown",
   "metadata": {
    "id": "UJJIXfI_3VRC"
   },
   "source": [
    "**Example 1:** v = 1 (pixels/frame)\n",
    "```\n",
    "o_________               \n",
    "_o________          \n",
    "__o_______          \n",
    "___o______          \n",
    "____o_____          \n",
    "_____o____          \n",
    "______o___          \n",
    "_______o__          \n",
    "________o_          \n",
    "_________o                   \n",
    "```\n",
    "**Example 2:** v = 2 (pixels/frame)\n",
    "```\n",
    "o_________               \n",
    "___o______          \n",
    "______o___          \n",
    "_________o                  \n",
    "```"
   ]
  },
  {
   "cell_type": "markdown",
   "metadata": {
    "id": "iff-cMAg3VRF"
   },
   "source": [
    "In your program, you should be able to change `v` such that v represents the number of pixels the object moves each frame. Although you can assume that `v` will always be an integer, you should include some conditional logic so that\n",
    "1. It never enters the loop when `v = 0`\n",
    "1. It does not display any frames for situations where only one frame would be displayed (see examples below)\n",
    "\n",
    "Not required, but try to build your program so that you use a single dynamic print statement within your loop instead of conditional logic leading to 10 different possible print statements.\n",
    "\n",
    "Check your output for the following values of `v`:\n",
    "* `v = 0`: Nothing should be printed\n",
    "* `v = 1` and `v = 2`: the above examples should be reproduced\n",
    "* `v = 7`: two lines should be printed\n",
    "* `v = 17`: no lines should be printed\n",
    "* `v = -3`: no lines should be printed\n",
    "\n",
    "**Optional bonus task:** Try to make the object bounce off the right wall. Share ***your output*** (not your code) for v = 3 on Piazza."
   ]
  },
  {
   "cell_type": "code",
   "execution_count": null,
   "metadata": {
    "id": "Ff1ylCva3VRI"
   },
   "outputs": [],
   "source": [
    "# Your code here\n",
    "\n",
    "v = int(1) # force this to always be an integer\n",
    "\n",
    "# while loop\n"
   ]
  },
  {
   "cell_type": "markdown",
   "metadata": {
    "id": "fz_u0eb53VRP"
   },
   "source": [
    "## *3.2 Square root estimate: Heron's method*\n",
    "You are going to implement Heron's method (https://en.wikipedia.org/wiki/Methods_of_computing_square_roots#Heron's_method) for estimating a square root.\n",
    "\n",
    "Using the notation from Wikipedia, our value for which we are trying to find the square root is $S$. Our initial guess of the square root is $x_0$ and then each iterative refinement of the square root estimate is given by\n",
    "\n",
    "$$x_{n+1} = \\frac{1}{2} \\left( x_n + \\frac{S}{x_n} \\right).$$\n",
    "\n",
    "\n",
    "\n",
    "Using a while loop, build a program that\n",
    "1. Does a maximum of 50ish iterations and indicates \"Maximum iterations reached without convergence\" when it hits that threshold.\n",
    "1. Always uses an initial guess of $x_0 = S.$\n",
    "1. Prints out the estimate, $x_n$, and the iteration number, $n$ for each iteration\n",
    "1. Estimates the square root with a maximum relative error of 0.0001 (0.01%). If $val$ is the actual correct square root, this would mean we want <br><br>\n",
    "$$abs \\left(\\frac{x_n - val}{val} \\right) < 0.0001 $$\n",
    "<br>\n",
    "1. Once the difference between the actual correct square root, $val$, (you can use `np.sqrt()`) and the estimated value has a relative error of less than 0.0001, that should be the final iteration.\n",
    "1. Does not try to estimate the square root of a negative number.\n",
    "\n",
    "Investigate how many iterations it takes for values of $S = 100$, $S = 10,000$, and $S = 1,000,000.$ You should find that it takes 6, 9 and 13 iterations, respectively."
   ]
  },
  {
   "cell_type": "code",
   "execution_count": null,
   "metadata": {},
   "outputs": [],
   "source": [
    "# Your code here\n",
    "\n"
   ]
  },
  {
   "cell_type": "markdown",
   "metadata": {
    "id": "KKBcgJ-fDJwg"
   },
   "source": [
    "## *Completing this solo worksheet and submitting it to Canvas*"
   ]
  },
  {
   "cell_type": "markdown",
   "metadata": {
    "id": "bDmgj-cYDJwg"
   },
   "source": [
    "Before submitting your work, restart + rerun your entire notebook to make sure that everything runs correctly and without error.\n",
    "\n",
    "To do this:\n",
    "1. **Restart & Run All:** From the \"Kernel\" menu to the right of the \"Cell\" menu, select \"Restart & Run All\". This will restart the python Kernel, erasing all variables currently stored in memory so that when you \"Run All\" cells, you can ensure that if you were to run your notebook again on a later day, it would run as intended.\n",
    "1. Look through the whole notebook and make sure there are no errors. Many questions have purposeful errors in the distributed version so make sure you have fixed them all such that \"Restart & Run All\" will run through the whole book and successfully print \"The notebook ran without errors\" at the end. If you have any trouble resolving the errors, please ask one of your classmates or ask us in class or on Piazza.\n",
    "\n",
    "**Export notebook as HTML:** After you've executed and checked your notebook, choose: File => Save_and_Export_Notebook_As => HTML. This will download an HTML version of your notebook to your computer. This version is can not be executed or modified. You may need to disable any pop-up blockers to allow the file to be downloaded.\n",
    "\n",
    "**Submit to Canvas:** Submit the html file that you just downloaded to the Solo Worksheet Day 03 submission assignment on Canvas.\n",
    "\n",
    "**Other stuff to do:**\n",
    "* Don't forget about your Day 04 Reading, due Monday at 7 am."
   ]
  },
  {
   "cell_type": "code",
   "execution_count": null,
   "metadata": {
    "id": "06eWAWMiDJwh",
    "tags": []
   },
   "outputs": [],
   "source": [
    "print(\"The notebook ran without errors\")"
   ]
  }
 ],
 "metadata": {
  "colab": {
   "provenance": []
  },
  "kernelspec": {
   "display_name": "Python 3",
   "language": "python",
   "name": "python3"
  },
  "language_info": {
   "codemirror_mode": {
    "name": "ipython",
    "version": 3
   },
   "file_extension": ".py",
   "mimetype": "text/x-python",
   "name": "python",
   "nbconvert_exporter": "python",
   "pygments_lexer": "ipython3",
   "version": "3.7.6"
  }
 },
 "nbformat": 4,
 "nbformat_minor": 1
}
