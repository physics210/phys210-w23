{
 "cells": [
  {
   "cell_type": "markdown",
   "metadata": {},
   "source": [
    "# Pre-class Reading: Day 15 (Oct 30, 2023)<br>Monte Carlo Methods 1\n",
    "Learning goals\n",
    "1. Define pseudorandom number\n",
    "1. Generate pseudorandom numbers using various functions from `np.random`\n",
    "1. Use a seed when generating random numbers and be able to describe situations in which using a seed would be useful\n",
    "1. Use Monte Carlo integration to approximate definite integrals or areas\n",
    "1. Appreciate the breadth of systems and problems that can be solved using Monte Carlo methods"
   ]
  },
  {
   "cell_type": "markdown",
   "metadata": {},
   "source": [
    "## *Self-assessment questions*\n",
    "\n",
    "**If you can already answer these correctly, you can skip the rest of the reading assignment and submit it. Otherwise, complete the rest of the reading assignment and return to these questions to test what you learned. You might decide you would benefit from further review before class.**\n",
    "\n",
    "Note that these questions can often be answered easily by running the provided code, so the intellectual work on your part is figuring out the correct answer and then running the code to check your answer.\n",
    "\n",
    "Please ensure all of these self-assessment questions are answered correctly before submitting this pre-class reading assignment. The *Your Turn* questions, found throughout the rest of this assignment, are for your practice as you learn this material and do not need to be answered correctly to receive full completion marks for this pre-class reading assignment."
   ]
  },
  {
   "cell_type": "markdown",
   "metadata": {},
   "source": [
    "### Self-assessment question 15.1\n",
    "\n",
    "Which of the following methods will result in the array `y` having the value 37 appear approximately ten times?\n",
    "\n",
    "**Method 1:**\n",
    "```python\n",
    "arr1 = np.array([1, 2, 37, 37])\n",
    "y = np.random.choice(arr1, size=20)\n",
    "```\n",
    "\n",
    "**Method 2:**\n",
    "```python\n",
    "arr2 = np.array([1, 2, 37])\n",
    "prob = [0.25, 0.25, 0.50]\n",
    "y = np.random.choice(arr2, size=20, p=prob)\n",
    "```\n",
    "\n",
    "A) Method 1 only<br>\n",
    "B) Method 2 only<br>\n",
    "C) Both methods<br>\n",
    "D) Neither method"
   ]
  },
  {
   "cell_type": "code",
   "execution_count": null,
   "metadata": {},
   "outputs": [],
   "source": [
    "# Code testing area to help answer this question\n"
   ]
  },
  {
   "cell_type": "code",
   "execution_count": null,
   "metadata": {},
   "outputs": [],
   "source": [
    "# Enter your answer inside the string quotes and run this cell to check your anwer\n",
    "\n",
    "answer = \"\"\n",
    "\n",
    "import hashlib\n",
    "assert answer in ['A', 'B', 'C', 'D'], \"Your answer did not match any of the choices\"\n",
    "assert hashlib.sha256(answer.encode()).hexdigest() == \\\n",
    "    '6b23c0d5f35d1b11f9b683f0b0a617355deb11277d91ae091d399c655b87940d', \"Your answer is incorrect\"\n",
    "print(\"Your answer\", answer, \"is correct\") # Passed all assert statements above"
   ]
  },
  {
   "cell_type": "markdown",
   "metadata": {},
   "source": [
    "### Self-assessment question 15.2\n",
    "\n",
    "Why is it important to set a seed value in random number generation when testing or debugging algorithms?\n",
    "   \n",
    "A) To ensure reproducibility of results <br>\n",
    "B) To generate truly random sequences <br>\n",
    "C) To speed up the random number generation process <br>\n",
    "D) To meet regulatory requirements <br>\n",
    "   \n"
   ]
  },
  {
   "cell_type": "code",
   "execution_count": null,
   "metadata": {},
   "outputs": [],
   "source": [
    "# Code testing area to help answer this question\n",
    "\n",
    "\n"
   ]
  },
  {
   "cell_type": "code",
   "execution_count": null,
   "metadata": {},
   "outputs": [],
   "source": [
    "# Enter your answer inside the string quotes and run this cell to check your anwer\n",
    "\n",
    "answer = \"\"\n",
    "\n",
    "import hashlib\n",
    "assert answer in ['A', 'B', 'C', 'D'], \"Your answer did not match any of the choices\"\n",
    "assert hashlib.sha256(answer.encode()).hexdigest() == \\\n",
    "    '559aead08264d5795d3909718cdd05abd49572e84fe55590eef31a88a08fdffd', \"Your answer is incorrect\"\n",
    "print(\"Your answer\", answer, \"is correct\") # Passed all assert statements above"
   ]
  },
  {
   "cell_type": "markdown",
   "metadata": {},
   "source": [
    "### Self-assessment question 15.3\n",
    "\n",
    "Review the radioactive decay simulation in Section 15.5 below (the last section in this notebook). In the simulation, how is it determined if a *particular atom* decays during a given time step?\n",
    "\n",
    "A) If a random number generated for that atom is less than the decay probability \n",
    "`p`<br>\n",
    "B) If any of the random number generated during that time step are less than the decay probability `p`<br>\n",
    "C) The total number of random numbers generated that are less than the decay probability<br>\n",
    "D) If a random number generated for that atom exceeds the half-life<br>\n",
    "E) If the random number generated is less than N, the current number of atoms"
   ]
  },
  {
   "cell_type": "code",
   "execution_count": null,
   "metadata": {},
   "outputs": [],
   "source": [
    "# Code testing area to help answer this question\n",
    "\n",
    "\n"
   ]
  },
  {
   "cell_type": "code",
   "execution_count": null,
   "metadata": {},
   "outputs": [],
   "source": [
    "# Enter your answer inside the string quotes and run this cell to check your anwer\n",
    "\n",
    "answer = \"\"\n",
    "\n",
    "import hashlib\n",
    "assert answer in ['A', 'B', 'C', 'D', 'E'], \"Your answer did not match any of the choices\"\n",
    "assert hashlib.sha256(answer.encode()).hexdigest() == \\\n",
    "    '559aead08264d5795d3909718cdd05abd49572e84fe55590eef31a88a08fdffd', \"Your answer is incorrect\"\n",
    "print(\"Your answer\", answer, \"is correct\") # Passed all assert statements above"
   ]
  },
  {
   "cell_type": "markdown",
   "metadata": {},
   "source": [
    "## *15.1 Introduction*"
   ]
  },
  {
   "cell_type": "markdown",
   "metadata": {},
   "source": [
    "We are going to learn how to model various types of processes using random numbers:\n",
    "\n",
    "* **Random processes** - One example is radioactive decay, where it is not possible to know exactly when any particular atom will decay, and\n",
    "* **Processes that are most easily modeled or approximated using randomness** - Brownian motion is much more practical to model as a random process, but if we knew the positions and velocities of all of the surrounding molecules, we could model it deterministically. \n",
    "\n",
    "Let's look at how randomness works in computing as we start learning how to use random inputs to model systems and solve problems computationally, which is most commonly known as a Monte Carlo (MC) simulation or method. At their core they involve:\n",
    "\n",
    "1. Drawing a set of random inputs from a probability distribution.\n",
    "2. Performing deterministic calculations on these inputs and/or drawing further sets of random inputs to model intermediate behaviours and interactions.\n",
    "3. Aggregating these results to get an approximation."
   ]
  },
  {
   "cell_type": "markdown",
   "metadata": {},
   "source": [
    "## *15.2 Pseudorandom numbers*"
   ]
  },
  {
   "cell_type": "markdown",
   "metadata": {},
   "source": [
    "Let's generate our first random numbers. When numpy, and similar libraries perform \"random\" operations, they usually return \"pseudorandom\" results. Pseudorandom numbers are numbers that are generated in a deterministic manner, using an algorithm, but which appear to be random. As we will see in a moment, when we provide an algorithm that generates pseudorandom numbers the same initial state (typically known as a \"seed\"), the sequence of pseudorandom numbers will always be the same. This is in contrast to true random numbers, which are not deterministic and cannot be predicted. Importantly, for our purposes the statistical behvaiour of these pseudorandom numbers is indistiguishable from true random numbers.\n",
    "\n",
    "If you would like to learn more about how numpy performs these operations, you can read the detailed account of it here: https://numpy.org/doc/stable/reference/random/index.html"
   ]
  },
  {
   "cell_type": "markdown",
   "metadata": {},
   "source": [
    "Let's create an array of 5 random numbers. Run this cell multiple times to see that the numbers continue to be different each time they are generated."
   ]
  },
  {
   "cell_type": "code",
   "execution_count": null,
   "metadata": {},
   "outputs": [],
   "source": [
    "# np.random.rand returns random floats in the half-open interval [0.0, 1.0).\n",
    "\n",
    "import numpy as np\n",
    "np.random.rand(5)"
   ]
  },
  {
   "cell_type": "markdown",
   "metadata": {},
   "source": [
    "Let's briefly look at using a seed to generate these numbers, while recognizing that if we do not specify the seed, a default seed is provided to the function using a nondeterministic piece of information from the computing system.\n",
    "\n",
    "When we specify a seed of `8000` below, we are telling the random number generating algorithm the initial state from which it should generate all of its pseudorandom numbers. "
   ]
  },
  {
   "cell_type": "code",
   "execution_count": null,
   "metadata": {},
   "outputs": [],
   "source": [
    "# Run this cell multiple times and notice the output never changes\n",
    "\n",
    "np.random.seed(8000) # seed = 8000\n",
    "np.random.rand(5)"
   ]
  },
  {
   "cell_type": "markdown",
   "metadata": {},
   "source": [
    "## *15.3 Using Monte Carlo methods to approximate the value of π*"
   ]
  },
  {
   "cell_type": "markdown",
   "metadata": {},
   "source": [
    "We will look at a common starting example of using the technique of Monte Carlo methods to approximate the value of π. \n",
    "\n",
    "To so this we will\n",
    "\n",
    "1. Randomly generate points uniformly inside a unit square ($R=1$).\n",
    "2. Determine how many of these points fall inside a quarter circle inscribed in the square.\n",
    "3. The ratio of the points inside the quarter circle ($N_{in}$) to the total number of points ($N_{tot}$), multiplied by 4, provides an approximation of π, as shown by\n",
    "\n",
    "$$4\\frac{N_{in}}{N_{tot}} = 4\\frac{A_{\\mbox{quarter circle}}}{A_{\\mbox{unit square}}}=4\\frac{\\pi R^2/4}{R^2}=\\pi$$"
   ]
  },
  {
   "cell_type": "markdown",
   "metadata": {},
   "source": [
    "Let's quickly visualize how this will work. In the figure below, $N_{in}$ is our total number of red points and $N_{tot}$ is our total number of points."
   ]
  },
  {
   "cell_type": "code",
   "execution_count": 1,
   "metadata": {},
   "outputs": [
    {
     "ename": "NameError",
     "evalue": "name 'ax' is not defined",
     "output_type": "error",
     "traceback": [
      "\u001b[1;31m---------------------------------------------------------------------------\u001b[0m",
      "\u001b[1;31mNameError\u001b[0m                                 Traceback (most recent call last)",
      "\u001b[1;32m<ipython-input-1-c5db59e409cc>\u001b[0m in \u001b[0;36m<module>\u001b[1;34m\u001b[0m\n\u001b[0;32m     15\u001b[0m \u001b[0mplt\u001b[0m\u001b[1;33m.\u001b[0m\u001b[0mxlabel\u001b[0m\u001b[1;33m(\u001b[0m\u001b[1;34m\"x value\"\u001b[0m\u001b[1;33m)\u001b[0m\u001b[1;33m\u001b[0m\u001b[1;33m\u001b[0m\u001b[0m\n\u001b[0;32m     16\u001b[0m \u001b[0mplt\u001b[0m\u001b[1;33m.\u001b[0m\u001b[0mylabel\u001b[0m\u001b[1;33m(\u001b[0m\u001b[1;34m\"y value\"\u001b[0m\u001b[1;33m)\u001b[0m\u001b[1;33m\u001b[0m\u001b[1;33m\u001b[0m\u001b[0m\n\u001b[1;32m---> 17\u001b[1;33m \u001b[0max\u001b[0m\u001b[1;33m.\u001b[0m\u001b[0mset_box_aspect\u001b[0m\u001b[1;33m(\u001b[0m\u001b[1;33m[\u001b[0m\u001b[1;36m1\u001b[0m\u001b[1;33m,\u001b[0m \u001b[1;36m1\u001b[0m\u001b[1;33m,\u001b[0m \u001b[1;36m1\u001b[0m\u001b[1;33m]\u001b[0m\u001b[1;33m)\u001b[0m\u001b[1;33m;\u001b[0m \u001b[0mplt\u001b[0m\u001b[1;33m.\u001b[0m\u001b[0mshow\u001b[0m\u001b[1;33m(\u001b[0m\u001b[1;33m)\u001b[0m\u001b[1;33m\u001b[0m\u001b[1;33m\u001b[0m\u001b[0m\n\u001b[0m",
      "\u001b[1;31mNameError\u001b[0m: name 'ax' is not defined"
     ]
    },
    {
     "data": {
      "image/png": "[encoded data removed]",
      "text/plain": [
       "<Figure size 432x288 with 1 Axes>"
      ]
     },
     "metadata": {
      "needs_background": "light"
     },
     "output_type": "display_data"
    }
   ],
   "source": [
    "import numpy as np\n",
    "import matplotlib.pyplot as plt\n",
    "\n",
    "x = np.random.rand(500)\n",
    "y = np.random.rand(500)\n",
    "\n",
    "plt.axes().set_aspect(1)\n",
    "\n",
    "mask = x**2 + y**2 <= 1\n",
    "plt.plot(x[mask], y[mask], 'ro')\n",
    "\n",
    "mask = x**2 + y**2  >=1\n",
    "plt.plot(x[mask], y[mask], 'bo')\n",
    "\n",
    "plt.xlabel(\"x value\")\n",
    "plt.ylabel(\"y value\")\n",
    "plt.show()"
   ]
  },
  {
   "cell_type": "markdown",
   "metadata": {},
   "source": [
    "Before we modify the above code to do our actual calculation, let's look at some criteria for our random numbers for this example, as summarized by Ayars (https://freecomputerbooks.com/Computational-Physics-with-Python-by-Eric-Ayars.html):\n",
    "\n",
    "1. They must be uniformly distributed. For exmaple, if the points were distributed about a normal curve then we'd see more points in the central area of the figure and get a much less accurate number.\n",
    "1. They must be uncorrelated. For example, if our random number were correlated in such a way that a low one was most often followed by a high one, and vice-versa, then the points in the figure would trend towards the upper left and lower right of the figure, skewing our results.\n",
    "1. We need a lot of points for an accurate approximation. Our percent/fractional error from this method scales approximately as $1/\\sqrt{N}$, so we need approximately one million pairs of random numbers to reduce our error down to 0.1% (i.e., $3.1416 \\pm 0.0031$).\n"
   ]
  },
  {
   "cell_type": "markdown",
   "metadata": {},
   "source": [
    "Let's do the calculation. "
   ]
  },
  {
   "cell_type": "code",
   "execution_count": 2,
   "metadata": {},
   "outputs": [
    {
     "name": "stdout",
     "output_type": "stream",
     "text": [
      " MC: 3.1484, Actual: 3.1416\n"
     ]
    }
   ],
   "source": [
    "# Run me to approximate the value of pi to a relative uncertainty of 1/sqrt(10000) = 1%\n",
    "\n",
    "def monte_carlo_pi(N):\n",
    "    import numpy as np\n",
    "    x = np.random.rand(N)\n",
    "    y = np.random.rand(N)\n",
    "    d = x**2 + y**2\n",
    "    count = np.sum(d <= 1)\n",
    "    return 4*count/N\n",
    "\n",
    "print( f\" MC: {monte_carlo_pi(10000):.4f}, Actual: {np.pi:.4f}\")"
   ]
  },
  {
   "cell_type": "markdown",
   "metadata": {},
   "source": [
    "On Solo Worksheet 15 we will spend some time \n",
    "1. Looking at the speed gained from doing this as an array operation instead of using a loop, and\n",
    "1. Investigate the Monte Carlo accuracy claim of $~1/\\sqrt{N}$ more thoroughly."
   ]
  },
  {
   "cell_type": "markdown",
   "metadata": {},
   "source": [
    "### Your turn 15.1 - Definite integral of sin\n",
    "\n",
    "Adapt the technique to approximate the value of pi to calculate\n",
    "\n",
    "$$\\int^\\pi_0 \\sin(x) \\, dx.$$\n",
    "\n",
    "Remember that the concept of an integral being the area under the curve is what you want to pay attention to here."
   ]
  },
  {
   "cell_type": "code",
   "execution_count": null,
   "metadata": {},
   "outputs": [],
   "source": [
    "# Update this code to calculate the definite integral of sin x from 0 to pi\n",
    "\n",
    "def mc_sin(N):\n",
    "    \n",
    "    import numpy as np\n",
    "    \n",
    "    # your code here\n",
    "    \n",
    "    return N # update to return the correct value\n",
    "\n",
    "actual = -(np.cos(np.pi)-np.cos(0))\n",
    "print( f\" MC: {mc_sin(10000):.4f}, Actual: {actual:.4f}\")"
   ]
  },
  {
   "cell_type": "markdown",
   "metadata": {},
   "source": [
    "## *15.4 Other random numbers*"
   ]
  },
  {
   "cell_type": "markdown",
   "metadata": {},
   "source": [
    "So far we have only looked at generating floats unformly along the half-open interval `[0.0, 1.0)`. But, let's look at some other types of random numbers that we can generate."
   ]
  },
  {
   "cell_type": "markdown",
   "metadata": {},
   "source": [
    "### np.random.randint: Returns random integers from low (inclusive) to high (exclusive)."
   ]
  },
  {
   "cell_type": "code",
   "execution_count": null,
   "metadata": {},
   "outputs": [],
   "source": [
    "np.random.randint(1, 10, size=5)  # Generates an array of 5 random integers between 1 and 10."
   ]
  },
  {
   "cell_type": "markdown",
   "metadata": {},
   "source": [
    "### np.random.choice: Generates a random sample from a given 1-D array."
   ]
  },
  {
   "cell_type": "code",
   "execution_count": null,
   "metadata": {},
   "outputs": [],
   "source": [
    "np.random.choice([7, 8, 9], size = 5)  # Picks 5 random elements from the list."
   ]
  },
  {
   "cell_type": "markdown",
   "metadata": {},
   "source": [
    "### np.random.shuffle: Modifies a sequence in-place by shuffling its contents."
   ]
  },
  {
   "cell_type": "code",
   "execution_count": null,
   "metadata": {},
   "outputs": [],
   "source": [
    "arr = np.array([1, 2, 3, 4, 5])\n",
    "np.random.shuffle(arr)  # Shuffles the array's contents.\n",
    "arr"
   ]
  },
  {
   "cell_type": "markdown",
   "metadata": {},
   "source": [
    "### np.random.uniform: Draws samples from a uniform distribution in the semi-open interval `[low, high)`"
   ]
  },
  {
   "cell_type": "code",
   "execution_count": null,
   "metadata": {},
   "outputs": [],
   "source": [
    "np.random.uniform(0, 5, 3)  # Generates 3 samples from a uniform distribution between 0 and 5."
   ]
  },
  {
   "cell_type": "markdown",
   "metadata": {},
   "source": [
    "### np.random.randn: Returns a sample (or samples) from the \"standard normal\" distribution.\n",
    "A standard normal distrubution has a mean of 0 and standard deviation of 1."
   ]
  },
  {
   "cell_type": "code",
   "execution_count": null,
   "metadata": {},
   "outputs": [],
   "source": [
    "import matplotlib.pyplot as plt\n",
    "\n",
    "data = np.random.randn(10000)\n",
    "plt.hist(data)\n",
    "plt.show()"
   ]
  },
  {
   "cell_type": "markdown",
   "metadata": {},
   "source": [
    "### np.random.normal: Draws random samples from a normal (Gaussian) distribution with a mean of `loc` and standard deviation of `scale`"
   ]
  },
  {
   "cell_type": "code",
   "execution_count": null,
   "metadata": {},
   "outputs": [],
   "source": [
    "import matplotlib.pyplot as plt\n",
    "\n",
    "data = np.random.normal(loc=10, scale=3, size=1000)\n",
    "plt.hist(data)\n",
    "plt.show()"
   ]
  },
  {
   "cell_type": "markdown",
   "metadata": {},
   "source": [
    "### Additional specific distributions:\n",
    "\n",
    "**beta**, **binomial**, **chisquare**, **exponential**, **gamma**, **geometric**, **poisson**, etc.: These functions generate random numbers from specific statistical distributions. For example, `np.random.binomial(n, p, size)` draws samples from a binomial distribution."
   ]
  },
  {
   "cell_type": "markdown",
   "metadata": {},
   "source": [
    "## *15.5 A simple Monte Carlo simulation of radioactive decay*"
   ]
  },
  {
   "cell_type": "markdown",
   "metadata": {},
   "source": [
    "Below is a relatively simple Monte Carlo simulation for the decay of 1000 atoms of $^{208}$Tl, which has a half-life of 3.053 minutes. The key idea is that our number of radioactive atoms $N$ decays over time. At each time step, we need to use the decay probability `p`, that a given radioactive atom will decay during the time step $\\Delta t$ based on the half-life $T_{1/2}$:\n",
    "\n",
    "$$ p = 1 - e^{-\\Delta t \\; ln(2) / T_{1/2} } .$$\n",
    "\n",
    "For each time step we use $N$ random numbers to determine how many of the $N$ remaining radioactive numbers decayed during that time step."
   ]
  },
  {
   "cell_type": "code",
   "execution_count": null,
   "metadata": {},
   "outputs": [],
   "source": [
    "import numpy as np\n",
    "import matplotlib.pyplot as plt\n",
    "\n",
    "def radioactive_decay(N, half_life, delta_t, time_steps):\n",
    "    \"\"\"Simulate radioactive decay using Monte Carlo method.\n",
    "    \n",
    "    Parameters:\n",
    "    - N: Initial number of radioactive atoms\n",
    "    - half_life: Half-life in seconds\n",
    "    - delta_t: Time step for the simulation in seconds\n",
    "    - time_steps: Total number of time steps to simulate\n",
    "    \n",
    "    Returns:\n",
    "    - A list of the number of radioactive atoms remaining at each time step.\n",
    "    \"\"\"\n",
    "    \n",
    "    # Probability out of 1 that a given atom will decay during a \n",
    "    # time interval delta_t\n",
    "    p = 1 - np.exp(-delta_t * np.log(2) / half_life)\n",
    "    \n",
    "    # Start our list for numbers of atoms remaining after each time step\n",
    "    atoms_remaining = [N]\n",
    "    \n",
    "    # Loop through our total number of time_steps\n",
    "    for t in range(time_steps):\n",
    "        \n",
    "        # Determine how many of the N atoms remaining have decayed \n",
    "        # during this time step\n",
    "        decayed = np.sum(np.random.rand(N) < p)\n",
    "        \n",
    "        # Update our total number of radioactive atoms \n",
    "        N -= decayed\n",
    "        \n",
    "        # Update the list of atoms remaining after each time step\n",
    "        atoms_remaining.append(N)\n",
    "    \n",
    "    # Return the list of atoms remaining after each time step\n",
    "    return atoms_remaining\n",
    "\n",
    "# Parameters\n",
    "N = 1000               # Initial number of atoms\n",
    "half_life = 3.053 * 60 # Half-life in seconds (3.053 minutes converted to seconds)\n",
    "delta_t = 1            # Time step: 1 second\n",
    "time_steps = 500       # Number of time steps\n",
    "\n",
    "# Run simulation\n",
    "atoms = radioactive_decay(N, half_life, delta_t, time_steps)\n",
    "\n",
    "# Plot results\n",
    "times = np.linspace(0, time_steps,time_steps+1) # 500 steps after t = 0\n",
    "predicted = N*np.exp(-times*np.log(2) / half_life)\n",
    "\n",
    "plt.plot(times, atoms, label=\"Monte-Carlo\")\n",
    "plt.plot(times, predicted, label=\"Predicted\")\n",
    "plt.xlabel('Time (seconds)')\n",
    "plt.ylabel('Remaining Atoms')\n",
    "plt.title(f'Radioactive Decay Simulation for {280}Tl\\n(Half-life = {half_life/60} mins)')\n",
    "plt.legend()\n",
    "plt.grid(True)\n",
    "plt.show()\n"
   ]
  },
  {
   "cell_type": "markdown",
   "metadata": {},
   "source": [
    "Take some time to understand the simulation above. One of the self-assessment questions above will follow-up on this simulation."
   ]
  },
  {
   "cell_type": "markdown",
   "metadata": {},
   "source": [
    "## *Submitting this reading assignment*\n",
    "Before submitting your work, restart + rerun your notebook to make sure that your self-assessmet questions run correctly and without error. We will only check that the Self-assessment questions at the start of the assignment have run correctly. After you've executed and checked your notebook, choose: File >> Save_and_Export_Notebook_As >> HTML. This will download an HTML version of your notebook to your computer which you can upload to Canvas"
   ]
  },
  {
   "cell_type": "code",
   "execution_count": null,
   "metadata": {},
   "outputs": [],
   "source": []
  }
 ],
 "metadata": {
  "kernelspec": {
   "display_name": "Python 3",
   "language": "python",
   "name": "python3"
  },
  "language_info": {
   "codemirror_mode": {
    "name": "ipython",
    "version": 3
   },
   "file_extension": ".py",
   "mimetype": "text/x-python",
   "name": "python",
   "nbconvert_exporter": "python",
   "pygments_lexer": "ipython3",
   "version": "3.7.6"
  }
 },
 "nbformat": 4,
 "nbformat_minor": 4
}
