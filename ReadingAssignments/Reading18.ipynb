{
 "cells": [
  {
   "cell_type": "markdown",
   "metadata": {},
   "source": [
    "# Pre-class Reading: Day 18 (Nov 08, 2023)<br>File input and output\n",
    "Learning goals\n",
    "1. Write to a file using the `file.write()` or `np.savetxt()` functions\n",
    "1. Read from a file using the `file.readline()` or `np.loadtxt()` functions\n",
    "1. Extract data of the desired format after using the `file.readline()` or `np.loadtxt()`"
   ]
  },
  {
   "cell_type": "markdown",
   "metadata": {},
   "source": [
    "## *Self-assessment questions*\n",
    "\n",
    "**If you can already answer these correctly, you can skip the rest of the reading assignment and submit it. Otherwise, complete the rest of the reading assignment and return to these questions to test what you learned. You might decide you would benefit from further review before class.**\n",
    "\n",
    "Note that these questions can often be answered easily by running the provided code, so the intellectual work on your part is figuring out the correct answer and then running the code to check your answer.\n",
    "\n",
    "Please ensure all of these self-assessment questions are answered correctly before submitting this pre-class reading assignment. The *Your Turn* questions, found throughout the rest of this assignment, are for your practice as you learn this material and do not need to be answered correctly to receive full completion marks for this pre-class reading assignment."
   ]
  },
  {
   "cell_type": "markdown",
   "metadata": {},
   "source": [
    "### Self-assessment question 18.1\n",
    "\n",
    "A text file `data.txt` contains the following data.\n",
    "\n",
    "```\n",
    "1 1.24 3.14 0.012 0.52\n",
    "2 1.26 3.89 0.012 0.52\n",
    "3 1.28 4.04 0.012 0.53\n",
    "4 1.30 4.33 0.012 0.53\n",
    "5 1.33 4.67 0.012 0.54\n",
    "6 1.35 5.08 0.012 0.54\n",
    "```\n",
    "\n",
    "What will get printed by the following code?\n",
    "```python\n",
    "f = open('data.txt', 'r')\n",
    "data = f.readline()\n",
    "print(data)\n",
    "f.close()\n",
    "```\n",
    "Choices\n",
    "```\n",
    "### A ###\n",
    "1\n",
    "\n",
    "### B ###\n",
    "1 1.24 3.14 0.012 0.52\n",
    "\n",
    "### C ###\n",
    "1 1.24 3.14 0.012 0.52\n",
    "2 1.26 3.89 0.012 0.52\n",
    "3 1.28 4.04 0.012 0.53\n",
    "4 1.30 4.33 0.012 0.53\n",
    "5 1.33 4.67 0.012 0.54\n",
    "6 1.35 5.08 0.012 0.54\n",
    "```"
   ]
  },
  {
   "cell_type": "code",
   "execution_count": null,
   "metadata": {},
   "outputs": [],
   "source": [
    "# Code testing area to help answer this question\n",
    "\n"
   ]
  },
  {
   "cell_type": "code",
   "execution_count": null,
   "metadata": {},
   "outputs": [],
   "source": [
    "# Enter your answer inside the string quotes and run this cell to check your anwer\n",
    "\n",
    "answer = \"\"\n",
    "\n",
    "import hashlib\n",
    "assert answer in ['A', 'B', 'C'], \"Your answer did not match any of the choices\"\n",
    "assert hashlib.sha256(answer.encode()).hexdigest() == \\\n",
    "    'df7e70e5021544f4834bbee64a9e3789febc4be81470df629cad6ddb03320a5c', \"Your answer is incorrect\"\n",
    "print(\"Your answer\", answer, \"is correct\") # Passed all assert statements above"
   ]
  },
  {
   "cell_type": "markdown",
   "metadata": {},
   "source": [
    "### Self-assessment question 18.2\n",
    "\n",
    "Using the same file `data.txt` from above, we run the following code\n",
    "\n",
    "```python\n",
    "f = open('dat.txt', 'r')\n",
    "data = f.readline()\n",
    "f.close()\n",
    "```\n",
    "\n",
    "Which of the following chunks of code will print `4.38` to the console by summing the extracted values of `1.24` and `3.14`?\n",
    "\n",
    "```python\n",
    "### A ###\n",
    "var1 = data[1]\n",
    "var2 = data[2]\n",
    "print(var1+var2)\n",
    "\n",
    "### B ###\n",
    "split = data.split()\n",
    "var1 = split[1]\n",
    "var2 = split[2]\n",
    "print(var1+var2)\n",
    "\n",
    "### C ###\n",
    "split = data.split()\n",
    "var1 = float(split[1])\n",
    "var2 = float(split[2])\n",
    "print(var1+var2)\n",
    "\n",
    "### D ###\n",
    "split = float(data.split())\n",
    "var1 = split[1]\n",
    "var2 = split[2]\n",
    "print(var1+var2)\n",
    "```"
   ]
  },
  {
   "cell_type": "code",
   "execution_count": null,
   "metadata": {},
   "outputs": [],
   "source": [
    "# Code testing area to help answer this question\n",
    "\n"
   ]
  },
  {
   "cell_type": "code",
   "execution_count": null,
   "metadata": {},
   "outputs": [],
   "source": [
    "# Enter your answer inside the string quotes and run this cell to check your anwer\n",
    "\n",
    "answer = \"\"\n",
    "\n",
    "import hashlib\n",
    "assert answer in ['A', 'B', 'C', 'D'], \"Your answer did not match any of the choices\"\n",
    "assert hashlib.sha256(answer.encode()).hexdigest() == \\\n",
    "    '3f39d5c348e5b79d06e842c114e6cc571583bbf44e4b0ebfda1a01ec05745d43', \"Your answer is incorrect\"\n",
    "print(\"Your answer\", answer, \"is correct\") # Passed all assert statements above"
   ]
  },
  {
   "cell_type": "markdown",
   "metadata": {},
   "source": [
    "### Self-assessment question 18.3\n",
    "\n",
    "If `MyData.txt` contains:\n",
    "```\n",
    "%x y z f\n",
    "8h9h9h8\n",
    "4h5h6h7\n",
    "3h4h5h7\n",
    "```\n",
    "What will the variable `data` contain after the following?\n",
    "\n",
    "import numpy as np\n",
    "data = np.loadtxt('MyData.txt',dtype = str, comments = '%', delimiter = 'h')\n",
    "\n",
    "```\n",
    "### A ###\n",
    "[['8' '9' '9' '8']\n",
    " ['4' '5' '6' '7']\n",
    " ['3' '4' '5' '7']]\n",
    " \n",
    "### B ###\n",
    "[[8 9 9 8]\n",
    " [4 5 6 7]\n",
    " [3 4 5 7]]\n",
    " \n",
    "### C ###\n",
    "[[8. 9. 9. 8.]\n",
    " [4. 5. 6. 7.]\n",
    " [3. 4. 5. 7.]]\n",
    "```"
   ]
  },
  {
   "cell_type": "code",
   "execution_count": null,
   "metadata": {},
   "outputs": [],
   "source": [
    "# Code testing area to help answer this question\n",
    "\n"
   ]
  },
  {
   "cell_type": "code",
   "execution_count": null,
   "metadata": {},
   "outputs": [],
   "source": [
    "# Enter your answer inside the string quotes and run this cell to check your anwer\n",
    "\n",
    "answer = \"\"\n",
    "\n",
    "import hashlib\n",
    "assert answer in ['A', 'B', 'C'], \"Your answer did not match any of the choices\"\n",
    "assert hashlib.sha256(answer.encode()).hexdigest() == \\\n",
    "    '559aead08264d5795d3909718cdd05abd49572e84fe55590eef31a88a08fdffd', \"Your answer is incorrect\"\n",
    "print(\"Your answer\", answer, \"is correct\") # Passed all assert statements above"
   ]
  },
  {
   "cell_type": "markdown",
   "metadata": {},
   "source": [
    "### Self-assessment question 18.4\n",
    "\n",
    "Why won’t the following work?\n",
    "```python\n",
    "f = open(\"out_file.txt\",\"a\")\n",
    "f.write(\"The value of pi is:\", 3.1416)\n",
    "```\n",
    "A) The file needs to be opened with `\"w\"` not `\"a\"`<br>\n",
    "B) The underscore in the file name `out_file.txt` is illegal<br>\n",
    "C) `f.write()` should have been `f.print()`<br>\n",
    "D) `write()` takes only a single string as argument"
   ]
  },
  {
   "cell_type": "code",
   "execution_count": null,
   "metadata": {},
   "outputs": [],
   "source": [
    "# Code testing area to help answer this question\n",
    "\n"
   ]
  },
  {
   "cell_type": "code",
   "execution_count": null,
   "metadata": {},
   "outputs": [],
   "source": [
    "# Enter your answer inside the string quotes and run this cell to check your anwer\n",
    "\n",
    "answer = \"\"\n",
    "\n",
    "import hashlib\n",
    "assert answer in ['A', 'B', 'C','D'], \"Your answer did not match any of the choices\"\n",
    "assert hashlib.sha256(answer.encode()).hexdigest() == \\\n",
    "    '3f39d5c348e5b79d06e842c114e6cc571583bbf44e4b0ebfda1a01ec05745d43', \"Your answer is incorrect\"\n",
    "print(\"Your answer\", answer, \"is correct\") # Passed all assert statements above"
   ]
  },
  {
   "cell_type": "markdown",
   "metadata": {},
   "source": [
    "## *18.1 Intro to file I/O (input/output)*"
   ]
  },
  {
   "cell_type": "markdown",
   "metadata": {},
   "source": [
    "**READ:** Sections 14.1 to 14.5 in http://greenteapress.com/thinkpython2/html/thinkpython2015.html\n",
    "\n",
    "With Python, you can open an existing file, create a new one, and then write, read and append to it. Python has very specific commands to do these things and if you try to do something not allowed (e.g. write to a file where you don’t have permission), you will get an error.\n",
    "\n",
    "File input refers to the read mode: you open the file and read its content.\n",
    "File output refers to writing in the file. In the append mode, you add things at the end of an existing file. In the write mode, opening the file immediately destroys any previously existing content in that file!\n",
    "\n",
    "For efficiency, Python doesn't write data to a file immediately. It puts the data into a buffer, and writes when the buffer is full. When you are finished writing to a file, you must close the file to \"flush\" the last buffer into the file."
   ]
  },
  {
   "cell_type": "markdown",
   "metadata": {},
   "source": [
    "## *18.2 Writing to a File*"
   ]
  },
  {
   "cell_type": "markdown",
   "metadata": {},
   "source": [
    "To open a file, you use the `open` Python built-in function (remember https://docs.python.org/3/library/functions.html). Let's say you want to open a new file `mynewfile.txt` and write to it:"
   ]
  },
  {
   "cell_type": "code",
   "execution_count": null,
   "metadata": {},
   "outputs": [],
   "source": [
    "# Run me!\n",
    "\n",
    "f = open(\"mynewfile.txt\", \"w\")"
   ]
  },
  {
   "cell_type": "markdown",
   "metadata": {},
   "source": [
    "Now you have just created a new 'object', `f`, which is a 'file object' for writing to file `mynewfile.txt`. As with any Python 'object', you can execute its methods, such as using the `write` method in this case:"
   ]
  },
  {
   "cell_type": "code",
   "execution_count": null,
   "metadata": {},
   "outputs": [],
   "source": [
    "# Run me!\n",
    "\n",
    "f = open(\"mynewfile.txt\", 'w')\n",
    "\n",
    "f.write(\"This is some text.\")\n",
    "\n",
    "f.write(\"More text on the same line.\\n\")\n",
    "\n",
    "f.write(\"And this is some more text\\n not on the same line\")\n",
    "\n",
    "f.close()"
   ]
  },
  {
   "cell_type": "markdown",
   "metadata": {},
   "source": [
    "You have just written in `mynewfile.txt`. Note the use of line ending character `\\n`. The file \"mynewfile.txt\" should have been saved to the same directory as this notebook. If you open the file it should read:\n",
    "```\n",
    "This is some text.More text on the same line\n",
    "And this is some more text\n",
    " not on the same line\n",
    "```"
   ]
  },
  {
   "cell_type": "markdown",
   "metadata": {},
   "source": [
    "Note that these read/write commands generally do not produce output on the screen if they complete without error. You can access documentation on file object methods with `help(f)`, where `f` is your chosen file object name.\n",
    "\n",
    "Files can be opened with different 'modes' (read, write, append, and variations there-on). The short version is: use \"w\" when you want to write a file – but beware that if a file of that name exists already it is replaced completely. Use \"r\" to read from an existing file. If you want some other behaviour, read some of the discussion of the different modes in one of these places:'\n",
    "\n",
    "* https://docs.python.org/3.3/library/functions.html#open or\n",
    "* https://stackoverflow.com/questions/1466000/python-open-built-in-function-difference-between-modes-a-a-w-w-and-r"
   ]
  },
  {
   "cell_type": "markdown",
   "metadata": {},
   "source": [
    "The `file.write()` file method can only write strings, not numbers. Note that this is different from `print()`, which can happily print numbers or strings. To write numbers in a file you can use your familiar string formatting methods, such as f-strings, `%`-formatting, `.format()` or string concatenation. If you use string concatenation, you do need to convert any numbers to string using the `str(number)` function, as shown in the example below."
   ]
  },
  {
   "cell_type": "code",
   "execution_count": null,
   "metadata": {},
   "outputs": [],
   "source": [
    "# Run me!\n",
    "\n",
    "x = 1\n",
    "y = 2.2\n",
    "\n",
    "f = open(\"numbers.txt\", 'w')\n",
    "\n",
    "# String concatenation\n",
    "f.write(str(x) + \" \" + str(y) + \"\\n\")\n",
    "\n",
    "# f-strings\n",
    "f.write(f\"{x} {y}\\n\")\n",
    "\n",
    "f.close()"
   ]
  },
  {
   "cell_type": "markdown",
   "metadata": {},
   "source": [
    "The file \"numbers.txt\" should read:\n",
    "```\n",
    "1 2.2\n",
    "1 2.2\n",
    "```"
   ]
  },
  {
   "cell_type": "markdown",
   "metadata": {},
   "source": [
    "## *18.3 Reading From a File*"
   ]
  },
  {
   "cell_type": "markdown",
   "metadata": {},
   "source": [
    "There are a number of options. First you can open the file in read-mode. The basic file-reading commands give you text-strings, either the whole file, or one line at a time. You have to decode the text-string into numbers (or whatever you’re expecting to find in the file), and store the results somehow, usually into lists, or arrays.\n",
    "You should close the file when you are done.\n",
    "\n",
    "Some tips:\n",
    "    \n",
    "- You need to know the structure of a file before you can write the code needed to read it.\n",
    "- You often need to skip over some initial lines.\n",
    "- It's common to have numbers arranged in columns, but you need to know which columns contain what.\n",
    "- If you don't know how many valid data lines there are, your program has to detect when the data end, without crashing at the end of the file.\n",
    "\n",
    "Consider the file `Reading18_exampledata.txt`, which contains the following:\n",
    "\n",
    "```\n",
    "# N x y xerror yerror\n",
    "1 1.24 3.14 0.012 0.52\n",
    "2 1.26 3.89 0.012 0.52\n",
    "3 1.28 4.04 0.012 0.53\n",
    "4 1.30 4.33 0.012 0.53\n",
    "5 1.33 4.67 0.012 0.54\n",
    "6 1.35 5.08 0.012 0.54\n",
    "# Data from 10:15:39 on September 12 2016\n",
    "```"
   ]
  },
  {
   "cell_type": "markdown",
   "metadata": {},
   "source": [
    "With the following example, you will see how to read this file, line by line.\n",
    "\n",
    "#### Step 1: Open the file and read the first line"
   ]
  },
  {
   "cell_type": "code",
   "execution_count": null,
   "metadata": {},
   "outputs": [],
   "source": [
    "# Run me!\n",
    "\n",
    "f = open('Reading18_exampledata.txt', 'r')\n",
    "\n",
    "data = f.readline()\n",
    "\n",
    "print(data)"
   ]
  },
  {
   "cell_type": "markdown",
   "metadata": {},
   "source": [
    "#### Step 2: Read the next line"
   ]
  },
  {
   "cell_type": "code",
   "execution_count": null,
   "metadata": {},
   "outputs": [],
   "source": [
    "# Run me!\n",
    "\n",
    "data = f.readline() # Read the next line\n",
    "\n",
    "print(data)"
   ]
  },
  {
   "cell_type": "markdown",
   "metadata": {},
   "source": [
    "#### Step 3: Interact further with one of the read lines\n",
    "\n",
    "Each of these lines is read as a string, so let's apply the string method `.split()` to break it up into its components and then look at what type of data we have in each of those components."
   ]
  },
  {
   "cell_type": "code",
   "execution_count": null,
   "metadata": {},
   "outputs": [],
   "source": [
    "# Run me!\n",
    "\n",
    "cols = data.split()\n",
    "\n",
    "print(cols[0], type(cols[0]))\n",
    "\n",
    "# How could we change this data type so that we can operate on it as a number?\n",
    "# Hint: try casting the data into a different data type"
   ]
  },
  {
   "cell_type": "markdown",
   "metadata": {},
   "source": [
    "### Step 4: Close the file\n",
    "\n",
    "Let's close the file. Note that we are purposely throwing an error to point out that once a file is closed, its file object (`f` in that case) is flushed from memory as well."
   ]
  },
  {
   "cell_type": "code",
   "execution_count": null,
   "metadata": {},
   "outputs": [],
   "source": [
    "# Run me! (This will give an error. See below.)\n",
    "\n",
    "f.close()\n",
    "\n",
    "data = f.readline()"
   ]
  },
  {
   "cell_type": "markdown",
   "metadata": {},
   "source": [
    "### Your turn #1\n",
    "\n",
    "With help from the example code above, extract the numbers `1.24` and `3.14` from the first line of numbers stored in \"Reading18_exampledata.txt\" and then add them up and print the result. Don't forget to close the file at the end"
   ]
  },
  {
   "cell_type": "code",
   "execution_count": null,
   "metadata": {},
   "outputs": [],
   "source": [
    "# Your code here. Your code should result in 4.38 being printed to the terminal\n"
   ]
  },
  {
   "cell_type": "markdown",
   "metadata": {},
   "source": [
    "## *18.4 Reading from a file with the numpy `loadtxt()` method*"
   ]
  },
  {
   "cell_type": "markdown",
   "metadata": {},
   "source": [
    "In the previous example, if you wanted to create an array of numbers with the values inside file `exampledata.txt`, you could do as follows. Go line by line using the string `split` method and the string to float conversion function `float()`. You could use loops to make the code reasonably compact. But there is an easier way.\n",
    "\n",
    "A very useful method of numpy is `loadtxt()` which allows you to read a text file containing an array with one command line and the output is immediately stored in a numpy array. It is very convenient! `loadtxt()` can read any type of text file, even those with strings. However, how to use `loadtxt()` for mixed data types is a bit too advanced for now, but you can start practicing with the example given below. We will focus for now on how to use `loadtxt()` to read files that look like the `Reading18_exampledata.txtt` text file.\n",
    "\n",
    "Here's an example of how to use `loadtxt()`. Note that lines starting with a “#” are considered comments and are ignored by `loadtxt()` by default, but you can change this behaviour if you like."
   ]
  },
  {
   "cell_type": "code",
   "execution_count": null,
   "metadata": {},
   "outputs": [],
   "source": [
    "# Run me!\n",
    "\n",
    "import numpy as np\n",
    "\n",
    "# How does this command differ from \".open()\"?\n",
    "data = np.loadtxt(\"Reading18_exampledata.txt\") \n",
    "\n",
    "print(data)"
   ]
  },
  {
   "cell_type": "markdown",
   "metadata": {},
   "source": [
    "You can also do a selective reading of the array using the `usecols` argument in `loadtxt():`"
   ]
  },
  {
   "cell_type": "code",
   "execution_count": null,
   "metadata": {},
   "outputs": [],
   "source": [
    "# Run me!\n",
    "\n",
    "import numpy as np\n",
    "\n",
    "data = np.loadtxt(\"Reading18_exampledata.txt\", usecols=(1,3))\n",
    "\n",
    "print(data)"
   ]
  },
  {
   "cell_type": "markdown",
   "metadata": {},
   "source": [
    "For more details of what is possible with `loadtxt()` you can look at the` numpy loadtxt()` page:\n",
    "\n",
    "* http://docs.scipy.org/doc/numpy/reference/generated/numpy.loadtxt.html\n",
    "\n",
    "A more advanced specific example with mixed types (which uses sort of a ‘trick’ to work around the homogeneous nature of numpy arrays) is below. Feel free to skip this – it is more advanced than we will need.\n",
    "\n",
    "* http://scipython.com/book/chapter-6-numpy/examples/using-numpys-loadtxt-method/"
   ]
  },
  {
   "cell_type": "markdown",
   "metadata": {},
   "source": [
    "## *18.5 Writing to a file with the numpy `savetxt()` method*"
   ]
  },
  {
   "cell_type": "markdown",
   "metadata": {},
   "source": [
    "Similarly, you can write arrays in files in text format using the `savetxt()` numpy method:"
   ]
  },
  {
   "cell_type": "code",
   "execution_count": null,
   "metadata": {},
   "outputs": [],
   "source": [
    "# Run me!\n",
    "\n",
    "import numpy as np\n",
    "\n",
    "data = np.loadtxt('Reading18_exampledata.txt')\n",
    "\n",
    "print(data)\n",
    "\n",
    "np.savetxt('newexamplearray.txt', data, header = 'Informative header for the start of the file')"
   ]
  },
  {
   "cell_type": "markdown",
   "metadata": {},
   "source": [
    "Make sure to check the newly created file \"newexamplearray.txt\" to see how it compares to the original!\n",
    "\n",
    "Note that `savetxt()` can be used with different options which specify the format of the saved text:\n",
    "    \n",
    "* http://docs.scipy.org/doc/numpy/reference/generated/numpy.savetxt.html"
   ]
  },
  {
   "attachments": {
    "r18.png": {
     "image/png": "[encoded data removed]"
    }
   },
   "cell_type": "markdown",
   "metadata": {},
   "source": [
    "### Your turn #2\n",
    "\n",
    "Use `np.loadtxt` to read the data in from \"Reading18_exampledata.txt\" and then plot the `y` vs `x` data as shown in the example plot.\n",
    "\n",
    "![r18.png](attachment:r18.png)"
   ]
  },
  {
   "cell_type": "code",
   "execution_count": null,
   "metadata": {},
   "outputs": [],
   "source": [
    "# Your code\n"
   ]
  },
  {
   "cell_type": "markdown",
   "metadata": {},
   "source": [
    "## *18.6 Further Reading (Optional)*"
   ]
  },
  {
   "cell_type": "markdown",
   "metadata": {},
   "source": [
    "If you are looking for more examples or descriptions, there is a short section on reading and writing files in the Ayars book we’ve mentioned before in section 1.8, and np.loadtxt is discussed in section 0.2:\n",
    "\n",
    "* http://freecomputerbooks.com/Computational-Physics-with-Python-by-Eric-Ayars.html"
   ]
  },
  {
   "cell_type": "markdown",
   "metadata": {},
   "source": [
    "## *Submitting this reading assignment*\n",
    "Before submitting your work, restart + rerun your notebook to make sure that your self-assessmet questions run correctly and without error. We will only check that the Self-assessment questions at the start of the assignment have run correctly. After you've executed and checked your notebook, choose: File >> Save_and_Export_Notebook_As >> HTML. This will download an HTML version of your notebook to your computer which you can upload to Canvas"
   ]
  },
  {
   "cell_type": "code",
   "execution_count": null,
   "metadata": {},
   "outputs": [],
   "source": []
  }
 ],
 "metadata": {
  "kernelspec": {
   "display_name": "Python 3",
   "language": "python",
   "name": "python3"
  },
  "language_info": {
   "codemirror_mode": {
    "name": "ipython",
    "version": 3
   },
   "file_extension": ".py",
   "mimetype": "text/x-python",
   "name": "python",
   "nbconvert_exporter": "python",
   "pygments_lexer": "ipython3",
   "version": "3.7.6"
  }
 },
 "nbformat": 4,
 "nbformat_minor": 4
}
