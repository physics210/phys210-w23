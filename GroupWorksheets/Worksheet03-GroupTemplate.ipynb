{
 "cells": [
  {
   "cell_type": "markdown",
   "metadata": {
    "id": "68gKoP9jF9lU"
   },
   "source": [
    "# Day 03 Group Worksheet\n",
    "Sept 13, 2023\n",
    "\n",
    "If you're working on CoCalc, it's good to rename your notebook with a fun group name and to include your names below so that you can easily find it later for reference."
   ]
  },
  {
   "cell_type": "markdown",
   "metadata": {
    "id": "B8UKtrg1F9lm"
   },
   "source": [
    "* Fun group name:   \n",
    "* Group members:"
   ]
  },
  {
   "cell_type": "markdown",
   "metadata": {
    "id": "CcT-r3o7F9lp"
   },
   "source": [
    "## 3.1 Euler's method for motion\n",
    "Euler's method is a simple numerical technique for solving ordinary differential equations (ODEs) that describe motion or change over time. Over the next few weeks we will use increasingly sophisticated numerical techniques to solve increasingly complex physical systems.\n",
    "\n",
    "Today we will tackle 1D motion for situations where your first-year mechanics knowledge is more than sufficient to allow you to double-check the results.\n",
    "\n",
    "Let's start with our fundamental definitions of velocity and acceleration, in differential form:\n",
    "\n",
    "$$\\frac{d\\vec{r}}{dt} = \\vec{v} \\;\\;\\;\\;\\mbox{and}\\;\\;\\;\\; \\frac{d\\vec{v}}{dt} = \\vec{a}.$$\n",
    "\n",
    "For constant acceleration and known initial conditions, we can know position and velocity for all times, but things can get much more complicated if the acceleration is not constant with time. A great example of this would be an object orbitting a much larger object in a non-circular path.\n",
    "\n",
    "Using the definition of a derivative for a small $\\Delta t$, we could write the above as:\n",
    "\n",
    "$$\\vec{r}(t+\\Delta t) \\approx \\vec{r}(t) + \\Delta t \\cdot \\vec{v}(t),\\mbox{ and}$$\n",
    "$$\\vec{v}(t+\\Delta t) \\approx \\vec{v}(t) + \\Delta t \\cdot \\vec{a}(t).$$\n",
    "\n",
    "Here, $\\approx$ reminds us that ratio of the left side to the right side approaches 1 as $\\Delta t \\rightarrow 0$. The formulas looks suspiciously similar to our first-year constant-acceleration kinematics equations, but we can actually use these ones even if the acceleration is not constant.\n",
    "\n",
    "Using numerical methods, if we know position and velocity at a specific time, we can find them a slightly later time $(t+\\Delta t)$ and can use those equations over and over again to find positions and velocities at any time in the future.\n",
    "\n",
    "The solutions will always be approximations, which become more accurate the smaller we make $\\Delta t$. As we move toward Project 2, we will also encounter more sophisticated algorithms for solving ordinary differential equations."
   ]
  },
  {
   "cell_type": "markdown",
   "metadata": {
    "id": "WF85UmjsF9lv"
   },
   "source": [
    "### Your tasks\n",
    "Below is a chunk of code representing a simple physical situation using Euler's method for motion."
   ]
  },
  {
   "cell_type": "code",
   "execution_count": null,
   "metadata": {
    "id": "Dkj-a45vF9mO"
   },
   "outputs": [],
   "source": [
    "# Constants and initial values\n",
    "t = 0. # s\n",
    "dt = 0.1 # s\n",
    "tmax = 100. # s\n",
    "\n",
    "y = 0. # m\n",
    "v = 15.3 # m/s\n",
    "\n",
    "while t < tmax:\n",
    "\n",
    "    y += v * dt # This is another way of writing x = x + v * dt\n",
    "    t += dt\n",
    "\n",
    "    if y >= 100:\n",
    "        print(\"Break condition achieved\")\n",
    "        break"
   ]
  },
  {
   "cell_type": "markdown",
   "metadata": {
    "id": "OJPnv4B3F9lz"
   },
   "source": [
    "**a)** Describe the physical system being modelled by this code.\n",
    "\n",
    "* Your notes here\n",
    "* .."
   ]
  },
  {
   "cell_type": "markdown",
   "metadata": {
    "id": "BwAzsVFFF9l2"
   },
   "source": [
    "**b)** Notice that we've introduced a new keyword, `break`, into our while loop. What does this do? The current code would continue to run in exactly the same way if we changed our `while t < tmax:` statement to `while True:`, but why would this change likely be a bad idea?\n",
    "\n",
    "* Your notes here\n",
    "* .."
   ]
  },
  {
   "cell_type": "markdown",
   "metadata": {
    "id": "cJExtJjvF9l4"
   },
   "source": [
    "**c)** Try asking ChatGPT to explain what this code does. How well does it seem to understand the physical situation? What seem to be its strengths and limitations?\n",
    "\n",
    "* Your notes here\n",
    "* .."
   ]
  },
  {
   "cell_type": "markdown",
   "metadata": {
    "id": "U1EA_uilF9l-"
   },
   "source": [
    "**d)** Make a copy of this code in a new cell and change the names of the all of the variables to generic names like `var1`, `var2`, etc, and remove ALL of the comments. Somebody in your group should start a new ChatGPT session and ask it to explain what the code does. How different are the results?\n",
    "\n",
    "* Your notes here\n",
    "* .."
   ]
  },
  {
   "cell_type": "markdown",
   "metadata": {
    "id": "VE-RMlY7F9mC"
   },
   "source": [
    "**e)** Let's add some diagnostic output so we know more about the motion. Add some print statements at appropriate points in the original code to provide output of a form similar to that shown. Don't truncate the middle times like our example does. We only did this to make this question more readable. The output doesn't need to match this exactly, but if you like this might be a good excuse to practice your formatting skills involving padding.\n",
    "\n",
    "Example output:\n",
    "\n",
    "```\n",
    "t =  0.0 s,   y =   0.0 m,   v =  15.3 m/s\n",
    "t =  0.1 s,   y =   1.5 m,   v =  15.3 m/s\n",
    "..\n",
    "t =  6.5 s,   y =  99.5 m,   v =  15.3 m/s\n",
    "t =  6.6 s,   y = 101.0 m,   v =  15.3 m/s\n",
    "```"
   ]
  },
  {
   "cell_type": "markdown",
   "metadata": {
    "id": "CFvawuqJHgfP"
   },
   "source": [
    "**f)** Comment out the `break` keyword so that the code will make it to the end of the `while` loop. How have the final time and position changed? Are these the results you expect?\n",
    "\n",
    "**Don't forget to uncomment the `break` keyword before you continue on to the next parts.**\n",
    "\n",
    "* Your notes here\n",
    "* .."
   ]
  },
  {
   "cell_type": "markdown",
   "metadata": {
    "id": "K7IaOeQwF9mI"
   },
   "source": [
    "**g)** Add gravity in the opposite direction to the initial velocity. When using Euler's method, velocity should be updated before position is updated such that the position update is using the updated velocity. Describe what you observe in your output regarding this new situation.\n",
    "\n",
    "* Your notes here\n",
    "* ..\n",
    "\n"
   ]
  },
  {
   "cell_type": "markdown",
   "metadata": {
    "id": "soUXPUYDIhu7"
   },
   "source": [
    "**h)** Modify the `break` condition so that it instead causes the `while` loop to end once the object has reached its maximum height."
   ]
  },
  {
   "cell_type": "markdown",
   "metadata": {
    "id": "QDhgwiDWF9mK"
   },
   "source": [
    "**i)** Using constant-acceleration kinematics equations, incorporate into your code a calculation for the time at which the object should reach the maximum height. Investigate how close this calculated time is to the time of the `break` condition. How much does this difference depend on your initial velocity? How small do you need to make `dt` before you start to feel like the time of the `break` condition gives a reasonably accurate value? (*Note: you may wish to comment out and/or modify some of your print statements to keep the quantity of the output to a manageable level.*)\n",
    "\n",
    "* Your notes here\n",
    "* .."
   ]
  },
  {
   "cell_type": "markdown",
   "metadata": {
    "id": "ZvPVgY38F9mM"
   },
   "source": [
    "**j) Some bonus tasks if you have time. Pick those that are most interesting to you.**\n",
    "\n",
    "1. Modify your code to specify the time intervals at which the print statements happen (e.g., if you reduce dt to `dt = 0.01`, it still prints only every 0.1 seconds except for the final print statement related to when the `break` happened.\n",
    "2. Similar to the above, modify the code to make print statements happen only every nth loop (e.g., every 5th loop). Again you will still want a final print statement related to when the `break` happened.\n",
    "3. Instead of making `dt` as small as possible, another way to get a more accurate answer for when the object reached its maximum height is to interpolate in-between the times right before and right after it has reached the maximum height in the loop. We suggest you start with simpler / less accurate approaches to this interpolation and build up to more sophisticated ones."
   ]
  },
  {
   "cell_type": "code",
   "execution_count": null,
   "metadata": {
    "id": "o50xHKmVF9me"
   },
   "outputs": [],
   "source": []
  }
 ],
 "metadata": {
  "colab": {
   "provenance": []
  },
  "kernelspec": {
   "display_name": "Python 3",
   "language": "python",
   "name": "python3"
  },
  "language_info": {
   "codemirror_mode": {
    "name": "ipython",
    "version": 3
   },
   "file_extension": ".py",
   "mimetype": "text/x-python",
   "name": "python",
   "nbconvert_exporter": "python",
   "pygments_lexer": "ipython3",
   "version": "3.7.6"
  }
 },
 "nbformat": 4,
 "nbformat_minor": 1
}
