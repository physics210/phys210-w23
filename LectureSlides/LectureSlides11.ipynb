{
 "cells": [
  {
   "cell_type": "markdown",
   "metadata": {
    "slideshow": {
     "slide_type": "slide"
    }
   },
   "source": [
    "# PHYS 210 Lecture 11 - Oct 16, 2023\n",
    "Agenda:\n",
    "\n",
    "1. Announcements\n",
    "1. Reading recap (Q&A and polling questions)\n",
    "1. Groupwork"
   ]
  },
  {
   "cell_type": "markdown",
   "metadata": {
    "slideshow": {
     "slide_type": "slide"
    }
   },
   "source": [
    "## Announcements\n",
    "\n",
    "1. Homework 02 has been posted and is due in a week"
   ]
  },
  {
   "cell_type": "markdown",
   "metadata": {
    "slideshow": {
     "slide_type": "slide"
    }
   },
   "source": [
    "## Reading recap, Q&A and polling questions\n",
    "First containers, then `solve_ivp`"
   ]
  },
  {
   "cell_type": "markdown",
   "metadata": {
    "slideshow": {
     "slide_type": "slide"
    }
   },
   "source": [
    "## Reading recap: Containers\n",
    "Data structures that can contain multiple items and types of items\n",
    "\n",
    "- Mutable – can be changed\n",
    "- Immutable – can’t be changed\n",
    "<br><br>\n",
    "- Ordered – items are in predictable order, can be accessed by slices\n",
    "- Unordered – the order is unpredictable (and usually unimportant)\n"
   ]
  },
  {
   "cell_type": "markdown",
   "metadata": {
    "slideshow": {
     "slide_type": "slide"
    }
   },
   "source": [
    "### Strings\n",
    "\n",
    "* Immutable, ordered\n",
    "* `+`, `*`, split, join \n",
    "* Aliasing (memory sharing/shallow copies) does not cause issues since they are immutable"
   ]
  },
  {
   "cell_type": "markdown",
   "metadata": {
    "slideshow": {
     "slide_type": "slide"
    }
   },
   "source": [
    "### Lists\n",
    "\n",
    "* Mutable, ordered\n",
    "* Create using `a = [ ]` or `a = list()`\n",
    "* \\*, \\+ as for strings\n",
    "* List methods: `append()`, `count()`, `extend()`, etc\n",
    "* Aliasing (memory sharing/shallow copies) can cause issues since they are mutable\n"
   ]
  },
  {
   "cell_type": "markdown",
   "metadata": {
    "slideshow": {
     "slide_type": "slide"
    }
   },
   "source": [
    "## Dictionaries\n",
    "\n",
    "* Mutable, unordered\t\n",
    "* Dictionary methods: clear(), copy(), get(), items(), keys(), values(), update(), etc"
   ]
  },
  {
   "cell_type": "code",
   "execution_count": null,
   "metadata": {},
   "outputs": [],
   "source": [
    "a = {'eyecolour': 'brown', 'height': 152.0 }\n",
    "a['eyecolour']"
   ]
  },
  {
   "cell_type": "markdown",
   "metadata": {
    "slideshow": {
     "slide_type": "slide"
    }
   },
   "source": [
    "### Q. Why use tuples? \n",
    "Once you've created a tuple, you can't change it (can't add elements, change them, remove them, etc).\n",
    "\n",
    "Generally you want to use lists as structures that hold information you are going to manipulate, and use tuples to transport several variables from here to there.\n",
    "\n",
    "A tuple is just a container that holds other variables. They are kept in order (ordered) but once you've made the container, all you can do is read the variables out of it."
   ]
  },
  {
   "cell_type": "markdown",
   "metadata": {
    "slideshow": {
     "slide_type": "slide"
    }
   },
   "source": [
    "### Q: Still confused about in-place operations vs new object creation\n",
    "\n",
    "Variables that contain multiple values can have multiple names.\n",
    "+ `a = [1, 2, 3]`, `b = a`: `a` and `b` are different names for the same list.\n",
    "+ If instead we’d said: `b = a * 1` then b and a would be different objects.\n",
    "+ After setting `b = a`, operations like: `a += [1]` and `a[0] = 5` change both a and b ('in place' operations).\n",
    "+ However, `a = a + 1` will create a new variable `a`.\n",
    "\n",
    "You will usually want to use `b = a.copy()` instead of `a = b` when making copies of mutable containiners"
   ]
  },
  {
   "cell_type": "markdown",
   "metadata": {
    "slideshow": {
     "slide_type": "slide"
    }
   },
   "source": [
    "### New variable example\n",
    "The new list created by `a = a + [5]` exists only inside the function"
   ]
  },
  {
   "cell_type": "code",
   "execution_count": null,
   "metadata": {},
   "outputs": [],
   "source": [
    "def do_nothing(a):\n",
    "    a = a + [5]\n",
    "    print(\"inside a:\", a)\n",
    "\n",
    "a = [ 1, 2, 3]\n",
    "do_nothing(a)\n",
    "print(\"outside a:\", a)"
   ]
  },
  {
   "cell_type": "markdown",
   "metadata": {
    "slideshow": {
     "slide_type": "slide"
    }
   },
   "source": [
    "### In place example\n",
    "Here the `a += 5` does its work 'in place'. Changes to the list inside the function are also seen outside of the function:"
   ]
  },
  {
   "cell_type": "code",
   "execution_count": null,
   "metadata": {},
   "outputs": [],
   "source": [
    "def add5(a):\n",
    "    a += [5]\n",
    "    print(\"inside a:\", a)\n",
    "a = [ 1, 2, 3]\n",
    "\n",
    "add5(a)\n",
    "print(\"outside a:\", a)"
   ]
  },
  {
   "cell_type": "markdown",
   "metadata": {
    "slideshow": {
     "slide_type": "slide"
    }
   },
   "source": [
    "### Another in place example\n",
    "All operations are 'in place', so the changes to the list inside the function are also seen outside of the function:"
   ]
  },
  {
   "cell_type": "code",
   "execution_count": null,
   "metadata": {},
   "outputs": [],
   "source": [
    "def swap(a):\n",
    "    b = a[0]\n",
    "    a[0] = a[1]\n",
    "    a[1] = b\n",
    "\n",
    "a = [ 1, 2, 3]\n",
    "\n",
    "swap(a)\n",
    "print(a)"
   ]
  },
  {
   "cell_type": "markdown",
   "metadata": {
    "slideshow": {
     "slide_type": "slide"
    }
   },
   "source": [
    "**Polling Q11.1** Which of the following is an incorrect way of defining a dictionary?\n",
    "```\n",
    "A_fellowship = {'Frodo':33,'Aragorn': 87, 'Gimli': 139}\n",
    "\n",
    "B_fellowship = dict([ ('Frodo',33),('Aragorn', 87), ( 'Gimli', 139) ])\n",
    "\n",
    "C_fellowship = { ('Frodo',33),('Aragorn', 87),( 'Gimli', 139) }\n",
    "\n",
    "D_fellowship = {}\n",
    "D_fellowship['Frodo'] = 33\n",
    "D_fellowship['Aragorn'] = 87\n",
    "D_fellowship['Gimli'] = 139\n",
    "```"
   ]
  },
  {
   "cell_type": "code",
   "execution_count": null,
   "metadata": {},
   "outputs": [],
   "source": []
  },
  {
   "cell_type": "markdown",
   "metadata": {
    "slideshow": {
     "slide_type": "slide"
    }
   },
   "source": [
    "**Polling Q11.2** What will the following output?"
   ]
  },
  {
   "cell_type": "code",
   "execution_count": null,
   "metadata": {},
   "outputs": [],
   "source": [
    "def sumthree(a, b, c):\n",
    "    print(a + b + c)\n",
    "t = (1, 2, 3.)\n",
    "sumthree(t)"
   ]
  },
  {
   "cell_type": "markdown",
   "metadata": {},
   "source": [
    "A) `6`<br>\n",
    "B) `6.`<br>\n",
    "D) `None`<br>\n",
    "C) Error"
   ]
  },
  {
   "cell_type": "markdown",
   "metadata": {
    "slideshow": {
     "slide_type": "slide"
    }
   },
   "source": [
    "### Review of `solve_ivp` and event handling\n",
    "Let's head over to the Q&A and reading assignment"
   ]
  },
  {
   "cell_type": "markdown",
   "metadata": {
    "slideshow": {
     "slide_type": "slide"
    }
   },
   "source": [
    "## Group activity\n",
    "* More Electric Field Hockey, but now using solve_ivp()"
   ]
  },
  {
   "cell_type": "code",
   "execution_count": null,
   "metadata": {},
   "outputs": [],
   "source": []
  }
 ],
 "metadata": {
  "celltoolbar": "Slideshow",
  "kernelspec": {
   "display_name": "Python 3",
   "language": "python",
   "name": "python3"
  },
  "language_info": {
   "codemirror_mode": {
    "name": "ipython",
    "version": 3
   },
   "file_extension": ".py",
   "mimetype": "text/x-python",
   "name": "python",
   "nbconvert_exporter": "python",
   "pygments_lexer": "ipython3",
   "version": "3.7.6"
  }
 },
 "nbformat": 4,
 "nbformat_minor": 4
}
