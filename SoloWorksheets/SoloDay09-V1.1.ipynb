{
 "cells": [
  {
   "cell_type": "markdown",
   "metadata": {},
   "source": [
    "# PHYS 210, Solo Worksheet 09\n",
    "Due Thursday, Oct 12, 2023 at the start of class on Canvas"
   ]
  },
  {
   "cell_type": "markdown",
   "metadata": {},
   "source": [
    "## *9.0 Introduction*\n",
    "In this solo worksheet you are going to look at the impact of the time step on the accuracy of Euler's method and then we will introduce an alternate algorithm to Euler's method, RK4 (Runge-Kutta 4th order). You will compare the accuracy of Euler's method and RK4 for different step sizes"
   ]
  },
  {
   "cell_type": "markdown",
   "metadata": {},
   "source": [
    "## *9.1 Limitations of Euler's method for motion*\n",
    "The code below is modified from Reading 09 to add the exact solution and a graph of the residuals (the difference between Euler's solution and the exact solution). There is a version provided in markdown that you should copy into the cell below it to modify.\n",
    "\n",
    "**Task 9.1.1** Take some time to make sure you understand how list comprehension is used to build the lists `y_exact` and `residuals_euler`.\n",
    "\n",
    "**Task 9.1.2** With `dt = 0.1` (seconds) below, you can see that the Euler's method solution is not very accurate. Investigate how small you need to make `dt` before you feel that the Euler's method solution becomes reasonably accurate. How much worse is the accuracy for a really big step size such as `dt = 0.25`?"
   ]
  },
  {
   "cell_type": "markdown",
   "metadata": {},
   "source": [
    "**Your notes on your investigation of the impact of `dt` on the accuracy of the Euler's method solution:**\n",
    "* ..\n",
    "* .."
   ]
  },
  {
   "cell_type": "markdown",
   "metadata": {},
   "source": [
    "```python\n",
    "### This code is embedded in markdown so you can copy it into the cell below\n",
    "\n",
    "def euler(y, v, t, t_end, t_step):\n",
    "    \"\"\"Euler's method integrator\n",
    "    Args:\n",
    "    - y: initial height\n",
    "    - v: initial y-velocity\n",
    "    - t, t_end: start and end time\n",
    "    - t_step: step size\n",
    "    Returns: list of times and corresponding y values\n",
    "    \"\"\"\n",
    "    t_list = [t]\n",
    "    y_list = [y]\n",
    "    v_list = [v]\n",
    "    a = -9.81  # gravitational acceleration\n",
    "    \n",
    "    while t < t_end:\n",
    "        y = y + t_step * v\n",
    "        v = v + t_step * a\n",
    "        t = t + t_step\n",
    "\n",
    "        y_list.append(y)\n",
    "        v_list.append(v)\n",
    "        t_list.append(t)\n",
    "        \n",
    "    return t_list, y_list\n",
    "\n",
    "## Main part of the program\n",
    "import numpy as np\n",
    "import matplotlib.pyplot as plt\n",
    "\n",
    "y0, v0 = 0, 10  # Initial position and velocity\n",
    "t0, tmax, dt = 0, 2, 0.1  # Start, end times and step size\n",
    "\n",
    "# Euler solution\n",
    "times, y_euler = euler(y0, v0, t0, tmax, dt)\n",
    "\n",
    "# Exact solution at the same times as Euler\n",
    "y_exact = [y0 + v0*t - 0.5*9.81*t**2 for t in times]\n",
    "\n",
    "# Residuals\n",
    "residuals_euler = [y_euler[i] - (y0 + v0*t - 0.5*9.81*t**2) for i,t in enumerate(times)]\n",
    "\n",
    "# Create figure and subplots\n",
    "fig, ax = plt.subplots(nrows=2, ncols=1, figsize=(10, 8))\n",
    "\n",
    "# Main plot (Euler's method vs Exact solution)\n",
    "ax[0].plot(times, y_exact, 'r--', label='Exact Solution' ) \n",
    "ax[0].plot(times, y_euler, 'b', label=\"Euler's method\" )\n",
    "ax[0].set_title(\"One-dimensional motion\")\n",
    "ax[0].set_xlabel(\"t (s)\")\n",
    "ax[0].set_ylabel(\"y (m)\")\n",
    "ax[0].legend()\n",
    "ax[0].grid(True)\n",
    "\n",
    "# Residuals subplot\n",
    "ax[1].plot(times, residuals_euler, 'b', label=\"Euler's method\" )\n",
    "ax[1].set_xlabel(\"t (s)\")\n",
    "ax[1].set_ylabel(\"Residual (m)\")\n",
    "ax[1].legend()\n",
    "ax[1].grid(True)\n",
    "\n",
    "plt.tight_layout()\n",
    "plt.show()\n",
    "```"
   ]
  },
  {
   "cell_type": "code",
   "execution_count": null,
   "metadata": {},
   "outputs": [],
   "source": [
    "# Copy the code from above and explore the impact of different values of 'dt'\n",
    "\n"
   ]
  },
  {
   "cell_type": "markdown",
   "metadata": {},
   "source": [
    "## *9.2 RK4 (Runge-Kutta 4th order)*\n",
    "Spend 5-10 minutes learning about RK4 (Runge-Kutta 4th order), a much more accurate way to solve ODEs than Euler's method. Try some combination of Wikipedia, internet searches, ChatGPT and watching a short video, such as https://www.youtube.com/watch?v=C_WsQeOjbV4"
   ]
  },
  {
   "cell_type": "markdown",
   "metadata": {},
   "source": [
    "To make sense of how most of the resources talk about determing a weighted average for the slope, our slope related to how our position increases is simply the velocity,\n",
    "\n",
    "$$y_{i+1} = y_{i} + t_{step}v_{i}.$$\n",
    "\n",
    "So RK4 is effectively evaluating the velocity at the time corresponding to $y_i$ and then at time $t_{step}/2$ and $t_{step}$ later, making a weighted average of these to get a better estimate of the overall velocity to use as the slope since the velocity is actually changing throughout the time step. \n",
    "\n",
    "In practice, the values $k_1$ to $k_4$ are $\\Delta y$ terms since they include both $v$ and $t_{step}$.\n",
    "\n",
    "We also apply this same process to how the velocity changes, \n",
    "\n",
    "$$v_{i+1} = v_{i} + t_{step}*a_{i},$$\n",
    "\n",
    "but since our acceleration ($a=-g$) is constant over time, the $k$ terms all end up being the same. We will leave these in the code below so that the code works better as a somewhat general solution.\n",
    "\n",
    "**Task 9.2.1:** Update the code below to make the same type of plots as as from question 9.1 (y vs t and residuals vs t) for the RK4 solutions\n",
    "\n",
    "**Task 9.2.2:** Investigate the impact of `dt` on the accuracy of the RK4 solution. Contrast these results with what you found for the Euler's method solution. *Important! The residuals graph will likely have an overall multiplication factor, such as `1e-15` printed at the top of the y-axis*."
   ]
  },
  {
   "cell_type": "markdown",
   "metadata": {},
   "source": [
    "**Your notes on your investigation of the impact of `dt` on the accuracy of the RK4 solution:**\n",
    "* ..\n",
    "* .."
   ]
  },
  {
   "cell_type": "markdown",
   "metadata": {},
   "source": [
    "```python\n",
    "### This code is embedded in markdown so you can copy it into the cell below\n",
    "\n",
    "def rk4(y, v, t, t_end, t_step):\n",
    "    \"\"\"Runge-Kutta 4th order method integrator\n",
    "    Args:\n",
    "    - y: initial height\n",
    "    - v: initial y-velocity\n",
    "    - t, t_end: start and end time\n",
    "    - t_step: step size\n",
    "    Returns: list of times and corresponding y values\n",
    "    \"\"\"\n",
    "    t_list = [t]\n",
    "    y_list = [y]\n",
    "    v_list = [v]\n",
    "    a = -9.81  # gravitational acceleration\n",
    "\n",
    "    while t < t_end:\n",
    "        k1_y = t_step * v\n",
    "        k1_v = t_step * a\n",
    "\n",
    "        k2_y = t_step * (v + 0.5 * k1_v)\n",
    "        k2_v = t_step * a\n",
    "\n",
    "        k3_y = t_step * (v + 0.5 * k2_v)\n",
    "        k3_v = t_step * a\n",
    "\n",
    "        k4_y = t_step * (v + k3_v)\n",
    "        k4_v = t_step * a\n",
    "\n",
    "        y = y + (k1_y + 2 * k2_y + 2 * k3_y + k4_y) / 6.0\n",
    "        v = v + (k1_v + 2 * k2_v + 2 * k3_v + k4_v) / 6.0\n",
    "        t = t + t_step\n",
    "\n",
    "        y_list.append(y)\n",
    "        v_list.append(v)\n",
    "        t_list.append(t)\n",
    "\n",
    "    return t_list, y_list\n",
    "\n",
    "## Main part of the program\n",
    "import numpy as np\n",
    "import matplotlib.pyplot as plt\n",
    "\n",
    "y0, v0 = 0, 10  # Initial position and velocity\n",
    "t0, tmax, dt = 0, 2, 0.1  # Start, end times and step size\n",
    "\n",
    "# RK4 solution\n",
    "times, y_rk4 = rk4(y0, v0, t0, tmax, dt)\n",
    "\n",
    "# Exact solution at the same times as RK4\n",
    "y_exact = [y0 + v0*t - 0.5*9.81*t**2 for t in times]\n",
    "\n",
    "# Residuals\n",
    "residuals_rk4 = [y_rk4[i] - (y0 + v0*t - 0.5*9.81*t**2) for i,t in enumerate(times)]\n",
    "\n",
    "## Your graphing code\n",
    "```"
   ]
  },
  {
   "cell_type": "code",
   "execution_count": null,
   "metadata": {},
   "outputs": [],
   "source": [
    "# Copy the code from above, update the graphs, and then use\n",
    "# this code to explore the impact of different values of 'dt'\n",
    "\n",
    "\n",
    "\n"
   ]
  },
  {
   "cell_type": "markdown",
   "metadata": {},
   "source": [
    "## *9.3 Use a function for the exact solution*\n",
    "In these types of ODE solvers, we're going to start using functions to do calculations that show up multiple times or govern motion, such as our exact solution equation. \n",
    "\n",
    "**Task 9.3.1:** Copy and modify the code from below such that the value calculated in and returned from the function `exact_soln` makes it so everything is working the same as in the code originally provided for 9.3 above."
   ]
  },
  {
   "cell_type": "markdown",
   "metadata": {},
   "source": [
    "```python\n",
    "### This code is embedded in markdown so you can copy it again as needed\n",
    "### The next cell has the code for you to modify\n",
    "\n",
    "def exact_soln(y0, v0, t):\n",
    "    a = -9.81\n",
    "    # Add some code to calculate y and return it\n",
    "\n",
    "def euler(y, v, t, t_end, t_step):\n",
    "    \"\"\"Euler's method integrator\n",
    "    Args:\n",
    "    - y: initial height\n",
    "    - v: initial y-velocity\n",
    "    - t, t_end: start and end time\n",
    "    - t_step: step size\n",
    "    Returns: list of times and corresponding y values\n",
    "    \"\"\"\n",
    "    t_list = [t]\n",
    "    y_list = [y]\n",
    "    v_list = [v]\n",
    "    a = -9.81  # gravitational acceleration\n",
    "\n",
    "    while t < t_end:\n",
    "        y = y + t_step * v\n",
    "        v = v + t_step * a\n",
    "        t = t + t_step\n",
    "\n",
    "        y_list.append(y)\n",
    "        v_list.append(v)\n",
    "        t_list.append(t)\n",
    "\n",
    "    return t_list, y_list\n",
    "\n",
    "## Main part of the program\n",
    "import numpy as np\n",
    "import matplotlib.pyplot as plt\n",
    "\n",
    "y0, v0 = 0, 10  # Initial position and velocity\n",
    "t0, tmax, dt = 0, 2, 0.1  # Start, end times and step size\n",
    "\n",
    "# Euler solution\n",
    "times, y_euler = euler(y0, v0, t0, tmax, dt)\n",
    "\n",
    "# Exact solution at the same times as Euler\n",
    "y_exact = [exact_soln(y0, v0, t) for t in times]\n",
    "\n",
    "# Residuals\n",
    "residuals_euler = [y_euler[i] - exact_soln(y0, v0, t) for i,t in enumerate(times)]\n",
    "\n",
    "# Create figure and subplots\n",
    "fig, ax = plt.subplots(nrows=2, ncols=1, figsize=(10, 8))\n",
    "\n",
    "# Main plot (Euler's method vs Exact solution)\n",
    "ax[0].plot(times, y_exact, 'r--', label='Exact Solution' ) \n",
    "ax[0].plot(times, y_euler, 'b', label=\"Euler's method\" )\n",
    "ax[0].set_title(\"One-dimensional motion\")\n",
    "ax[0].set_xlabel(\"t (s)\")\n",
    "ax[0].set_ylabel(\"y (m)\")\n",
    "ax[0].legend()\n",
    "ax[0].grid(True)\n",
    "\n",
    "# Residuals subplot\n",
    "ax[1].plot(times, residuals_euler, 'b', label=\"Euler's method\" )\n",
    "ax[1].set_xlabel(\"t (s)\")\n",
    "ax[1].set_ylabel(\"Residual (m)\")\n",
    "ax[1].legend()\n",
    "ax[1].grid(True)\n",
    "\n",
    "plt.tight_layout()\n",
    "plt.show()\n",
    "```"
   ]
  },
  {
   "cell_type": "code",
   "execution_count": null,
   "metadata": {},
   "outputs": [],
   "source": [
    "# Your code here\n",
    "\n"
   ]
  },
  {
   "cell_type": "markdown",
   "metadata": {},
   "source": [
    "## *Completing this solo worksheet and submitting it to Canvas*\n",
    "Before submitting your work, restart + rerun your entire notebook to make sure that everything runs correctly and without error.\n",
    "\n",
    "To do this:\n",
    "1. **Restart & Run All:** From the \"Kernel\" menu to the right of the \"Cell\" menu, select \"Restart & Run All\". This will restart the python Kernel, erasing all variables currently stored in memory so that when you \"Run All\" cells, you can ensure that if you were to run your notebook again on a later day, it would run as intended.\n",
    "1. Look through the whole notebook and make sure there are no errors. Many questions have purposeful errors in the distributed version so make sure you have fixed them all such that \"Restart & Run All\" will run through the whole book and successfully print \"The notebook ran without errors\" at the end. If you have any trouble resolving the errors, please ask one of your classmates or ask us in class or on Piazza.\n",
    "\n",
    "**Export notebook as HTML:** After you've executed and checked your notebook, choose: File => Save_and_Export_Notebook_As => HTML. This will download an HTML version of your notebook to your computer. This version is can not be executed or modified. You may need to disable any pop-up blockers to allow the file to be downloaded.\n",
    "\n",
    "**Submit to Canvas:** Submit the html file that you just downloaded to the appropriate Solo Worksheet submission on Canvas."
   ]
  },
  {
   "cell_type": "code",
   "execution_count": null,
   "metadata": {},
   "outputs": [],
   "source": [
    "print(\"The notebook ran without errors\")"
   ]
  }
 ],
 "metadata": {
  "kernelspec": {
   "display_name": "Python 3",
   "language": "python",
   "name": "python3"
  },
  "language_info": {
   "codemirror_mode": {
    "name": "ipython",
    "version": 3
   },
   "file_extension": ".py",
   "mimetype": "text/x-python",
   "name": "python",
   "nbconvert_exporter": "python",
   "pygments_lexer": "ipython3",
   "version": "3.7.6"
  }
 },
 "nbformat": 4,
 "nbformat_minor": 4
}
