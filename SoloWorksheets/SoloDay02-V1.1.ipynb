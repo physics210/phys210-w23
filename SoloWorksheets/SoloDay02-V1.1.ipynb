{
 "cells": [
  {
   "cell_type": "markdown",
   "metadata": {
    "id": "s7LPEdMxDJwD"
   },
   "source": [
    "# PHYS 210, Solo Worksheet 02\n",
    "Due Wednesday, Sep 13, 2023 at the start of class on Canvas"
   ]
  },
  {
   "cell_type": "markdown",
   "metadata": {
    "id": "2_2mYVbmDJwM",
    "tags": []
   },
   "source": [
    "## *Before you get started: run the cell below*"
   ]
  },
  {
   "cell_type": "code",
   "execution_count": null,
   "metadata": {
    "executionInfo": {
     "elapsed": 16,
     "status": "ok",
     "timestamp": 1694298333362,
     "user": {
      "displayName": "Joss Ives",
      "userId": "04296791844389920663"
     },
     "user_tz": 420
    },
    "id": "2xSNrFUzDJwO",
    "tags": []
   },
   "outputs": [],
   "source": [
    "# Run me before running any other cells in this notebook\n",
    "import hashlib\n",
    "\n",
    "# Answers to multiple-choice questions\n",
    "answ = {'q3':'6b23c0d5f35d1b11f9b683f0b0a617355deb11277d91ae091d399c655b87940d',\n",
    "        'q4':'df7e70e5021544f4834bbee64a9e3789febc4be81470df629cad6ddb03320a5c'}"
   ]
  },
  {
   "cell_type": "markdown",
   "metadata": {
    "id": "PYTgDRpeDJwR"
   },
   "source": [
    "## *2.1 Introduction to the Linux terminal command line*\n",
    "\n",
    "Although we are doing all of our python work in this course in Jupyter notebooks, another important aspect of scientific computing is to have some fluency with the Linux terminal command line. Throughout the term we will sprinkle in some Linux terminal command line tasks to help you gain some of this fluency.\n",
    "\n",
    "When you login to open.jupyter.ubc.ca (directly or via clicking one of the notebook links on Canvas), you are taken to a virtualized computing environment that you are interacting with through the JupyterLab interface in your web browser."
   ]
  },
  {
   "cell_type": "markdown",
   "metadata": {
    "id": "pS4ydIpBDJwS"
   },
   "source": [
    "### 2.1.1 Opening a Linux terminal\n",
    "\n",
    "We're going to open a Linux terminal, which is the same type of terminal interface available with macOS and similar to the command prompt on Windows. One way to open a terminal window in JupyterLab is via the File menu at the upper-left corner of the page: `File => New => Terminal`\n",
    "\n",
    "You should see a mostly empty window open up with JupyterLab, with a prompt that looks as follows (with your CWL where you see [yourCWL]:\n",
    "```\n",
    "jovyan@jupyter-[yourCWL]:~$\n",
    "```\n",
    "This prmopt provides two useful pieces of information. The name `jupyter-[yourCWL]` is the name of your virtual computer on open.jupyter and you can see this by typing the terminal command `hostname` and hitting the Enter key on your keyboard. This gives you the name of your computer, as shown:\n",
    "```\n",
    "jovyan@jupyter-[yourCWL]:~$ hostname\n",
    "jupyter-[yourCWL]\n",
    "```\n",
    "The other useful piece of information is that your virtual computer might be named after your CWL, but your username on this virtual computer is `joyvan`, which you can verify using the terminal command `whoami`:\n",
    "```\n",
    "jovyan@jupyter-[yourCWL]:~$ whoami\n",
    "jovyan\n",
    "```\n",
    "Jovian means related to the planet Jupiter, so you can see that somebody with a nerdy sense of humour decided this would be a good default username for us as our username is related to Jupyter.\n",
    "\n",
    "To recap, we all have the same username `jovyan` on open.jupyter, but we each are interfacing with our own private virtual computers, named after our CWLs."
   ]
  },
  {
   "cell_type": "markdown",
   "metadata": {
    "id": "aDdFjNniDJwT"
   },
   "source": [
    "### 2.1.2 Directory Structure\n",
    "\n",
    "Computers have a directory (folder) structure, which you navigate through with 'explorer' in Windows and 'finder' macOS. The operating system installed on our virtual `jupyter-[yourCWL]` computer is Linux. As you know from interacting with your open.jupyter account, you can navigate your files through the folders on the left, but this graphical interface is somewhat limited compared to how you can interact with all of the files stored on your virtual computer from the command line (the terminal).\n",
    "\n",
    "\n",
    "The full specification of a file in linux is:\n",
    "```\n",
    "/dir1/dir2/dir3/dir4/…/myfile\n",
    "```\n",
    "where the various directories/subdirectories are separated by a forward slash `/`\n",
    "\n",
    "Everything in Linux is case sensitive! LS, Ls, and ls are all different. It is also best to avoid special characters and spaces in filenames."
   ]
  },
  {
   "cell_type": "markdown",
   "metadata": {
    "id": "yaBC-QOADJwV"
   },
   "source": [
    "### 2.1.3 Basic commands and Working directory.\n",
    "\n",
    "The file directory structure can be thought of as a hierarchical structure of rooms, each of which can have a path to more rooms below, or to objects (i.e. files) within the room. Think of your working directory as the room you currently occupy.\n",
    "\n",
    "Below we see a representation of the file structure of a typical install of the Linux operating system.\n",
    "\n",
    "<center><img src = \"https://mirror.apps.cam.ac.uk/pub/doc/suse/suse9.0/userguide-9.0/verzeichnisse_baum.png\" width=\"600\">\n",
    "<br>Image from: https://www-uxsup.csx.cam.ac.uk/pub/doc/suse/suse9.0/userguide-9.0/ch24s02.html</center>\n",
    "\n",
    "We don’t need to learn too much about how all the files in a linux system are organized, but there are a couple of things worth knowing at this point. User files are usually stored in user home directories, under `/home`. In the image above, there are three user directories: yxz, linux and tux.\n",
    "\n",
    "The most basic commands for navigating the directory structure are\n",
    "\n",
    "* `pwd` - gives your location in the directory structure\n",
    "* `ls` - lists the file names in your current working directory (the room you are currently in)\n",
    "* `cd` - allows you to change your current working directory (move from one room to another)."
   ]
  },
  {
   "cell_type": "markdown",
   "metadata": {
    "id": "X4V4-2znDJwW"
   },
   "source": [
    "### Question 2.1: try some of these commands out\n",
    "\n",
    "* Use `pwd` to print the current working directory (i.e. it tells you which 'room' you are in).\n",
    "* Use `ls`. Which files and directories do you see? Assuming your current working directory is `/home/jovyan/phys210-w23/`, you should see our course content folders such as `SoloWorksheets`, `ReadingAssignments` and more. This will be the same as what you see when you are in the `phys210-w23/` directory in the graphical file interface on the left.\n",
    "* System executable programs are usually stored in either /bin or /usr/bin. Use `ls` to list the contents of `/bin` by using the command `ls /bin`. That should show you an overwhelming number of sub-folders within that high-level folder."
   ]
  },
  {
   "cell_type": "markdown",
   "metadata": {
    "id": "tWQl84gKDJwY"
   },
   "source": [
    "### 2.1.4 Commands help\n",
    "\n",
    "Many commands can take optional arguments. \n",
    "\n",
    "***EDIT SEPT 11:*** UBC IT changed the UBC Open JupyterLab install and `man` is currently not available so you can either skip this `man pwd` part, ask ChatGPT or try it out on CoCalc.\n",
    "\n",
    "The options for pwd for example can be found with:\n",
    "```\n",
    "man pwd\n",
    "```\n",
    "`man` is short for 'manual' as in read the manual<br><br>"
   ]
  },
  {
   "cell_type": "markdown",
   "metadata": {},
   "source": [
    "**`ls` options:** Try out the commands below:\n",
    "\n",
    "* `ls -l`\n",
    "* `ls -la`\n",
    "* `ls -ltr`\n",
    "\n",
    "Read the description of these options in the manual page for `ls` to learn what information is given with the `-l`, `-a`, `-t` and `-r` options.\n",
    "\n",
    "A useful set of options to remember is `ls -halt` to list all files (`-a`), sorted by the last time they were modified (`-t`), showing additional information (`-l`), with easy to read units for the file size (`-h`)."
   ]
  },
  {
   "cell_type": "markdown",
   "metadata": {
    "id": "3CZOKncoDJwZ"
   },
   "source": [
    "\n",
    "### 2.1.5 Some shortcuts worth knowing when navigating directories:\n",
    "\n",
    "`~` refers to your home directory. For example you can `cd ~` to return to your home directory. In fact, `cd` with no arguments will also return you to your home directory.\n",
    "\n",
    "* Try these out for yourself. To go back into our course directory from our home directory, you can type `cd phys210-w23`, but it is helpful to know that you only probably need to type `cd p` and then hit your tab key on your keyboard and it will auto-complete the rest of the directory name.\n",
    "\n",
    "A single period: `.` refers to your current working directory.\n",
    "\n",
    "Two periods: `..` refers to the directory one level above your current working directory.\n",
    "\n",
    "Try the following sequence of commands\n",
    "```\n",
    "cd\n",
    "pwd\n",
    "cd ..\n",
    "pwd\n",
    "cd ../bin\n",
    "pwd\n",
    "```\n",
    "\n",
    "What directory are you in after the first `cd`? What directory are you in after the second `cd`? After the third?"
   ]
  },
  {
   "cell_type": "markdown",
   "metadata": {
    "id": "jLgdsaiRDJwa"
   },
   "source": [
    "### Question 2.2: copying, renaming and deleting a file\n",
    "Our final set of command line tasks for this assignment will be to copy, rename and then delete a file.\n",
    "\n",
    "Navigate to the course directory `phys210-w23/` and let's check for all of the Jupyter notebooks (`*.ipynb`) in that first level of the folder:\n",
    "```\n",
    "ls *.ipynb\n",
    "```\n",
    "The `*` is a wildcard character, which is this context means that you are asking to list all of the files in this directory that end with the `.ipynb` extension. It is likely the only one you have in there is `welcome_to_PHYS_210.ipynb`.\n",
    "\n",
    "Let's make a copy of this file:\n",
    "```\n",
    "cp welcome_to_PHYS_210.ipynb doppelganger.ipynb\n",
    "```\n",
    "Don't forget you can use tab completion once you have typed `cp w` and it should automagically fill in the rest of the existing notebook's name.\n",
    "\n",
    "Use `ls *.ipynb` again to confirm you now have two of this type of file in this directory. If you didn't already notice, you can use the up and down arrows on your keyboard to cycle through previously used commands so you should be able to have hit the up arrow twice to get tothis command.\n",
    "\n",
    "Let's rename `doppelganger.ipynb`. We're going to use the `mv` command which moves the file from one name to another OR can actually move files around to different directories, but we are just going to use it for renaming here:\n",
    "```\n",
    "mv doppelganger.ipynb deleteme.ipynb\n",
    "```\n",
    "Finally, let's delete the copied and renamed file using the `rm` (remove) command:\n",
    "```\n",
    "rm deleteme.ipynb\n",
    "```\n",
    "You might remember that we mentioned in class that to get a fresh copy of a notebook that we distributed via open.jupyter, that you should just rename your old version and then click on the link on Canvas to get a new version. Now you know how to rename a file from the command line!"
   ]
  },
  {
   "cell_type": "markdown",
   "metadata": {
    "id": "JvI46KW-DJwa"
   },
   "source": [
    "## *2.2 Some string and string formatting questions*\n",
    "Correct the code in each of the questions below so that you pass each assert statement"
   ]
  },
  {
   "cell_type": "markdown",
   "metadata": {
    "id": "gdBl_JY3DJwa"
   },
   "source": [
    "### Question 2.3\n",
    "\n",
    "With the variables `svar1`, `ivar2` and `fvar3` set as shown below, how many of the following operations will give answers that are **floats**?\n",
    "\n",
    "* `svar1 * svar1`\n",
    "* `ivar2 * ivar2`\n",
    "* `fvar3 * fvar3`\n",
    "* `svar1 * ivar2`\n",
    "* `svar1 * fvar3`\n",
    "* `ivar2 * fvar3`\n",
    "\n",
    "A) 0<br>\n",
    "B) 1<br>\n",
    "C) 2<br>\n",
    "D) 3<br>\n",
    "E) 4<br>\n",
    "F) 5<br>\n",
    "G) 6<br>"
   ]
  },
  {
   "cell_type": "code",
   "execution_count": null,
   "metadata": {
    "executionInfo": {
     "elapsed": 16,
     "status": "ok",
     "timestamp": 1694298333363,
     "user": {
      "displayName": "Joss Ives",
      "userId": "04296791844389920663"
     },
     "user_tz": 420
    },
    "id": "GJ30URDNDJwb",
    "tags": []
   },
   "outputs": [],
   "source": [
    "# Code testing area to help answer this question\n",
    "\n"
   ]
  },
  {
   "cell_type": "code",
   "execution_count": null,
   "metadata": {
    "colab": {
     "base_uri": "https://localhost:8080/"
    },
    "executionInfo": {
     "elapsed": 15,
     "status": "ok",
     "timestamp": 1694298333363,
     "user": {
      "displayName": "Joss Ives",
      "userId": "04296791844389920663"
     },
     "user_tz": 420
    },
    "id": "U_Tvg559DJwb",
    "outputId": "c2c0c28c-2dc2-4754-e9fa-1d018bf37eee",
    "tags": []
   },
   "outputs": [],
   "source": [
    "svar1 = \"Benatar\"\n",
    "ivar2 = 616\n",
    "fvar3 = 2.72\n",
    "\n",
    "answer = \"\"\n",
    "\n",
    "assert answer in ['A', 'B', 'C', 'D', 'E', 'F', 'G'], \"Your answer did not match any of the choices\"\n",
    "assert hashlib.sha256(answer.encode()).hexdigest() == answ['q3'], \"Your answer is incorrect\"\n",
    "print(\"Your answer\", answer, \"is correct\") # Passed all assert statements above"
   ]
  },
  {
   "cell_type": "markdown",
   "metadata": {
    "id": "wzbahlKDDJwd"
   },
   "source": [
    "### Question 2.4\n",
    "\n",
    "With the same variables as the previous question, how many of the **strings**?\n",
    "\n",
    "* `svar1 * svar1`\n",
    "* `ivar2 * ivar2`\n",
    "* `fvar3 * fvar3`\n",
    "* `svar1 * ivar2`\n",
    "* `svar1 * fvar3`\n",
    "* `ivar2 * fvar3`\n",
    "\n",
    "A) 0<br>\n",
    "B) 1<br>\n",
    "C) 2<br>\n",
    "D) 3<br>\n",
    "E) 4<br>\n",
    "F) 5<br>\n",
    "G) 6<br>"
   ]
  },
  {
   "cell_type": "code",
   "execution_count": null,
   "metadata": {
    "executionInfo": {
     "elapsed": 12,
     "status": "ok",
     "timestamp": 1694298333363,
     "user": {
      "displayName": "Joss Ives",
      "userId": "04296791844389920663"
     },
     "user_tz": 420
    },
    "id": "YPtqVcHnDJwd",
    "tags": []
   },
   "outputs": [],
   "source": [
    "# Code testing area to help answer this question\n",
    "\n"
   ]
  },
  {
   "cell_type": "code",
   "execution_count": null,
   "metadata": {
    "colab": {
     "base_uri": "https://localhost:8080/"
    },
    "executionInfo": {
     "elapsed": 12,
     "status": "ok",
     "timestamp": 1694298333364,
     "user": {
      "displayName": "Joss Ives",
      "userId": "04296791844389920663"
     },
     "user_tz": 420
    },
    "id": "E4qe9JkKDJwe",
    "outputId": "72ffbb8b-d65e-44c2-eb23-662479381bbe",
    "tags": []
   },
   "outputs": [],
   "source": [
    "svar1 = \"Benatar\"\n",
    "ivar2 = 616\n",
    "fvar3 = 2.72\n",
    "\n",
    "answer = \"\"\n",
    "\n",
    "assert answer in ['A', 'B', 'C', 'D', 'E', 'F', 'G'], \"Your answer did not match any of the choices\"\n",
    "assert hashlib.sha256(answer.encode()).hexdigest() == answ['q4'], \"Your answer is incorrect\"\n",
    "print(\"Your answer\", answer, \"is correct\") # Passed all assert statements above"
   ]
  },
  {
   "cell_type": "markdown",
   "metadata": {
    "id": "r-qTmB7wDJwf"
   },
   "source": [
    "### Question 2.5\n",
    "\n",
    "The diameter of a circle is $2r$ and the circumference is $2 \\pi r$. Use the Numpy or Math library constant pi and the string formatting method of your choice to express the ratio of diameter to circumference as a percentage to two decimal places such that `my_string` will pass the assert statement shown.\n"
   ]
  },
  {
   "cell_type": "code",
   "execution_count": null,
   "metadata": {
    "colab": {
     "base_uri": "https://localhost:8080/"
    },
    "executionInfo": {
     "elapsed": 10,
     "status": "ok",
     "timestamp": 1694298333364,
     "user": {
      "displayName": "Joss Ives",
      "userId": "04296791844389920663"
     },
     "user_tz": 420
    },
    "id": "x9m6_c2KDJwf",
    "outputId": "ae3ed9ca-40d6-4743-c167-6678a1c54a67",
    "tags": []
   },
   "outputs": [],
   "source": [
    "# Use a string formatting method and constant for pi to\n",
    "# pass the assert statement\n",
    "\n",
    "my_string = \"The diameter is (something involving string formatting) of the circumference\"\n",
    "\n",
    "print(my_string)\n",
    "\n",
    "assert my_string == \"The diameter is 31.83% of the circumference\"\n",
    "print(\"Your answer is correct\") # Passed all assert statements above"
   ]
  },
  {
   "cell_type": "markdown",
   "metadata": {
    "id": "Bzd-xloyDJwg"
   },
   "source": [
    "## _Optional Further Reading_\n",
    "\n",
    "If you are interested in other resources, there is a book that is available for download. Visit:\n",
    "\n",
    "* http://freecomputerbooks.com/Computational-Physics-with-Python-by-Eric-Ayars.html\n",
    "\n",
    "and find the “Read and Download Links” section. Click on “Computational Physics with Python (Eric Ayars)”. The book presents things in a different order from what we’ll do, but the book it is a good (and free!) resource."
   ]
  },
  {
   "cell_type": "markdown",
   "metadata": {
    "id": "KKBcgJ-fDJwg"
   },
   "source": [
    "## *Completing this solo worksheet and submitting it to Canvas*"
   ]
  },
  {
   "cell_type": "markdown",
   "metadata": {
    "id": "bDmgj-cYDJwg"
   },
   "source": [
    "Before submitting your work, restart + rerun your entire notebook to make sure that everything runs correctly and without error.\n",
    "\n",
    "To do this:\n",
    "1. **Restart & Run All:** From the \"Kernel\" menu to the right of the \"Cell\" menu, select \"Restart & Run All\". This will restart the python Kernel, erasing all variables currently stored in memory so that when you \"Run All\" cells, you can ensure that if you were to run your notebook again on a later day, it would run as intended.\n",
    "1. Look through the whole notebook and make sure there are no errors. Many questions have purposeful errors in the distributed version so make sure you have fixed them all such that \"Restart & Run All\" will run through the whole book and successfully print \"The notebook ran without errors\" at the end. If you have any trouble resolving the errors, please ask one of your classmates or ask us in class or on Piazza.\n",
    "\n",
    "**Export notebook as HTML:** After you've executed and checked your notebook, choose: File => Save_and_Export_Notebook_As => HTML. This will download an HTML version of your notebook to your computer. This version is can not be executed or modified. You may need to disable any pop-up blockers to allow the file to be downloaded.\n",
    "\n",
    "**Submit to Canvas:** Submit the html file that you just downloaded to the Solo Worksheet Day 02 submission assignment on Canvas.\n",
    "\n",
    "**Other stuff to do:**\n",
    "* Don't forget about your Day 03 Reading, due Wednesday at 7 am."
   ]
  },
  {
   "cell_type": "code",
   "execution_count": null,
   "metadata": {
    "colab": {
     "base_uri": "https://localhost:8080/"
    },
    "executionInfo": {
     "elapsed": 10,
     "status": "ok",
     "timestamp": 1694298333365,
     "user": {
      "displayName": "Joss Ives",
      "userId": "04296791844389920663"
     },
     "user_tz": 420
    },
    "id": "06eWAWMiDJwh",
    "outputId": "7adf99cc-bd5e-440a-ba9c-73d01fc4af2b",
    "tags": []
   },
   "outputs": [],
   "source": [
    "print(\"The notebook ran without errors\")"
   ]
  },
  {
   "cell_type": "code",
   "execution_count": null,
   "metadata": {},
   "outputs": [],
   "source": []
  }
 ],
 "metadata": {
  "colab": {
   "provenance": []
  },
  "kernelspec": {
   "display_name": "Python 3",
   "language": "python",
   "name": "python3"
  },
  "language_info": {
   "codemirror_mode": {
    "name": "ipython",
    "version": 3
   },
   "file_extension": ".py",
   "mimetype": "text/x-python",
   "name": "python",
   "nbconvert_exporter": "python",
   "pygments_lexer": "ipython3",
   "version": "3.7.6"
  }
 },
 "nbformat": 4,
 "nbformat_minor": 1
}
