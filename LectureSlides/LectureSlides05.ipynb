{
 "cells": [
  {
   "cell_type": "markdown",
   "metadata": {
    "slideshow": {
     "slide_type": "slide"
    }
   },
   "source": [
    "# PHYS 210 Lecture 05 - Sep 20, 2023\n",
    "Agenda:\n",
    "\n",
    "1. No clickers today. We have a lot of \"fiddly formatting and commands\" which tend to be more about looking up the thing you need than thinking hard to figure stuff out\n",
    "1. Announcements: discussion of homework and quiz\n",
    "1. Pre-class reading Q&A and polling questions\n",
    "1. Group and then solo worksheets"
   ]
  },
  {
   "cell_type": "markdown",
   "metadata": {
    "slideshow": {
     "slide_type": "slide"
    }
   },
   "source": [
    "## Homework 01 is your Quiz 01 preparation\n",
    "\n",
    "* No Solo Worksheet 05; Draft of Homework 01 due instead next class for feedback (let's have a look!)\n",
    "* A short Pre-Class Reading 06 will be posted tomorrow\n",
    "* The quiz on Sept 27 will consist of extensions to the code you build for Homework 01\n",
    "* Let's go have a look at Homework 01 ..."
   ]
  },
  {
   "cell_type": "markdown",
   "metadata": {
    "slideshow": {
     "slide_type": "slide"
    }
   },
   "source": [
    "## Euler's method with acceleration\n",
    "```python\n",
    "while ...:\n",
    "    \n",
    "    # Update acceleration based on time or other condition \n",
    "    ..\n",
    "    \n",
    "    # Euler's method update to position, then velocity, then time\n",
    "    y_next = y + v * dt\n",
    "    v_next = v + a * dt\n",
    "    t = t + dt\n",
    "    \n",
    "    # Store updated variables in a list if desired\n",
    "    ...\n",
    "```\n"
   ]
  },
  {
   "cell_type": "markdown",
   "metadata": {
    "slideshow": {
     "slide_type": "slide"
    }
   },
   "source": [
    "**Examples of quiz tasks**<br>\n",
    "Build your code so that these types of changes can be implemented easily\n",
    "\n",
    "* Change the parameters of the physics problem, introduce new conditions for changes in motion based on distance, time, specific speeds (e.g., speeding car accelerates, police car slows down when an event happens, etc)\n",
    "\n",
    "* Change what is plotted, how many subplots there are or their arrangement, what's in the legend, what the markers and line styles are, what the range on the graphs is, incorporating (different) variables into the graph and axis titles, etc\n",
    "\n",
    "* Extract different physics parameters from the solution such as the time of different events, time between two events, distance travelled, etc"
   ]
  },
  {
   "cell_type": "markdown",
   "metadata": {
    "slideshow": {
     "slide_type": "slide"
    }
   },
   "source": [
    "## More quiz details\n",
    "\n",
    "* 40 minutes long; starts at the start of class (12:30pm or 3:30pm)\n",
    "* You will have access to all of your reference materials and can even use ChatGPT. What you cannot do is communicate directly with other people during the (solo part of the) quiz\n",
    "* Afterward we will have a group quiz to reinforce the different possible approaches to solve the problems"
   ]
  },
  {
   "cell_type": "markdown",
   "metadata": {
    "slideshow": {
     "slide_type": "slide"
    }
   },
   "source": [
    "## Reading topics for Plotting with matplotlib\n",
    "```python\n",
    "import matplotlib.pyplot as plt\n",
    "plt.plot([1, 2, 3, 4], [1, 4, 9, 16])\n",
    "```\n",
    "- Line and point styles\n",
    "- Errorbars\n",
    "- Saving figures to files (e.g., png)\n",
    "- Multiple plots with `subplot()`\n",
    "- Histograms and bar plots\n",
    "- 2D and 3D Scatter plots (different point sizes & colours)"
   ]
  },
  {
   "cell_type": "markdown",
   "metadata": {
    "slideshow": {
     "slide_type": "slide"
    }
   },
   "source": [
    "## Q&A (no polling questions today)"
   ]
  },
  {
   "cell_type": "markdown",
   "metadata": {
    "slideshow": {
     "slide_type": "slide"
    }
   },
   "source": [
    "### Q: It is very difficult to find out the error in the code which I wrote in the solo worksheet.\n",
    "\n",
    "This is an important and practiced skill. Lots of people were struggling with this on questions 4.2 and 4.3 on SoloWorksheet04. There is not \"one true approach\". Let's try an example"
   ]
  },
  {
   "cell_type": "markdown",
   "metadata": {
    "slideshow": {
     "slide_type": "slide"
    }
   },
   "source": [
    "**Example:** `x0 = 0.000053` giving `n = 100` and `root = -99` instead of `root = 1`\n",
    "* Re-read the question carefully to ensure that you undestand the expected output conditions. For example, should `n = 100` always give `root = -99` or do you still check convergence during that iteration?\n",
    "* Start with a known place where the error is and then try to trace backward.\n",
    "* First double-check the values of `n` and `root` after the loop completes\n",
    "* Double-check the values before going into the loop\n",
    "* Next double-check the values for `n` and `root` at the end of the loop after the first couple of iteractions and for the final couple of iterations. Are these values what you expect? Can you calculate what they should be by hand to confirm?\n",
    "* Re-read the question again"
   ]
  },
  {
   "cell_type": "markdown",
   "metadata": {
    "slideshow": {
     "slide_type": "slide"
    }
   },
   "source": [
    "### Q. Can you review the numbers in `plt.subplot()`?\n",
    "plt.subplot() lets you make composite figures with more than one plot set side-by-side or one above another. The parameters are three numbers (e.g., plt.subplot(2,3,1) ) where \n",
    "\n",
    "* The first number (2) is how many rows of subplots there are, \n",
    "* The second number(3) is how many columns there are \n",
    "* And then the third number (1) is the index of the subplot you are currently plotting. This counting is like reading in English left to right and then proceeding downward: Bizarrely, the counting on this starts at 1. "
   ]
  },
  {
   "cell_type": "markdown",
   "metadata": {
    "slideshow": {
     "slide_type": "slide"
    }
   },
   "source": [
    "For any one figure with subplots, the first two numbers should always be the same. Usage would look something like:\n",
    "```python\n",
    "plt.subplot(2, 2 ,1)\n",
    "plt.plot(x1, y1)\n",
    "plt.subplot(2, 2, 2)\n",
    "plt.plot(x2,  y2)\n",
    "plt.subplot(2, 2, 3)\n",
    "plt.plot(x3, y3)\n",
    "...\n",
    "```"
   ]
  },
  {
   "cell_type": "markdown",
   "metadata": {
    "slideshow": {
     "slide_type": "slide"
    }
   },
   "source": [
    "## For `plt.subplots()`\n",
    "```python\n",
    "fig, axes = plt.subplots(2, 3) # 2 rows, 3 columns\n",
    "\n",
    "# Subplot at Row 1, Column 1 (Index 1)\n",
    "axes[0, 0].plot(..)\n",
    "\n",
    "# Subplot at Row 1, Column 2 (Index 2)\n",
    "axes[0, 1].plot(..)\n",
    "\n",
    "...\n",
    "```"
   ]
  },
  {
   "cell_type": "markdown",
   "metadata": {
    "slideshow": {
     "slide_type": "slide"
    }
   },
   "source": [
    "###  Q: How would you change the colours of the colour scale?"
   ]
  },
  {
   "cell_type": "code",
   "execution_count": null,
   "metadata": {
    "slideshow": {
     "slide_type": "-"
    }
   },
   "outputs": [],
   "source": [
    "import matplotlib.pyplot as plt\n",
    "x = [1, 2, 3, 4, 5]; y = [1, 4, 9, 16, 25]\n",
    "colors = [10, 20, 30, 40, 50]; sizes = [100, 200, 300, 400, 500]\n",
    "# Colormaps that are vision-defficiency friendly:\n",
    "# - viridis, plasma, inferno, magma, cividis\n",
    "plt.scatter(x, y, c=colors, s=sizes, cmap='plasma')\n",
    "plt.colorbar(); plt.show()"
   ]
  },
  {
   "cell_type": "markdown",
   "metadata": {
    "slideshow": {
     "slide_type": "slide"
    }
   },
   "source": [
    "**Q.** How does it work when 3 lists/arrays are specified `plt.plot(a, a, b)`?\n",
    "\n",
    "https://matplotlib.org/stable/api/_as_gen/matplotlib.pyplot.plot.html"
   ]
  },
  {
   "cell_type": "markdown",
   "metadata": {
    "slideshow": {
     "slide_type": "slide"
    }
   },
   "source": [
    "`plt.plot(a, a, b)`: Here the first two arguments to plot are taken as x and y values, so you get y=x. The third argument is all by itself, so is interpreted as y values for a new graph, with x values starting from 0, so the plot is [0, 1, 2, 3] vs [3, 6, 9, 12]"
   ]
  },
  {
   "cell_type": "code",
   "execution_count": null,
   "metadata": {},
   "outputs": [],
   "source": [
    "import numpy as np; import  matplotlib.pyplot as plt\n",
    "a = [i for i in range(1,5)] # List comprehension!\n",
    "print(a)\n",
    "b = [3*i for i in a]\n",
    "print(b)\n",
    "plt.plot(a, a, b); plt.show()"
   ]
  },
  {
   "cell_type": "markdown",
   "metadata": {
    "slideshow": {
     "slide_type": "slide"
    }
   },
   "source": [
    "# The rest of today\n",
    "* Group worksheet Day 05\n",
    "* No Solo worksheet 05\n",
    "* A draft of Homework 01 due next class for in-class feedback"
   ]
  }
 ],
 "metadata": {
  "celltoolbar": "Slideshow",
  "kernelspec": {
   "display_name": "Python 3",
   "language": "python",
   "name": "python3"
  },
  "language_info": {
   "codemirror_mode": {
    "name": "ipython",
    "version": 3
   },
   "file_extension": ".py",
   "mimetype": "text/x-python",
   "name": "python",
   "nbconvert_exporter": "python",
   "pygments_lexer": "ipython3",
   "version": "3.7.6"
  }
 },
 "nbformat": 4,
 "nbformat_minor": 4
}
