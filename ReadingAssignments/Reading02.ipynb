{
 "cells": [
  {
   "cell_type": "markdown",
   "metadata": {},
   "source": [
    "# Pre-class Reading: Day 02 (Sep 11, 2023)<br>Strings and text formatting\n",
    "Learning goals\n",
    "1. Look-up and use common string methods\n",
    "2. Use string slicing to choose a subset of characters from within a larger string\n",
    "3. Use string concatination and other string formatting methods to combine multiple variables into a longer string or to insert formatted variables into a string"
   ]
  },
  {
   "cell_type": "markdown",
   "metadata": {},
   "source": [
    "## *Before you get started: run the cell below*"
   ]
  },
  {
   "cell_type": "code",
   "execution_count": null,
   "metadata": {},
   "outputs": [],
   "source": [
    "# Run me before running any other cells in this notebook\n",
    "import base64\n",
    "import hashlib\n",
    "\n",
    "# answers to self-assessment Qs\n",
    "answ = {'q1':'df7e70e5021544f4834bbee64a9e3789febc4be81470df629cad6ddb03320a5c', \n",
    "        'q2':'3f39d5c348e5b79d06e842c114e6cc571583bbf44e4b0ebfda1a01ec05745d43', \n",
    "        'q3':'559aead08264d5795d3909718cdd05abd49572e84fe55590eef31a88a08fdffd'} "
   ]
  },
  {
   "cell_type": "markdown",
   "metadata": {},
   "source": [
    "## *Self-assessment questions*\n",
    "Use the questions below to assess if you already have sufficient knowledge on the topics covered in this pre-class assignment <u>or</u> use them after completing this assignment to assess if you might benefit from further review. Note that these questions can often be answered easily by running the provided code, so the intellectual work on your part is figuring out the correct answer and then running the code to check your answer.\n",
    "\n",
    "Please ensure all of these self-assessment questions are answered correctly before submitting this pre-class reading assignment. The *Your Turn* questions, found throughout the rest of this assignment, are for your practice as you learn this material and do not need to be answered correctly to receive full completion marks for this pre-class reading assignment.\n",
    "\n",
    "Instructions for submission can be found at the end of this document."
   ]
  },
  {
   "cell_type": "markdown",
   "metadata": {},
   "source": [
    "### Question 2.1\n",
    "What will the following output?\n",
    "```python\n",
    "word1 = 'Hello'\n",
    "word2 = 'World'\n",
    "print((word1 + word2)*2) \n",
    "```\n",
    "A) Error: Addition and multiplication not allow with variable of type 'str'<br>\n",
    "B) HelloWorldHelloWorld<br>\n",
    "C) HelloWorld2 <br>\n",
    "D) HelloHelloWorldWorld <br>\n",
    "E) HWelorllod2HWeolrllod "
   ]
  },
  {
   "cell_type": "code",
   "execution_count": null,
   "metadata": {},
   "outputs": [],
   "source": [
    "# Code testing area to help answer this question\n",
    "\n"
   ]
  },
  {
   "cell_type": "code",
   "execution_count": null,
   "metadata": {},
   "outputs": [],
   "source": [
    "# Enter your answer inside the string quotes and then run this cell to check your anwer\n",
    "\n",
    "answer = \"\"\n",
    "\n",
    "assert answer in ['A', 'B', 'C', 'D', \"E\"], \"Your answer did not match any of the choices\"\n",
    "assert hashlib.sha256(answer.encode()).hexdigest() == answ['q1'], \"Your answer is incorrect\"\n",
    "print(\"Your answer\", answer, \"is correct\") # Passed all assert statements above"
   ]
  },
  {
   "cell_type": "markdown",
   "metadata": {},
   "source": [
    "### Question 2.2\n",
    "What will the following output?\n",
    "```python\n",
    "word = 'notebook'\n",
    "os = word.count('o')\n",
    "print(word[1:os])\n",
    "```\n",
    "A) n<br>\n",
    "B) no<br>\n",
    "C) note<br>\n",
    "D) ot<br>\n",
    "E) ote<br>\n",
    "F) oteb    "
   ]
  },
  {
   "cell_type": "code",
   "execution_count": null,
   "metadata": {},
   "outputs": [],
   "source": [
    "# Code testing area to help answer this question\n",
    "\n"
   ]
  },
  {
   "cell_type": "code",
   "execution_count": null,
   "metadata": {},
   "outputs": [],
   "source": [
    "# Enter your answer inside the string quotes and then run this cell to check your anwer\n",
    "\n",
    "answer = \"\"\n",
    "\n",
    "assert answer in ['A', 'B', 'C', 'D', \"E\", \"F\"], \"Your answer did not match any of the choices\"\n",
    "assert hashlib.sha256(answer.encode()).hexdigest() == answ['q2'], \"Your answer is incorrect\"\n",
    "print(\"Your answer\", answer, \"is correct\") # Passed all assert statements above"
   ]
  },
  {
   "cell_type": "markdown",
   "metadata": {},
   "source": [
    "### Question 2.3 \n",
    "What will the following output?\n",
    "```python\n",
    "y = 9.47\n",
    "dy = 0.58293\n",
    "print(f\"The answer is {y:6.4f} +/- {dy:8.3f}\")\n",
    "```\n",
    "Or, if you are more comfortable with one of the other approaches to string formatting:\n",
    "```python\n",
    "print(\"The answer is {:6.4f} +/- {:8.3f}\".format(y, dy))\n",
    "```\n",
    "or\n",
    "```python\n",
    "print(\"The answer is %6.4f +/- %8.3f\" % (y, dy) )\n",
    "```\n",
    "A) `The Answer is 9.4700 +/-    0.583`<br>\n",
    "B) `The Answer is 9.4700 +/- 0.58293`<br>\n",
    "C) `The Answer is 09.4700 +/- 00000.583`<br>\n",
    "D) `The Answer is 9.4700 +/- 0.58300`<br>\n",
    "E) `The Answer is 9.47 +/- 0.58293`"
   ]
  },
  {
   "cell_type": "code",
   "execution_count": null,
   "metadata": {},
   "outputs": [],
   "source": [
    "# Code testing area to help answer this question\n",
    "\n"
   ]
  },
  {
   "cell_type": "code",
   "execution_count": null,
   "metadata": {},
   "outputs": [],
   "source": [
    "# Enter your answer inside the string quotes and then run this cell to check your anwer\n",
    "\n",
    "answer = \"\"\n",
    "\n",
    "assert answer in ['A', 'B', 'C', 'D', \"E\"], \"Your answer did not match any of the choices\"\n",
    "assert hashlib.sha256(answer.encode()).hexdigest() == answ['q3'], \"Your answer is incorrect\"\n",
    "print(\"Your answer\", answer, \"is correct\") # Passed all assert statements above"
   ]
  },
  {
   "cell_type": "markdown",
   "metadata": {},
   "source": [
    "## *2.1 Strings*\n",
    "We encountered strings on Day, but let's have a more careful look at this data type. In Python, a string is a sequence of characters enclosed within single quotes (`' '`), double quotes (`\" \"`), or triple quotes (`''' '''` or `\"\"\" \"\"\"`). Strings are one of the fundamental data types in Python and are used to represent textual data, such as names, sentences, paragraphs, and more.\n",
    "\n",
    "You can create a string by enclosing characters within quotes:\n",
    "\n",
    "**Single quotes**\n",
    "```python\n",
    "single_quoted_string = 'Hello, World!'\n",
    "```\n",
    "**Double quotes**\n",
    "```python\n",
    "double_quoted_string = \"Python is awesome!\"\n",
    "```\n",
    "**Triple quotes for multi-line strings**\n",
    "```python\n",
    "multi_line_string = '''This is a multi-line\n",
    "string in Python.'''\n",
    "```\n",
    "Using single or double quotes is interchangeable, but using triple quotes allows you to create multi-line strings, which can span across multiple lines without the need for escape characters like `\\n` (more on this later)."
   ]
  },
  {
   "cell_type": "markdown",
   "metadata": {},
   "source": [
    "## *2.2 String methods*\n",
    "In addition to the strings we encountered on Day 01, we also encountered functions, such as `print()`. Today one of the things we are going to learn about is a *method*, which is function associated with a specific type of object. As an example, every string has many methods that can be applied to it. The syntax is:\n",
    "\n",
    "```python\n",
    "myobject.this_method(these_parameters)\n",
    "```\n",
    "\n",
    "This would run the method `this_method` on object myobject using the parameters `these_parameters`. For example, imagine you want to run some methods on a string (your object)."
   ]
  },
  {
   "cell_type": "code",
   "execution_count": null,
   "metadata": {},
   "outputs": [],
   "source": [
    "# Run me\n",
    "\n",
    "charvar=\"hello world\"\n",
    "print(charvar)\n",
    "\n",
    "# Try out the capitalize method\n",
    "new_charvar = charvar.capitalize()\n",
    "print(new_charvar)"
   ]
  },
  {
   "cell_type": "markdown",
   "metadata": {},
   "source": [
    "The exhaustive list of string methods is here: https://docs.python.org/3/library/stdtypes.html#string-methods \n",
    "\n",
    "Don’t spend a lot of time here – check it out briefly, and when you find yourself thinking, I wonder if there’s an easy way to do *some particular thing* with a string, come back to the link and look for it."
   ]
  },
  {
   "cell_type": "markdown",
   "metadata": {},
   "source": [
    "### Your turn 2.1\n",
    "The `count` method should be fairly self-explanatory based on the example below. Modify which letter `c1` is counting so that the assertion error is resolved."
   ]
  },
  {
   "cell_type": "code",
   "execution_count": null,
   "metadata": {},
   "outputs": [],
   "source": [
    "c1 = charvar.count('a')\n",
    "print(c1)\n",
    "\n",
    "c2 = charvar.count('o')\n",
    "print(c2)"
   ]
  },
  {
   "cell_type": "code",
   "execution_count": null,
   "metadata": {},
   "outputs": [],
   "source": [
    "# Note that we have updated the assert syntax to provide a specific output\n",
    "# when there is an assertion error\n",
    "\n",
    "assert c1 == 3, \"c1 is not equal to 3\""
   ]
  },
  {
   "cell_type": "markdown",
   "metadata": {},
   "source": [
    "## *2.3 Documentation*\n",
    "\n",
    "Python has an extensive 'help' system. For instance you can also access all methods of a String with a help command line by typing:"
   ]
  },
  {
   "cell_type": "code",
   "execution_count": null,
   "metadata": {},
   "outputs": [],
   "source": [
    "# Run me!\n",
    "\n",
    "help(str)"
   ]
  },
  {
   "cell_type": "markdown",
   "metadata": {},
   "source": [
    "Where `str` refers to strings. A full understanding of what this help command tells you will require knowledge from much later in the course (for the expert, str() is a class).\n",
    "\n",
    "If you just want to know about the capitalize method, you can do:"
   ]
  },
  {
   "cell_type": "code",
   "execution_count": null,
   "metadata": {},
   "outputs": [],
   "source": [
    "# Run me!\n",
    "\n",
    "help(str.capitalize)"
   ]
  },
  {
   "cell_type": "markdown",
   "metadata": {},
   "source": [
    "## *2.4 String slicing*\n",
    "\n",
    "String slicing in Python allows you to extract specific portions, or substrings, from a given string. It involves using the square brackets `[ ]` with the colon `:` to specify the range of characters you want to retrieve. This method of extracting specific portions of a data object is something we will see again when dealing with lists, arrays and many other types of data structures. In fact, in many practical ways, a string can be thought of as a list of characters.\n",
    "\n",
    "**Syntax:**\n",
    "\n",
    "```python\n",
    "my_string = \"Hello, World!\"\n",
    "substring = my_string[start_index:end_index]\n",
    "```\n",
    "\n",
    "Here, `start_index` represents the index of the first character you want to include in the substring (inclusive), and `end_index` represents the index of the character just after the last character you want to include (exclusive). If `start_index` is not specified, it defaults to 0, and if `end_index` is not specified, it defaults to including the end of the string.\n",
    "\n",
    "**Some examples:**"
   ]
  },
  {
   "cell_type": "code",
   "execution_count": null,
   "metadata": {},
   "outputs": [],
   "source": [
    "# Run me!\n",
    "\n",
    "my_string = \"Hello, World!\"\n",
    "\n",
    "# Extracting the first 5 characters\n",
    "print(my_string[0:5])\n",
    "\n",
    "# Extracting characters from index 7 to the end\n",
    "print(my_string[7:]) \n",
    "\n",
    "# Extracting characters from index 2 to index 9 (exclusive)\n",
    "print(my_string[2:9]) \n",
    "\n",
    "# Extracting the last 6 characters\n",
    "print(my_string[-6:]) \n"
   ]
  },
  {
   "cell_type": "markdown",
   "metadata": {},
   "source": [
    "See if you can make sense of each slice above. How was the negative index used?\n",
    "\n",
    "Learn more about string slicing at\n",
    "* https://www.digitalocean.com/community/tutorials/python-slice-string"
   ]
  },
  {
   "cell_type": "markdown",
   "metadata": {},
   "source": [
    "### Your turn 2.2\n",
    "In the code box below, assign the 3 and 4th characters of `my_string` to `my_slice`:"
   ]
  },
  {
   "cell_type": "code",
   "execution_count": null,
   "metadata": {},
   "outputs": [],
   "source": [
    "# Resolve the assertion error\n",
    "\n",
    "my_slice = my_string[:]\n",
    "print(my_slice)\n",
    "assert my_string[:] == \"ll\""
   ]
  },
  {
   "cell_type": "markdown",
   "metadata": {},
   "source": [
    "## *2.5 String formatting: string concatenation*\n",
    "\n",
    "String concatenation in Python refers to the process of combining multiple strings into a single string and will be our introduction to text formatting. This is most commonly done using the `+` operator, which allows you to join two or more strings together. For example:"
   ]
  },
  {
   "cell_type": "code",
   "execution_count": null,
   "metadata": {},
   "outputs": [],
   "source": [
    "# Run me\n",
    "\n",
    "first_name = \"Beyoncé\"\n",
    "last_name = \"Knowles\"\n",
    "full_name = first_name + \" \" + last_name\n",
    "print(full_name)\n",
    "print(first_name + \" \" + last_name)"
   ]
  },
  {
   "cell_type": "markdown",
   "metadata": {},
   "source": [
    "In this example, the variables `first_name` and `last_name` are concatenated with a space in between to create the `full_name` string. We can either make a new string `full_name` and then print it or just build this new string as the argument that we send to the print function.\n",
    "\n",
    "String concatenation is a fundamental operation used for building dynamic messages, creating formatted output, and processing textual data. Keep in mind that when concatenating strings with other data types (e.g., integers, floats, etc), you may need to convert them to strings first using functions like `str()`."
   ]
  },
  {
   "cell_type": "markdown",
   "metadata": {},
   "source": [
    "## *2.6 String formatting: f-strings, str.format() and the % operator*\n",
    "\n",
    "There are three different ways in pythong to accomplish the same type of string formatting task. From the perspective of reading code it is good to be familiar with each, but from the perspective of writing your own code, feel free to pick the one that makes the most sense to you. These methods are highlighted in the examples below:"
   ]
  },
  {
   "cell_type": "code",
   "execution_count": null,
   "metadata": {},
   "outputs": [],
   "source": [
    "# Run me!\n",
    "\n",
    "import numpy as np\n",
    "\n",
    "# Some variables to format into a string\n",
    "book_name = 'Street-Fighting Mathematics'\n",
    "estimate = 10\n",
    "\n",
    "# f-strings (short for formatted string literals)\n",
    "# - introduced in python 3.6\n",
    "print(f\"The book {book_name} teaches us that pi-squared is {estimate}, not {np.pi**2:.3f}\")\n",
    "\n",
    "# str.format()\n",
    "# - introduced in python 3\n",
    "print(\"The book {} teaches us that pi-squared is {}, not {:.3f}\".format(book_name, estimate, np.pi**2))\n",
    "\n",
    "# The % operator (aka old string formatting)\n",
    "# - since the dawn of python\n",
    "print(\"The book %s teaches us that pi-squared is %s, not %.3f\" % (book_name, estimate, np.pi**2))"
   ]
  },
  {
   "cell_type": "markdown",
   "metadata": {},
   "source": [
    "Notice that all three approaches to string formatting use the `.3f` to indicate that the floating point number represented by `np.pi**2` should be displayed to three decimal places. This is known as a placeholder. \n",
    "\n",
    "To gain a better understanding of placeholders and some of the syntax of the str.format() and % operator approaches, read through the following (stop when you get to \"Using dictionaries in \"format\")\n",
    "* https://python-course.eu/python-tutorial/formatted-output.php\n",
    "* As an additional resource with a lot of examples, you can also have a look at https://pyformat.info/\n",
    "\n",
    "There is a lot of depth to dig into with string formatting. For a quick summary of some of the formatting options, browse through the following resource about f-strings:\n",
    "* https://zetcode.com/python/fstring/\n",
    "\n"
   ]
  },
  {
   "cell_type": "markdown",
   "metadata": {},
   "source": [
    "### Example\n",
    "These string formatting approaches can be used when creating a string and are not restricted to only live inside of print statements."
   ]
  },
  {
   "cell_type": "code",
   "execution_count": null,
   "metadata": {},
   "outputs": [],
   "source": [
    "# Run me! (using f-string to create a string)\n",
    "\n",
    "my_string = f\"The book {book_name} teaches us that pi-squared is {estimate}, not {np.pi**2:.2f}\"\n",
    "print(my_string)"
   ]
  },
  {
   "cell_type": "markdown",
   "metadata": {},
   "source": [
    "### Your turn 2.3: string formatting\n",
    "Using the variables `huge` and `tiny` defined below, use string formatting to create a string `my_string` that will resolve the assertion error."
   ]
  },
  {
   "cell_type": "code",
   "execution_count": null,
   "metadata": {},
   "outputs": [],
   "source": [
    "# Resolve the assertion error\n",
    "\n",
    "huge = \"one\"\n",
    "tiny = np.pi\n",
    "my_string = \"\"\n",
    "\n",
    "print(my_string)\n",
    "\n",
    "assert my_string == \"3.14 is larger than one\""
   ]
  },
  {
   "cell_type": "markdown",
   "metadata": {},
   "source": [
    "## *2.7 f-strings debugging*\n",
    "A helpful debugging tool, introduced in python 3.8, is a syntax which allows a variable name and its value to be printed from just a single call to the variable name by appending a `=` to the end of the variable name within an f-string. See the example below for an example."
   ]
  },
  {
   "cell_type": "code",
   "execution_count": null,
   "metadata": {},
   "outputs": [],
   "source": [
    "print(f\"Our old friends: {book_name=}, {estimate=}\")"
   ]
  },
  {
   "cell_type": "markdown",
   "metadata": {},
   "source": [
    "## *2.8 Further optional reading*\n",
    "http://freecomputerbooks.com/Computational-Physics-with-Python-by-Eric-Ayars.html\n",
    "* These topics are also discussed in this book. On that website find the 'Read and Download Links' section. Click on 'Computational Physics with Python (Eric Ayars)'. Again, material in that book is presented in a very different order from our approach.\n"
   ]
  },
  {
   "cell_type": "markdown",
   "metadata": {},
   "source": [
    "## *2.9 Submitting this reading assignment*\n",
    "Before submitting your work, restart + rerun your notebook to make sure that everything runs correctly and without error. We will only check that the Self-assessment questions at the start of the assignment have run correctly. After you've executed and checked your notebook, choose: File => Save_and_Export_Notebook_As => HTML. This will download an HTML version of your notebook to your computer which you can upload to Canvas"
   ]
  }
 ],
 "metadata": {
  "kernelspec": {
   "display_name": "Python 3 (ipykernel)",
   "language": "python",
   "name": "python3"
  },
  "language_info": {
   "codemirror_mode": {
    "name": "ipython",
    "version": 3
   },
   "file_extension": ".py",
   "mimetype": "text/x-python",
   "name": "python",
   "nbconvert_exporter": "python",
   "pygments_lexer": "ipython3",
   "version": "3.10.8"
  },
  "widgets": {
   "application/vnd.jupyter.widget-state+json": {
    "state": {},
    "version_major": 2,
    "version_minor": 0
   }
  }
 },
 "nbformat": 4,
 "nbformat_minor": 4
}
