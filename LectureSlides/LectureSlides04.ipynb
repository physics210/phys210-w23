{
 "cells": [
  {
   "cell_type": "markdown",
   "metadata": {
    "slideshow": {
     "slide_type": "slide"
    }
   },
   "source": [
    "# PHYS 210 Lecture 04 - Sep 18, 2023\n",
    "Agenda:\n",
    "\n",
    "1. Announcements (office hours reminders, what to do if Open Jupyter is down)\n",
    "1. Pre-class reading Q&A and polling questions\n",
    "1. Group and then solo worksheets"
   ]
  },
  {
   "cell_type": "markdown",
   "metadata": {
    "slideshow": {
     "slide_type": "slide"
    }
   },
   "source": [
    "## When you need help...\n",
    "\n",
    "* Troubleshooting, debugging, reasonable help-seeking with google and ChatGPT\n",
    "* TAs, instructor and classmates during class time\n",
    "* Piazza (**Q:** *Can you please go over the solo worksheet 3 since I am not sure if my answers are okay*)\n",
    "* Office hours in Hebb 112 and on Zoom (Tues 4:00-5:30pm, Thurs 11:30am-1:00pm)\n",
    "* Contact me by email if none of those seems like the right thing"
   ]
  },
  {
   "cell_type": "markdown",
   "metadata": {
    "slideshow": {
     "slide_type": "slide"
    }
   },
   "source": [
    "### When Open Jupyter is down\n",
    "All of the course materials are available here: https://github.com/physics210/phys210-w23\n",
    "\n",
    "You can download them from there and use them on any similar service, such as https://ubc.syzygy.ca , http://colab.research.google.com or CoCalc "
   ]
  },
  {
   "cell_type": "markdown",
   "metadata": {
    "slideshow": {
     "slide_type": "slide"
    }
   },
   "source": [
    "## Reading topics (our polling questions and Q&A)\n",
    "\n",
    "* **`for` loops:** iterate through the elements of an iterable\n",
    "* **lists:** a container variable that holds an ordered sequence of other variables\n",
    "* **`range()`:** a list-like object useful for generating indicies for for loops\n",
    "* **`break` and `continue`:** break terminates a loop; continue terminates the current iteration\n",
    "* Nested lists\n",
    "* (Bonus topic not on the reading) Using the `step` parameter when slicing strings, lists, etc."
   ]
  },
  {
   "cell_type": "markdown",
   "metadata": {
    "slideshow": {
     "slide_type": "slide"
    }
   },
   "source": [
    "### Using the `step` parameter when slicing\n",
    "A third, optional parameter when slicing `sequence[start:stop:step]`"
   ]
  },
  {
   "cell_type": "code",
   "execution_count": null,
   "metadata": {},
   "outputs": [],
   "source": [
    "alphabet = ['a', 'b', 'c', 'd', 'e', 'f', 'g']\n",
    "print(alphabet[0:7])\n",
    "print(alphabet[:])\n",
    "print(alphabet[0:7:1])\n",
    "print(alphabet[0:7:2])\n",
    "print(alphabet[::2])"
   ]
  },
  {
   "cell_type": "markdown",
   "metadata": {
    "slideshow": {
     "slide_type": "slide"
    }
   },
   "source": [
    "**Polling question 4.1)** What will the following code output?"
   ]
  },
  {
   "cell_type": "code",
   "execution_count": null,
   "metadata": {},
   "outputs": [],
   "source": [
    "alphabet = ['a', 'b', 'c', 'd', 'e', 'f', 'g'] \n",
    "print(alphabet[1:5:2])"
   ]
  },
  {
   "cell_type": "markdown",
   "metadata": {},
   "source": [
    "A) `['a', 'c', 'e']` <br>\n",
    "B) `['b', 'd', 'f']` <br>\n",
    "C) `['a', 'c']` <br>\n",
    "D) `['b', 'd']` <br>\n",
    "E) `['a', 'c', 'e', 'g']`"
   ]
  },
  {
   "cell_type": "markdown",
   "metadata": {
    "slideshow": {
     "slide_type": "slide"
    }
   },
   "source": [
    "You can even use **negative step sizes**. Consider what the following code snippets will output."
   ]
  },
  {
   "cell_type": "code",
   "execution_count": null,
   "metadata": {},
   "outputs": [],
   "source": [
    "alphabet = ['a', 'b', 'c', 'd', 'e', 'f', 'g']\n",
    "print(alphabet[5:1:-2])"
   ]
  },
  {
   "cell_type": "code",
   "execution_count": null,
   "metadata": {},
   "outputs": [],
   "source": [
    "alphabet = ['a', 'b', 'c', 'd', 'e', 'f', 'g']\n",
    "print(alphabet[::-2])"
   ]
  },
  {
   "cell_type": "markdown",
   "metadata": {
    "slideshow": {
     "slide_type": "slide"
    }
   },
   "source": [
    "### `For` loops in python are like `foreach` loops in many other languages"
   ]
  },
  {
   "cell_type": "code",
   "execution_count": null,
   "metadata": {},
   "outputs": [],
   "source": [
    "mylist=[2, 3., 5/2, 'somestuff']\n",
    "for i in mylist:\n",
    "    print(i)"
   ]
  },
  {
   "cell_type": "markdown",
   "metadata": {
    "slideshow": {
     "slide_type": "slide"
    }
   },
   "source": [
    "### Q. The output of `len(my list)` is a number. How can we use for loop to put `i` into this list?\n",
    "Let's figure this out systematically (next slide)"
   ]
  },
  {
   "cell_type": "code",
   "execution_count": null,
   "metadata": {},
   "outputs": [],
   "source": [
    "mylist=[2,3.,5/2,'somestuff']\n",
    "for i in range(len(mylist)):\n",
    "    print(\"i =\",i,\"; element =\",mylist[i])"
   ]
  },
  {
   "cell_type": "markdown",
   "metadata": {
    "slideshow": {
     "slide_type": "slide"
    }
   },
   "source": [
    "### Q. The output of `len(my list)` is a number. How can we use for loop to put `i` into this list?\n",
    "Let's figure this out systematically"
   ]
  },
  {
   "cell_type": "code",
   "execution_count": null,
   "metadata": {},
   "outputs": [],
   "source": [
    "mylist=[2,3.,5/2,'somestuff']\n",
    "print(list(range(len(mylist))))\n",
    "for i in range(len(mylist)):\n",
    "    print(\"i =\",i,\"; element =\",mylist[i])"
   ]
  },
  {
   "cell_type": "markdown",
   "metadata": {
    "slideshow": {
     "slide_type": "slide"
    }
   },
   "source": [
    "### We can also use enumerate to do the same thing"
   ]
  },
  {
   "cell_type": "code",
   "execution_count": null,
   "metadata": {},
   "outputs": [],
   "source": [
    "mylist=[2,3.,5/2,'somestuff']\n",
    "for i, element in enumerate(mylist):\n",
    "    print(\"i =\",i,\"; element =\",element)"
   ]
  },
  {
   "cell_type": "markdown",
   "metadata": {
    "slideshow": {
     "slide_type": "slide"
    }
   },
   "source": [
    "### We can also use `step` with range\n",
    "Let's figure this out systematically"
   ]
  },
  {
   "cell_type": "code",
   "execution_count": null,
   "metadata": {},
   "outputs": [],
   "source": [
    "mylist=[2,3.,5/2,'somestuff']\n",
    "this_length = len(mylist)\n",
    "for i in range(0, this_length, 2):\n",
    "    print(\"i =\",i,\"; element =\",mylist[i])\n",
    "print(range(0, this_length, 2))"
   ]
  },
  {
   "cell_type": "markdown",
   "metadata": {
    "slideshow": {
     "slide_type": "slide"
    }
   },
   "source": [
    "### Q. Difference between `break` and `continue`? How does this loop work?\n",
    "`continue` drops you to the end of the current iteration and starts the next iteration (if there is one). `break` forces you to exit the loop.\n",
    "```python\n",
    "for x in range(10):\n",
    "    if x == 2:\n",
    "        continue\n",
    "    elif x == 5:\n",
    "        break\n",
    "    else:\n",
    "        print(x)\n",
    "```\n",
    "Only prints `0, 1, 3, 4`.  `2` isn’t printed because of the continue, and 5 deosn't happen because the loop is terminated."
   ]
  },
  {
   "cell_type": "markdown",
   "metadata": {
    "slideshow": {
     "slide_type": "slide"
    }
   },
   "source": [
    "**Polling question 4.2)** How many times will hello be printed?:"
   ]
  },
  {
   "cell_type": "code",
   "execution_count": null,
   "metadata": {
    "scrolled": true
   },
   "outputs": [],
   "source": [
    "for i in range(5):\n",
    "    if (i == 3):\n",
    "        break\n",
    "    print (i, \"hello\")"
   ]
  },
  {
   "cell_type": "markdown",
   "metadata": {},
   "source": [
    "A) 6<br>\n",
    "B) 5<br>\n",
    "C) 4<br>\n",
    "D) 3<br>\n",
    "E) 1"
   ]
  },
  {
   "cell_type": "markdown",
   "metadata": {
    "slideshow": {
     "slide_type": "slide"
    }
   },
   "source": [
    "**Polling question 4.3)** How many times will hello be printed?:"
   ]
  },
  {
   "cell_type": "code",
   "execution_count": null,
   "metadata": {},
   "outputs": [],
   "source": [
    "for i in range(0,6,2):\n",
    "    if (i == 2):\n",
    "        continue\n",
    "    print (i,\"hello\")"
   ]
  },
  {
   "cell_type": "markdown",
   "metadata": {},
   "source": [
    "A) 6<br>\n",
    "B) 5<br>\n",
    "C) 4<br>\n",
    "D) 3<br>\n",
    "E) 2"
   ]
  },
  {
   "cell_type": "markdown",
   "metadata": {
    "slideshow": {
     "slide_type": "slide"
    }
   },
   "source": [
    "### Q. I am a little confused by the function \"len\"\n",
    "Let's look at some quick examples"
   ]
  },
  {
   "cell_type": "code",
   "execution_count": null,
   "metadata": {},
   "outputs": [],
   "source": [
    "print(len( [1, 2, 3] ))"
   ]
  },
  {
   "cell_type": "markdown",
   "metadata": {},
   "source": [
    "This one answers how many indices can I use successfully: `nested[0]`, `nested[1]`,..."
   ]
  },
  {
   "cell_type": "code",
   "execution_count": null,
   "metadata": {},
   "outputs": [],
   "source": [
    "nested = [1, [\"2a\", \"2b\"], 3] \n",
    "print(len(nested))\n",
    "print(nested[1])"
   ]
  },
  {
   "cell_type": "markdown",
   "metadata": {
    "slideshow": {
     "slide_type": "slide"
    }
   },
   "source": [
    "# The rest of today\n",
    "* Group worksheet and then move on to solo worksheet"
   ]
  },
  {
   "cell_type": "code",
   "execution_count": null,
   "metadata": {},
   "outputs": [],
   "source": []
  }
 ],
 "metadata": {
  "celltoolbar": "Slideshow",
  "kernelspec": {
   "display_name": "Python 3",
   "language": "python",
   "name": "python3"
  },
  "language_info": {
   "codemirror_mode": {
    "name": "ipython",
    "version": 3
   },
   "file_extension": ".py",
   "mimetype": "text/x-python",
   "name": "python",
   "nbconvert_exporter": "python",
   "pygments_lexer": "ipython3",
   "version": "3.7.6"
  }
 },
 "nbformat": 4,
 "nbformat_minor": 4
}
