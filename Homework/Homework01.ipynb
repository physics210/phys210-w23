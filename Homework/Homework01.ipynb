{
 "cells": [
  {
   "cell_type": "markdown",
   "metadata": {
    "id": "FBtDqWQqaAwr"
   },
   "source": [
    "# PHYS 210, Homework 01\n",
    "* **First draft** due Sep 25, 2023, at the start of class on Canvas. This draft will be graded only for completeness and then you will spend time in class giving and receiving feedback on these drafts in class.\n",
    "* **Final draft** due Sep 27, 2023, at the start of class on Canvas. This draft will be graded according to the grading details below."
   ]
  },
  {
   "cell_type": "markdown",
   "metadata": {
    "id": "-iFgrwu8cQtC"
   },
   "source": [
    "## *The situation you are modelling: car chase*\n",
    "A police car was sitting at a speed trap when a speeding car passed by. The police car sped up to pursue the speeding car. Using the information you can extract from the multi-subplot graph below, use Euler's method to reconstruct the motion shown and then reproduce the graphs as closely as you can."
   ]
  },
  {
   "cell_type": "markdown",
   "metadata": {
    "id": "1Y-AuxbgcukV"
   },
   "source": [
    "## *Further details*\n",
    "\n",
    "Use the variable `time_A` to indicate when the police car first has a higher speed than the speeding car and a the variable `time_B` for when the police car passes the speeding car. The grid has been chosen to make it straight-forward to extract precise values for nearly every number you would need to extract. You may use ChatGPT or other generative AI to help you with any aspects of this task, but please provide appropriate attribution and keep in mind the hints and grading notes below."
   ]
  },
  {
   "cell_type": "markdown",
   "metadata": {
    "id": "f8001833-1a68-40aa-9d2b-d02229a30227"
   },
   "source": [
    "## *The multi-subplot graph you are reproducing*\n",
    "\n",
    "<img src=\"https://i.ibb.co/bQqJ17g/graph.png\" alt=\"graph\" border=\"0\">"
   ]
  },
  {
   "cell_type": "markdown",
   "metadata": {
    "id": "5rhbxDAldc25"
   },
   "source": [
    "## *Hints*\n",
    "* We are always excited for you to learn new techniques, approaches, libraries and functions on your own, but keep in mind that this coding task *can* be completed using only the python tools we have learned so far in this course. The quiz on Sept 27 will consist primarily of tasks based on the code you build here and extensions to this code, so please make sure that you have a very good understanding of how all aspects of your code work, whether you are using existing existing tools from the course or learning new ones beyond what we have covered so far.\n",
    "* If you are already familiar with numpy arrays or defining your own functions, try to complete this coding task without using these tools. You will not lose marks for using these tools, but we encourage you to take on the slightly more challenging task of not using these tools.\n",
    "* You should be producing a single two-subplot graph, as opposed to two individual plots. To get the size correct, you can use one of the following, based on if you are using `plt.subplots()` or `plt.subplot()`: `fig, ax = plt.subplots(2,1, figsize=(8, 12))` or `plt.figure(figsize=(8, 12))`\n",
    "* You do not need to reproduce the exact same grid shown (every 5 m/s and every 5 s), but you should add a grid using `plt.grid(True)` or `ax[0].grid(True)`, as appropriate.\n",
    "* The graph titles should be produced using one of the three string formatting techniques and using a variable `time_A` for when the police car first had a higher speed than the speeding car and a variable `time_B` for when the police car first passed (had a larger position) the speeding car. The numbers for these two times should never be input into the titles manually nor should they be assigned to these variables manually. Instead, you should extract these in such a way that these values would still be found correctly by your code if you changed a parameter in the program such as the speeding car's speed or the police car's acceleration."
   ]
  },
  {
   "cell_type": "markdown",
   "metadata": {
    "id": "Gi8A4ZlUdzbU"
   },
   "source": [
    "## *Task 1: Your code and the resulting multi-subplot graph (9 points; see grading details at the end of this document)*\n",
    "A reproduction of the graph above, built from your own Euler's method code. Note that the numbers on your subplots do not have to be identical to those on the one we provided, but the times in the titles should not turn out to be more than 0.5s different from ours for `time_A` and 1.5s for `time_B`."
   ]
  },
  {
   "cell_type": "code",
   "execution_count": null,
   "metadata": {
    "id": "yqpq6dbCdzto"
   },
   "outputs": [],
   "source": [
    "# Your Task 1 code here (you can add additional code cells if you wish)\n",
    "\n"
   ]
  },
  {
   "cell_type": "markdown",
   "metadata": {
    "id": "08FjxvJeeKEZ"
   },
   "source": [
    "## *Task 2: Formulating the situation as a textbook-style problem (1 point; graded for completion)*\n",
    "\n",
    "Based on the information you extracted from our multi-subplot graph and the results of your Euler's method code, write a textbook-style problem using this physical situation, which provides any required known quantities and then asks the student to solve the two times indicated. For reference, an example of a textbook-style question is shown below.\n",
    "\n",
    "> A small rocket with a booster blasts off and heads straight upward. When at a height of 5.0 km and velocity of 200.0 m/s, it releases its booster. (a) What is the maximum height the booster attains? (b) What is the velocity of the booster at a height of 6.0 km? Neglect air resistance."
   ]
  },
  {
   "cell_type": "markdown",
   "metadata": {
    "id": "0RDg9BQAfbZc"
   },
   "source": [
    "*Your textbook-style problem here*\n",
    "\n"
   ]
  },
  {
   "cell_type": "markdown",
   "metadata": {
    "id": "XM4eu2IXfsTC"
   },
   "source": [
    "## *Task 3: Solve your textbook-style question (1 point; graded for completion)*\n",
    "\n",
    "Solve yout textbook-style problem by hand as a way to verify that your code is working correctly. The numbers for the two times do not have to exactly match between your code solution and your \"by hand\" solution, but should be within 0.5s for `time_A` and 1.5s for `time_B`. You do not need to submit your \"by hand\" solution, but you should resolve and discrepancies and then report your times from your \"by hand\" solution below."
   ]
  },
  {
   "cell_type": "markdown",
   "metadata": {
    "id": "_EFzDOZFgAUJ"
   },
   "source": [
    "*Your answers to your textbook-style problem*"
   ]
  },
  {
   "cell_type": "markdown",
   "metadata": {
    "id": "n7-SmnGcgFTK"
   },
   "source": [
    "## *Task 4: A discussion of 2-3 unforseen challenges that you faced (1 point; graded for completion)*\n",
    "\n",
    "Detail two or three unforseen challenges that you faced in completing this mini project. These challenges could be errors that you didn't understand and had to look up, functions you realized you didn't understand and had to look up or ask somebody about, tasks that took a lot longer than expected, or anything else that surprised you along the way."
   ]
  },
  {
   "cell_type": "markdown",
   "metadata": {
    "id": "YI29AEZOgUXW"
   },
   "source": [
    "Challenge 1: ..\n",
    "\n",
    "Challenge 2: ..\n",
    "\n",
    "Challenge 3: .."
   ]
  },
  {
   "cell_type": "markdown",
   "metadata": {
    "id": "yG9Z1rxPgdB_"
   },
   "source": [
    "## *Task 5: A discussion of how far you pushed your coding knowledge and attribution for any help that you received (1 point; graded for completion)*\n",
    "\n",
    "Detail any new coding-related things that you learned in completing your code, any resources from which you took code snippets or code ideas, and any resources/people you used for help. These should include people, online resources and generative AI, such as ChatGPT."
   ]
  },
  {
   "cell_type": "markdown",
   "metadata": {
    "id": "ZpKOAkVmgmUi"
   },
   "source": [
    "*Your responses for task 5 here*"
   ]
  },
  {
   "cell_type": "markdown",
   "metadata": {
    "id": "54c50691-5311-4135-8d42-0e8b68e60028"
   },
   "source": [
    "## *Grading*\n",
    "\n",
    "**Task 1:** Graded for correctness, with 1 point allocated to each of the following:\n",
    "\n",
    "1. Euler's method was used correctly.\n",
    "1. Reasonable values were extracted from the graph as parameters for your Euler's method code.\n",
    "1. The times at which the police car first had (A) a larger speed and (B) a larger position were determined using appropriate comparisons within the code.\n",
    "1. The graph titles are present and were reproduced using string formatting and the variables `time_A` and `time_B`, as appropriate.\n",
    "1. The time `time_A` is within 0.5 seconds and the `time_B` is within 1.5 seconds of what is shown on the graphs. The line graphs on each of your subplots communicate approximately the same physical values as the plots we provided you\n",
    "1. The x/y axis titles were reproduced\n",
    "1. The graph is one large graph with two subplots as opposed to two individual separate graphs\n",
    "1. Your line graphs have matching color and linestyles to the plots we provided you.\n",
    "1. There are appropriately labeled legends present on both subplots, but they do not need to be in the same locations as the on the plots we provided you.\n",
    "\n",
    "**Tasks 2-5:** Graded for completion with the expectation of a reasonable level of effort on your part.\n"
   ]
  },
  {
   "cell_type": "code",
   "execution_count": null,
   "metadata": {
    "id": "34479197-cfb0-4920-b66c-39e1ada292fb"
   },
   "outputs": [],
   "source": []
  }
 ],
 "metadata": {
  "colab": {
   "provenance": []
  },
  "kernelspec": {
   "display_name": "Python 3",
   "language": "python",
   "name": "python3"
  },
  "language_info": {
   "codemirror_mode": {
    "name": "ipython",
    "version": 3
   },
   "file_extension": ".py",
   "mimetype": "text/x-python",
   "name": "python",
   "nbconvert_exporter": "python",
   "pygments_lexer": "ipython3",
   "version": "3.7.6"
  }
 },
 "nbformat": 4,
 "nbformat_minor": 5
}
