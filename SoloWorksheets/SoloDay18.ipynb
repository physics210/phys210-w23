{
 "cells": [
  {
   "cell_type": "markdown",
   "metadata": {
    "nbgrader": {
     "grade": false,
     "grade_id": "cell-bea7de7ed089aeef",
     "locked": true,
     "schema_version": 3,
     "solution": false,
     "task": false
    }
   },
   "source": [
    "# PHYS 210, Solo Worksheet 18\n",
    "Due Mon, Nov 20, 2023 at the start of class on Canvas"
   ]
  },
  {
   "cell_type": "markdown",
   "metadata": {
    "nbgrader": {
     "grade": false,
     "grade_id": "cell-25dcb34b087a38ff",
     "locked": true,
     "schema_version": 3,
     "solution": false,
     "task": false
    }
   },
   "source": [
    "## *18.1. Reading files*\n",
    "Using numpy's `loadtxt()` function, read the sample file, `SoloDay18-examplearray.txt`, into an array called `data`. Using the `print()` function, print the data so you can check that all of the data rows are loaded correctly and that the commented lines are ignored. The file is already in the same directory as this notebook."
   ]
  },
  {
   "cell_type": "code",
   "execution_count": null,
   "metadata": {},
   "outputs": [],
   "source": [
    "# Your code here\n",
    "\n"
   ]
  },
  {
   "cell_type": "code",
   "execution_count": null,
   "metadata": {},
   "outputs": [],
   "source": [
    "# Test that 'data' is correct\n",
    "assert type(data) == np.ndarray, \"'data' is not an array\"\n",
    "print(\"All tests passed! You created the correct array.\")"
   ]
  },
  {
   "cell_type": "markdown",
   "metadata": {
    "nbgrader": {
     "grade": false,
     "grade_id": "cell-95ced44f4187aae4",
     "locked": true,
     "schema_version": 3,
     "solution": false,
     "task": false
    }
   },
   "source": [
    "## *18.2 Calculations on the array*\n",
    "Calculate the mean of the second column (x) and the standard deviation of the third column (y) from your array `data` above. Place these values in the variables `mean_x` and `std_y` below. Print the results. If you use `numpy.std()` make sure to set the 'delta degrees of freedom (ddof)' to 1."
   ]
  },
  {
   "cell_type": "code",
   "execution_count": null,
   "metadata": {},
   "outputs": [],
   "source": [
    "# Your code here\n",
    "\n"
   ]
  },
  {
   "cell_type": "code",
   "execution_count": null,
   "metadata": {},
   "outputs": [],
   "source": [
    "# Check your calculations for mean_x and std_y\n",
    "np.testing.assert_almost_equal(mean_x, 1.2978, 3, \n",
    "                               'mean_x does not have the correct value')\n",
    "np.testing.assert_almost_equal(std_y, 0.67188, 3, \n",
    "                               'std_y does not have the correct value. Check that you have set ddof=1')\n",
    "print(\"All tests passed! You calculated mean_x and std_y correctly.\")"
   ]
  },
  {
   "cell_type": "markdown",
   "metadata": {
    "nbgrader": {
     "grade": false,
     "grade_id": "cell-header0",
     "locked": true,
     "schema_version": 3,
     "solution": false,
     "task": false
    }
   },
   "source": [
    "## *18.3 Extracting the header and footer*\n",
    "Read the examplearray.txt file again, this time using the `readlines()` function, which is closely related to `readline()` that appeared in the pre-reading. `readlines()` returns a list of strings, one for each line. Set the string variables `first_line` and `last_line` to be strings containing the first and last lines of the file, and print these on the screen to verify that they are the lines you expect. `last_line` should be set correctly even if the number of lines in `SoloDay18-examplearray.txt` is changed, i.e. your code should not rely on the number of lines in the file being any particular value. \n",
    "\n",
    "***Important!!!*** Each line in the list of lines that you get from `readlines()` will end with a newline character ('\\n'). These \"escape sequence\" characters each start with a backslash, but are treated as a single character ('\\n' is one element in the string, not two) in a string. Remove this newline character from the strings that you set."
   ]
  },
  {
   "cell_type": "code",
   "execution_count": null,
   "metadata": {},
   "outputs": [],
   "source": [
    "# Your code here\n",
    "\n"
   ]
  },
  {
   "cell_type": "code",
   "execution_count": null,
   "metadata": {
    "nbgrader": {
     "grade": true,
     "grade_id": "cell-header3",
     "locked": true,
     "points": 1,
     "schema_version": 3,
     "solution": false,
     "task": false
    }
   },
   "outputs": [],
   "source": [
    "# Test first_line and last_line\n",
    "\n",
    "if last_line[-1] == '\\n':\n",
    "    raise AssertionError(\"You did not remove the newline character ('\\n')\")\n",
    "assert(last_line == '# Data from 10:15:39 on September 12 2016')\n",
    "\n",
    "if first_line[-1] == '\\n':\n",
    "    raise AssertionError(\"You did not remove the newline character ('\\\\n')\")\n",
    "assert first_line == '# N x y xerror yerror'\n",
    "\n",
    "print(\"All tests passed! created the correct first_line and last_line.\")"
   ]
  },
  {
   "cell_type": "markdown",
   "metadata": {
    "nbgrader": {
     "grade": false,
     "grade_id": "cell-b41b33358b6d6986",
     "locked": true,
     "schema_version": 3,
     "solution": false,
     "task": false
    }
   },
   "source": [
    "## *18.4 Writing files*\n",
    "\n",
    "Imagine that the \"x\" data in the `SoloDay18-examplearray.txt` file is in meters and you would like it to be in millimeters. \n",
    "Multiply the x (and xerror) columns by 1000 and save the resulting array into a file called `fixed_example.txt` using `numpy.savetxt()`.\n",
    "\n",
    "Ensure your new file preserves the first and last comment lines - which you should still have available in first_line and last_line. Double check to make sure the comment lines appear exactly as they did in the original, and that there are no extra comment lines."
   ]
  },
  {
   "cell_type": "code",
   "execution_count": null,
   "metadata": {},
   "outputs": [],
   "source": [
    "# Your code here\n",
    "\n"
   ]
  },
  {
   "cell_type": "code",
   "execution_count": null,
   "metadata": {
    "nbgrader": {
     "grade": true,
     "grade_id": "cell-writefile2",
     "locked": true,
     "points": 1,
     "schema_version": 3,
     "solution": false,
     "task": false
    },
    "scrolled": true
   },
   "outputs": [],
   "source": [
    "# Test various aspects of fixed_example\n",
    "\n",
    "# test that fixed_example.txt exists\n",
    "f = open(\"fixed_example.txt\")\n",
    "\n",
    "# test data has the right shape:\n",
    "new_dat = np.loadtxt(f)\n",
    "if new_dat.shape != (6,5):\n",
    "    raise AssertionError(\"Data in the file do not have the right shape\")\n",
    "\n",
    "# test values in fixed_example.txt\n",
    "updated_data = np.array([[1, 1241, 3.14, 12, 0.52], \n",
    "                  [2, 1262, 3.89, 12, 0.52], \n",
    "                  [3, 1284, 4.04, 12, 0.53], \n",
    "                  [4, 1305, 4.33, 12, 0.53], \n",
    "                  [5, 1337, 4.67, 12, 0.54],\n",
    "                  [6, 1358, 5.08, 12, 0.54]])\n",
    "odata = np.loadtxt(\"SoloDay18-examplearray.txt\")\n",
    "np.testing.assert_equal(updated_data, new_dat)\n",
    "\n",
    "print(\"All tests passed! fixed_example.txt appears to have been created correctly.\")"
   ]
  },
  {
   "cell_type": "markdown",
   "metadata": {
    "nbgrader": {
     "grade": false,
     "grade_id": "cell-999f2ec160da345b",
     "locked": true,
     "schema_version": 3,
     "solution": false,
     "task": false
    }
   },
   "source": [
    "## *Completing this solo worksheet and submitting it to Canvas*\n",
    "Before submitting your work, restart + rerun your entire notebook to make sure that everything runs correctly and without error.\n",
    "\n",
    "To do this:\n",
    "1. **Restart & Run All:** From the \"Kernel\" menu to the right of the \"Cell\" menu, select \"Restart & Run All\". This will restart the python Kernel, erasing all variables currently stored in memory so that when you \"Run All\" cells, you can ensure that if you were to run your notebook again on a later day, it would run as intended.\n",
    "1. Look through the whole notebook and make sure there are no errors. Many questions have purposeful errors in the distributed version so make sure you have fixed them all such that \"Restart & Run All\" will run through the whole book and successfully print \"The notebook ran without errors\" at the end. If you have any trouble resolving the errors, please ask one of your classmates or ask us in class or on Piazza.\n",
    "\n",
    "**Export notebook as HTML:** After you've executed and checked your notebook, choose: File => Save_and_Export_Notebook_As => HTML. This will download an HTML version of your notebook to your computer. This version is can not be executed or modified. You may need to disable any pop-up blockers to allow the file to be downloaded.\n",
    "\n",
    "**Submit to Canvas:** Submit the html file that you just downloaded to the appropriate Solo Worksheet submission on Canvas."
   ]
  },
  {
   "cell_type": "code",
   "execution_count": null,
   "metadata": {},
   "outputs": [],
   "source": [
    "print(\"The notebook ran without errors\")"
   ]
  }
 ],
 "metadata": {
  "celltoolbar": "Create Assignment",
  "kernelspec": {
   "display_name": "Python 3",
   "language": "python",
   "name": "python3"
  },
  "language_info": {
   "codemirror_mode": {
    "name": "ipython",
    "version": 3
   },
   "file_extension": ".py",
   "mimetype": "text/x-python",
   "name": "python",
   "nbconvert_exporter": "python",
   "pygments_lexer": "ipython3",
   "version": "3.7.6"
  },
  "nbgrader": {
   "__altered": false,
   "__hash": 633336276,
   "_root": {
    "entries": [
     [
      "size",
      1
     ],
     [
      "_root",
      {
       "entries": [
        [
         "cocalc_minimal_stubs",
         false
        ]
       ],
       "ownerID": {}
      }
     ],
     [
      "__ownerID",
      null
     ],
     [
      "__hash",
      -335098374
     ],
     [
      "__altered",
      false
     ],
     [
      "cocalc_minimal_stubs",
      false
     ]
    ],
    "ownerID": {}
   },
   "cocalc_minimal_stubs": false,
   "size": 6
  }
 },
 "nbformat": 4,
 "nbformat_minor": 4
}
