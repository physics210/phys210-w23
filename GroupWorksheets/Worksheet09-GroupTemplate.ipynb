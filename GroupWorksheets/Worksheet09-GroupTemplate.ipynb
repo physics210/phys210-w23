{
 "cells": [
  {
   "cell_type": "markdown",
   "metadata": {
    "id": "68gKoP9jF9lU"
   },
   "source": [
    "# Day 09 Group Worksheet\n",
    "Oct 11, 2023\n",
    "\n",
    "If you're working on CoCalc, it's good to rename your notebook with a fun group name and to include your names below so that you can easily find it later for reference."
   ]
  },
  {
   "cell_type": "markdown",
   "metadata": {
    "id": "B8UKtrg1F9lm"
   },
   "source": [
    "* Fun group name:   \n",
    "* Group members:"
   ]
  },
  {
   "cell_type": "markdown",
   "metadata": {
    "id": "iFyc4sgriobb"
   },
   "source": [
    "## Electric Field Hockey tasks:\n",
    "Today, your goal (pun intended) is to make sense of, fix and then update the functionality of the [Electric Field Hockey](https://phet.colorado.edu/en/simulations/electric-hockey) starter code provided below. Read through all of the tasks below before starting to work on them since they are intertwined so you may not progress through them linearly."
   ]
  },
  {
   "cell_type": "markdown",
   "metadata": {
    "id": "ss2V3qeyiobb"
   },
   "source": [
    "### Starter code (there's an additional copy at the end of the notebook for reference)"
   ]
  },
  {
   "cell_type": "code",
   "execution_count": null,
   "metadata": {
    "id": "uUhlvfVpiobc",
    "outputId": "631e8379-c271-4eab-c011-616ba7d10f16"
   },
   "outputs": [],
   "source": [
    "## Import libraries and define functions\n",
    "\n",
    "import numpy as np\n",
    "import matplotlib.pyplot as plt\n",
    "\n",
    "# Euler's method for ODE integration\n",
    "def euler_method(state, t_list, args):\n",
    "\n",
    "    x0, y0, vx0, vy0 = state # Initial kinematic values of the moving charge\n",
    "    charges = args[0] # Info about fixed charges\n",
    "    k, q, m = args[1] # Constants\n",
    "\n",
    "    x_list = [x0]\n",
    "    y_list = [y0]\n",
    "    vx_list = [vx0]\n",
    "    vy_list = [vy0]\n",
    "\n",
    "    for i in range(1, len(t_list)): # Start at one since we fill i based on i-1\n",
    "\n",
    "        # Quantities from the previous step for calculating next step quantities\n",
    "        t = t_list[i-1]\n",
    "        x = x_list[i-1]\n",
    "        y = y_list[i-1]\n",
    "        vx = vx_list[i-1]\n",
    "        vy = vy_list[i-1]\n",
    "        dt = t_list[i] - t_list[i-1]\n",
    "\n",
    "        fx = 0\n",
    "        fy = 0\n",
    "        for charge in charges: # Coulomb's Law forces exerted on the moving charge\n",
    "            r = np.sqrt((x-charge[0])**2 + (y-charge[1])**2)\n",
    "            fx += k * q**2 / r**2 # Fix me! x-component needed\n",
    "            fy += k * q**2 / r**2 # Fix me! y-component needed\n",
    "        ax = fx/m\n",
    "        ay = fy/m\n",
    "\n",
    "        x_next = x + dt * vx\n",
    "        y_next = y + dt * vy\n",
    "        vx_next = vx + dt * ax\n",
    "        vy_next = vy + dt * ay\n",
    "\n",
    "        x_list.append(x_next)\n",
    "        y_list.append(y_next)\n",
    "        vx_list.append(vx_next)\n",
    "        vy_list.append(vy_next)\n",
    "\n",
    "        if y_next>=1.:\n",
    "            break\n",
    "\n",
    "    return t_list[:i+1], [x_list, y_list]"
   ]
  },
  {
   "cell_type": "code",
   "execution_count": null,
   "metadata": {
    "id": "uUhlvfVpiobc",
    "outputId": "631e8379-c271-4eab-c011-616ba7d10f16"
   },
   "outputs": [],
   "source": [
    "## Run the code\n",
    "\n",
    "# Constants\n",
    "k = 8.9875517923e9 # Coulomb's constant; N*m^2/C^2\n",
    "q0 = 1e-6 # Base charge is 1 uC\n",
    "m0 = 1e-3 # Base mass is 1 g\n",
    "constants = [k, q0, m0]\n",
    "\n",
    "# Initial conditions and parameters\n",
    "state0 = [0.5, 0.01, 0.0, 10.] # x0, y0, vx0, vy0 for the moving charge\n",
    "fixed_charges = [ [.2, .6, 'r'] ] # Information about the fixed charges\n",
    "goal_dim = [.75, .85, 1.] # y1, y2, x: for plotting and detecting goals\n",
    "\n",
    "# Times to be simulated\n",
    "t0, tmax, dt = 0, 1, 0.001 # seconds\n",
    "times = [i*dt+t0 for i in range(int((tmax-t0)/dt))]\n",
    "\n",
    "# Solve the system using Euler's method and get returned solution\n",
    "sol_t, sol_results = euler_method(state0, times, args=[fixed_charges, constants])\n",
    "sol_x, sol_y = sol_results\n",
    "\n",
    "# Plotting\n",
    "fig, ax = plt.subplots(figsize=(8, 8))\n",
    "ax.plot(sol_x, sol_y, color='r')\n",
    "ax.grid(True)\n",
    "\n",
    "ax.plot([goal_dim[2], goal_dim[2]], [goal_dim[0], goal_dim[1]])\n",
    "\n",
    "for charge in fixed_charges:\n",
    "    ax.scatter(charge[0], charge[1], color=charge[2], s=100)\n",
    "\n",
    "ax.set_xlim([-.01, 1.01])\n",
    "ax.set_ylim([-.01, 1.01])\n",
    "\n",
    "plt.show()"
   ]
  },
  {
   "cell_type": "markdown",
   "metadata": {
    "id": "wb8TtM3Uiobf"
   },
   "source": [
    "### Example of target output for goal and no goal situations\n",
    "You <u>do not</u> need to match the exact format and style of the example goal and no goal visualizations, but at minimum your visualizations should include information about the dimensions+units of the play area and feedback on the visualization regarding if a goal was scored or not.\n",
    "<table border=\"0\" cellspacing=\"0\" cellpadding=\"0\"><tr>\n",
    "    <td><img src=\"https://i.ibb.co/MgdLcJx/goal.png\" alt=\"No goal :(\"></td>\n",
    "    <td><img src=\"https://i.ibb.co/TT9pLNQ/goal.png\" alt=\"Goal!\"></td>\n",
    "</tr></table>"
   ]
  },
  {
   "cell_type": "markdown",
   "metadata": {
    "id": "XXIbz04Siobf"
   },
   "source": [
    "### Task 1. Make sense of the `fixed_charges` list\n",
    "We will treat the moving charge and the initial fixed charge as each having positive charge. If we wanted to add a negative charge as a second fixed charge, we could updated our `fixed_charges` list to something along the lines of:\n",
    "```python\n",
    "fixed_charges = [ [.2, .6, 'r'], [.6, .2, 'b'] ] # Example of adding a second negative charge\n",
    "```\n",
    "How does the `fixed_charges` list of lists work? Where are all of the places in the code that this list is used? What is represented by each element in the list `[.2, .6, 'r']`? For example, what does `charge[0]` represent within the for loop `for charge in charges:`?"
   ]
  },
  {
   "cell_type": "markdown",
   "metadata": {
    "id": "XK8G0wJ2iobg"
   },
   "source": [
    "(Your notes)\n",
    "* charge[0]: ...\n",
    "* charge[1]: ...\n",
    "* charge[2]: ..."
   ]
  },
  {
   "cell_type": "markdown",
   "metadata": {
    "id": "A_sB0Tcliobg"
   },
   "source": [
    "### Task 2: Make sense of the parameters in the `euler_method()` function\n",
    "Have a careful look at the `euler_method()` function and make sure you understand how the information used for each of the following variables is passed to the function and how that information is used"
   ]
  },
  {
   "cell_type": "markdown",
   "metadata": {
    "id": "Tt9LUEXDiobg"
   },
   "source": [
    "* x0: ...\n",
    "* y0: ...\n",
    "* vx0: ...\n",
    "* vy0: ...\n",
    "* charges: ...\n",
    "* k: ...\n",
    "* q: ...\n",
    "* m: ..."
   ]
  },
  {
   "cell_type": "markdown",
   "metadata": {
    "id": "gwa_oTCxiobh"
   },
   "source": [
    "### Task 4. Fix the Coulomb's Law code to be split into x- and y-components\n",
    "Based on the output, it sort of looks like Coulomb's Law is implemented correctly but the x- and y-components are currently both equal to the Coulomb's Law magnitude."
   ]
  },
  {
   "cell_type": "markdown",
   "metadata": {
    "id": "HVMwUpoWiobh"
   },
   "source": [
    "### Task 5. Update the code and visualization\n",
    "Update the code to include detection of and feedback about if a goal is scored. Update the visualization to include this feedback as well as improving the visualization overall. "
   ]
  },
  {
   "cell_type": "markdown",
   "metadata": {
    "id": "DIuSgHT3iobh"
   },
   "source": [
    "### Task 6. Score some goals!!!\n",
    "Below we want you to score a goal by varying the initial conditions in a bunch of specified ways. ***Bonus challenge***: See if you can build a function such that you only have to provide the initial conditions instead of copying the full code to each new cell, e.g., `run_simulation(state0, fixed_charges, ...)"
   ]
  },
  {
   "cell_type": "markdown",
   "metadata": {
    "id": "l_sckT6Tiobh"
   },
   "source": [
    "#### 6a) Starting with the original initial parameters and charge locations, score a goal by changing only the initial speed of the moving charge"
   ]
  },
  {
   "cell_type": "code",
   "execution_count": null,
   "metadata": {
    "id": "K849N6k1iobh"
   },
   "outputs": [],
   "source": [
    "# Your 6a code\n",
    "\n"
   ]
  },
  {
   "cell_type": "markdown",
   "metadata": {
    "id": "nzbXYolwiobh"
   },
   "source": [
    "#### 6b) Starting with the original initial parameters and charge locations, score a goal by changing only the direction of the initial charge\n",
    "You may wish to ask ChatGPT how to implement `sin` and `cos` in python"
   ]
  },
  {
   "cell_type": "code",
   "execution_count": null,
   "metadata": {
    "id": "Dr7D44T3iobi"
   },
   "outputs": [],
   "source": [
    "# Your 6b code\n",
    "\n"
   ]
  },
  {
   "cell_type": "markdown",
   "metadata": {
    "id": "zTQpbq-Wiobi"
   },
   "source": [
    "#### 6c) Starting with the original initial parameters and charge locations, score a goal by changing only the position of the fixed charge"
   ]
  },
  {
   "cell_type": "code",
   "execution_count": null,
   "metadata": {
    "id": "ifXppL_Hiobi"
   },
   "outputs": [],
   "source": [
    "# Your 6c code\n",
    "\n"
   ]
  },
  {
   "cell_type": "markdown",
   "metadata": {
    "id": "jiyj9gHdiobi"
   },
   "source": [
    "#### 6d) Starting with the original initial parameters and charge locations, score a goal by changing both the sign and position of the fixed charge"
   ]
  },
  {
   "cell_type": "code",
   "execution_count": null,
   "metadata": {
    "id": "EfqyPauiiobi"
   },
   "outputs": [],
   "source": [
    "# Your 6d code\n",
    "\n"
   ]
  },
  {
   "cell_type": "markdown",
   "metadata": {
    "id": "RGwsTA11iobi"
   },
   "source": [
    "#### 6e) Starting with the original initial parameters and charge locations, score a goal by adding a second fixed charge of either sign"
   ]
  },
  {
   "cell_type": "code",
   "execution_count": null,
   "metadata": {
    "id": "sHSKYNFKiobj"
   },
   "outputs": [],
   "source": [
    "# Your 6e code\n",
    "\n"
   ]
  },
  {
   "cell_type": "markdown",
   "metadata": {
    "id": "PH-W7eFXiobj"
   },
   "source": [
    "## Backup copy of starter code in markdown cells"
   ]
  },
  {
   "cell_type": "markdown",
   "metadata": {
    "id": "uUhlvfVpiobc",
    "outputId": "631e8379-c271-4eab-c011-616ba7d10f16"
   },
   "source": [
    "```python\n",
    "## Import libraries and define functions\n",
    "\n",
    "import numpy as np\n",
    "import matplotlib.pyplot as plt\n",
    "\n",
    "# Euler's method for ODE integration\n",
    "def euler_method(state, t_list, args):\n",
    "\n",
    "    x0, y0, vx0, vy0 = state # Initial kinematic values of the moving charge\n",
    "    charges = args[0] # Info about fixed charges\n",
    "    k, q, m = args[1] # Constants\n",
    "\n",
    "    x_list = [x0]\n",
    "    y_list = [y0]\n",
    "    vx_list = [vx0]\n",
    "    vy_list = [vy0]\n",
    "\n",
    "    for i in range(1, len(t_list)): # Start at one since we fill i based on i-1\n",
    "\n",
    "        # Quantities from the previous step for calculating next step quantities\n",
    "        t = t_list[i-1]\n",
    "        x = x_list[i-1]\n",
    "        y = y_list[i-1]\n",
    "        vx = vx_list[i-1]\n",
    "        vy = vy_list[i-1]\n",
    "        dt = t_list[i] - t_list[i-1]\n",
    "\n",
    "        fx = 0\n",
    "        fy = 0\n",
    "        for charge in charges: # Coulomb's Law forces exerted on the moving charge\n",
    "            r = np.sqrt((x-charge[0])**2 + (y-charge[1])**2)\n",
    "            fx += k * q**2 / r**2 # Fix me! x-component needed\n",
    "            fy += k * q**2 / r**2 # Fix me! y-component needed\n",
    "        ax = fx/m\n",
    "        ay = fy/m\n",
    "\n",
    "        x_next = x + dt * vx\n",
    "        y_next = y + dt * vy\n",
    "        vx_next = vx + dt * ax\n",
    "        vy_next = vy + dt * ay\n",
    "\n",
    "        x_list.append(x_next)\n",
    "        y_list.append(y_next)\n",
    "        vx_list.append(vx_next)\n",
    "        vy_list.append(vy_next)\n",
    "\n",
    "        if y_next>=1.:\n",
    "            break\n",
    "\n",
    "    return t_list[:i+1], [x_list, y_list]\n",
    "```"
   ]
  },
  {
   "cell_type": "markdown",
   "metadata": {
    "id": "uUhlvfVpiobc",
    "outputId": "631e8379-c271-4eab-c011-616ba7d10f16"
   },
   "source": [
    "```python\n",
    "## Run the code\n",
    "\n",
    "# Constants\n",
    "k = 8.9875517923e9 # Coulomb's constant; N*m^2/C^2\n",
    "q0 = 1e-6 # Base charge is 1 uC\n",
    "m0 = 1e-3 # Base mass is 1 g\n",
    "constants = [k, q0, m0]\n",
    "\n",
    "# Initial conditions and parameters\n",
    "state0 = [0.5, 0.01, 0.0, 10.] # x0, y0, vx0, vy0 for the moving charge\n",
    "fixed_charges = [ [.2, .6, 'r'] ] # Information about the fixed charges\n",
    "goal_dim = [.75, .85, 1.] # y1, y2, x: for plotting and detecting goals\n",
    "\n",
    "# Times to be simulated\n",
    "t0, tmax, dt = 0, 1, 0.001 # seconds\n",
    "times = [i*dt+t0 for i in range(int((tmax-t0)/dt))]\n",
    "\n",
    "# Solve the system using Euler's method and get returned solution\n",
    "sol_t, sol_results = euler_method(state0, times, args=[fixed_charges, constants])\n",
    "sol_x, sol_y = sol_results\n",
    "\n",
    "# Plotting\n",
    "fig, ax = plt.subplots(figsize=(8, 8))\n",
    "ax.plot(sol_x, sol_y, color='r')\n",
    "ax.grid(True)\n",
    "\n",
    "ax.plot([goal_dim[2], goal_dim[2]], [goal_dim[0], goal_dim[1]])\n",
    "\n",
    "for charge in fixed_charges:\n",
    "    ax.scatter(charge[0], charge[1], color=charge[2], s=100)\n",
    "\n",
    "ax.set_xlim([-.01, 1.01])\n",
    "ax.set_ylim([-.01, 1.01])\n",
    "\n",
    "plt.show()\n",
    "```"
   ]
  }
 ],
 "metadata": {
  "colab": {
   "provenance": []
  },
  "kernelspec": {
   "display_name": "Python 3",
   "language": "python",
   "name": "python3"
  },
  "language_info": {
   "codemirror_mode": {
    "name": "ipython",
    "version": 3
   },
   "file_extension": ".py",
   "mimetype": "text/x-python",
   "name": "python",
   "nbconvert_exporter": "python",
   "pygments_lexer": "ipython3",
   "version": "3.7.6"
  }
 },
 "nbformat": 4,
 "nbformat_minor": 1
}
