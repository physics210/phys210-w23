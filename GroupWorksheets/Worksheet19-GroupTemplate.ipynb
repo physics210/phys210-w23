{
 "cells": [
  {
   "cell_type": "markdown",
   "metadata": {},
   "source": [
    "# Day 19 Group Worksheet\n",
    "Nov 20, 2023\n",
    "\n",
    "If you're working on CoCalc, it's good to rename your notebook with a fun group name and to include your names below so that you can easily find it later for reference."
   ]
  },
  {
   "cell_type": "markdown",
   "metadata": {},
   "source": [
    "* Fun group name:   \n",
    "* Group members:"
   ]
  },
  {
   "cell_type": "markdown",
   "metadata": {
    "id": "Km1PqaaP7eA0"
   },
   "source": [
    "## Task 1: Random Walk\n",
    "\n",
    "Grab a copy of your Day 17, Task 1 activity or grab a copy of our working code from `Worksheet19-AdditionalCode.ipynb`.\n",
    "\n",
    "Using Matplotlib's `ArtistAnimation` function to animate your walk so that each new particle that becomes anchored corresponds to a frame in your animation. \n",
    "\n",
    "***Important notes!!!***\n",
    "\n",
    "**Note 1:** Make your grid and maximum number of particles fairly small at first while you are building and troubleshooting your code. Between the Monte Carlo and animation, this will take a lot of time to run.\n",
    "\n",
    "**Note 2:** Different matplotlib plot types need to be added to the animation in different ways,\n",
    "\n",
    "* Some need to be added as a tuple `frames.append((your_plot, ))` or list `frames.append([your_plot])` \n",
    "* Whereas some can be added directly: `frames.append(your_plot)`\n",
    "\n",
    "If you are getting persistent errors when adding your visuals to the animation, try switching the method that you are using to add your frame.\n",
    "\n",
    "**Note 3:** If you are working in CoCalc, the `.to_jshtml()` method does not work correctly. Instead you will need to save the animation as a `.webm` file and then insert it into the notebook to view it. The code below shows how to change the final animation steps introduced in the reading assignment.\n",
    "```python\n",
    "# Comment these out\n",
    "#plt.close()\n",
    "#ani_html = ani.to_jshtml(fps=30, default_mode='once')\n",
    "#HTML(ani_html)\n",
    "\n",
    "# Save to a file in CoCalc and then display:\n",
    "ani.save('hists.webm', fps=30, extra_args=['-vcodec', 'libvpx'])\n",
    "plt.close() # Prevents a stray plot from appearing\n",
    "del ani # Release the precious CoCalc memory used by the images\n",
    "HTML('<video controls> <source src=\"hists.webm\" type=\"video/webm\"></video>') # Insert into the notebook\n",
    "```"
   ]
  },
  {
   "cell_type": "code",
   "execution_count": null,
   "metadata": {},
   "outputs": [],
   "source": [
    "# Your code\n"
   ]
  },
  {
   "cell_type": "markdown",
   "metadata": {
    "id": "2j_RXUJGDZdn"
   },
   "source": [
    "## Task 2: Function Animation\n",
    "\n",
    "Modify your random walk code so that you are able to animate it using `FuncAnimation`\n",
    "\n",
    "You will need to create a function which will generate a new frame based on the current frame number, as well as the additional information you choose to pass in using fargs.\n",
    "\n",
    "***Note:*** If needed (and you may not need it), plt.cla() can be used to clear current information in your plot."
   ]
  },
  {
   "cell_type": "code",
   "execution_count": null,
   "metadata": {},
   "outputs": [],
   "source": [
    "# Your code\n",
    "\n"
   ]
  }
 ],
 "metadata": {
  "colab": {
   "provenance": []
  },
  "kernelspec": {
   "display_name": "Python 3",
   "language": "python",
   "name": "python3"
  },
  "language_info": {
   "codemirror_mode": {
    "name": "ipython",
    "version": 3
   },
   "file_extension": ".py",
   "mimetype": "text/x-python",
   "name": "python",
   "nbconvert_exporter": "python",
   "pygments_lexer": "ipython3",
   "version": "3.7.6"
  }
 },
 "nbformat": 4,
 "nbformat_minor": 1
}
