{
 "cells": [
  {
   "cell_type": "markdown",
   "metadata": {
    "collapsed": true,
    "id": "-94MVQDSk-Qe",
    "nbgrader": {
     "grade": false,
     "grade_id": "cell-1d46bd574f1f3b7e",
     "locked": true,
     "schema_version": 3,
     "solution": false,
     "task": false
    }
   },
   "source": [
    "# PHYS 210, Solo Worksheet 10\n",
    "Due Thursday, Oct 16, 2023 at the start of class on Canvas"
   ]
  },
  {
   "cell_type": "markdown",
   "metadata": {
    "id": "1W0hZo3ck-Qk",
    "nbgrader": {
     "grade": false,
     "grade_id": "array_creation0",
     "locked": true,
     "schema_version": 3,
     "solution": false,
     "task": false
    }
   },
   "source": [
    "## *10.1 Array Creation*\n",
    "Make each of the following indicated arrays and then test that they pass their assert statement to demonstrate they've been created correctly. These are each quicks tasks where you can use what you have learned so far, use internet searches and/or use ChatGPT."
   ]
  },
  {
   "cell_type": "markdown",
   "metadata": {},
   "source": [
    "**a)** Create a 1d array `ar1` containing 5 float zeros"
   ]
  },
  {
   "cell_type": "code",
   "execution_count": null,
   "metadata": {},
   "outputs": [],
   "source": [
    "# Your array creation code here\n",
    "import numpy as np\n",
    "\n"
   ]
  },
  {
   "cell_type": "code",
   "execution_count": null,
   "metadata": {},
   "outputs": [],
   "source": [
    "# Test that your array is correct\n",
    "def is_all_float_zeros(arr):\n",
    "    return np.array_equal(arr, np.zeros_like(arr)) and np.issubdtype(arr.dtype, np.floating)\n",
    "assert is_all_float_zeros(ar1), \"The array is not all float zeros!\"\n",
    "print(\"All tests passed! You created the correct array.\")"
   ]
  },
  {
   "cell_type": "markdown",
   "metadata": {},
   "source": [
    "**b)** Create a 1d array `ar2` containing 5 integer ones"
   ]
  },
  {
   "cell_type": "code",
   "execution_count": null,
   "metadata": {},
   "outputs": [],
   "source": [
    "# Your array creation code here\n",
    "\n",
    "\n"
   ]
  },
  {
   "cell_type": "code",
   "execution_count": null,
   "metadata": {},
   "outputs": [],
   "source": [
    "# Test that your array is correct\n",
    "def is_all_integer_ones(arr):\n",
    "    return np.array_equal(arr, np.ones_like(arr)) and np.issubdtype(arr.dtype, np.integer)\n",
    "assert is_all_integer_ones(ar2), \"The array is not all integer ones!\"\n",
    "print(\"All tests passed! You created the correct array.\")"
   ]
  },
  {
   "cell_type": "markdown",
   "metadata": {},
   "source": [
    "**c)** Create a 1d array `ar3` of integer elements having values from 6 to 11 (inclusive) using `np.arange()`"
   ]
  },
  {
   "cell_type": "code",
   "execution_count": null,
   "metadata": {},
   "outputs": [],
   "source": [
    "# Your array creation code here\n",
    "\n",
    "\n"
   ]
  },
  {
   "cell_type": "code",
   "execution_count": null,
   "metadata": {},
   "outputs": [],
   "source": [
    "# Test that your array is correct\n",
    "\n",
    "# Test if the array contains the expected values\n",
    "expected_values = np.array([6, 7, 8, 9, 10, 11])\n",
    "assert np.array_equal(ar3, expected_values), \"The array does not contain the expected values.\"\n",
    "\n",
    "# Test if the data type of the array is integer\n",
    "assert np.issubdtype(ar3.dtype, np.integer), \"The array's data type is not integer.\"\n",
    "\n",
    "# Test if the shape of the array is as expected\n",
    "assert ar3.shape == (6,), \"The array does not have the expected shape.\"\n",
    "print(\"All tests passed! You created the correct array.\")"
   ]
  },
  {
   "cell_type": "markdown",
   "metadata": {
    "id": "1W0hZo3ck-Qk",
    "nbgrader": {
     "grade": false,
     "grade_id": "array_creation0",
     "locked": true,
     "schema_version": 3,
     "solution": false,
     "task": false
    }
   },
   "source": [
    "## *10.2 Operations on arrays*\n",
    "Make each of the indicated arrays"
   ]
  },
  {
   "cell_type": "markdown",
   "metadata": {},
   "source": [
    "**a)** Create an array `ar5` containing the squares of the values in `ar4`"
   ]
  },
  {
   "cell_type": "code",
   "execution_count": null,
   "metadata": {},
   "outputs": [],
   "source": [
    "# Your array creation code here\n",
    "import numpy as np\n",
    "ar4 = np.arange(6)\n",
    "\n"
   ]
  },
  {
   "cell_type": "code",
   "execution_count": null,
   "metadata": {},
   "outputs": [],
   "source": [
    "# Test that your array is correct\n",
    "expected_values = np.array([ 0,  1,  4,  9, 16, 25])\n",
    "assert np.array_equal(ar5, expected_values), \"The array does not contain the expected values.\"\n",
    "print(\"All tests passed! You created the correct array.\")"
   ]
  },
  {
   "cell_type": "markdown",
   "metadata": {},
   "source": [
    "**c)** Create an array `ar6` containing the square roots of the values in `ar4`"
   ]
  },
  {
   "cell_type": "code",
   "execution_count": null,
   "metadata": {},
   "outputs": [],
   "source": [
    "# Your array creation code here\n",
    "import numpy as np\n",
    "ar4 = np.arange(6)\n",
    "\n"
   ]
  },
  {
   "cell_type": "code",
   "execution_count": null,
   "metadata": {},
   "outputs": [],
   "source": [
    "# Test that your array is correct\n",
    "expected_values = np.array([0., 1. , 1.414, 1.732, 2. , 2.236])\n",
    "np.testing.assert_almost_equal(ar6, expected_values, decimal=2), \"The array does not contain the expected values.\"\n",
    "print(\"All tests passed! You created the correct array.\")"
   ]
  },
  {
   "cell_type": "markdown",
   "metadata": {},
   "source": [
    "**b)** Create a 1d array `ar7` with 6 values, which are integer multiples of $\\pi/5$, starting with 0 (ie $0, \\pi/5, 2\\pi/5, 3\\pi/5, ...)$"
   ]
  },
  {
   "cell_type": "code",
   "execution_count": null,
   "metadata": {},
   "outputs": [],
   "source": [
    "# Your array creation code here\n",
    "import numpy as np\n",
    "\n",
    "\n"
   ]
  },
  {
   "cell_type": "code",
   "execution_count": null,
   "metadata": {},
   "outputs": [],
   "source": [
    "# Test that your array is correct\n",
    "expected_values = np.array([0. , 0.628, 1.256, 1.885, 2.513, 3.1416])\n",
    "np.testing.assert_almost_equal(ar7, expected_values, decimal=2), \"The array does not contain the expected values.\"\n",
    "print(\"All tests passed! You created the correct array.\")"
   ]
  },
  {
   "cell_type": "markdown",
   "metadata": {
    "id": "iUB-e20nk-Qs",
    "nbgrader": {
     "grade": false,
     "grade_id": "cell-e3c2923bc258eef1",
     "locked": true,
     "schema_version": 3,
     "solution": false,
     "task": false
    }
   },
   "source": [
    "## *10.3 Statistics*\n",
    "\n",
    "Below is a 1d array called `my_data`, of size 20, with numbers drawn from a gaussian distribution. These will be your \"data\" for this question, and you will calculate some statistics of these data.\n",
    "\n",
    "The mean of a population, represented by a sample $x_1, x_2, ..., x_N$ can be estimated as:\n",
    "\n",
    "$\\hat{\\bar{x}} = \\frac{1}{N} \\sum_{i=1}^{N} x_i $\n",
    "\n",
    "The (unbiased) estimator for the sample standard deviation is given by:\n",
    "\n",
    "$\\widehat{Std[x]} = \\sqrt{\\frac{1}{N-1}\\sum_{i=1}^N (x_i-\\bar{x})^2}$"
   ]
  },
  {
   "cell_type": "markdown",
   "metadata": {},
   "source": [
    "**10.3.1:** First write code to calculate the mean and standard deviation using `numpy.mean` and `numpy.std`, and place the results into `np_mean`, and `np_std`. Recall there are multiple approaches to using these with an `ndarray` object (e.g., `my_data.mean` or `mean(my_data)`)\n",
    "\n",
    "**Important!!!** Make sure to consult the documentation for `std` (https://numpy.org/doc/stable/reference/generated/numpy.std.html) because you need to override the default value for the argument `ddof` so that the denominator $1/(N-1)$ is correctly incorporated instead of $1/N$."
   ]
  },
  {
   "cell_type": "code",
   "execution_count": null,
   "metadata": {},
   "outputs": [],
   "source": [
    "# Your code here\n",
    "import numpy as np\n",
    "my_data = np.array([ 1.101, -1.238, -0.967, -0.497,  0.908,  2.079,  0.892,  0.392,\n",
    "       -0.439,  0.496,  1.483, -0.501, -0.443, -0.759,  1.432, -0.212,\n",
    "        0.227,  0.003,  0.547,  0.791])\n",
    "\n",
    "\n",
    "\n"
   ]
  },
  {
   "cell_type": "code",
   "execution_count": null,
   "metadata": {},
   "outputs": [],
   "source": [
    "# Test that your values are correct\n",
    "np.testing.assert_almost_equal(np_mean, 0.26475, decimal=4), \"np_mean does not contain the expected value.\"\n",
    "if(abs(np_std-0.8761985) < 0.00001):\n",
    "    print(\"*** It looks like your standard deviation did not correctly account for N-1 using ddof ***\")\n",
    "    np.testing.assert_almost_equal(np_std, 0.89896, decimal=3), \"See message before AssertionError\"\n",
    "np.testing.assert_almost_equal(np_std, 0.89896, decimal=3), \"np_std does not contain the expected value\"\n",
    "print(\"All tests passed! You calculated the correct values.\")"
   ]
  },
  {
   "cell_type": "markdown",
   "metadata": {},
   "source": [
    "**10.3.2:** Write code to calculate the mean of your data using the equation given above. ***Do not*** use `numpy.mean`, but instead use other `ndarray` methods. Assign the result to the variable `my_mean`."
   ]
  },
  {
   "cell_type": "code",
   "execution_count": null,
   "metadata": {},
   "outputs": [],
   "source": [
    "# Your code here\n",
    "\n",
    "\n",
    "\n"
   ]
  },
  {
   "cell_type": "code",
   "execution_count": null,
   "metadata": {},
   "outputs": [],
   "source": [
    "# Test that your value is correct\n",
    "np.testing.assert_almost_equal(np_mean, my_mean, decimal=4), \"np_mean and my_mean do not contain the same value\"\n",
    "print(\"All tests passed! You calculated the correct value.\")"
   ]
  },
  {
   "cell_type": "markdown",
   "metadata": {},
   "source": [
    "**10.3.3:** Write code to calculate the variance and standard deviation according to the equations above ***without*** using statistical functions or `ndarray` methods that calculate the variance or standard deviation directly. However, you may use `numpy.sum` and `numpy.sqrt`. Assign the result to `my_std`"
   ]
  },
  {
   "cell_type": "code",
   "execution_count": null,
   "metadata": {
    "id": "XFOL-Ivgk-Qs",
    "nbgrader": {
     "grade": false,
     "grade_id": "stats0",
     "locked": false,
     "schema_version": 3,
     "solution": true,
     "task": false
    }
   },
   "outputs": [],
   "source": [
    "# Your code here\n",
    "\n",
    "\n"
   ]
  },
  {
   "cell_type": "code",
   "execution_count": null,
   "metadata": {},
   "outputs": [],
   "source": [
    "# Test that your value is correct\n",
    "np.testing.assert_almost_equal(np_std, my_std, decimal=4), \"np_std and my_std do not contain the same value\"\n",
    "print(\"All tests passed! You calculated the correct value.\")"
   ]
  },
  {
   "cell_type": "markdown",
   "metadata": {
    "id": "C00u9oG_o0pX"
   },
   "source": [
    "## *10.4 Array Operations vs List Operations*\n",
    "As discussed in class, one of the advantages of using arrays over list is that arrays are much faster than lists when you are trying to do the same operation to all elements of an array than to all elements of a list. \n",
    "\n",
    "To do this, we will introduce a new debugging tool, the magic python command `%timeit`, which allows you to time the execution of a single statement or expression. It is used to get an idea of how long your code takes to run and provides a quick way to optimize its performance by understanding which parts of your code are consuming the most time.\n",
    "\n",
    "Below we make two arrays using random numbers and then time how long it takes to add them up. In the cell after that, we convert these two arrays to lists. \n",
    "\n",
    "**Task:** Write a function or use list comprehension, and use `%timeit`, to time how long adding these two lists together takes as compared to adding them using array mathematical methods. Add some additional observations below."
   ]
  },
  {
   "cell_type": "markdown",
   "metadata": {},
   "source": [
    "**Your observations on the differences in times:**\n",
    "* .."
   ]
  },
  {
   "cell_type": "code",
   "execution_count": null,
   "metadata": {},
   "outputs": [],
   "source": [
    "import numpy as np\n",
    "array1 = np.random.rand(1000)\n",
    "array2 = np.random.rand(1000)\n",
    "\n",
    "%timeit array1 + array2"
   ]
  },
  {
   "cell_type": "code",
   "execution_count": null,
   "metadata": {},
   "outputs": [],
   "source": [
    "# Your code here\n",
    "list1 = array1.tolist()\n",
    "list2 = array2.tolist()\n",
    "\n",
    "\n",
    "\n",
    "\n"
   ]
  },
  {
   "cell_type": "markdown",
   "metadata": {
    "id": "_y7gYKRspAdn"
   },
   "source": [
    "## *10.5 Shallow copies vs deep copies of Numpy arrays*\n",
    "\n",
    "There are two primary ways to make a copy of an array (or any type of python object beyond just a simple variable)\n",
    "* **Shallow Copy:** A new object is created, but it shares the same data with the original object because both names of the object are pointing to the same object in memory. Changes to the original object affect the copy and vice versa.\n",
    "* **Deep Copy:** A completely new object is created (in memory) having copies of the contents of the original object. Changes to the original object *do not* affect the copy and vice versa.\n",
    "\n",
    "The illustrative example below includes some embedded comments to describe shallow versus deep copies.\n"
   ]
  },
  {
   "cell_type": "code",
   "execution_count": null,
   "metadata": {
    "id": "BQR-PvsDpB2t"
   },
   "outputs": [],
   "source": [
    "# Run me and read carefully through the comments!\n",
    "\n",
    "# We first make an array a\n",
    "a = np.array([1, 2, 3, 4, 5])\n",
    "\n",
    "# We then make shallow and deep copies of this array\n",
    "# - A shallow copy is like creating an additional alias for the the object.\n",
    "#   Modifying an element in 'a_shallow' or 'a' will also modify the other as we will see\n",
    "# - A deep copy makes a whole new object in memory with the new copies of the elements\n",
    "#   in the original object. Modifying an element in 'a_deep' or 'a' will not modify the element in the other.\n",
    "a_shallow = a\n",
    "a_deep = np.copy(a) # could also have used the notation a_deep = a.copy()\n",
    "\n",
    "# We modify the first element in the shallow copy\n",
    "a_shallow[0] = -99\n",
    "\n",
    "# Finally, let's look what is in each of our three arrays after this change\n",
    "print(\"After modifying only the contents of a_shallow[0]:\\n\")\n",
    "print(\"- The shallow copy has changed:   a_shallow =\", a_shallow)\n",
    "print(\"- The deep copy has not changed:  a_deep =\", a_deep)\n",
    "print(\"- The original array has changed: a =\", a)"
   ]
  },
  {
   "cell_type": "markdown",
   "metadata": {
    "id": "2oBIUzMfpDVQ"
   },
   "source": [
    "Coming back to this notion of how memory is used with each of these types of copying, the shallow copy uses (shares) the same memory as the original copy and the deep copy uses new memory, as illustrated below."
   ]
  },
  {
   "cell_type": "code",
   "execution_count": null,
   "metadata": {
    "id": "-_V8-oHcpEy9"
   },
   "outputs": [],
   "source": [
    "# Run me!\n",
    "\n",
    "# These ask if each pair of arrays shares some memory space\n",
    "print(\"Do 'a' and 'a_shallow' share memory?\", np.may_share_memory(a,a_shallow) )\n",
    "print(\"Do 'a' and 'a_deep' share memory?\", np.may_share_memory(a,a_deep) )"
   ]
  },
  {
   "cell_type": "markdown",
   "metadata": {
    "id": "RIm6iSD3pGhc"
   },
   "source": [
    "\n",
    "## *Copying arrays*\n",
    "\n",
    "1. Create a 2D NumPy array named `original_array` with the following values:\n",
    "```\n",
    "[[1,2,3],\n",
    "[4,5,6],\n",
    "[7,8,9]]\n",
    "```\n",
    "\n",
    "1. Create a shallow copy of the array named `shallow_copy`\n",
    "1. Create a deep copy of the array named `deep_copy`\n",
    "1. Change `original_array[0]` to `0`\n",
    "1. Use print statements to convince yourself that the change to `original_array` is present in `shallow_copy` but not in `deep_copy` "
   ]
  },
  {
   "cell_type": "code",
   "execution_count": null,
   "metadata": {
    "id": "RosjDLuNpI5A"
   },
   "outputs": [],
   "source": [
    "# Your code here\n"
   ]
  },
  {
   "cell_type": "markdown",
   "metadata": {},
   "source": [
    "## *Completing this solo worksheet and submitting it to Canvas*\n",
    "Before submitting your work, restart + rerun your entire notebook to make sure that everything runs correctly and without error.\n",
    "\n",
    "To do this:\n",
    "1. **Restart & Run All:** From the \"Kernel\" menu to the right of the \"Cell\" menu, select \"Restart & Run All\". This will restart the python Kernel, erasing all variables currently stored in memory so that when you \"Run All\" cells, you can ensure that if you were to run your notebook again on a later day, it would run as intended.\n",
    "1. Look through the whole notebook and make sure there are no errors. Many questions have purposeful errors in the distributed version so make sure you have fixed them all such that \"Restart & Run All\" will run through the whole book and successfully print \"The notebook ran without errors\" at the end. If you have any trouble resolving the errors, please ask one of your classmates or ask us in class or on Piazza.\n",
    "\n",
    "**Export notebook as HTML:** After you've executed and checked your notebook, choose: File => Save_and_Export_Notebook_As => HTML. This will download an HTML version of your notebook to your computer. This version is can not be executed or modified. You may need to disable any pop-up blockers to allow the file to be downloaded.\n",
    "\n",
    "**Submit to Canvas:** Submit the html file that you just downloaded to the appropriate Solo Worksheet submission on Canvas."
   ]
  },
  {
   "cell_type": "code",
   "execution_count": null,
   "metadata": {},
   "outputs": [],
   "source": [
    "print(\"The notebook ran without errors\")"
   ]
  }
 ],
 "metadata": {
  "celltoolbar": "Create Assignment",
  "colab": {
   "provenance": []
  },
  "kernelspec": {
   "display_name": "Python 3",
   "language": "python",
   "name": "python3"
  },
  "language_info": {
   "codemirror_mode": {
    "name": "ipython",
    "version": 3
   },
   "file_extension": ".py",
   "mimetype": "text/x-python",
   "name": "python",
   "nbconvert_exporter": "python",
   "pygments_lexer": "ipython3",
   "version": "3.7.6"
  },
  "nbgrader": {
   "__altered": false,
   "__hash": 782104853,
   "_root": {
    "entries": [
     [
      "size",
      6
     ],
     [
      "_root",
      {
       "entries": [
        [
         "size",
         1
        ],
        [
         "_root",
         {
          "entries": [
           [
            "cocalc_minimal_stubs",
            false
           ]
          ],
          "ownerID": {}
         }
        ],
        [
         "__ownerID",
         null
        ],
        [
         "__hash",
         -335098374
        ],
        [
         "__altered",
         false
        ],
        [
         "cocalc_minimal_stubs",
         false
        ]
       ],
       "ownerID": {}
      }
     ],
     [
      "__hash",
      633336276
     ],
     [
      "__altered",
      false
     ],
     [
      "cocalc_minimal_stubs",
      false
     ]
    ],
    "ownerID": {}
   },
   "cocalc_minimal_stubs": false,
   "size": 5
  }
 },
 "nbformat": 4,
 "nbformat_minor": 1
}
