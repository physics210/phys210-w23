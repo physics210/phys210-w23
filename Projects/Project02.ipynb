{
 "cells": [
  {
   "cell_type": "markdown",
   "metadata": {
    "id": "nH6nOcUY1Cu_"
   },
   "source": [
    "# Project 02: Orbits of Charged Particles\n",
    "**Due:** Monday, October 30, 2023 at the start of class<br>\n",
    "**Name:** (your name here...)"
   ]
  },
  {
   "cell_type": "markdown",
   "metadata": {
    "id": "-NijqvjKV3i9"
   },
   "source": [
    "# Project Instructions\n",
    "\n",
    "You have been transported back in time to the office of Hantaro Nagaoka at Tokyo Univeristy in 1904 shortly after the discovery of the electron, but before the development of quantum mechanics.  Thankfully your computer, with python installed, made the trip with you. Hantaro is working on his \"Saturnian\" model for the structure of the atom. In this model, electrons orbit a positively charged center similar to the rings of saturn. You've offered to use python to help him work on his theory.   \n",
    "\n",
    "Lucky for you and for Hantaro, you were learning how to work with `solve_ivp` to play electric field hockey in Physics 210 before you were transported back in time. The code you made for that and for Homework 02 serve as great starting points for exploring the Saturnian model!\n",
    "\n",
    "Your task is to explore sets of parameters that support stable electron orbits. Your project must include a minimum of three particles, e.g., at least one electron and two charged nuclei or at least one charged nucleus and two electrons. Don't limit yourself to configurations that look strictly like an electron orbiting a compact nucleus. You can explore molecular-style orbitals within this \"Saturnian\" model or let your imagination take you to even more surprising configurations.\n",
    "\n",
    "After some initial explorations to find a configuration of charges that you would find interesting to investigate, you should develop a research question based on exploring the phase space of your system. By this we mean that your investigation should consist of looking at orbital stability in response to systematic variation of one or more of the initial conditions in your system. How does orbital stability depend on the initial velocity or velocities of your orbiting charge(s) or the initial positions of your nuclei or orbiting charge(s)? Or are there other parameters in your system that you might investigate?\n",
    "\n",
    "To communicate the results of your investigation you should develop a set of visualizations that communicate the critical results you will use to answer to your research question. It is likely that you will need multiple panels (subplots) to effectively communicate your these results, but try to keep your visualizations limited to one overall figure. The intention is for you to make a static figure that could be included in a report, not to make animations.\n",
    "\n",
    "*Hint:* Like you did with your Homework 02 code code, it will be much easier to see how your system responds to changing initial conditions if you make a function that returns useful information about the properities of the oribit(s) in response to providing this function a set of initial conditions. "
   ]
  },
  {
   "cell_type": "markdown",
   "metadata": {
    "id": "2UIMIyuT1NFL"
   },
   "source": [
    "# Background and Motivation\n",
    "_(Provide some context for the problem and the specific reasearch question(s) you set out to answer. Make sure to discuss why your specific research question(s) would be interesting to investigate. Make sure to explicitly state which parameters you are changing and which paremeters you are keeping fixed. This is also the appropriate place to communicate your governing equations and introduce any additional equations that you might use to check the results of your code.)_\n",
    "\n"
   ]
  },
  {
   "cell_type": "markdown",
   "metadata": {
    "id": "mL5Z-iTybeJ8"
   },
   "source": [
    "(your words here...)"
   ]
  },
  {
   "cell_type": "markdown",
   "metadata": {
    "id": "_hiyYy6X1cN1"
   },
   "source": [
    "# Methodology and computational code:\n",
    "_(How did you go about answering your questions(s)?  In 3-5 sentences, provide an overview of how your code below solves the problem. Additionally, include brief descriptions of any python packages you used beyond from the standard ones (i.e., those other than NumPy, Matplotlib or SciPy). You should also add citations for any of these in the references section.)_\n"
   ]
  },
  {
   "cell_type": "markdown",
   "metadata": {
    "id": "M0ukoleRbhqi"
   },
   "source": [
    "(your words here...)"
   ]
  },
  {
   "cell_type": "markdown",
   "metadata": {
    "id": "pw-Co2lJ1hfA"
   },
   "source": [
    "_(Below is the part of your notebook that should include the majority of your code.  Don’t put plots here, though, as they belong in the Data Vizualization section.)_\n"
   ]
  },
  {
   "cell_type": "code",
   "execution_count": 1,
   "metadata": {
    "colab": {
     "base_uri": "https://localhost:8080/"
    },
    "id": "oKMSE3idIHy1",
    "outputId": "5c1c4137-68e8-433f-edea-ac28602354fc"
   },
   "outputs": [],
   "source": [
    "# Your main code here\n"
   ]
  },
  {
   "cell_type": "code",
   "execution_count": 1,
   "metadata": {},
   "outputs": [],
   "source": [
    "# Add additional cells as needed, but your main visualizations should be produced in the section below\n"
   ]
  },
  {
   "cell_type": "markdown",
   "metadata": {
    "id": "moc_x9GF1tW7"
   },
   "source": [
    "# Error testing\n",
    "\n",
    "_(Convince yourself that your system, from a physics and a coding perspective, is behaving correctly and provide your most compelling evidence here. This may include calculations, notes, common-sense checking of the input and output from your code, or running the code with specific parameters to make sure everything behaves how you expect. It may also include visualizations whose purpose is strictly related to error checking. Use as many code and markdown cells as you need.)_"
   ]
  },
  {
   "cell_type": "markdown",
   "metadata": {
    "id": "sS1xzNFU68Qn"
   },
   "source": [
    "(your words here. Add more markdown cells as needed.)"
   ]
  },
  {
   "cell_type": "code",
   "execution_count": 3,
   "metadata": {
    "id": "SX-8C9IyDppI"
   },
   "outputs": [],
   "source": [
    "# Your error checking code, function calls and plotting code. Add more code cells as needed.\n"
   ]
  },
  {
   "cell_type": "markdown",
   "metadata": {
    "id": "cQmKcPTl68da"
   },
   "source": [
    "# Data visualization, interpretation and presentation of results\n",
    "_(This section should include code that produces your visualizations and any other aspects of your data or results that you would like to present. Make sure to provide caption-style summaries with everything presented in this section so that the reader can understand and correctly interpret your visualizations and presented results.)_"
   ]
  },
  {
   "cell_type": "code",
   "execution_count": 4,
   "metadata": {
    "colab": {
     "base_uri": "https://localhost:8080/",
     "height": 696
    },
    "id": "dCrKxhR1bvEt",
    "outputId": "476db500-e681-4835-9722-ca9da81cd178"
   },
   "outputs": [],
   "source": [
    "# Plotting and other code that presents results. Add more code cells as needed.\n"
   ]
  },
  {
   "cell_type": "markdown",
   "metadata": {
    "id": "sS1xzNFU68Qn"
   },
   "source": [
    "(your words here. Add more markdown cells as needed.)"
   ]
  },
  {
   "cell_type": "markdown",
   "metadata": {
    "id": "ixYFJk2L7IE8"
   },
   "source": [
    "# Synthesis and discussion\n",
    "_(Use your results to dicuss the answer(s) to your research question(s). Make sure to provide quantitative answers to your questions and justify your conclusions based on information presented in the previous section. You should also discuss the limitations of your investigations, of your physical modelling and of your code, as well as the next steps if you were to continue working on this project.)_"
   ]
  },
  {
   "cell_type": "markdown",
   "metadata": {
    "id": "sS1xzNFU68Qn"
   },
   "source": [
    "(your words here. Add more markdown cells as needed.)"
   ]
  },
  {
   "cell_type": "markdown",
   "metadata": {
    "id": "qK1ltJWJ7Kwv"
   },
   "source": [
    "# References\n",
    "_(In addition to citations for any python packages used beyond our standard ones, list the sources for any data or literature cited in your project. Additionally, you must also cite the sources for any code that you found on the internet or from peers.)_"
   ]
  },
  {
   "cell_type": "markdown",
   "metadata": {
    "id": "sS1xzNFU68Qn"
   },
   "source": [
    "(your words here. Add more markdown cells as needed.)"
   ]
  },
  {
   "cell_type": "markdown",
   "metadata": {
    "id": "QbCvG4Gvrz-j"
   },
   "source": [
    "# Self-evaluations\n",
    "Please visit the rubric on the Project 02 submission for the detailed criteria to use in your self-assessments."
   ]
  },
  {
   "cell_type": "markdown",
   "metadata": {
    "id": "KDMMZNoEZYcS"
   },
   "source": [
    "<br>\n",
    "\n",
    "### *Self-assessment 1: Coding Approaches*\n",
    "*(How well did you apply and extend your coding knowledge in this project? Consider steps you took to make the code more efficient, more readable and/or more concise. Discuss any new-to-you coding techniques, functions or python packages that you learned how to use. Reflect on any unforeseen coding challenges you faced in completing this project. Highlight something you feel you did particularily well and discuss an aspect of your code that would benefit the most from an improvement.)*"
   ]
  },
  {
   "cell_type": "markdown",
   "metadata": {},
   "source": [
    "**Self-assessment rating (*Outstanding, Publish, Minor Revisions, Major Revisions, Rework, Absent*):** (your rating here...)"
   ]
  },
  {
   "cell_type": "markdown",
   "metadata": {
    "id": "amXCCPntpvf3"
   },
   "source": [
    "**Discussion of your coding approaches and justification of your rating:** \n",
    "\n",
    "(your words here...)"
   ]
  },
  {
   "cell_type": "markdown",
   "metadata": {
    "id": "64uFXa5xM3SK"
   },
   "source": [
    "### *Self-assessment 2: Physical modelling and investigation*\n",
    "*(How well did you apply your and extend your physical modelling and scientific investigation skills in this project? Consider the phase space you chose to explore and how throroughly you explored it. Consider how you translated physics into code and if appropriate any new physics you learned or developed a more thorough understanding of. Consider how thorough and compelling your error-testing evidence is in terms of your system funtioning correctly. Highlight something you feel you did particularily well and discuss an aspect of your modelling or investigation process that would benefit the most from an improvement.)*"
   ]
  },
  {
   "cell_type": "markdown",
   "metadata": {},
   "source": [
    "**Self-assessment rating (*Outstanding, Publish, Minor Revisions, Major Revisions, Rework, Absent*):** (your rating here...)"
   ]
  },
  {
   "cell_type": "markdown",
   "metadata": {
    "id": "amXCCPntpvf3"
   },
   "source": [
    "**Discussion of your physical investigation and justification of your rating:** \n",
    "\n",
    "(your words here...)"
   ]
  },
  {
   "cell_type": "markdown",
   "metadata": {
    "id": "ZZTK7RTWrZOs"
   },
   "source": [
    "<br>\n",
    "\n",
    "### *Self-assessment 3: Effectiveness of your visualizations*\n",
    "_(How effectively do your visualizations communicate the overall results of your investigations? Consider not only your visualizations section, but also any visualizations you used in error checking and building your confidence that your system is behaving as intended. Were any of your visualizations particularly insightful regarding identifying or resolving unphysical behaviour. Consider the steps you took to maximize how well your visualizations support your ability to answer your research questions. Highlight something you feel you did particularily well and discuss an aspect of your visualizations that would benefit the most from an improvement.)_"
   ]
  },
  {
   "cell_type": "markdown",
   "metadata": {},
   "source": [
    "**Self-assessment rating (*Outstanding, Publish, Minor Revisions, Major Revisions, Rework, Absent*):** (your rating here...)"
   ]
  },
  {
   "cell_type": "markdown",
   "metadata": {
    "id": "amXCCPntpvf3"
   },
   "source": [
    "**Discussion of your thoroughness of effectiveness of your visualizations and justification of your rating:** \n",
    "\n",
    "(your words here...)"
   ]
  },
  {
   "cell_type": "markdown",
   "metadata": {
    "id": "sXAtZTACrkim"
   },
   "source": [
    "<br>\n",
    "\n",
    "### *Self-assessment 4: Interpretation of Results*\n",
    " *(How accurately and thoroughly did you interpret your results and discuss the key features of your data / results / visualizations? Do your results and discussions answer your research question(s)? Are your limitations and next steps sufficient to provide an accurate picture of your results and actionable next steps?)*"
   ]
  },
  {
   "cell_type": "markdown",
   "metadata": {},
   "source": [
    "**Self-assessment rating (*Outstanding, Publish, Minor Revisions, Major Revisions, Rework, Absent*):** (your rating here...)"
   ]
  },
  {
   "cell_type": "markdown",
   "metadata": {
    "id": "amXCCPntpvf3"
   },
   "source": [
    "**Discussion of your interpretation of results and justification of your rating:** \n",
    "\n",
    "(your words here...)"
   ]
  },
  {
   "cell_type": "code",
   "execution_count": null,
   "metadata": {},
   "outputs": [],
   "source": []
  }
 ],
 "metadata": {
  "colab": {
   "provenance": []
  },
  "kernelspec": {
   "display_name": "Python 3",
   "language": "python",
   "name": "python3"
  },
  "language_info": {
   "codemirror_mode": {
    "name": "ipython",
    "version": 3
   },
   "file_extension": ".py",
   "mimetype": "text/x-python",
   "name": "python",
   "nbconvert_exporter": "python",
   "pygments_lexer": "ipython3",
   "version": "3.7.6"
  }
 },
 "nbformat": 4,
 "nbformat_minor": 1
}
