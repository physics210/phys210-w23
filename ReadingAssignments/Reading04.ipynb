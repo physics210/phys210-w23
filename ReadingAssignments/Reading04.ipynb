{
 "cells": [
  {
   "cell_type": "markdown",
   "metadata": {},
   "source": [
    "# Pre-class Reading: Day 04 (Sep 18, 2023)<br>Lists and For Loops\n",
    "Learning goals\n",
    "1. Create, index and slice a one-dimensional or nested list\n",
    "1. Modify a list through indexing, slicing and list methods\n",
    "1. Build a `for` loop that iterates over an iteratable object, such as a `list`, `string`, or `range()` object \n",
    "1. Correctly identify what is being iterated in a `for` loop\n",
    "1. Compare and constrast the use of the `continue` and `break` keywords in `for` or `while` loops"
   ]
  },
  {
   "cell_type": "markdown",
   "metadata": {},
   "source": [
    "## *Self-assessment questions*\n",
    "\n",
    "**If you can already answer these correctly, you can skip the rest of the reading assignment and submit it. Otherwise, complete the rest of the reading assignment and return to these questions to test what you learned. You might decide you would benefit from further review before class.**\n",
    "\n",
    "Note that these questions can often be answered easily by running the provided code, so the intellectual work on your part is figuring out the correct answer and then running the code to check your answer.\n",
    "\n",
    "Please ensure all of these self-assessment questions are answered correctly before submitting this pre-class reading assignment. The *Your Turn* questions, found throughout the rest of this assignment, are for your practice as you learn this material and do not need to be answered correctly to receive full completion marks for this pre-class reading assignment."
   ]
  },
  {
   "cell_type": "markdown",
   "metadata": {},
   "source": [
    "### Self-assessment question 4.1\n",
    "\n",
    "Which of the loops below will output `A` as its first line?\n",
    "```python\n",
    "# For loop 1\n",
    "alpha = \"ABCDE\"\n",
    "for i in alpha:\n",
    "    print(i)\n",
    "\n",
    "# For loop 2\n",
    "alpha = \"ABCDE\"\n",
    "for i in alpha:\n",
    "    print(alpha[i])\n",
    "```\n",
    "A) For loop 1<br>\n",
    "B) For loop 2<br>\n",
    "C) Both for loops<br>\n",
    "D) Neither for loop"
   ]
  },
  {
   "cell_type": "code",
   "execution_count": null,
   "metadata": {},
   "outputs": [],
   "source": [
    "# Code testing area to help answer this question\n",
    "\n"
   ]
  },
  {
   "cell_type": "code",
   "execution_count": null,
   "metadata": {},
   "outputs": [],
   "source": [
    "# Enter your answer inside the string quotes and then run this cell to check your anwer\n",
    "\n",
    "answer = \"\"\n",
    "\n",
    "import hashlib\n",
    "assert answer in ['A', 'B', 'C', 'D'], \"Your answer did not match any of the choices\"\n",
    "assert hashlib.sha256(answer.encode()).hexdigest() == \\\n",
    "    '559aead08264d5795d3909718cdd05abd49572e84fe55590eef31a88a08fdffd', \"Your answer is incorrect\"\n",
    "print(\"Your answer\", answer, \"is correct\") # Passed all assert statements above"
   ]
  },
  {
   "cell_type": "markdown",
   "metadata": {},
   "source": [
    "### Self-assessment question 4.2\n",
    "\n",
    "What will be output by the following?\n",
    "```python\n",
    "for x in range(10):\n",
    "    if x == 2:\n",
    "        continue\n",
    "    if x == 5:\n",
    "        break\n",
    "    else:\n",
    "        print(x)\n",
    "```\n",
    "Commas below represent new lines<br><br>\n",
    "A) 0, 1, 3, 4<br>\n",
    "B) 0, 1, 2, 3, 4<br>\n",
    "C) 0, 1, 3, 4, 5<br>\n",
    "D) 0, 1, 2, 3, 4, 5<br>\n",
    "E) 0, 1, 3, 4, 6, 7, 8, 9<br>\n",
    "F) 0, 1, 3, 4, 5, 6, 7, 8, 9<br>\n",
    "G) 0, 1, 2, 3, 4, 6, 7, 8, 9<br>\n",
    "H) 0, 1, 2, 3, 4, 5, 6, 7, 8, 9<br>\n",
    "I) 0, 1, 3, 4, 6, 7, 8, 9, 10<br>\n",
    "J) 0, 1, 3, 4, 5, 6, 7, 8, 9, 10<br>\n",
    "K) 0, 1, 2, 3, 4, 6, 7, 8, 9, 10<br>\n",
    "L) 0, 1, 2, 3, 4, 5, 6, 7, 8, 9, 10<br>"
   ]
  },
  {
   "cell_type": "code",
   "execution_count": null,
   "metadata": {},
   "outputs": [],
   "source": [
    "# Code testing area to help answer this question\n",
    "\n"
   ]
  },
  {
   "cell_type": "code",
   "execution_count": null,
   "metadata": {},
   "outputs": [],
   "source": [
    "# Enter your answer inside the string quotes and then run this cell to check your anwer\n",
    "\n",
    "answer = \"\"\n",
    "\n",
    "import hashlib\n",
    "assert answer in ['A', 'B', 'C', 'D'], \"Your answer did not match any of the choices\"\n",
    "assert hashlib.sha256(answer.encode()).hexdigest() == \\\n",
    "    '559aead08264d5795d3909718cdd05abd49572e84fe55590eef31a88a08fdffd', \"Your answer is incorrect\"\n",
    "print(\"Your answer\", answer, \"is correct\") # Passed all assert statements above"
   ]
  },
  {
   "cell_type": "markdown",
   "metadata": {},
   "source": [
    "### Self-assessment question 4.3\n",
    "\n",
    "Which number will be printed by the following?\n",
    "```python\n",
    "gnarly_list = [ 1, [2, 3, 4], [5, 6, 7, 8] ]\n",
    "print(gnarly_list[-2][1])\n",
    "```\n",
    "A) 1<br>\n",
    "B) 2<br>\n",
    "C) 3<br>\n",
    "D) 5<br>\n",
    "E) 6<br>\n",
    "F) 7"
   ]
  },
  {
   "cell_type": "code",
   "execution_count": null,
   "metadata": {},
   "outputs": [],
   "source": [
    "# Code testing area to help answer this question\n",
    "\n"
   ]
  },
  {
   "cell_type": "code",
   "execution_count": null,
   "metadata": {},
   "outputs": [],
   "source": [
    "# Enter your answer inside the string quotes and then run this cell to check your anwer\n",
    "\n",
    "answer = \"\"\n",
    "\n",
    "import hashlib\n",
    "assert answer in ['A', 'B', 'C', 'D'], \"Your answer did not match any of the choices\"\n",
    "assert hashlib.sha256(answer.encode()).hexdigest() == \\\n",
    "    '6b23c0d5f35d1b11f9b683f0b0a617355deb11277d91ae091d399c655b87940d', \"Your answer is incorrect\"\n",
    "print(\"Your answer\", answer, \"is correct\") # Passed all assert statements above"
   ]
  },
  {
   "cell_type": "markdown",
   "metadata": {},
   "source": [
    "### Self-assessment question 4.4\n",
    "\n",
    "What will be printed by the following?\n",
    "```python\n",
    "my_list = [4, 5, 6, 7]\n",
    "\n",
    "my_list.append(8)\n",
    "my_list[1] = [4, 4]\n",
    "\n",
    "print(my_list)\n",
    "```\n",
    "A) `[4, 4, 4, 6, 7]`<br>\n",
    "B) `[4, 4, 4, 6, 7, 8]`<br>\n",
    "C) `[[4, 4], 5, 6, 7, 8]`<br>\n",
    "D) `[4, [4, 4], 6, 7, 8]`<br>\n",
    "E) `[[4, 4], 5, 6, 7]`<br>\n",
    "F) `[4, [4, 4], 6, 7]`"
   ]
  },
  {
   "cell_type": "code",
   "execution_count": null,
   "metadata": {},
   "outputs": [],
   "source": [
    "# Code testing area to help answer this question\n",
    "\n"
   ]
  },
  {
   "cell_type": "code",
   "execution_count": null,
   "metadata": {},
   "outputs": [],
   "source": [
    "# Enter your answer inside the string quotes and then run this cell to check your anwer\n",
    "\n",
    "answer = \"\"\n",
    "\n",
    "import hashlib\n",
    "assert answer in ['A', 'B', 'C', 'D'], \"Your answer did not match any of the choices\"\n",
    "assert hashlib.sha256(answer.encode()).hexdigest() == \\\n",
    "    '3f39d5c348e5b79d06e842c114e6cc571583bbf44e4b0ebfda1a01ec05745d43', \"Your answer is incorrect\"\n",
    "print(\"Your answer\", answer, \"is correct\") # Passed all assert statements above"
   ]
  },
  {
   "cell_type": "markdown",
   "metadata": {},
   "source": [
    "## *4.1 Lists*\n",
    "A `list` is a sequence of variables which can be of *any* type. We will reiterate this point later, but a list is mutable, meaning that after you create it, you can change or update the individual elements in the list. This is in contrast to a string, which is unmutable.\n",
    "\n",
    "The most common way to create a Python `list` is to use the square brackets `[..]`:"
   ]
  },
  {
   "cell_type": "code",
   "execution_count": null,
   "metadata": {},
   "outputs": [],
   "source": [
    "# Run me!\n",
    "\n",
    "empty_list = [] # We will come back to this one later\n",
    "\n",
    "mylist = [2,3.,5/2,'somestuff'] # Notice it is a mix of different types of elements\n",
    "\n",
    "print(\"type\",type(mylist))\n",
    "\n",
    "print(\"mylist:\", mylist)"
   ]
  },
  {
   "cell_type": "markdown",
   "metadata": {},
   "source": [
    "## *4.2 Indexing and slicing lists*\n",
    "\n",
    "Like we saw with strings, you can access individual elements in a list using their index. "
   ]
  },
  {
   "cell_type": "code",
   "execution_count": null,
   "metadata": {},
   "outputs": [],
   "source": [
    "# Run me!\n",
    "\n",
    "mylist=[2,3.,5/2,'somestuff']\n",
    "\n",
    "print(mylist[0]) # The first element has index = 0\n",
    "print(mylist[-1]) # The last element has index = -1"
   ]
  },
  {
   "cell_type": "markdown",
   "metadata": {},
   "source": [
    "Slicing also works the same way as we saw with strings"
   ]
  },
  {
   "cell_type": "code",
   "execution_count": null,
   "metadata": {},
   "outputs": [],
   "source": [
    "# Run me!\n",
    "\n",
    "mylist=[2,3.,5/2,'somestuff']\n",
    "\n",
    "print (mylist[2:])"
   ]
  },
  {
   "cell_type": "markdown",
   "metadata": {},
   "source": [
    "## *4.3 Modifying lists using indexing and slicing*"
   ]
  },
  {
   "cell_type": "markdown",
   "metadata": {},
   "source": [
    "As we mentioned earlier, lists are mutable, which means you can change their elements after creation."
   ]
  },
  {
   "cell_type": "code",
   "execution_count": null,
   "metadata": {},
   "outputs": [],
   "source": [
    "# Run me!\n",
    "\n",
    "mylist=[2,3.,5/2,'somestuff']\n",
    "print(mylist)\n",
    "mylist[-1] = 'differentstuff'\n",
    "print(mylist)"
   ]
  },
  {
   "cell_type": "markdown",
   "metadata": {},
   "source": [
    "You can also modify elements using slicing"
   ]
  },
  {
   "cell_type": "code",
   "execution_count": null,
   "metadata": {},
   "outputs": [],
   "source": [
    "# Run me!\n",
    "\n",
    "mylist=[2,3.,5/2,'somestuff']\n",
    "print(mylist)\n",
    "\n",
    "mylist[1:3] = [\"newstuff\",42]\n",
    "print(mylist)"
   ]
  },
  {
   "cell_type": "markdown",
   "metadata": {},
   "source": [
    "## *4.4 List methods*\n",
    "Like `string` objects, `list` objects have a bunch of useful methods (functions) associated with them. A complete list can be found here, https://docs.python.org/3/tutorial/datastructures.html#more-on-lists, but let's look at the one we will put to the most use leading into our first project."
   ]
  },
  {
   "cell_type": "markdown",
   "metadata": {},
   "source": [
    "**Append:** Add an item to the end of the list."
   ]
  },
  {
   "cell_type": "code",
   "execution_count": null,
   "metadata": {},
   "outputs": [],
   "source": [
    "# Run me!\n",
    "\n",
    "mylist=[2,3.,5/2,'somestuff']\n",
    "print(mylist)\n",
    "\n",
    "mylist.append(\"appendedstuff\")\n",
    "print(mylist)"
   ]
  },
  {
   "cell_type": "markdown",
   "metadata": {},
   "source": [
    "Notice that we can even start with an empty list and build it up using the `append()` method"
   ]
  },
  {
   "cell_type": "code",
   "execution_count": null,
   "metadata": {},
   "outputs": [],
   "source": [
    "# Run me!\n",
    "\n",
    "empty_list = [] # Create an empty list\n",
    "empty_list.append(1)\n",
    "empty_list.append(\"two\")\n",
    "empty_list.append(3.)\n",
    "print(empty_list) # Not so empty anymore"
   ]
  },
  {
   "cell_type": "markdown",
   "metadata": {},
   "source": [
    "## *4.5 Nested lists*\n",
    "Lists can also contain other lists, creating nested lists. \n",
    "\n",
    "In the example beow, we show how you can access the `index = 1` element of `gnarly_list` using the expected notation of `gnarly_list[1]`. However, if we want to then access an element within second-level list, we use a second square bracket, `gnarly_list[1][0]`."
   ]
  },
  {
   "cell_type": "code",
   "execution_count": null,
   "metadata": {},
   "outputs": [],
   "source": [
    "# Run me!\n",
    "\n",
    "gnarly_list = [ 1, [2, 3, 4], [5, 6, 7, 8] ]\n",
    "\n",
    "print(gnarly_list)\n",
    "\n",
    "print(gnarly_list[1])\n",
    "\n",
    "print(gnarly_list[1][0])"
   ]
  },
  {
   "cell_type": "markdown",
   "metadata": {},
   "source": [
    "### Your turn 4.1\n",
    "\n",
    "Using the correct indexing on our list `gnarly_list`, assign `8` to the varible `my_eight` to resolve the `assert` error."
   ]
  },
  {
   "cell_type": "code",
   "execution_count": null,
   "metadata": {},
   "outputs": [],
   "source": [
    "# Using indexing on gnarly_list, assign '8' to the varible 'my_eight'\n",
    "\n",
    "gnarly_list = [ 1, [2, 3, 4], [5, 6, 7, 8] ]\n",
    "\n",
    "my_eight = gnarly_list[1][1] # fix my indices\n",
    "\n",
    "assert my_eight == 8\n",
    "print(\"You answered correctly\")"
   ]
  },
  {
   "cell_type": "markdown",
   "metadata": {},
   "source": [
    "## *4.6 For loops*"
   ]
  },
  {
   "cell_type": "markdown",
   "metadata": {},
   "source": [
    "We’ve already seen `while` loops, but there is another looping construct that can be much more powerful. The `for` keyword in Python allows you to iterate through a countable list of elements inside what is called an iterable object. We have already seen examples of iterable objects: `arrays` and `strings`. Python has other forms of iterable objects, such as Python `lists` (which we will introduce today) and `numpy arrays`. So an iterable list of elements could take various forms, and today we will cover the most common situations:  `strings`, Python `lists` and `range()`.\n",
    "\n",
    "Note: It is usually possible to replace a `for` block by a `while` block. Howerver, the `for` block will be a lot more convenient in some situations, especially when the iteration consists of executing a block of code once for each element of the iterable, such as once for each character in a string."
   ]
  },
  {
   "cell_type": "markdown",
   "metadata": {},
   "source": [
    "The syntax of the for loop is straightforward:"
   ]
  },
  {
   "cell_type": "code",
   "execution_count": null,
   "metadata": {},
   "outputs": [],
   "source": [
    "# Run me!\n",
    "\n",
    "mystring='somestuff'\n",
    "\n",
    "for c in mystring:\n",
    "    print(\"character \",c)"
   ]
  },
  {
   "cell_type": "markdown",
   "metadata": {},
   "source": [
    "Note that the variable `c` could have any name, and it is a `string`. Python creates this `variable` during execution as soon as it encounters the `for c` statement. In this case, `c` will be a `str type`."
   ]
  },
  {
   "cell_type": "markdown",
   "metadata": {},
   "source": [
    "## *4.7 For loop on a List*"
   ]
  },
  {
   "cell_type": "markdown",
   "metadata": {},
   "source": [
    "The `for` statement allows you to iterate over the elements of a `list`:"
   ]
  },
  {
   "cell_type": "code",
   "execution_count": null,
   "metadata": {},
   "outputs": [],
   "source": [
    "# Run me!\n",
    "\n",
    "mylist=[2,3.,5/2,'somestuff']\n",
    "\n",
    "for v in mylist:\n",
    "    print(type(v), \"v =\", v)"
   ]
  },
  {
   "cell_type": "markdown",
   "metadata": {},
   "source": [
    "Notice that the elements in this list are a mix of different types: `int`, `float` and `str`.\n",
    "\n",
    "As in the case of strings, you are free to name the enumeration variable (we used `v` in the example above). As you see from the example, Python is updating the variable `v` and its `type` every time it picks up a new element from the list `mylist`."
   ]
  },
  {
   "cell_type": "markdown",
   "metadata": {},
   "source": [
    "Looping back to the earlier statement that most/all `for` loops can be replaced by `while` loops, let's look at the `while` variant of the `for` loop we just used."
   ]
  },
  {
   "cell_type": "code",
   "execution_count": null,
   "metadata": {},
   "outputs": [],
   "source": [
    "# Run me!\n",
    "\n",
    "mylist=[2,3.,5/2,'somestuff']\n",
    "i=0\n",
    "imax = len(mylist)\n",
    "\n",
    "while i<imax:\n",
    "    print(type(mylist[i]), \"v =\", mylist[i])\n",
    "    i = i + 1"
   ]
  },
  {
   "cell_type": "markdown",
   "metadata": {},
   "source": [
    "Pause to consider why we used `while i < imax:` and not `while i <= imax:`"
   ]
  },
  {
   "cell_type": "markdown",
   "metadata": {},
   "source": [
    "## *4.8 For loop with `range()`*"
   ]
  },
  {
   "cell_type": "markdown",
   "metadata": {},
   "source": [
    "There is a convenient built-in function in Python, `range(n)`, which creates an iterable object containing the sequence of integers from 0 to n-1:"
   ]
  },
  {
   "cell_type": "code",
   "execution_count": null,
   "metadata": {},
   "outputs": [],
   "source": [
    "# Run me!\n",
    "\n",
    "lr = range(5)\n",
    "\n",
    "print(\"lr =\",lr)\n",
    "\n",
    "print(\"type =\", type(lr))"
   ]
  },
  {
   "cell_type": "markdown",
   "metadata": {},
   "source": [
    "Note that the type is `range`, so is it a list or not? It “looks” like a list, but internally Python treats `range(n)` slightly different than a list. In fact everything is the same as a list for calculations, but a `range()` variable does not create numbers stored in the memory,  instead Python just “knows” that this is a list of iterable integers from 0 to n-1. This is the only difference, but this makes the `range` a little more efficient than a large list. You can access `range` elements in the same way you access those in a list:"
   ]
  },
  {
   "cell_type": "code",
   "execution_count": null,
   "metadata": {},
   "outputs": [],
   "source": [
    "# Run me!\n",
    "lr = range(5)\n",
    "\n",
    "for i in lr:\n",
    "    print(i)"
   ]
  },
  {
   "cell_type": "markdown",
   "metadata": {},
   "source": [
    "Typically `range(n)` is useful when you want to access the elements of a list sequentially and you want to also know what the index of the element is."
   ]
  },
  {
   "cell_type": "code",
   "execution_count": null,
   "metadata": {},
   "outputs": [],
   "source": [
    "# Run me!\n",
    "\n",
    "# Note that we could use range(4) since we know the size of the list\n",
    "# or use the more general len(mylist) so that we could use the\n",
    "# same code even if we changed the size of mylist.\n",
    "\n",
    "for i in range(len(mylist)):\n",
    "    print(\"i =\",i,\"; element =\",mylist[i])  # print index, and element."
   ]
  },
  {
   "cell_type": "markdown",
   "metadata": {},
   "source": [
    "Note the difference between the following two loops, which do the same thing, but sometimes access to the index `i` in the second version facilitates other things you want to do in that `for` loop."
   ]
  },
  {
   "cell_type": "code",
   "execution_count": null,
   "metadata": {},
   "outputs": [],
   "source": [
    "# Run me!\n",
    "\n",
    "mylist = [10, 20, 30, 40, 50]\n",
    "\n",
    "print(\"Iterating over the list\")\n",
    "for i in mylist:\n",
    "    print(i)\n",
    "\n",
    "print()\n",
    "\n",
    "print(\"Iterating over the range\")\n",
    "for i in range(len(mylist)):\n",
    "    print(mylist[i])\n"
   ]
  },
  {
   "cell_type": "markdown",
   "metadata": {},
   "source": [
    "### Your turn 4.2\n",
    "What do you need to change the `print` statement in the `for` loop to be so that the output will be the following? \n",
    "```\n",
    "0\n",
    "1\n",
    "2\n",
    "3\n",
    "4\n",
    "```"
   ]
  },
  {
   "cell_type": "code",
   "execution_count": null,
   "metadata": {},
   "outputs": [],
   "source": [
    "# Fix me so that I have the correct output\n",
    "\n",
    "mylist = [10, 20, 30, 40, 50]\n",
    "for i in range(len(mylist)):\n",
    "    print(mylist[i])"
   ]
  },
  {
   "cell_type": "markdown",
   "metadata": {},
   "source": [
    "Note that with the finction `list()` you can transform an iterable `range` object into a \"real Python list\":"
   ]
  },
  {
   "cell_type": "code",
   "execution_count": null,
   "metadata": {},
   "outputs": [],
   "source": [
    "# Run me!\n",
    "\n",
    "a= range(5)\n",
    "\n",
    "print(type(a),\"a = \", a)\n",
    "\n",
    "b = list(a)\n",
    "\n",
    "print(type(b),\"b = \", b) # now b is a list!"
   ]
  },
  {
   "cell_type": "markdown",
   "metadata": {},
   "source": [
    "Note that `range()` can take up to three arguments, the third (optional) is the step between elements (see http://pythoncentral.io/pythons-range-function-explained/) for a full description). "
   ]
  },
  {
   "cell_type": "markdown",
   "metadata": {},
   "source": [
    "## *4.9 Continue*"
   ]
  },
  {
   "cell_type": "markdown",
   "metadata": {},
   "source": [
    "The `continue` keyword is somewhat similar to the `break` keyword we encountered last lesson. It causes the current pass through the loop to terminate, but instead of dropping out of the for or while loop, the condition is checked and the next pass through the loop is started.\n",
    "\n",
    "Below is an example of how continue is used. Try replacing the `continue` keyword with `break` to contrast their behaviour. "
   ]
  },
  {
   "cell_type": "code",
   "execution_count": null,
   "metadata": {},
   "outputs": [],
   "source": [
    "# Run me!\n",
    "# - Example fromhttps://docs.python.org/3/tutorial/controlflow.html\n",
    "\n",
    "for num in range(1, 10):\n",
    "    if num % 2 == 0:\n",
    "        print(\"Found an even number\", num)\n",
    "        continue\n",
    "    print(\"Found an odd number\", num)"
   ]
  },
  {
   "cell_type": "markdown",
   "metadata": {},
   "source": [
    "## *4.10 Suggested further reading (optional)*\n",
    "\n",
    "We suggest spending a bit more time tying together many of the ideas that we have seen so far in this course. Here are some suggested readings.\n",
    "\n",
    "Read through the following three resources to help synthesize the python topics we have been looking at so far in the course:\n",
    "* Sections 7.4 to 7.7 in http://greenteapress.com/thinkpython2/html/thinkpython2008.html for some more general discussion of  iteration.\n",
    "* Sections 8.1 to 8.10 ing http://greenteapress.com/thinkpython2/html/thinkpython2009.html which will review and add to what you know about strings and also covers for loops and iterating on them.\n",
    "* Skim sections 4.1 to 4.6 of https://docs.python.org/3/tutorial/controlflow.html. They provide a nice summary of the conditional statements that can be used for control flow in Python. Take these sections as reference materials, they cover a lot of ground: much of which we've seen, but there are a few things there that are more advanced. "
   ]
  },
  {
   "cell_type": "markdown",
   "metadata": {},
   "source": [
    "## *4.11 Submitting this reading assignment*\n",
    "Before submitting your work, restart + rerun your notebook to make sure that everything runs correctly and without error. We will only check that the Self-assessment questions at the start of the assignment have run correctly. After you've executed and checked your notebook, choose: File => Save_and_Export_Notebook_As => HTML. This will download an HTML version of your notebook to your computer which you can upload to Canvas"
   ]
  },
  {
   "cell_type": "code",
   "execution_count": null,
   "metadata": {},
   "outputs": [],
   "source": []
  }
 ],
 "metadata": {
  "kernelspec": {
   "display_name": "Python 3",
   "language": "python",
   "name": "python3"
  },
  "language_info": {
   "codemirror_mode": {
    "name": "ipython",
    "version": 3
   },
   "file_extension": ".py",
   "mimetype": "text/x-python",
   "name": "python",
   "nbconvert_exporter": "python",
   "pygments_lexer": "ipython3",
   "version": "3.7.6"
  }
 },
 "nbformat": 4,
 "nbformat_minor": 4
}
