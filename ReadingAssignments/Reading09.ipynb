{
 "cells": [
  {
   "cell_type": "markdown",
   "metadata": {},
   "source": [
    "# Pre-class Reading: Day 09 (Oct 11, 2023)<br>Functions\n",
    "Learning goals\n",
    "1. Know the difference between defining a function and calling a function.\n",
    "1. Define a function using the def keyword.\n",
    "1. Call a function and pass arguments, as required.\n",
    "1. Know that a function ends either at the end of its body or when a `return` statement is executed.\n",
    "1. Recognize that fruitful functions return values using the `return` statement\n",
    "1. Know that if a `return` statement is not used, the function will return `None` by default.\n",
    "1. Call and build functions with default parameters.\n",
    "1. Know that a local variable inside a function has a scope limited to that function.\n",
    "1. Pass lists to and return them from functions."
   ]
  },
  {
   "cell_type": "markdown",
   "metadata": {},
   "source": [
    "## *Self-assessment questions*\n",
    "\n",
    "**If you can already answer these correctly, you can skip the rest of the reading assignment and submit it. Otherwise, complete the rest of the reading assignment and return to these questions to test what you learned. You might decide you would benefit from further review before class.**\n",
    "\n",
    "Note that these questions can often be answered easily by running the provided code, so the intellectual work on your part is figuring out the correct answer and then running the code to check your answer.\n",
    "\n",
    "Please ensure all of these self-assessment questions are answered correctly before submitting this pre-class reading assignment. The *Your Turn* questions, found throughout the rest of this assignment, are for your practice as you learn this material and do not need to be answered correctly to receive full completion marks for this pre-class reading assignment."
   ]
  },
  {
   "cell_type": "markdown",
   "metadata": {},
   "source": [
    "### Self-assessment question 9.1\n",
    "\n",
    "What will be printed by the `print(s1, s2)` line from the code below?\n",
    "```python\n",
    "def func1():\n",
    "    print(\"Hello\")\n",
    "    \n",
    "def func2():\n",
    "    return(\"Hello\")\n",
    "\n",
    "s1 = func1()\n",
    "s2 = func2()\n",
    "\n",
    "print(s1, s2)\n",
    "```\n",
    "A) `Hello Hello`<br>\n",
    "B) `None None`<br>\n",
    "C) `Hello None`<br>\n",
    "D) `None Hello`"
   ]
  },
  {
   "cell_type": "code",
   "execution_count": null,
   "metadata": {},
   "outputs": [],
   "source": [
    "# Code testing area to help answer this question\n",
    "\n"
   ]
  },
  {
   "cell_type": "code",
   "execution_count": null,
   "metadata": {},
   "outputs": [],
   "source": [
    "# Enter your answer inside the string quotes and then run this cell to check your anwer\n",
    "\n",
    "answer = \"\"\n",
    "\n",
    "### Correct answer\n",
    "answer = \"D\"\n",
    "print(hashlib.sha256(answer.encode()).hexdigest())\n",
    "\n",
    "import hashlib\n",
    "assert answer in ['A', 'B', 'C', 'D'], \"Your answer did not match any of the choices\"\n",
    "assert hashlib.sha256(answer.encode()).hexdigest() == \\\n",
    "    '3f39d5c348e5b79d06e842c114e6cc571583bbf44e4b0ebfda1a01ec05745d43', \"Your answer is incorrect\"\n",
    "print(\"Your answer\", answer, \"is correct\") # Passed all assert statements above"
   ]
  },
  {
   "cell_type": "markdown",
   "metadata": {},
   "source": [
    "### Self-assessment question 9.2\n",
    "\n",
    "What will be printed by the following code?\n",
    "```python\n",
    "def my_func(a = \"first\", b = \"second\", c = \"third\"):\n",
    "    print(a, b, c)\n",
    "\n",
    "my_func(c = \"fourth\", b = \"fifth\")\n",
    "```\n",
    "\n",
    "A) `first second third`<br>\n",
    "B) `fourth fifth third`<br>\n",
    "C) `first fifth fourth`<br>\n",
    "D) `first fouth fifth`<br>\n",
    "E) `first second third fourth fifth`"
   ]
  },
  {
   "cell_type": "code",
   "execution_count": null,
   "metadata": {},
   "outputs": [],
   "source": [
    "# Code testing area to help answer this question\n",
    "\n"
   ]
  },
  {
   "cell_type": "code",
   "execution_count": null,
   "metadata": {},
   "outputs": [],
   "source": [
    "# Enter your answer inside the string quotes and then run this cell to check your anwer\n",
    "\n",
    "answer = \"\"\n",
    "\n",
    "### Correct answer\n",
    "answer = \"C\"\n",
    "\n",
    "import hashlib\n",
    "assert answer in ['A', 'B', 'C', 'D', 'E'], \"Your answer did not match any of the choices\"\n",
    "assert hashlib.sha256(answer.encode()).hexdigest() == \\\n",
    "    '6b23c0d5f35d1b11f9b683f0b0a617355deb11277d91ae091d399c655b87940d', \"Your answer is incorrect\"\n",
    "print(\"Your answer\", answer, \"is correct\") # Passed all assert statements above"
   ]
  },
  {
   "cell_type": "markdown",
   "metadata": {},
   "source": [
    "### Self-assessment question 9.3\n",
    "\n",
    "What will be printed by the following code?\n",
    "```python\n",
    "def my_func(x):\n",
    "    a = x\n",
    "    return a\n",
    "\n",
    "a = 3\n",
    "print(my_func(2), a)\n",
    "```\n",
    "A) `2 2`<br>\n",
    "B) `2 3`<br>\n",
    "C) `3 2`<br>\n",
    "D) `3 3`"
   ]
  },
  {
   "cell_type": "code",
   "execution_count": null,
   "metadata": {},
   "outputs": [],
   "source": [
    "# Code testing area to help answer this question\n",
    "\n"
   ]
  },
  {
   "cell_type": "code",
   "execution_count": null,
   "metadata": {},
   "outputs": [],
   "source": [
    "# Enter your answer inside the string quotes and then run this cell to check your anwer\n",
    "\n",
    "answer = \"\"\n",
    "\n",
    "### Correct answer\n",
    "answer = \"B\"\n",
    "\n",
    "import hashlib\n",
    "assert answer in ['A', 'B', 'C', 'D'], \"Your answer did not match any of the choices\"\n",
    "assert hashlib.sha256(answer.encode()).hexdigest() == \\\n",
    "    'df7e70e5021544f4834bbee64a9e3789febc4be81470df629cad6ddb03320a5c', \"Your answer is incorrect\"\n",
    "print(\"Your answer\", answer, \"is correct\") # Passed all assert statements above"
   ]
  },
  {
   "cell_type": "markdown",
   "metadata": {},
   "source": [
    "### Self-assessment question 9.4\n",
    "\n",
    "What is the correct way to provide time and position data to the `plt.plot(..., ...)` function at the end of this code?\n",
    "```python\n",
    "def euler(y, v, t, t_end, t_step):\n",
    "    \"\"\"Euler's method integrator\n",
    "    Args:\n",
    "    - y: initial height\n",
    "    - v: initial y-velocity\n",
    "    - t, t_end: start and end time\n",
    "    - t_step: step size\n",
    "    Returns: list of times and corresponding y values\n",
    "    \"\"\"\n",
    "    t_list = [t]\n",
    "    y_list = [y]    \n",
    "    v_list = [v]\n",
    "    a = -9.81  # gravitational acceleration\n",
    "    \n",
    "    while t < t_end:\n",
    "        y = y + t_step * v\n",
    "        v = v + t_step * a\n",
    "        t = t + t_step\n",
    "\n",
    "        y_list.append(y)\n",
    "        v_list.append(v)\n",
    "        t_list.append(t)\n",
    "        \n",
    "    return t_list, y_list\n",
    "\n",
    "## Main part of the program\n",
    "import numpy as np\n",
    "import matplotlib.pyplot as plt\n",
    "\n",
    "y0, v0 = 0, 10 # Initial position and velocity\n",
    "t0, tmax, dt = 0, 2, 0.01  # Start, end times and step size\n",
    "\n",
    "results = euler(y0, v0, t0, tmax, dt)\n",
    "\n",
    "plt.plot(..., ...) # Fix me\n",
    "\n",
    "```\n",
    "A) `plt.plot(results[0], results[1])`<br>\n",
    "B) `plt.plot(t_results, y_results)`<br>\n",
    "C) `plt.plot(t_list, y_list)`<br>\n",
    "D) `plt.plot(t, y)`<br>\n",
    "E) More than one of these answers is correct"
   ]
  },
  {
   "cell_type": "code",
   "execution_count": null,
   "metadata": {},
   "outputs": [],
   "source": [
    "# Code testing area to help answer this question\n",
    "\n"
   ]
  },
  {
   "cell_type": "code",
   "execution_count": null,
   "metadata": {},
   "outputs": [],
   "source": [
    "# Enter your answer inside the string quotes and then run this cell to check your anwer\n",
    "\n",
    "answer = \"\"\n",
    "\n",
    "### Correct answer\n",
    "answer = \"A\"\n",
    "\n",
    "import hashlib\n",
    "assert answer in ['A', 'B', 'C', 'D'], \"Your answer did not match any of the choices\"\n",
    "assert hashlib.sha256(answer.encode()).hexdigest() == \\\n",
    "    '559aead08264d5795d3909718cdd05abd49572e84fe55590eef31a88a08fdffd', \"Your answer is incorrect\"\n",
    "print(\"Your answer\", answer, \"is correct\") # Passed all assert statements above"
   ]
  },
  {
   "cell_type": "markdown",
   "metadata": {},
   "source": [
    "## *9.1 Intro to functions*\n",
    "\n",
    "One of the most fundamental concepts in programming is that of functions. You use functions all the time, e.g. `np.sqrt()` is the square-root function. In python, the syntax to *call a function* looks like:\n",
    "```python\n",
    "result = my_function(arguments)\n",
    "```\n",
    "where `result` is the outcome of your new function given some input `arguments`. The parentheses are an important part of this – they are what actually indicates that you intend this to be a function call. \n",
    "\n",
    "In Python, the syntax to *define a function* is:\n",
    "```python\n",
    "def my_function(param1, param2):\n",
    "# parameters are optional, the ( and ) and : are mandatory\n",
    "    calculations that use parameters\n",
    "    return value # optional, may be several\n",
    "```\n",
    "The words argument and parameter are often used interchangeably. To be precise, parameters are defined with the function. Arguments are passed in when the function is called and become the parameters.\n",
    "\n",
    "The python keyword `def` defines a new function. Today you will learn how to create “fruitful” functions (i.e. functions which return a result), and void functions (i.e. functions which return no result). \n",
    "\n",
    "READ: **sections 3.1 to 3.12** in <br>\n",
    "* http://greenteapress.com/thinkpython2/html/thinkpython2004.html\n",
    "\n",
    "Note that we'll almost always want to use numpy functions rather than the similar math functions."
   ]
  },
  {
   "cell_type": "markdown",
   "metadata": {},
   "source": [
    "## 9.2 *Fruitful vs void functions*\n",
    "\n",
    "When learning to create and use functions in Python, it is helpful to think of functions as falling into two categorie:\n",
    "\n",
    "1. **Frutiful functions:** Functions that return a value. You can assign the result of a fruitful function to a variable\n",
    "2. **Void function:** The functions do not return a *meaningful* value. Instead of returning a result that you might wish to assign to a variable, they instead perform an action, such as printing something or modifying a list \"in place\" (meaning to modify a list without creating a new copy of it).\n",
    "\n",
    "It is worth noting that technically a void function actually returns a `None` value, which we will also explore.\n",
    "\n"
   ]
  },
  {
   "cell_type": "markdown",
   "metadata": {},
   "source": [
    "## *9.3 Fruitful functions*"
   ]
  },
  {
   "cell_type": "markdown",
   "metadata": {},
   "source": [
    "**A simple fruitful function:** First we will look at a fruitful function that returns the square of a value"
   ]
  },
  {
   "cell_type": "code",
   "execution_count": null,
   "metadata": {},
   "outputs": [],
   "source": [
    "# Run me!\n",
    "\n",
    "def fruitful_square(x):\n",
    "    return x*x\n",
    "\n",
    "my_value1 = fruitful_square(3)"
   ]
  },
  {
   "cell_type": "code",
   "execution_count": null,
   "metadata": {},
   "outputs": [],
   "source": [
    "print(my_value1)"
   ]
  },
  {
   "cell_type": "markdown",
   "metadata": {},
   "source": [
    "Note that user-defined functions need to appear earlier in the code than when you call them."
   ]
  },
  {
   "cell_type": "markdown",
   "metadata": {},
   "source": [
    "**Sending the value returned by a function to another function:** You can also call our function`fruitful_square` from inside another function so that the returned value `9` becomes the argument for the `print` function."
   ]
  },
  {
   "cell_type": "code",
   "execution_count": null,
   "metadata": {},
   "outputs": [],
   "source": [
    "print(fruitful_square(3))"
   ]
  },
  {
   "cell_type": "markdown",
   "metadata": {},
   "source": [
    "**Output to the console vs the `print()` function:** Let's briefly touch on a point that we have not yet discussed in the course, but that you have no doubt encountered. When you are using an interactive mode in Python, such as running code from a `*.ipynb` notebook, operations that return values will output their values directly to the console if they are not assigned to a variable. This is not the same as printing, as only the last output sent to the console this way will actually result in any output. Run the examples below."
   ]
  },
  {
   "cell_type": "code",
   "execution_count": null,
   "metadata": {},
   "outputs": [],
   "source": [
    "# Sends the output of 3+3 to the console\n",
    "\n",
    "3+3"
   ]
  },
  {
   "cell_type": "code",
   "execution_count": null,
   "metadata": {},
   "outputs": [],
   "source": [
    "# Sends the string 'Hello world!' to the console\n",
    "\n",
    "\"Hello world!\""
   ]
  },
  {
   "cell_type": "code",
   "execution_count": null,
   "metadata": {},
   "outputs": [],
   "source": [
    "# We only see output from the last command\n",
    "\n",
    "\"Hello world\"\n",
    "3+3"
   ]
  },
  {
   "cell_type": "markdown",
   "metadata": {},
   "source": [
    "Just like the above operations, if we call `fruitful_square(3)` without assigning its value to a variable, it sends its output to the console. Again, this is not the same printing the value."
   ]
  },
  {
   "cell_type": "code",
   "execution_count": null,
   "metadata": {},
   "outputs": [],
   "source": [
    "# This sends the returned value of 9 to the console as output\n",
    "\n",
    "fruitful_square(3)"
   ]
  },
  {
   "cell_type": "markdown",
   "metadata": {},
   "source": [
    "**Function arguments:** Our function `fruitful_square(x)` is expecting us to send it a single argument. If we don't send a value, we get a `TypeError` indicating that `fruitful_square` was expecting to be sent an argument (e.g. `fruitful_square(3)` as opposed to `fruitful_square()`)."
   ]
  },
  {
   "cell_type": "code",
   "execution_count": null,
   "metadata": {},
   "outputs": [],
   "source": [
    "# We get an error if we try to call our function without its one argument\n",
    "\n",
    "my_value1 = fruitful_square()"
   ]
  },
  {
   "cell_type": "markdown",
   "metadata": {},
   "source": [
    "**Argument types:** Also note that, based on the `x*x` operation inside the function, it is also expecting a value where this operation is allowed, such as an `int` or a `float`.\n",
    "\n",
    "If we try to use a string as an argument, we get an error:"
   ]
  },
  {
   "cell_type": "code",
   "execution_count": null,
   "metadata": {},
   "outputs": [],
   "source": [
    "# Run me!\n",
    "my_value1 = fruitful_square(\"Hello\")"
   ]
  },
  {
   "cell_type": "markdown",
   "metadata": {},
   "source": [
    "## *9.4 More about fruitful functions*"
   ]
  },
  {
   "cell_type": "markdown",
   "metadata": {},
   "source": [
    "Fruitful functions do not need to have any parameters specified. An example of a parameter is the `x` in our `def fruitful_square(x):` earlier. Here we define a new function `fruitful_hello()` with no parameters in the definition, thus we do not need to send it any arguments when we call it."
   ]
  },
  {
   "cell_type": "code",
   "execution_count": null,
   "metadata": {},
   "outputs": [],
   "source": [
    "# Run me!\n",
    "\n",
    "def fruitful_hello():\n",
    "    return \"hello\"\n",
    "\n",
    "my_value2 = fruitful_hello()"
   ]
  },
  {
   "cell_type": "code",
   "execution_count": null,
   "metadata": {},
   "outputs": [],
   "source": [
    "# Run me too!\n",
    "\n",
    "print(my_value2)"
   ]
  },
  {
   "cell_type": "markdown",
   "metadata": {},
   "source": [
    "This function just returns the string \"hello\". Like before, we don't see any output from just assigning this returned string to `my_value2`. We need to explicitly print it if we want to see that output.\n",
    "\n",
    "And just like before, if we call this fruitful function *without* assigning it to a variable, it will simply send its output to the console. "
   ]
  },
  {
   "cell_type": "code",
   "execution_count": null,
   "metadata": {},
   "outputs": [],
   "source": [
    "# Send the most recent fruitful operation output to the terminal\n",
    "\n",
    "fruitful_hello()"
   ]
  },
  {
   "cell_type": "markdown",
   "metadata": {},
   "source": [
    "## *9.5 Local variables*"
   ]
  },
  {
   "cell_type": "markdown",
   "metadata": {},
   "source": [
    "Function parameters and other variables created inside a function are local variables, meaning they cannot be accessed outside of that function and that they are unaware of variables with the same name outside of that function.\n",
    "\n",
    "This means that if you define a variable inside a function with the same name as a variable outside the function, they are ***different variables***. For example, "
   ]
  },
  {
   "cell_type": "code",
   "execution_count": null,
   "metadata": {},
   "outputs": [],
   "source": [
    "# Run me!\n",
    "\n",
    "# Define our function f\n",
    "def f(a): # The parameter 'a', which is a variable defined within the function\n",
    "     print(\"The variable 'a' inside the function =\",a)\n",
    "     return a*a\n",
    "\n",
    "a = 1 # The variable 'a' outside of the function\n",
    "b = 2\n",
    "c = f(b) # Let's send b (= 2) to the function\n",
    "\n",
    "# Now let's print a, b and c as seen outside of the function\n",
    "print(f\"Outside the function: a, b, c = {a}, {b}, {c}\")"
   ]
  },
  {
   "cell_type": "markdown",
   "metadata": {},
   "source": [
    "### Your turn: What will be the output of `print(y, z)` in the code below?\n",
    "```python\n",
    "def change_value():\n",
    "    y = 25\n",
    "    return y\n",
    "\n",
    "y = 50\n",
    "z = 75\n",
    "\n",
    "z = change_value()\n",
    "print(y, z)\n",
    "```\n",
    "A) 25, 75<br>\n",
    "B) 50, 75<br>\n",
    "C) 50, 25<br>\n",
    "D) 25, 25"
   ]
  },
  {
   "cell_type": "code",
   "execution_count": null,
   "metadata": {},
   "outputs": [],
   "source": [
    "# Code box to help you check your answer\n",
    "\n",
    "def change_value():\n",
    "    y = 25\n",
    "    return y\n",
    "\n",
    "y = 50\n",
    "z = 75\n",
    "\n",
    "z = change_value()\n",
    "\n"
   ]
  },
  {
   "cell_type": "markdown",
   "metadata": {},
   "source": [
    "It is possible to alter the value of a variable external to a function using the `global` keyword, but we will not look at this for now. If you are interested in reading about this topic, see http://www.python-course.eu/python3_global_vs_local_variables.php."
   ]
  },
  {
   "cell_type": "markdown",
   "metadata": {},
   "source": [
    "## *9.6 Default parameters*"
   ]
  },
  {
   "cell_type": "markdown",
   "metadata": {},
   "source": [
    "Function parameters can be preset to defaults, allowing some of the arguments sent to the function to be optional."
   ]
  },
  {
   "cell_type": "code",
   "execution_count": null,
   "metadata": {},
   "outputs": [],
   "source": [
    "# Run me\n",
    "\n",
    "def my_func(x, c = 1, n = 1):\n",
    "    return c * x**n\n",
    "\n",
    "my_func(3, 0.5, 2) # 0.5 * 3**2"
   ]
  },
  {
   "cell_type": "code",
   "execution_count": null,
   "metadata": {},
   "outputs": [],
   "source": [
    "# Run me\n",
    "\n",
    "my_func(5) # 1 * 5**1"
   ]
  },
  {
   "cell_type": "code",
   "execution_count": null,
   "metadata": {},
   "outputs": [],
   "source": [
    "# Run me\n",
    "\n",
    "my_func(5, n = 2) # 1 * 5**2"
   ]
  },
  {
   "cell_type": "code",
   "execution_count": null,
   "metadata": {},
   "outputs": [],
   "source": [
    "# Run me! (I won't work correctly)\n",
    "\n",
    "my_func(n = 2)"
   ]
  },
  {
   "cell_type": "markdown",
   "metadata": {},
   "source": [
    "In the last call of the function, an error was thrown because `x` must be specified."
   ]
  },
  {
   "cell_type": "markdown",
   "metadata": {},
   "source": [
    "## *9.7 Returning lists or multiple values from functions*\n",
    "\n",
    "You can return lists from or sent lists to a function. For example,"
   ]
  },
  {
   "cell_type": "code",
   "execution_count": null,
   "metadata": {},
   "outputs": [],
   "source": [
    "# I'm a function that returns a list\n",
    "\n",
    "def fruitful_list(n):\n",
    "    this_list = [i for i in range(n)]\n",
    "    return this_list\n",
    "\n",
    "my_list = fruitful_list(5)\n",
    "print(my_list)"
   ]
  },
  {
   "cell_type": "markdown",
   "metadata": {},
   "source": [
    "**Assigning multiple variables at once:** To save space on my lecture slides I have sometimes used commas to allow me to assign multiple variables each with their own individual value"
   ]
  },
  {
   "cell_type": "markdown",
   "metadata": {},
   "source": [
    "We can also this type of syntax to have a fruitful function return multiple values and assign those values to individual variables:"
   ]
  },
  {
   "cell_type": "code",
   "execution_count": null,
   "metadata": {},
   "outputs": [],
   "source": [
    "# I'm a function that returns the final two values from a list\n",
    "\n",
    "def fruitful_two_values(n):\n",
    "    this_list = [i for i in range(n)]\n",
    "    return this_list[-1], this_list[-2] # Returns two values\n",
    "\n",
    "last, second_last = fruitful_two_values(5) # Assigns the two returned values to different variables\n",
    "print(last)\n",
    "print(second_last)"
   ]
  },
  {
   "cell_type": "markdown",
   "metadata": {},
   "source": [
    "Instead of assigning these returned values to different variables, we could assign them to one variable and when we do this the variable will be of a new type called a `tuple`. We will learn more about these later, but they behave much like lists in terms of indexing and slicing, but they are immutable. This means they can't be modified once created, like a string. "
   ]
  },
  {
   "cell_type": "code",
   "execution_count": null,
   "metadata": {},
   "outputs": [],
   "source": [
    "# Returning multiple values to a single variable creates a tuple\n",
    "\n",
    "my_tuple = fruitful_two_values(7)\n",
    "print(my_tuple)\n",
    "print(type(my_tuple))"
   ]
  },
  {
   "cell_type": "markdown",
   "metadata": {},
   "source": [
    "As we just mentioned, these can be inexed like lists:"
   ]
  },
  {
   "cell_type": "code",
   "execution_count": null,
   "metadata": {},
   "outputs": [],
   "source": [
    "# Indexing a tuple to grab its second value\n",
    "\n",
    "print(my_tuple[1])"
   ]
  },
  {
   "cell_type": "markdown",
   "metadata": {},
   "source": [
    "## *9.8 Void functions*\n",
    "\n",
    "As discussed earlier, void functions don't return a useful value, so there's no output to the console if we call a void function without assigning it to a variable. "
   ]
  },
  {
   "cell_type": "code",
   "execution_count": null,
   "metadata": {},
   "outputs": [],
   "source": [
    "# Run me to call a void function that does something\n",
    "\n",
    "def void_print_something():\n",
    "    print(\"Something\")\n",
    "    \n",
    "void_print_something()"
   ]
  },
  {
   "cell_type": "code",
   "execution_count": null,
   "metadata": {},
   "outputs": [],
   "source": [
    "# Run me to call a void function that does nothing useful\n",
    "\n",
    "def void_do_nothing():\n",
    "    doing_nothing = True\n",
    "    \n",
    "void_do_nothing()"
   ]
  },
  {
   "cell_type": "markdown",
   "metadata": {},
   "source": [
    "In practice, these void functions are actually returning the value `None`, a 'NoneType' object as shown below"
   ]
  },
  {
   "cell_type": "code",
   "execution_count": null,
   "metadata": {},
   "outputs": [],
   "source": [
    "try1 = void_do_nothing()\n",
    "print(try1)\n",
    "print(type(try1))"
   ]
  },
  {
   "cell_type": "markdown",
   "metadata": {},
   "source": [
    "It is rare that you actually want to make use of a `None` value in your code. However, when debugging or testing your code you may sometimes wish to double-check that your function is a void function. For example, "
   ]
  },
  {
   "cell_type": "code",
   "execution_count": null,
   "metadata": {},
   "outputs": [],
   "source": [
    "# Run me! \n",
    "# - It passes the assert statement, so we have confirmed it is a void function\n",
    "\n",
    "assert void_print_something() == None"
   ]
  },
  {
   "cell_type": "code",
   "execution_count": null,
   "metadata": {},
   "outputs": [],
   "source": [
    "# Run me \n",
    "# - It passes the assert statement, so we have confirmed it is NOT a void function\n",
    "\n",
    "def fruitful_hello():\n",
    "    return \"hello\"\n",
    "\n",
    "assert fruitful_hello() != None"
   ]
  },
  {
   "cell_type": "markdown",
   "metadata": {},
   "source": [
    "## *9.9 Euler's method using functions*\n",
    "\n",
    "Let's incorporate a function into an Euler's method program to model one-dimensional motion with gravity. The function receives initial parameters and returns lists filled with the useful kinematic variables. \n",
    "\n",
    "This will be our first step toward more advanced techniques for modelling motion and other physics that can be modelled using ordinary differential equations (ODEs). To emphasize the fact that the function parameters and other variables created inside our `euler()` function are local variables, we make sure to name them differently from the variables in the main part of our program. "
   ]
  },
  {
   "cell_type": "code",
   "execution_count": null,
   "metadata": {},
   "outputs": [],
   "source": [
    "# Run me!\n",
    "\n",
    "def euler(y, v, t, t_end, t_step):\n",
    "    \"\"\"Euler's method integrator\n",
    "    Args:\n",
    "    - y: initial height\n",
    "    - v: initial y-velocity\n",
    "    - t, t_end: start and end time\n",
    "    - t_step: step size\n",
    "    Returns: list of times and corresponding y values\n",
    "    \"\"\"\n",
    "    t_list = [t]\n",
    "    y_list = [y]    \n",
    "    v_list = [v]\n",
    "    a = -9.81  # gravitational acceleration\n",
    "    \n",
    "    while t < t_end:\n",
    "        y = y + t_step * v\n",
    "        v = v + t_step * a\n",
    "        t = t + t_step\n",
    "\n",
    "        y_list.append(y)\n",
    "        v_list.append(v)\n",
    "        t_list.append(t)\n",
    "        \n",
    "    return t_list, y_list\n",
    "\n",
    "## Main part of the program\n",
    "import numpy as np\n",
    "import matplotlib.pyplot as plt\n",
    "\n",
    "y0, v0 = 0, 10 # Initial position and velocity\n",
    "t0, tmax, dt = 0, 2, 0.01  # Start, end times and step size\n",
    "\n",
    "times, y_results = euler(y0, v0, t0, tmax, dt)\n",
    "\n",
    "plt.plot(times, y_results)\n",
    "plt.title(\"One-dimensional motion (Euler's method)\")\n",
    "plt.xlabel(\"t (s)\")\n",
    "plt.ylabel(\"y (m)\")\n",
    "plt.grid(True)\n",
    "plt.show()"
   ]
  },
  {
   "cell_type": "markdown",
   "metadata": {},
   "source": [
    "### Your turn: change the graph to a `v vs t` graph\n",
    "\n",
    "Modify the copy of our euler code below to make it so that 'v vs t' is being plotted instead of 'x vs t'. "
   ]
  },
  {
   "cell_type": "code",
   "execution_count": null,
   "metadata": {},
   "outputs": [],
   "source": [
    "# Modify me to change the graph to a 'v vs t' graph\n",
    "\n",
    "def euler(y, v, t, t_end, t_step):\n",
    "    \"\"\"Euler's method integrator\n",
    "    Args:\n",
    "    - y: initial height\n",
    "    - v: initial y-velocity\n",
    "    - t, t_end: start and end time\n",
    "    - t_step: step size\n",
    "    Returns: list of times and corresponding y values\n",
    "    \"\"\"\n",
    "    t_list = [t]\n",
    "    y_list = [y]    \n",
    "    v_list = [v]\n",
    "    a = -9.81  # gravitational acceleration\n",
    "    \n",
    "    while t < t_end:\n",
    "        y = y + t_step * v\n",
    "        v = v + t_step * a\n",
    "        t = t + t_step\n",
    "\n",
    "        y_list.append(y)\n",
    "        v_list.append(v)\n",
    "        t_list.append(t)\n",
    "        \n",
    "    return t_list, y_list\n",
    "\n",
    "## Main part of the program\n",
    "import numpy as np\n",
    "import matplotlib.pyplot as plt\n",
    "\n",
    "y0, v0 = 0, 10 # Initial position and velocity\n",
    "t0, tmax, dt = 0, 2, 0.01  # Start, end times and step size\n",
    "\n",
    "times, y_results = euler(y0, v0, t0, tmax, dt)\n",
    "\n",
    "plt.plot(times, y_results)\n",
    "plt.title(\"One-dimensional motion (Euler's method)\")\n",
    "plt.xlabel(\"t (s)\")\n",
    "plt.ylabel(\"y (m)\")\n",
    "plt.grid(True)\n",
    "plt.show()"
   ]
  },
  {
   "cell_type": "markdown",
   "metadata": {},
   "source": [
    "## *Submitting this reading assignment*\n",
    "Before submitting your work, restart + rerun your notebook to make sure that your self-assessmet questions run correctly and without error. We will only check that the Self-assessment questions at the start of the assignment have run correctly. After you've executed and checked your notebook, choose: File >> Save_and_Export_Notebook_As >> HTML. This will download an HTML version of your notebook to your computer which you can upload to Canvas"
   ]
  },
  {
   "cell_type": "code",
   "execution_count": null,
   "metadata": {},
   "outputs": [],
   "source": []
  }
 ],
 "metadata": {
  "kernelspec": {
   "display_name": "Python 3",
   "language": "python",
   "name": "python3"
  },
  "language_info": {
   "codemirror_mode": {
    "name": "ipython",
    "version": 3
   },
   "file_extension": ".py",
   "mimetype": "text/x-python",
   "name": "python",
   "nbconvert_exporter": "python",
   "pygments_lexer": "ipython3",
   "version": "3.7.6"
  }
 },
 "nbformat": 4,
 "nbformat_minor": 4
}
