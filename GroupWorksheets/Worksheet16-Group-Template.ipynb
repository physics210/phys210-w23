{
 "cells": [
  {
   "cell_type": "markdown",
   "metadata": {},
   "source": [
    "# Day 16 Group Worksheet\n",
    "Nov 1, 2023\n",
    "\n",
    "If you're working on CoCalc, it's good to rename your notebook with a fun group name and to include your names below so that you can easily find it later for reference."
   ]
  },
  {
   "cell_type": "markdown",
   "metadata": {},
   "source": [
    "* Fun group name:   \n",
    "* Group members:"
   ]
  },
  {
   "cell_type": "markdown",
   "metadata": {},
   "source": [
    "## Task 1. Gandalf's Wand\n",
    "Gandalf is worried that his wand has been misbehaving and comes to you for help. He says that when he casts his \"Sparkle\" spell, the wand should emit an energy beam with a time dependence of $e^{\\sin(2\\pi f t)}$, where the frequency, $f$, is expected to be 0.4 Hz. You make some measurements with a detector that has an offset, so you expect your measurements to follow the model,\n",
    "\n",
    "$$a e^{\\sin(2\\pi f t)}+b $$. \n",
    "\n",
    "The data are given below with x = time, y = power measurement.\n",
    "\n",
    "Use `scipy.optimize.curve_fit` to fit the data to the expected model to find if the frequency of Gandalf's wand is what he expects. Use $a$, $b$, and $f$ as adjustable parameters. Plot the data as points and the fitted expression as a solid line. \n",
    "\n",
    "**Important!** That this is the type of nonlinear function where reasonable initial guesses for the parameters will be ***critical*** in getting this fit to work. You may find that it is easiest to plot the predicted function using your initial guesses with the data to fine-tune your initial guesses before performing the actual fit. "
   ]
  },
  {
   "cell_type": "code",
   "execution_count": null,
   "metadata": {},
   "outputs": [],
   "source": [
    "# Data\n",
    "import numpy as np\n",
    "x = np.array([0. , 0.1, 0.2, 0.3, 0.4, 0.5, 0.6, 0.7, 0.8, 0.9, 1. , 1.1, 1.2,\n",
    "       1.3, 1.4, 1.5, 1.6, 1.7, 1.8, 1.9, 2. , 2.1, 2.2, 2.3, 2.4, 2.5,\n",
    "       2.6, 2.7, 2.8, 2.9, 3. , 3.1, 3.2, 3.3, 3.4, 3.5, 3.6, 3.7, 3.8,\n",
    "       3.9, 4. , 4.1, 4.2, 4.3, 4.4, 4.5, 4.6, 4.7, 4.8, 4.9, 5. , 5.1,\n",
    "       5.2, 5.3, 5.4, 5.5, 5.6])\n",
    "y = np.array([ 2.61994972,  1.52344119,  2.66695642,  2.63510806,  3.60031101,\n",
    "        2.57370534,  2.89069675,  0.79754501,  1.74746723,  1.31627036,\n",
    "        1.20939655,  0.74268696,  0.85516989, -0.06723689,  1.14169057,\n",
    "        0.86339867,  1.1910958 ,  1.62603995,  2.00552346,  2.55784377,\n",
    "        4.00631938,  3.2216312 ,  3.86061875,  2.71320536,  3.00682441,\n",
    "        2.11610599,  0.52543879,  1.21171504,  0.59027355,  0.96636379,\n",
    "        0.80961938,  0.79622451,  0.3739691 ,  1.13397128,  1.66157585,\n",
    "        2.66665366,  1.50829326,  3.25834323,  4.05615499,  3.71286446,\n",
    "        3.24564437,  1.63026018,  3.79772738,  1.31377024,  1.32611747,\n",
    "       -0.10359754,  0.78150486,  0.02489367,  0.41951861,  0.71277322,\n",
    "        0.96786975,  1.54895206,  1.2514267 ,  2.55330234,  3.59849077,\n",
    "        3.50118096,  3.62727696])\n"
   ]
  },
  {
   "cell_type": "code",
   "execution_count": null,
   "metadata": {},
   "outputs": [],
   "source": [
    "# Your code here\n"
   ]
  },
  {
   "cell_type": "code",
   "execution_count": null,
   "metadata": {},
   "outputs": [],
   "source": [
    "# You may wish to use additional cells\n"
   ]
  },
  {
   "cell_type": "code",
   "execution_count": null,
   "metadata": {},
   "outputs": [],
   "source": [
    "# There's a reasonable chance you may wish to use even further cells\n"
   ]
  },
  {
   "cell_type": "markdown",
   "metadata": {},
   "source": [
    "## Task 2: Simulate and fit radiation shielding data"
   ]
  },
  {
   "cell_type": "markdown",
   "metadata": {},
   "source": [
    "This task is based on a Physics 119 experiment, which many of you have completed, where you are seeking to measure the attentuation coefficient of some shielding with respect to a specific source of radiation. \n",
    "\n",
    "A simple, but effective first-order model for the behaviour of the shielding is that the radiation count rate observed in your detector can be modelled as\n",
    "\n",
    "$$R(x) = R_0 e^{-μx} + R_b,$$\n",
    "\n",
    "where \n",
    "\n",
    "* $R_0$ is the radiation count-rate observed by the detector when the radiation source is placed at a specific location/distance from the detector\n",
    "* $x$ is the thickness of the shielding in between the source and detector, where this shielding has an attenuation coefficient $\\mu$,\n",
    "* $R_b$ is the background / environmental radiation count-rate, which is unaffected by this shielding, and \n",
    "* $R(x)$ is the count-rate measured by the detector when a thickness $x$ of shielding is present, but also includes contributions due to background/environmental radiation. \n",
    "\n",
    "You are going to build a simulation of an experiment to measure the attenuation coefficent of the shielding, $\\mu$, with the following parameters and constraints.\n",
    "\n",
    "1. When generating the simulated data, you will use the following parameters \n",
    "  * $R_0 = 20\\mbox{ counts/s}$,\n",
    "  * $R_b = 0.18\\mbox{ counts/s}$, and\n",
    "  * $\\mu = 0.5\\mbox{ mm}^{-1}$.\n",
    "1. You will simulate data collection at various thicknesses of shielding, $x$ and then fit your data to the model to determine your \"experimental\" attenuation coefficient, $\\mu$ with uncertainty. Yes, you will be using the same model to generate the simulated data and then subsequently fit it, but the randomness used to generate your data will mean that the values from you fit will not match those used to generate the data exactly. \n",
    "1. Observations of radioactive decay rates can be modelled using a Poisson distribution based on the expected number of counts, $\\lambda$, for the time over which you are measuring ($R(x) \\times t$ for your data). For example, if you are modelling a one hour (3600 seconds) measurement of the background count-rate, the expected number of counts that you would measure would be $\\lambda = 0.18\\mbox{ counts/s} \\times 3600 \\mbox {s} = 648 \\mbox{ counts}$. The number of counts that you would actually measure (i.e. your simulated measurement) in one hour would follow a Poisson distribution with $\\lambda = 648$. For values of $\\lambda = 20$ or higher a Poisson distribution behaves approximately like a Gaussian distribution with a standard deviation equal to the square root of $\\lambda$. We want you to model these data using a Poisson distribution, but are discussing this Gaussian-like behaviour to help you understand why you need only the one parameter $\\lambda$ to model both the approximate mean and variation when using a Poisson distribution. \n",
    "1. Your cumulative data collection time across all of your different thicknesses, $x$, should be 30 minutes. This means that you will want to balance how many different thicknesses at which you want to measure with how long you want to measure at each of these thicknesses. To get the best possible estimate of $\\mu$, it is best that you have measurements at a few different thicknesses where you expect the count-rate to be dominated by background radiation, as opposed to radiation from the shielded source.\n",
    "\n",
    "Use `optimize.curve_fit` to fit the model to your simulated data and then generate a plot of your data (with uncertainties) and the fitted model. Additionally, extract $mu$ and its uncertainty from the fit parameters. If you are feeling ambitous, you should also generate a graph of residuals vs $x$."
   ]
  },
  {
   "cell_type": "code",
   "execution_count": null,
   "metadata": {},
   "outputs": [],
   "source": [
    "# Your code here\n",
    "\n"
   ]
  }
 ],
 "metadata": {
  "kernelspec": {
   "display_name": "Python 3",
   "language": "python",
   "name": "python3"
  },
  "language_info": {
   "codemirror_mode": {
    "name": "ipython",
    "version": 3
   },
   "file_extension": ".py",
   "mimetype": "text/x-python",
   "name": "python",
   "nbconvert_exporter": "python",
   "pygments_lexer": "ipython3",
   "version": "3.7.6"
  }
 },
 "nbformat": 4,
 "nbformat_minor": 4
}
