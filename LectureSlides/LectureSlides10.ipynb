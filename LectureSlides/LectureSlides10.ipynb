{
 "cells": [
  {
   "cell_type": "markdown",
   "metadata": {
    "slideshow": {
     "slide_type": "slide"
    }
   },
   "source": [
    "# PHYS 210 Lecture 10 - Oct 12, 2023\n",
    "Agenda:\n",
    "\n",
    "1. Announcements\n",
    "1. Reading recap (Q&A and polling questions)\n",
    "1. Groupwork"
   ]
  },
  {
   "cell_type": "markdown",
   "metadata": {
    "slideshow": {
     "slide_type": "slide"
    }
   },
   "source": [
    "## Pre-reading as part of the learning cycle\n",
    "Lots of productive quesitons being asked again. Q&A is on Canvas again.\n",
    "\n",
    "The pre-reading assignments are meant to give you some exposure to terminology and concepts, and the initial tools needed so that you can get some real practice in via the collaborative group worksheets and subsequent assignment. The pre-reading is just step 1 in a multi-step learning process. Having initial, but not complete understanding of the concepts by the end of step 1 is more than good enough."
   ]
  },
  {
   "cell_type": "markdown",
   "metadata": {
    "slideshow": {
     "slide_type": "slide"
    }
   },
   "source": [
    "## Reading recap, Q&A and polling questions"
   ]
  },
  {
   "cell_type": "markdown",
   "metadata": {
    "slideshow": {
     "slide_type": "slide"
    }
   },
   "source": [
    "**Arrays**\n",
    "\n",
    "Terminology:\n",
    "* rank, row, column, length, axis\n",
    "\n",
    "Array attributes:\n",
    "* ndim, shape, size, dtype, itemsize\n",
    "\n",
    "Methods:\n",
    "* So many!"
   ]
  },
  {
   "cell_type": "code",
   "execution_count": null,
   "metadata": {
    "slideshow": {
     "slide_type": "slide"
    }
   },
   "outputs": [],
   "source": [
    "# Array Creation:\n",
    "import numpy as np\n",
    "a = np.array([1, 2, 3])\n",
    "b = np.array([[1, 2, 3, 4], [5, 6, 7, 8], [9, 10, 11, 12]])\n",
    "c = np.zeros((5, 3))\n",
    "print(a)"
   ]
  },
  {
   "cell_type": "code",
   "execution_count": null,
   "metadata": {
    "slideshow": {
     "slide_type": "fragment"
    }
   },
   "outputs": [],
   "source": [
    "# Array slicing: a[1], b[0, 2], b[:, 2]\n",
    "b[0:2, 1:3] "
   ]
  },
  {
   "cell_type": "code",
   "execution_count": null,
   "metadata": {
    "slideshow": {
     "slide_type": "fragment"
    }
   },
   "outputs": [],
   "source": [
    "# Array methods: eg. a.sum(), a.mean(), a.std() \n",
    "a.sum()"
   ]
  },
  {
   "cell_type": "code",
   "execution_count": null,
   "metadata": {
    "slideshow": {
     "slide_type": "fragment"
    }
   },
   "outputs": [],
   "source": [
    "# Array math: +, -, /, *\n",
    "# - Different types of products: a*a, np.dot(a,a)\n",
    "np.dot(a,a)"
   ]
  },
  {
   "cell_type": "markdown",
   "metadata": {
    "slideshow": {
     "slide_type": "slide"
    }
   },
   "source": [
    "**Q:** I don't understand the why the answer to question 10.1 is 2<br>\n",
    "\n",
    "Self-assessment question 10.1: What will the following code print?"
   ]
  },
  {
   "cell_type": "code",
   "execution_count": null,
   "metadata": {},
   "outputs": [],
   "source": [
    "import numpy as np\n",
    "a = np.array([[1, 2, 3], [4, 5, 6], [7, 8, 9]])\n",
    "print(np.ndim(a))\n",
    "\n",
    "a"
   ]
  },
  {
   "cell_type": "markdown",
   "metadata": {
    "slideshow": {
     "slide_type": "slide"
    }
   },
   "source": [
    "We can rearrange the presentation to see that it is a 2D array with shape (3,3), meaning 3 rows and 3 columns\n",
    "```\n",
    "[[1, 2, 3], \n",
    " [4, 5, 6], \n",
    " [7, 8, 9]]\n",
    "```"
   ]
  },
  {
   "cell_type": "markdown",
   "metadata": {},
   "source": [
    "Let's go spend a bit of time reviewing dimensions and array indexing using a helpful visual resource: https://www.pythoninformer.com/python-libraries/numpy/index-and-slice/"
   ]
  },
  {
   "cell_type": "markdown",
   "metadata": {
    "slideshow": {
     "slide_type": "slide"
    }
   },
   "source": [
    "**Polling Q1:** What will the following code print?"
   ]
  },
  {
   "cell_type": "code",
   "execution_count": null,
   "metadata": {
    "slideshow": {
     "slide_type": "-"
    }
   },
   "outputs": [],
   "source": [
    "import numpy as np\n",
    "a = np.array( [ [ [1, 2], [4,3]],[ [8,1], [8,3] ],\n",
    "               [ [5,7],[0,8] ],[ [2,7],[6,5] ] ] )\n",
    "print(np.ndim(a))"
   ]
  },
  {
   "cell_type": "code",
   "execution_count": null,
   "metadata": {},
   "outputs": [],
   "source": [
    "a"
   ]
  },
  {
   "cell_type": "markdown",
   "metadata": {
    "slideshow": {
     "slide_type": "-"
    }
   },
   "source": [
    "A) 16<br>\n",
    "B)  8<br>\n",
    "C)  4<br>\n",
    "D)  3<br>\n",
    "E)  2 "
   ]
  },
  {
   "cell_type": "markdown",
   "metadata": {
    "slideshow": {
     "slide_type": "slide"
    }
   },
   "source": [
    "**Q:**  I dont understand no. 10.2<br>\n",
    "\n",
    "**A:** Self-assessment 10.2: What will the variable C contain after running the following code?"
   ]
  },
  {
   "cell_type": "code",
   "execution_count": null,
   "metadata": {},
   "outputs": [],
   "source": [
    "import numpy as np\n",
    "A = np.array([[9, 1], [4, 2]])\n",
    "C = np.zeros(np.size(A))\n"
   ]
  },
  {
   "cell_type": "markdown",
   "metadata": {
    "slideshow": {
     "slide_type": "slide"
    }
   },
   "source": [
    "**Q:** When is `np.zeros()` useful?\n",
    "\n",
    "**A:**  if you're filling in elements of an array one piece at a time (e.g., a row or column, or single element) at a time, its often useful to have the array created with the correct shape and type before you start. `np.zeros()` is perfect for that. \n",
    "\n",
    "Examples:\n",
    "\n",
    "+ `np.zeros(20, dtype=int)` makes an array of 20 integer zeros.\n",
    "+ To make a 2d or 3d array of zeros, you would use `np.zeros((2, 3))` or `np.zeros((2, 3, 3))`, respectively. Note the parentheses required around the `(2, 3)` and `(2, 3, 3)`"
   ]
  },
  {
   "cell_type": "markdown",
   "metadata": {
    "slideshow": {
     "slide_type": "slide"
    }
   },
   "source": [
    "**Q:** How do we use ndarray.dtype?\n",
    "\n",
    "(let's ask ChatGPT)"
   ]
  },
  {
   "cell_type": "code",
   "execution_count": null,
   "metadata": {},
   "outputs": [],
   "source": [
    "a = np.zeros(20, dtype=int)\n",
    "a.dtype"
   ]
  },
  {
   "cell_type": "markdown",
   "metadata": {
    "slideshow": {
     "slide_type": "slide"
    }
   },
   "source": [
    "Follow-up: Once we've set the data type, NumPy will try to force any new values to the correct data type"
   ]
  },
  {
   "cell_type": "code",
   "execution_count": null,
   "metadata": {},
   "outputs": [],
   "source": [
    "a = np.zeros(5, dtype=int)"
   ]
  },
  {
   "cell_type": "code",
   "execution_count": null,
   "metadata": {},
   "outputs": [],
   "source": [
    "a[0] = 3\n",
    "print(a)"
   ]
  },
  {
   "cell_type": "code",
   "execution_count": null,
   "metadata": {},
   "outputs": [],
   "source": [
    "a[1] = 1.8\n",
    "print(a)"
   ]
  },
  {
   "cell_type": "code",
   "execution_count": null,
   "metadata": {},
   "outputs": [],
   "source": [
    "a[2] = \"four\"\n",
    "print(a)"
   ]
  },
  {
   "cell_type": "markdown",
   "metadata": {
    "slideshow": {
     "slide_type": "slide"
    }
   },
   "source": [
    "**Polling Q2:** What is printed by this array operation?"
   ]
  },
  {
   "cell_type": "code",
   "execution_count": null,
   "metadata": {
    "slideshow": {
     "slide_type": "-"
    }
   },
   "outputs": [],
   "source": [
    "import numpy as np\n",
    "A = np.array([1,2,3])\n",
    "B = np.array([4,5,6])\n",
    "print(A*B)"
   ]
  },
  {
   "cell_type": "markdown",
   "metadata": {
    "slideshow": {
     "slide_type": "-"
    }
   },
   "source": [
    "A) 32<br>\n",
    "B) `[5 7 18]`<br>\n",
    "C) `[4 10 18]`<br>\n",
    "D) `[12 10 4]`<br>\n",
    "E) 15"
   ]
  },
  {
   "cell_type": "markdown",
   "metadata": {
    "slideshow": {
     "slide_type": "slide"
    }
   },
   "source": [
    "**Polling Q3:** What will be the output of the following?"
   ]
  },
  {
   "cell_type": "code",
   "execution_count": null,
   "metadata": {
    "slideshow": {
     "slide_type": "-"
    }
   },
   "outputs": [],
   "source": [
    "import numpy as np\n",
    "A = np.array([[1,2,3],[4,5,6],[7,8,9],[10,11,12]])\n",
    "print( A[:, 1] )"
   ]
  },
  {
   "cell_type": "markdown",
   "metadata": {
    "slideshow": {
     "slide_type": "-"
    }
   },
   "source": [
    "A) `[1, 4, 7, 10]` <br>\n",
    "B) `[1, 2, 3]` <br>\n",
    "C) `[2, 5, 8, 11]` <br>\n",
    "D) `[4, 5, 6]` <br>"
   ]
  },
  {
   "attachments": {
    "3d-array-stack.png": {
     "image/png": "[encoded data removed]"
    }
   },
   "cell_type": "markdown",
   "metadata": {
    "slideshow": {
     "slide_type": "subslide"
    }
   },
   "source": [
    "More on array indexing...\n",
    "\n",
    "For the following 3D array `a3`, you would index a cell as `a3[i, j, k]`.\n",
    "* The last index, $k$, selects the column,\n",
    "* The second-last index, $j$, selects the row,\n",
    "* The third-last (or first in this case) index, $i$, selects the plane/layer. \n",
    "\n",
    "![3d-array-stack.png](attachment:3d-array-stack.png)"
   ]
  },
  {
   "attachments": {
    "3d-array-mat-2.png": {
     "image/png": "[encoded data removed]"
    }
   },
   "cell_type": "markdown",
   "metadata": {
    "slideshow": {
     "slide_type": "slide"
    }
   },
   "source": [
    "We could choose the middle row from each layer using either...\n",
    "```\n",
    "a3[:,1]\n",
    "a3[:,1,:]\n",
    "```\n",
    "Where in either case\n",
    "![3d-array-mat-2.png](attachment:3d-array-mat-2.png)"
   ]
  },
  {
   "attachments": {
    "3d-array-stack-4.png": {
     "image/png": "[encoded data removed]"
    }
   },
   "cell_type": "markdown",
   "metadata": {
    "slideshow": {
     "slide_type": "slide"
    }
   },
   "source": [
    "**Polling Q4:** What is the correct notation to take a slice containing the four elements\n",
    "shown?\n",
    "![3d-array-stack-4.png](attachment:3d-array-stack-4.png)\n",
    "A) `a3[1, 2:4, 1: 3]`<br>\n",
    "B) `a3[0, 1:3, 0:2]`<br>\n",
    "C) `a3[0, 1:, :2]`<br>\n",
    "D)  `a3[0:2, 1:3, 0]`<br>\n",
    "E) More than one of the above"
   ]
  },
  {
   "cell_type": "markdown",
   "metadata": {
    "slideshow": {
     "slide_type": "slide"
    }
   },
   "source": [
    "# Group activity\n",
    "* Solo Worksheet 10 and Reading 11 will be posted by tomorrow at the latest"
   ]
  },
  {
   "cell_type": "code",
   "execution_count": null,
   "metadata": {},
   "outputs": [],
   "source": []
  }
 ],
 "metadata": {
  "celltoolbar": "Slideshow",
  "kernelspec": {
   "display_name": "Python 3",
   "language": "python",
   "name": "python3"
  },
  "language_info": {
   "codemirror_mode": {
    "name": "ipython",
    "version": 3
   },
   "file_extension": ".py",
   "mimetype": "text/x-python",
   "name": "python",
   "nbconvert_exporter": "python",
   "pygments_lexer": "ipython3",
   "version": "3.7.6"
  }
 },
 "nbformat": 4,
 "nbformat_minor": 4
}
