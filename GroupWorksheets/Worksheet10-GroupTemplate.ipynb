{
 "cells": [
  {
   "cell_type": "markdown",
   "metadata": {
    "id": "B8UKtrg1F9lm"
   },
   "source": [
    "* Fun group name:   \n",
    "* Group members:"
   ]
  },
  {
   "cell_type": "markdown",
   "metadata": {
    "id": "68gKoP9jF9lU"
   },
   "source": [
    "# Day 10 Group Worksheet\n",
    "Oct 12, 2023\n",
    "\n",
    "If you're working on CoCalc, it's good to rename your notebook with a fun group name and to include your names below so that you can easily find it later for reference."
   ]
  },
  {
   "cell_type": "markdown",
   "metadata": {
    "id": "9VNeBSgsbHWN"
   },
   "source": [
    "## Task 10.1: Broken phasor?\n",
    "\n",
    "One of the security officers has dropped her phasor and wants to know if it is still functioning correctly. Knowing that the relationship between input voltage (x) and output energy (y) should follow $y = sin(e^{x^2})$, you collect the data shown below. Write some code that will find and then print the size of the largest error (measured-y minus expected-y) so that you can consult the user manual to determine if the phasor is functioning correctly."
   ]
  },
  {
   "cell_type": "code",
   "execution_count": null,
   "metadata": {
    "id": "SHNY8F_hbHWO",
    "outputId": "7265f1db-0515-442c-a794-661c2b6c1611"
   },
   "outputs": [],
   "source": [
    "x = np.array([1,2,3,4,5,6,7,8,9,10,11,12,13,14,15])\n",
    "y = np.array([1.376, 1.941,2.062,-0.207,0.193, -0.936,-0.3810,2.691,2.266,1.113,1.534,0.594,1.391,2.415,0.522])\n",
    "\n",
    "# Your code here\n",
    "\n"
   ]
  },
  {
   "cell_type": "markdown",
   "metadata": {
    "id": "hRLHAnqJbHWV"
   },
   "source": [
    "## Task 10.2a)\n",
    "\n",
    "You are a crew member of the Starship Enterprise. Recently, the Borg (an enemy alien race) have destroyed part of the ship’s computers, so that they only accept code in \"Python\". Luckily, you are the ship expert on the ancient language of \"Python\". The captain wants to see what you can do, and asks you to write code which takes a 9-element array of numbers, such as `a = [1, 2, 3, 4, 5, 6, 7, 8, 9]`, and splits it into three arrays of length three, then stacks the three arrays to make a matrix of 3 rows.\n",
    "\n",
    "The resulting array should look like\n",
    "```\n",
    "[[1 2 3]\n",
    " [4 5 6]\n",
    " [7 8 9]]\n",
    "```\n",
    "Do this using at least TWO different methods. You may find the exhaustive list of array methods to be helpful: https://numpy.org/doc/stable/reference/routines.html"
   ]
  },
  {
   "cell_type": "code",
   "execution_count": null,
   "metadata": {
    "id": "RjjkZYf9bHWY",
    "outputId": "251ce95c-7da4-4f0a-9d3b-e7e6610bc7a5"
   },
   "outputs": [],
   "source": [
    "# First method here\n",
    "import numpy as np\n",
    "a = np.array([1, 2, 3, 4, 5, 6, 7, 8, 9])\n",
    "\n"
   ]
  },
  {
   "cell_type": "code",
   "execution_count": null,
   "metadata": {
    "id": "ESPaPeQ1bHWZ",
    "outputId": "12269e9b-0c74-4d0e-f0c9-b830879683d7"
   },
   "outputs": [],
   "source": [
    "# Second method here\n",
    "import numpy as np\n",
    "a = np.array([1, 2, 3, 4, 5, 6, 7, 8, 9])\n",
    "\n"
   ]
  },
  {
   "cell_type": "code",
   "execution_count": null,
   "metadata": {
    "id": "99nios3RbHWb"
   },
   "outputs": [],
   "source": [
    "# A third method if you dare (optional)\n",
    "import numpy as np\n",
    "a = np.array([1, 2, 3, 4, 5, 6, 7, 8, 9])\n",
    "\n"
   ]
  },
  {
   "cell_type": "markdown",
   "metadata": {
    "id": "kNK_9KtWbHWd"
   },
   "source": [
    "## Task 10.2b) Impress the Captain!\n",
    "\n",
    "Rewrite your code from 10.2a) to allow it to work for any size starting array. If the starting array cannot be split into three equal parts, add `0`s to the end until it has enough elements so that it is a multiple of three.\n",
    "\n",
    "Hints: `np.append` the \"%\" (moduluo) operator and/or `np.zeros` may be of use here."
   ]
  },
  {
   "cell_type": "code",
   "execution_count": null,
   "metadata": {
    "id": "Q9PT34pybHWe"
   },
   "outputs": [],
   "source": [
    "# Your code here\n",
    "\n",
    "\n"
   ]
  },
  {
   "cell_type": "markdown",
   "metadata": {
    "id": "2owce4e-bHWe"
   },
   "source": [
    "## Task 10.3 The Sphinx's riddle\n",
    "\n",
    "You've come to an impasse in the road. A sphinx is sitting in the middle of the road and it won't let you pass until you answer a riddle. Unfortunately, it is asking you a new riddle and you don't already know the answer. Fortunately, you have your laptop with you, so you can quickly program the question in python to get the answer. The riddle is: there are 100 doors, and they are all closed. You visit each door (in order) 100 times:\n",
    "\n",
    "1. On your first pass, you toggle (change the position from open ot closed or vice versa) every door.\n",
    "1. On the second pass, you toggle every 2nd door (leave the first alone, toggle the second, leave the third alone, toggle the fourth).\n",
    "1. On the third pass, you toggle every 3rd door (leave the first 2 alone, toggle the third etc).\n",
    "1. On the fourth pass, you toggle every 4th door, etc, until on the 100th pass you toggle only the 100th door.\n",
    "\n",
    "At the end of all this, which doors are open? Do you recognize any pattern in the doors that are left open?"
   ]
  },
  {
   "cell_type": "code",
   "execution_count": null,
   "metadata": {
    "id": "uC7rMjVzbHWf",
    "outputId": "19d02040-b34c-4fba-ad0d-90a1306a9c69"
   },
   "outputs": [],
   "source": [
    "# Your door riddle code here\n",
    "\n",
    "\n"
   ]
  }
 ],
 "metadata": {
  "colab": {
   "provenance": []
  },
  "kernelspec": {
   "display_name": "Python 3",
   "language": "python",
   "name": "python3"
  },
  "language_info": {
   "codemirror_mode": {
    "name": "ipython",
    "version": 3
   },
   "file_extension": ".py",
   "mimetype": "text/x-python",
   "name": "python",
   "nbconvert_exporter": "python",
   "pygments_lexer": "ipython3",
   "version": "3.7.6"
  }
 },
 "nbformat": 4,
 "nbformat_minor": 1
}
