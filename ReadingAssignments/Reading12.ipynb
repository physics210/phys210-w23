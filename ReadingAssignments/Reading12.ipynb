{
 "cells": [
  {
   "cell_type": "markdown",
   "metadata": {},
   "source": [
    "# Pre-class Reading: Day 12 (Oct 18, 2023)<br>Advanced array techniques\n",
    "Learning goals\n",
    "1. Use two different techniques to deal with long lines in Python\n",
    "1. Use the array `astype()` method to convert an array to a different data type\n",
    "1. Subset an array using filtering via providing a list of indices, conditionals or the `np.where()` function\n",
    "1. Recognize when a function parameter is implemented such that it could accept a variable or array\n",
    "1. Use `np.meshgrid` to create grids of coordinates"
   ]
  },
  {
   "cell_type": "markdown",
   "metadata": {},
   "source": [
    "## *Self-assessment questions*\n",
    "\n",
    "**If you can already answer these correctly, you can skip the rest of the reading assignment and submit it. Otherwise, complete the rest of the reading assignment and return to these questions to test what you learned. You might decide you would benefit from further review before class.**\n",
    "\n",
    "Note that these questions can often be answered easily by running the provided code, so the intellectual work on your part is figuring out the correct answer and then running the code to check your answer.\n",
    "\n",
    "Please ensure all of these self-assessment questions are answered correctly before submitting this pre-class reading assignment. The *Your Turn* questions, found throughout the rest of this assignment, are for your practice as you learn this material and do not need to be answered correctly to receive full completion marks for this pre-class reading assignment."
   ]
  },
  {
   "cell_type": "markdown",
   "metadata": {},
   "source": [
    "### Self-assessment question 12.1\n",
    "\n",
    "Which function will produce an error if called with an array as an argument?\n",
    "```\n",
    "def A(x):                    \n",
    "    y = x*x + 1                 \n",
    "\treturn y                  \n",
    "                             \n",
    "\n",
    "def B(x):                    def C(x):\n",
    "\tfor v in x:                  if (x != 0):\n",
    "\t\tif v != 0:                   y = np.sin(x)/x                   \n",
    "\t\t\tv = np.sin(v)/v      else:\n",
    "\t\telse:                        y = 1\n",
    "\t\t\tv = 1                return y\n",
    "\treturn x\n",
    "```"
   ]
  },
  {
   "cell_type": "code",
   "execution_count": null,
   "metadata": {},
   "outputs": [],
   "source": [
    "# Code testing area to help answer this question\n",
    "\n"
   ]
  },
  {
   "cell_type": "code",
   "execution_count": null,
   "metadata": {},
   "outputs": [],
   "source": [
    "# Enter your answer inside the string quotes and run this cell to check your anwer\n",
    "\n",
    "answer = \"\"\n",
    "\n",
    "import hashlib\n",
    "assert answer in ['A', 'B', 'C'], \"Your answer did not match any of the choices\"\n",
    "assert hashlib.sha256(answer.encode()).hexdigest() == \\\n",
    "    '6b23c0d5f35d1b11f9b683f0b0a617355deb11277d91ae091d399c655b87940d', \"Your answer is incorrect\"\n",
    "print(\"Your answer\", answer, \"is correct\") # Passed all assert statements above"
   ]
  },
  {
   "cell_type": "markdown",
   "metadata": {},
   "source": [
    "### Self-assessment question 12.2\n",
    "\n",
    "What are x_new and y_new below?\n",
    "```python\n",
    "import numpy as np\n",
    "\n",
    "x= np.array([1,2,3,4,5])\n",
    "y= np.array([1,2,1,2])\n",
    "\n",
    "x_new, y_new = np.meshgrid(x,y)\n",
    "```\n",
    "A) x_new: a 5-row by 4-column array with rows [1,2,1,2]<br>\n",
    "&nbsp;&nbsp;&nbsp;&nbsp;y_new: a 4-row by 5-column array with columns [1,2,3,4,5]<br><br>\n",
    "B) x_new: a 4-row by 5-column array with rows [1,2,3,4,5]<br>\n",
    "&nbsp;&nbsp;&nbsp;&nbsp;y_new: a 4-row by 5-column array with columns [1,2,1,2]<br><br>\n",
    "C) x_new: a 4-row by 5-column array with rows of [1,2,3,4,5]<br>\n",
    "&nbsp;&nbsp;&nbsp;&nbsp;y_new: a 5-row by 4-column array with columns [1,2,1,2]<br><br>\n",
    "D) x_new: a 4-row by 5-column array with columns [1,2,1,2]<br>\n",
    "&nbsp;&nbsp;&nbsp;&nbsp;y_new: a 4-row by 5-column array with rows [1,2,3,4,5]<br><br>\n",
    "E) You get an error, x and y must be the same length for mesh grid to work \n"
   ]
  },
  {
   "cell_type": "code",
   "execution_count": null,
   "metadata": {},
   "outputs": [],
   "source": [
    "# Code testing area to help answer this question\n",
    "\n"
   ]
  },
  {
   "cell_type": "code",
   "execution_count": null,
   "metadata": {},
   "outputs": [],
   "source": [
    "# Enter your answer inside the string quotes and run this cell to check your anwer\n",
    "\n",
    "answer = \"\"\n",
    "\n",
    "import hashlib\n",
    "assert answer in ['A', 'B', 'C', 'D', 'E'], \"Your answer did not match any of the choices\"\n",
    "assert hashlib.sha256(answer.encode()).hexdigest() == \\\n",
    "    'df7e70e5021544f4834bbee64a9e3789febc4be81470df629cad6ddb03320a5c', \"Your answer is incorrect\"\n",
    "print(\"Your answer\", answer, \"is correct\") # Passed all assert statements above"
   ]
  },
  {
   "cell_type": "markdown",
   "metadata": {},
   "source": [
    "### Self-assessment question 12.3\n",
    "\n",
    "What will be the output of the following code?\n",
    "```python\n",
    "arr = np.array([1, 2, 3, 4]) \n",
    "select = [0, -1]\n",
    "arr[select]\n",
    "```\n",
    "A) `array([1, 4])`<br>\n",
    "B) `array([0, -1])`<br>\n",
    "C) `array([1, 2, 3, 4])`<br>\n",
    "D) `[0, -1]`"
   ]
  },
  {
   "cell_type": "code",
   "execution_count": null,
   "metadata": {},
   "outputs": [],
   "source": [
    "# Code testing area to help answer this question\n",
    "\n"
   ]
  },
  {
   "cell_type": "code",
   "execution_count": null,
   "metadata": {},
   "outputs": [],
   "source": [
    "# Enter your answer inside the string quotes and run this cell to check your anwer\n",
    "\n",
    "answer = \"\"\n",
    "\n",
    "import hashlib\n",
    "assert answer in ['A', 'B', 'C', 'D'], \"Your answer did not match any of the choices\"\n",
    "assert hashlib.sha256(answer.encode()).hexdigest() == \\\n",
    "    '559aead08264d5795d3909718cdd05abd49572e84fe55590eef31a88a08fdffd', \"Your answer is incorrect\"\n",
    "print(\"Your answer\", answer, \"is correct\") # Passed all assert statements above"
   ]
  },
  {
   "cell_type": "markdown",
   "metadata": {},
   "source": [
    "### Self-assessment question 12.4\n",
    "\n",
    "What will be the output of the following code?\n",
    "```python\n",
    "arr = np.array([1, 2, 3, 4]) \n",
    "select2 = arr > 2\n",
    "select2\n",
    "```\n",
    "A) `[2, 3]`<br>\n",
    "B) `array([False, False,  True,  True])`<br>\n",
    "C) `array([3, 4])`<br>\n",
    "D) `array([0, 0, 3, 4])`"
   ]
  },
  {
   "cell_type": "code",
   "execution_count": null,
   "metadata": {},
   "outputs": [],
   "source": [
    "# Code testing area to help answer this question\n",
    "\n"
   ]
  },
  {
   "cell_type": "code",
   "execution_count": null,
   "metadata": {},
   "outputs": [],
   "source": [
    "# Enter your answer inside the string quotes and run this cell to check your anwer\n",
    "\n",
    "answer = \"\"\n",
    "\n",
    "import hashlib\n",
    "assert answer in ['A', 'B', 'C', 'D'], \"Your answer did not match any of the choices\"\n",
    "assert hashlib.sha256(answer.encode()).hexdigest() == \\\n",
    "    'df7e70e5021544f4834bbee64a9e3789febc4be81470df629cad6ddb03320a5c', \"Your answer is incorrect\"\n",
    "print(\"Your answer\", answer, \"is correct\") # Passed all assert statements above"
   ]
  },
  {
   "cell_type": "markdown",
   "metadata": {},
   "source": [
    "### Self-assessment question 12.6\n",
    "\n",
    "What will be the output of the following code?\n",
    "```python\n",
    "arr = np.array([1, 2, 3, 4]) \n",
    "print(np.where(arr < 3))\n",
    "```\n",
    "A) `[1 2]`<br>\n",
    "B) `[1 2 0 0]`<br>\n",
    "C) `(array([0, 1], dtype=int64),)`<br>\n",
    "D) `[0 1]`"
   ]
  },
  {
   "cell_type": "code",
   "execution_count": null,
   "metadata": {},
   "outputs": [],
   "source": [
    "# Code testing area to help answer this question\n",
    "\n"
   ]
  },
  {
   "cell_type": "code",
   "execution_count": null,
   "metadata": {},
   "outputs": [],
   "source": [
    "# Enter your answer inside the string quotes and run this cell to check your anwer\n",
    "\n",
    "answer = \"\"\n",
    "\n",
    "import hashlib\n",
    "assert answer in ['A', 'B', 'C', 'D'], \"Your answer did not match any of the choices\"\n",
    "assert hashlib.sha256(answer.encode()).hexdigest() == \\\n",
    "    '6b23c0d5f35d1b11f9b683f0b0a617355deb11277d91ae091d399c655b87940d', \"Your answer is incorrect\"\n",
    "print(\"Your answer\", answer, \"is correct\") # Passed all assert statements above"
   ]
  },
  {
   "cell_type": "markdown",
   "metadata": {},
   "source": [
    "### Self-assessment question 12.7\n",
    "\n",
    "What will be the output of the following code?\n",
    "```python\n",
    "arr = np.array([1, 2, 3, 4]) \n",
    "print(arr[np.where(arr < 3)])\n",
    "```\n",
    "A) `[1 2]`<br>\n",
    "B) `[1 2 0 0]`<br>\n",
    "C) `(array([0, 1], dtype=int64),)`<br>\n",
    "D) `[0 1]`"
   ]
  },
  {
   "cell_type": "code",
   "execution_count": null,
   "metadata": {},
   "outputs": [],
   "source": [
    "# Code testing area to help answer this question\n",
    "\n",
    "hashlib.sha256(answer.encode()).hexdigest()"
   ]
  },
  {
   "cell_type": "code",
   "execution_count": null,
   "metadata": {},
   "outputs": [],
   "source": [
    "# Enter your answer inside the string quotes and run this cell to check your anwer\n",
    "\n",
    "answer = \"\"\n",
    "\n",
    "import hashlib\n",
    "assert answer in ['A', 'B', 'C', 'D'], \"Your answer did not match any of the choices\"\n",
    "assert hashlib.sha256(answer.encode()).hexdigest() == \\\n",
    "    '559aead08264d5795d3909718cdd05abd49572e84fe55590eef31a88a08fdffd', \"Your answer is incorrect\"\n",
    "print(\"Your answer\", answer, \"is correct\") # Passed all assert statements above"
   ]
  },
  {
   "cell_type": "markdown",
   "metadata": {},
   "source": [
    "## *12.1 Long Lines*"
   ]
  },
  {
   "cell_type": "markdown",
   "metadata": {},
   "source": [
    "As you start to write more complicated code, you will find that you sometimes need lines that are longer than will fit on a standard (~80 character) line. There are a couple of ways of dealing with this. If it is obvious from brackets that a line is unfinished, the interpreter will assume that the next line is just part of the previous, e.g."
   ]
  },
  {
   "cell_type": "markdown",
   "metadata": {},
   "source": [
    "```python\n",
    "a=( 5*3\n",
    "        + 4)\n",
    "```"
   ]
  },
  {
   "cell_type": "markdown",
   "metadata": {},
   "source": [
    "Or, you can use a \\ at the end of a line to indicate that more is coming:"
   ]
  },
  {
   "cell_type": "markdown",
   "metadata": {},
   "source": [
    "```python\n",
    "a = 5*3 \\\n",
    "    + 4\n",
    "```"
   ]
  },
  {
   "cell_type": "markdown",
   "metadata": {},
   "source": [
    "The \\ must be the last character on its line.\n",
    "\n",
    "The first style is “preferred,” but the second can certainly be useful too."
   ]
  },
  {
   "cell_type": "markdown",
   "metadata": {},
   "source": [
    "## *12.2 Numpy array views*"
   ]
  },
  {
   "cell_type": "markdown",
   "metadata": {},
   "source": [
    "We have already seen basic array creation with `np.array()` (and `np.zeros()` etc.) and array slicing. If you have a `list`, you can create a `numpy array` from it:"
   ]
  },
  {
   "cell_type": "code",
   "execution_count": null,
   "metadata": {},
   "outputs": [],
   "source": [
    "# Run me!\n",
    "\n",
    "import numpy as np\n",
    "mylist = [ [1,2,3], [4,5,6], [7,8,9] ]\n",
    "a = np.array(mylist)\n",
    "type(a)"
   ]
  },
  {
   "cell_type": "markdown",
   "metadata": {},
   "source": [
    "Remember that numpy arrays have attributes (`shape`, `size`, `dtype`, etc…). Remember also slicing, e.g. using the array `a` defined above:"
   ]
  },
  {
   "cell_type": "code",
   "execution_count": null,
   "metadata": {},
   "outputs": [],
   "source": [
    "# Run me!\n",
    "\n",
    "a # The array 'a'"
   ]
  },
  {
   "cell_type": "code",
   "execution_count": null,
   "metadata": {},
   "outputs": [],
   "source": [
    "# Run me!\n",
    "\n",
    "a[:, 0] # Slicing to choose the first column"
   ]
  },
  {
   "cell_type": "code",
   "execution_count": null,
   "metadata": {},
   "outputs": [],
   "source": [
    "# Run me!\n",
    "\n",
    "a[0,:] # Or just a[0] (try it!)"
   ]
  },
  {
   "cell_type": "code",
   "execution_count": null,
   "metadata": {},
   "outputs": [],
   "source": [
    "#Run me!\n",
    "\n",
    "a[:, 0]=[9,9,9]\n",
    "\n",
    "a"
   ]
  },
  {
   "cell_type": "markdown",
   "metadata": {},
   "source": [
    "It is important to note that arrays keep their type even if the elements are changed. In the following code, we try to replace an int value with the float `3.2`, but the array clearly remains an array of ints:"
   ]
  },
  {
   "cell_type": "code",
   "execution_count": null,
   "metadata": {},
   "outputs": [],
   "source": [
    "# Run me!\n",
    "\n",
    "a = np.array([1, 2, 3, 4]) # array of ints\n",
    "\n",
    "a[0] = 3.2 # does not change the array to floats\n",
    "\n",
    "a"
   ]
  },
  {
   "cell_type": "markdown",
   "metadata": {},
   "source": [
    "Note that it is possible to convert an array type with the `astype()` method:"
   ]
  },
  {
   "cell_type": "code",
   "execution_count": null,
   "metadata": {},
   "outputs": [],
   "source": [
    "# Run me!\n",
    "\n",
    "c = a.astype(np.float32)\n",
    "\n",
    "print(c, type(c[0]))"
   ]
  },
  {
   "cell_type": "markdown",
   "metadata": {},
   "source": [
    "## *12.3 Array Filtering and Sorting*"
   ]
  },
  {
   "cell_type": "markdown",
   "metadata": {},
   "source": [
    "Array filtering is the action of accessing a subset of an existing array. You can access this subset directly (i.e. knowing the indices pointing to specific locations in an array) or using some conditional statement."
   ]
  },
  {
   "cell_type": "markdown",
   "metadata": {},
   "source": [
    "An example of direct access is when you use lists (or arrays) of indices to access array elements:"
   ]
  },
  {
   "cell_type": "code",
   "execution_count": null,
   "metadata": {},
   "outputs": [],
   "source": [
    "# Run me and the other cells below!\n",
    "\n",
    "select = [5, 25, 50, 75, -5]\n",
    "type(select)"
   ]
  },
  {
   "cell_type": "code",
   "execution_count": null,
   "metadata": {},
   "outputs": [],
   "source": [
    "# Run me!\n",
    "\n",
    "# Array of values 100-199\n",
    "arr = np.arange(100) \n",
    "\n",
    "# let's look at this array\n",
    "print(arr)\n",
    "\n",
    "# Let's use the list 'select' to grab only the elements correponding to\n",
    "# indices 5, 25, 50, 75 and -5\n",
    "print(arr[select])"
   ]
  },
  {
   "cell_type": "code",
   "execution_count": null,
   "metadata": {},
   "outputs": [],
   "source": [
    "# Run me!\n",
    "\n",
    "arr_filtered = arr[np.array(select)]\n",
    "print(arr_filtered)"
   ]
  },
  {
   "cell_type": "markdown",
   "metadata": {},
   "source": [
    "It is possible to “filter” an array by applying a condition on the array elements. Imagine you want to select all positive elements from a numpy array of 10 random numbers drawn from a normal distribution:"
   ]
  },
  {
   "cell_type": "code",
   "execution_count": null,
   "metadata": {},
   "outputs": [],
   "source": [
    "# Run me and the cells below\n",
    "\n",
    "import numpy as np\n",
    "\n",
    "a2 = np.random.randn(6)\n",
    "print(a2)\n",
    "\n",
    "select2 = a2 > 0 # Boolean array showing which elements of a meet this condition\n",
    "print(select2)"
   ]
  },
  {
   "cell_type": "code",
   "execution_count": null,
   "metadata": {},
   "outputs": [],
   "source": [
    "# Run me!\n",
    "\n",
    "# You can use the boolean array select2 to select only the True elements of a2\n",
    "print(a2[select2])"
   ]
  },
  {
   "cell_type": "markdown",
   "metadata": {},
   "source": [
    "Note that this can all be done in one compact, fairly easy to understand line of code"
   ]
  },
  {
   "cell_type": "code",
   "execution_count": null,
   "metadata": {},
   "outputs": [],
   "source": [
    "print( a2[a2>0] )"
   ]
  },
  {
   "cell_type": "markdown",
   "metadata": {},
   "source": [
    "And as discussed before, we could assign this array subset to a new array and it would be a deep copy."
   ]
  },
  {
   "cell_type": "code",
   "execution_count": null,
   "metadata": {},
   "outputs": [],
   "source": [
    "a3 = a2[a2>0]"
   ]
  },
  {
   "cell_type": "markdown",
   "metadata": {},
   "source": [
    "Note that you can combine several filters in one, for instance the following command creates a filter that selects array elements that are between 0 and one:"
   ]
  },
  {
   "cell_type": "code",
   "execution_count": null,
   "metadata": {},
   "outputs": [],
   "source": [
    "# Run me for an example of using multiple conditionals at once for filtering\n",
    "\n",
    "print( a2[ (a2>0) & (a2<1) ] )"
   ]
  },
  {
   "cell_type": "markdown",
   "metadata": {},
   "source": [
    "## *12.4 Array Filtering using `np.where`*"
   ]
  },
  {
   "cell_type": "markdown",
   "metadata": {},
   "source": [
    "You can also extract the indices where a condition is true using the numpy `where()` method:"
   ]
  },
  {
   "cell_type": "code",
   "execution_count": null,
   "metadata": {},
   "outputs": [],
   "source": [
    "# Run me!\n",
    "\n",
    "where_result = np.where(a2 > 0)\n",
    "\n",
    "print(where_result)\n",
    "print(type(where_result))"
   ]
  },
  {
   "cell_type": "markdown",
   "metadata": {},
   "source": [
    "Notice that `np.where()` returns a tuple, with the first element being an array and no actual second element, which is why there is a trailing `,`."
   ]
  },
  {
   "cell_type": "code",
   "execution_count": null,
   "metadata": {},
   "outputs": [],
   "source": [
    "# Run me!\n",
    "\n",
    "# If you want the array within this tuple created by np.where...\n",
    "idx = where_result[0]\n",
    "print(\"The indices are\", idx)\n",
    "\n",
    "# And then these indices can be used to filter the values \n",
    "# from a2 that met the where condition\n",
    "print(\"The values correponding to these indices are\", a2[idx])"
   ]
  },
  {
   "cell_type": "code",
   "execution_count": null,
   "metadata": {},
   "outputs": [],
   "source": [
    "# Run me!\n",
    "\n",
    "# The same thing could have also been accomplished moee concisely as\n",
    "np.where(a2 > 0)[0]"
   ]
  },
  {
   "cell_type": "markdown",
   "metadata": {},
   "source": [
    "Again, the last statement allows you to access the indices of the array where the condition from where was true and creates a subarray with the selected values. "
   ]
  },
  {
   "cell_type": "markdown",
   "metadata": {},
   "source": [
    "### Your turn\n",
    "\n",
    "Spend a few minutes practicing the various filtering approaches introduced in the last two sections. Play around with and compare the output of the following...\n",
    "```python\n",
    "a2>0, np.where(a2>0), a2[a2>0], and a2[np.where(a2>0)]\n",
    "```"
   ]
  },
  {
   "cell_type": "code",
   "execution_count": null,
   "metadata": {},
   "outputs": [],
   "source": [
    "# Code testing area\n",
    "\n"
   ]
  },
  {
   "cell_type": "markdown",
   "metadata": {},
   "source": [
    "**IMPORTANT RE-REMINDER:** Accessing subarrays using the filtering methods described above ALWAYS returns _new_ (deep) copies of the original array, not shallow copies."
   ]
  },
  {
   "cell_type": "markdown",
   "metadata": {},
   "source": [
    "## *12.5 Array sorting*"
   ]
  },
  {
   "cell_type": "markdown",
   "metadata": {},
   "source": [
    "Along with filtering, another useful array manipulation tool is sorting. The method `sort()` sorts the elements of a numpy array. Sorting can be very time consuming with big arrays, the numpy sorting routine allows you to select different sorting methods as function of the result you want to achieve:\n",
    "\n",
    "* http://docs.scipy.org/doc/numpy/reference/generated/numpy.sort.html\n",
    "\n",
    "Note that sorting multidimensional arrays is possible and the sort() method can be called with different options depending on how you want to sort the different axis of the array."
   ]
  },
  {
   "cell_type": "markdown",
   "metadata": {},
   "source": [
    "## *12.6 Numpy arrays and functions*"
   ]
  },
  {
   "cell_type": "markdown",
   "metadata": {},
   "source": [
    "Another numpy feature important to know is how functions behave when called with numpy arrays. If you call a numpy function with a numpy array, it returns a numpy array. This is also the case for user-defined functions ONLY if the function is written to accept arrays. For instance the function `squarecos()`:"
   ]
  },
  {
   "cell_type": "code",
   "execution_count": null,
   "metadata": {},
   "outputs": [],
   "source": [
    "# Run me!\n",
    "def squarecos(b):\n",
    "    return b*b + np.cos(b)\n",
    "\n",
    "squarecos( np.array([-1,0,1]) )"
   ]
  },
  {
   "cell_type": "markdown",
   "metadata": {},
   "source": [
    "will return a numpy array if called with a numpy array. If we had used  `math.cos(a)` instead of `np.cos(a)` an error would have been produced with an array as an argument."
   ]
  },
  {
   "cell_type": "markdown",
   "metadata": {},
   "source": [
    "Sometimes the difference between numpy-compliant and numpy non-compliant functions can be unclear. For instance the function `my_sign` below uses numpy-compliant operations (), but you still get an error if you run it with an array:"
   ]
  },
  {
   "cell_type": "code",
   "execution_count": null,
   "metadata": {},
   "outputs": [],
   "source": [
    "# Run me!\n",
    "\n",
    "def doubler(a):\n",
    "    return 2*a\n",
    "\n",
    "def my_sign(a):\n",
    "      if a > 0:\n",
    "          return 1\n",
    "      if a < 0:\n",
    "          return -1\n",
    "      if a == 0:\n",
    "          return 0"
   ]
  },
  {
   "cell_type": "code",
   "execution_count": null,
   "metadata": {},
   "outputs": [],
   "source": [
    "# Run me to test doubler on a single number\n",
    "\n",
    "doubler(-3)"
   ]
  },
  {
   "cell_type": "code",
   "execution_count": null,
   "metadata": {},
   "outputs": [],
   "source": [
    "# Run me to test my_sign on a single number\n",
    "\n",
    "my_sign(-3)"
   ]
  },
  {
   "cell_type": "code",
   "execution_count": null,
   "metadata": {},
   "outputs": [],
   "source": [
    "# Run me to test doubler on an array\n",
    "\n",
    "doubler( np.array([-1,0,1]) )"
   ]
  },
  {
   "cell_type": "code",
   "execution_count": null,
   "metadata": {},
   "outputs": [],
   "source": [
    "# Run me to test my_sign on an array\n",
    "\n",
    "my_sign( np.array([-1,0,1]) )"
   ]
  },
  {
   "cell_type": "markdown",
   "metadata": {},
   "source": [
    "The reason here is because (a > 0) is an array of True and False values. It is not clear how the 'if' should be decided, so the python interpreter will throw an error."
   ]
  },
  {
   "cell_type": "markdown",
   "metadata": {},
   "source": [
    "## *12.7 Numpy meshgrid and 2D plots*"
   ]
  },
  {
   "cell_type": "markdown",
   "metadata": {},
   "source": [
    "An extremely useful feature of numpy is the method `meshgrid()`. This function allows you to expand a 1D vector into 2 or more dimensions, which is very useful when you want to represent functions on a grid. It is formally explained at:\n",
    "\n",
    "http://docs.scipy.org/doc/numpy/reference/generated/numpy.meshgrid.html\n",
    "\n",
    "Consider the following example: imagine you want to plot an image of the function `f(x,y)=exp(-(x^2+y^2))` in the region `x=[-3,3]` and `y=[0,2]`. It would be very convenient to be able to do this with one call to the function `exp()` and one line of code, i.e. you don’t want to do this with a for loop over all possible values of x and y. `meshgrid() `allows you to create 2-dimensional templates that cover the region you want.\n",
    "\n",
    "First create 1-dimensional vectors `x1d` and `y1d` which cover the desired range:\n"
   ]
  },
  {
   "cell_type": "code",
   "execution_count": null,
   "metadata": {},
   "outputs": [],
   "source": [
    "# Run me!\n",
    "\n",
    "import numpy as np\n",
    "\n",
    "x1d = np.array([-3, -2, -1, 0, 1, 2, 3]) # or x1d=np.arange(-3,4)\n",
    "\n",
    "y1d = np.array([0, 1, 2])"
   ]
  },
  {
   "cell_type": "markdown",
   "metadata": {},
   "source": [
    "Now use `meshgrid()` to create the 2-dimensional templates x2d and y2d:"
   ]
  },
  {
   "cell_type": "code",
   "execution_count": null,
   "metadata": {},
   "outputs": [],
   "source": [
    "# Run me!\n",
    "\n",
    "x2d, y2d = np.meshgrid(x1d,y1d)\n",
    "\n",
    "print(x2d)\n",
    "\n",
    "print(y2d)"
   ]
  },
  {
   "cell_type": "markdown",
   "metadata": {},
   "source": [
    "Now you can create the array `r2d` which contains the 2-dimensional array of the squared distance from the origin (0,0) for the desired region:"
   ]
  },
  {
   "cell_type": "code",
   "execution_count": null,
   "metadata": {},
   "outputs": [],
   "source": [
    "# Run me!\n",
    "\n",
    "r2d = x2d**2 + y2d**2\n",
    "\n",
    "r2d"
   ]
  },
  {
   "cell_type": "markdown",
   "metadata": {},
   "source": [
    "Now, the following command calculates `f(x,y)= exp(-(x^2+y^2))` in one line, no loops, computing time is optimized (this is especially true for big arrays!):"
   ]
  },
  {
   "cell_type": "code",
   "execution_count": null,
   "metadata": {},
   "outputs": [],
   "source": [
    "# Run me!\n",
    "\n",
    "z = np.exp(-r2d)"
   ]
  },
  {
   "cell_type": "markdown",
   "metadata": {},
   "source": [
    "The sampling in the above example is too crude to make nice images. Now redo the same thing with a much finer sampling using this script:"
   ]
  },
  {
   "cell_type": "code",
   "execution_count": null,
   "metadata": {},
   "outputs": [],
   "source": [
    "# Run me!\n",
    "\n",
    "import numpy as np\n",
    "import matplotlib.pyplot as plt\n",
    "\n",
    "x1d = np.arange(-3, 3, 0.01)\n",
    "y1d = np.arange(-1, 3, 0.01)\n",
    "x2d, y2d = np.meshgrid(x1d, y1d)\n",
    "r2d = x2d**2 + y2d**2\n",
    "z = np.exp(-r2d)\n",
    "plt.imshow(z,extent=(-3, 3, 3, -1), cmap = 'jet')\n",
    "plt.show()"
   ]
  },
  {
   "cell_type": "markdown",
   "metadata": {},
   "source": [
    "You can also get a contour plot using the `contourf()` method of pyplot (I leave it to you to explore the arguments of `contourf()`):"
   ]
  },
  {
   "cell_type": "code",
   "execution_count": null,
   "metadata": {},
   "outputs": [],
   "source": [
    "# Run me!\n",
    "\n",
    "plt.axes().set_aspect('equal')\n",
    "plt.contourf(x2d, y2d, z, cmap = 'jet')\n",
    "plt.show()"
   ]
  },
  {
   "cell_type": "markdown",
   "metadata": {},
   "source": [
    "You might think that this image is ‘upside down’ compared to the one above. In fact this one is correct with numerical values increasing from bottom to top. In the earlier plot, the data is rendered as an image rather than a plot. In an image, the pixel coordinates are counted from top to bottom."
   ]
  },
  {
   "cell_type": "markdown",
   "metadata": {},
   "source": [
    "Or, to plot the surface:"
   ]
  },
  {
   "cell_type": "code",
   "execution_count": null,
   "metadata": {},
   "outputs": [],
   "source": [
    "# Run me!\n",
    "\n",
    "import numpy as np\n",
    "import matplotlib.pyplot as plt\n",
    "from mpl_toolkits.mplot3d import axes3d\n",
    "\n",
    "x1d = np.arange(-3, 3, 0.1)\n",
    "y1d = np.arange(-1, 3, 0.1)\n",
    "x2d,y2d = np.meshgrid(x1d, y1d)\n",
    "r2d = x2d**2 + y2d**2\n",
    "z = np.exp(-r2d)\n",
    "\n",
    "fig = plt.figure()\n",
    "ax = fig.add_subplot(projection='3d')\n",
    "ax.plot_surface(x2d, y2d, z, color = 'w', edgecolor = 'b')\n",
    "plt.show()"
   ]
  },
  {
   "cell_type": "markdown",
   "metadata": {},
   "source": [
    "## *Submitting this reading assignment*\n",
    "Before submitting your work, restart + rerun your notebook to make sure that your self-assessmet questions run correctly and without error. We will only check that the Self-assessment questions at the start of the assignment have run correctly. After you've executed and checked your notebook, choose: File >> Save_and_Export_Notebook_As >> HTML. This will download an HTML version of your notebook to your computer which you can upload to Canvas"
   ]
  },
  {
   "cell_type": "code",
   "execution_count": null,
   "metadata": {},
   "outputs": [],
   "source": []
  },
  {
   "cell_type": "code",
   "execution_count": null,
   "metadata": {},
   "outputs": [],
   "source": []
  }
 ],
 "metadata": {
  "kernelspec": {
   "display_name": "Python 3",
   "language": "python",
   "name": "python3"
  },
  "language_info": {
   "codemirror_mode": {
    "name": "ipython",
    "version": 3
   },
   "file_extension": ".py",
   "mimetype": "text/x-python",
   "name": "python",
   "nbconvert_exporter": "python",
   "pygments_lexer": "ipython3",
   "version": "3.7.6"
  }
 },
 "nbformat": 4,
 "nbformat_minor": 4
}
