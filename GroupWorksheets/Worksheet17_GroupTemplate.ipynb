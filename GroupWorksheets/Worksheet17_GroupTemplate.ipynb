{
 "cells": [
  {
   "cell_type": "markdown",
   "metadata": {
    "id": "3fI4aBDdQ9F5"
   },
   "source": [
    "# Day 17 Group Worksheet\n",
    "Nov 6, 2023\n",
    "\n",
    "If you're working on CoCalc, it's good to rename your notebook with a fun group name and to include your names below so that you can easily find it later for reference."
   ]
  },
  {
   "cell_type": "markdown",
   "metadata": {
    "id": "NXW5xP0dQ9F9"
   },
   "source": [
    "* Fun group name:   \n",
    "* Group members:"
   ]
  },
  {
   "cell_type": "markdown",
   "metadata": {
    "id": "uCt6GklMQ9F9"
   },
   "source": [
    "## Task 1: Diffusion-limited aggregation\n",
    "\n",
    "*The main part of this task and the image are taken from \"Computational Physics\" (Revised edition) by Mark Newman.*"
   ]
  },
  {
   "cell_type": "markdown",
   "metadata": {
    "id": "O7zuVeFNQ9F-"
   },
   "source": [
    "You are going to reproduce one of the most famous models in computational physics, *diffusion-limited aggregation* (DLA). Our particular version will work as follows.\n",
    "\n",
    "1. Start with a square 21 x 21 grid.\n",
    "1. A particle starts in the middle of the grid and undergoes a two-dimensional random walk like what we encountered in the reading assignment. It continues to random walk from square to square on the grid until it touches the edge of the grid, at which point it sticks to the edge, becoming permanently anchored there.\n",
    "1. A second particle starts at the center and does the same thing, but this time it stops and becomes permanently anchored if it touches the edge of the grid or the other particle.\n",
    "1. Each subsequent particle will do the same thing, stopping when it touches the edge or a previously anchored particle.\n",
    "1. Choose 100 as your maximum number of particles, but your program should also stop once a particle becomes permanently anchored to the middle location of the grid, preventing any further particles from entering the system.\n",
    "\n",
    "![first_walk.png](attachment:first_walk.png)\n",
    "\n",
    "Once your simulation is working as desired, expand your grid to 101 x 101 with a maximum of 1000 particles. When expanding to the larger grid, it may work best to copy your code into your Open Jupyter account because 14 groups working on CoCalc at the same time will likely be very slow."
   ]
  },
  {
   "cell_type": "code",
   "execution_count": null,
   "metadata": {
    "id": "9mjEilU_Q9F-"
   },
   "outputs": [],
   "source": [
    "# Your code here\n",
    "\n"
   ]
  },
  {
   "cell_type": "markdown",
   "metadata": {
    "id": "0Nqt35iOQ9GA"
   },
   "source": [
    "## Task 2: Propose and accept"
   ]
  },
  {
   "cell_type": "markdown",
   "metadata": {
    "id": "O33YfuifQ9GB"
   },
   "source": [
    "We introduce an energy term such that the particle finds itself in its lowest energy state along the diagnonal of the grid ($x=y$) and this energy increases linearly with distance from the diagonal,\n",
    "\n",
    "$$E = \\frac{|x-y|}{\\sqrt{2N}},$$\n",
    "\n",
    "where $N$ is the size of your grid (e.g. 21 or 101 or whatever yours currently is).\n",
    "\n",
    "With this model of energy, a move away from the diagnonal will result in\n",
    "\n",
    "$$dE(\\mbox{further}) = +\\frac{1}{\\sqrt{2N}},$$\n",
    "\n",
    "and a move toward the diagonal will result in\n",
    "\n",
    "$$dE(\\mbox{closer}) = -\\frac{1}{\\sqrt{2N}}.$$\n",
    "\n",
    "Introduce a Metropolis probability to determine if the move will be accepted,\n",
    "\n",
    "$$ p = e^{-\\beta\\,dE},$$\n",
    "\n",
    "with an initial value of $\\beta=1.5$. As with Task 1, it is best to start with a smaller grid (e.g., 21 x 21) and then build up to the larger grid."
   ]
  },
  {
   "cell_type": "code",
   "execution_count": null,
   "metadata": {
    "id": "Fk9LDe6GQ9GB"
   },
   "outputs": [],
   "source": [
    "# Your code here\n",
    "\n"
   ]
  },
  {
   "cell_type": "code",
   "execution_count": null,
   "metadata": {
    "id": "UjZagA01Q9GC"
   },
   "outputs": [],
   "source": []
  }
 ],
 "metadata": {
  "colab": {
   "provenance": []
  },
  "kernelspec": {
   "display_name": "Python 3",
   "language": "python",
   "name": "python3"
  },
  "language_info": {
   "codemirror_mode": {
    "name": "ipython",
    "version": 3
   },
   "file_extension": ".py",
   "mimetype": "text/x-python",
   "name": "python",
   "nbconvert_exporter": "python",
   "pygments_lexer": "ipython3",
   "version": "3.7.6"
  }
 },
 "nbformat": 4,
 "nbformat_minor": 1
}
