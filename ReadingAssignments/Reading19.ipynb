{
 "cells": [
  {
   "cell_type": "markdown",
   "metadata": {},
   "source": [
    "# Pre-class Reading: Day 19 (Nov 20, 2023)<br>Animations\n",
    "Learning goals\n",
    "1. Create animations using `matplotlib.animation.ArtistAnimation` and `matplotlib.animation.FuncAnimation`\n",
    "1. Embed these animations into a notebook so they are viewable after the cell has been executed or save these animations to an HTML file\n"
   ]
  },
  {
   "cell_type": "markdown",
   "metadata": {},
   "source": [
    "## *19.1 Overview of Animations in Jupyter*"
   ]
  },
  {
   "cell_type": "markdown",
   "metadata": {},
   "source": [
    "It is often helpful to be able to view the time evolution of phenomena as an animation. Matplotlib has facilities for doing this. The page https://matplotlib.org/stable/api/animation_api.html has some examples.\n",
    "\n",
    "We will look at two types of animations\n",
    "\n",
    "1. Animating a list consisting of a bunch of images in sequence using `ArtistAnimation()`, and\n",
    "1. Animating an object updated through a user function, using `FuncAnimation()`. \n",
    "\n",
    "Both are methods of the `matplotlib.animation package`, and are documented at the same link above. "
   ]
  },
  {
   "cell_type": "markdown",
   "metadata": {},
   "source": [
    "## *19.2 `matplotlib.animation.ArtistAnimation`*"
   ]
  },
  {
   "cell_type": "markdown",
   "metadata": {},
   "source": [
    "The following script generates a sequence of 60 images of a sin wave progressing through one full cycle. It does this by saving a list of 60 images (plots in our example) and bundling them into an `ArtistAnimation` object. Within Jupyter, the easiest way to interact with this object is to convert it to a javascript html object using the `.to_jshtml()` method, which we can then embed directly in the notebook for viewing or save as an html file to watch outside of the notebook. Do not try to do more than one animation in any one notebook cell. Also note that embedding animations directly into the notebook will quickly make your notebooks have larger filesizes than you are used to.\n",
    "\n",
    "The code below is heavily commented to help make sense of a lot of a lot of the coding choices that are particular to generating animations this way. \n",
    "\n",
    "Note that the cell below will take 5-10 seconds to run. The step of creating the animation object using `ArtistAnimation` is VERY slow and it is not the for loop making things slow."
   ]
  },
  {
   "cell_type": "code",
   "execution_count": null,
   "metadata": {},
   "outputs": [],
   "source": [
    "import numpy as np\n",
    "import matplotlib.pyplot as plt\n",
    "\n",
    "# Our main function for generating the animations\n",
    "import matplotlib.animation as animation\n",
    "\n",
    "# This will allow us to display our HTML video as output from a code cell\n",
    "from IPython.display import HTML\n",
    "\n",
    "\n",
    "### Our code for generating the list of plots to animate ###\n",
    "\n",
    "# We will use a total of n_frames in our animation\n",
    "n_frames = 60\n",
    "\n",
    "# x-value from 0 to 2pi to plot one full wavelength of sin\n",
    "x = np.linspace(0, 2 * np.pi, 100)\n",
    "\n",
    "# Initialize the plotting canvas so that we can update our plot\n",
    "# each frame instead of making an entirely new canvas each frame\n",
    "fig, ax = plt.subplots()\n",
    "\n",
    "# Initialize the \"frames\" list, where we will place each of our images/plots\n",
    "frames = []\n",
    "\n",
    "# Our main loop to create n_frames frames\n",
    "for i_frame in range(n_frames):\n",
    "    \n",
    "    # Cycle the offset from 0 to 2pi during n_frames\n",
    "    x_offset = i_frame/n_frames * 2*np.pi\n",
    "    \n",
    "    # Generate sin data using the offset\n",
    "    y = np.sin(x + x_offset)\n",
    "    \n",
    "    # Plot the current data as \"line\"\n",
    "    # - We discuss the \"line,\" notation below\n",
    "    line, = ax.plot(x, y, color='blue')\n",
    "    \n",
    "    # Add the current line plot to the frames list to animate later\n",
    "    # - Note that ArtistAnimation expects a list of lists, which is why we use\n",
    "    #   \"frames.append([line])\" and not \"frames.append(line)\"\n",
    "    frames.append([line])  \n",
    "\n",
    "# Create the animation using ArtistAnimation\n",
    "# - blit = True forces the animation to only save information that changes from one\n",
    "#   frame to the next instead of saving all of the static information (e.g., axes)\n",
    "#   during each frame\n",
    "ani = animation.ArtistAnimation(fig, frames, blit=True)\n",
    "\n",
    "# Close the current plot to prevent an unwanted additional plot from being made when\n",
    "# the cell has completed execution\n",
    "# - This must come before \"ani.to_jshtml\" and \"HTML(ani_html)\" or else the animations\n",
    "#   won't get displayed\n",
    "plt.close() \n",
    "\n",
    "# Convert to our HTML javascript object\n",
    "# - fps stands for frames per second and controls how fast the animation runs\n",
    "# - default_mode can be set to once, loop or reflect\n",
    "ani_html = ani.to_jshtml(fps=30, default_mode='loop') \n",
    "\n",
    "# Display the animation\n",
    "HTML(ani_html)"
   ]
  },
  {
   "cell_type": "markdown",
   "metadata": {},
   "source": [
    "### 19.2.1 Saving the animation to file"
   ]
  },
  {
   "cell_type": "markdown",
   "metadata": {},
   "source": [
    "Our `ani_html` animation object is still stored in memory from the code above, so if we wanted to save it to file, we could easily do so. This will save a file to the same directory as this notebook that you should be able to open and view."
   ]
  },
  {
   "cell_type": "code",
   "execution_count": null,
   "metadata": {},
   "outputs": [],
   "source": [
    "with open(\"sin_animation.html\", \"w\") as file:\n",
    "    file.write(ani_html)"
   ]
  },
  {
   "cell_type": "markdown",
   "metadata": {},
   "source": [
    "### 19.2.2 Your turn #1"
   ]
  },
  {
   "cell_type": "markdown",
   "metadata": {},
   "source": [
    "There are a few parameters in the code above that are worth understanding a bit better. \n",
    "\n",
    "1. In the line `ani_html = ani.to_jshtml(fps=30, default_mode='loop')`, try changing the fps to different values. In the code above we created 60 frames and ran them at 30 frames per second. \n",
    "1. Try changing the `default_mode` to `once` and `reflect` and notice what happens when you run the animation\n",
    "1. The object created by `ax.plot(x, y, color='blue')` is a nested object, potentially containing multiple elements. Thus, we use `line,` as a way to grab only the first element when we create each \"frame\".  Test what happens if we didn't use the comma, so  `line = ax.plot(x, y, color='blue')`. Alternatively, we could also access the first element using `line = ax.plot(x, y, color='blue')[0]`. Try getting it to work this way.\n",
    "1. Test what happens if we don't specify a color `color='blue'` as an argument for our `ax.plot` function."
   ]
  },
  {
   "cell_type": "markdown",
   "metadata": {},
   "source": [
    "## *19.3 `matplotlib.animation.FuncAnimation`*"
   ]
  },
  {
   "cell_type": "markdown",
   "metadata": {},
   "source": [
    "As an alternative to `ArtistAnimation`, we can use `FuncAnimation`, which takes over the responsibility of running the iteration. Here we need to create an initial plot similar to what we did before. \n",
    "```python\n",
    "fig, ax = plt.subplots()\n",
    "line, = ax.plot(x, np.sin(x))\n",
    "```\n",
    "But in the case of `FuncAnimation` we build a function (`update_line` in our example) to tell `FuncAnimation` how to update our plot. Similar to `solve_ivp` having its own internal iteration and calling our user-defined function each iteration, `FuncAnimation` will call our user-defined function a number of times specified by the user, which is `n_frames` in our example. \n",
    "\n",
    "We also introduce a slightly different way of updating only the elements of the plot which need to be updated. The example below uses `line.set_ydata(y)` to update the y-data in our line object each time `update_line` is called. "
   ]
  },
  {
   "cell_type": "code",
   "execution_count": null,
   "metadata": {},
   "outputs": [],
   "source": [
    "import numpy as np\n",
    "import matplotlib.pyplot as plt\n",
    "import matplotlib.animation as animation\n",
    "from IPython.display import HTML\n",
    "\n",
    "# Function to be called by FuncAnimation to update the image\n",
    "def update_line(i_frame):\n",
    "\n",
    "    # Cycle the offset from 0 to 2pi during n_frames\n",
    "    x_offset = i_frame/n_frames * 2*np.pi\n",
    "    \n",
    "    # Generate sin data using the offset\n",
    "    y = np.sin(x + x_offset)    \n",
    "    \n",
    "    # Update the plot by updating only the ydata\n",
    "    line.set_ydata(y)\n",
    "\n",
    "# We will use a total of n_frames in our animation\n",
    "n_frames = 60\n",
    "\n",
    "# x-value from 0 to 2pi to plot one full wavelength of sin\n",
    "x = np.linspace(0, 2 * np.pi, 100)\n",
    "\n",
    "# Initialize the plotting canvas\n",
    "fig, ax = plt.subplots()\n",
    "\n",
    "# Create an initial line object to be updated by FuncAnimation\n",
    "line, = ax.plot(x, np.sin(x))\n",
    "\n",
    "# Create an FuncAnimation object ani\n",
    "# - fig is the figure object being updated\n",
    "# - update_line is the name of the function that updates fig\n",
    "# - n_frames is an integer and equivalent to a for loop \"for i_frame in range(n_frames)\" \n",
    "#   where an updated value of i_frame is passed to update_line during each iteration\n",
    "ani = animation.FuncAnimation(fig, update_line, n_frames)\n",
    "\n",
    "plt.close() \n",
    "\n",
    "ani_html = ani.to_jshtml(fps=30) \n",
    "HTML(ani_html)"
   ]
  },
  {
   "cell_type": "markdown",
   "metadata": {},
   "source": [
    "## *19.4 More examples*"
   ]
  },
  {
   "cell_type": "markdown",
   "metadata": {},
   "source": [
    "Have a careful look at the examples below and see if you can figure out how they each work."
   ]
  },
  {
   "cell_type": "markdown",
   "metadata": {},
   "source": [
    "The following example shows how you can use `FuncAnimation` to generate animations which involve calculations in a separate function for each iteration. Similar to the line example above, we will use, and update, an instance of `scatter()`, i.e., a scatter plot. The initial plot is a dot located at `xpos`, `ypos`, and its position is updated using the method `set_offsets` of the scatter plot instance `im`. The function `newypos()` updates the position of the dot, shifting vertically by an amount `dypos`:"
   ]
  },
  {
   "cell_type": "code",
   "execution_count": null,
   "metadata": {},
   "outputs": [],
   "source": [
    "import numpy as np\n",
    "import matplotlib.pyplot as plt\n",
    "import matplotlib.animation as animation\n",
    "from IPython.display import HTML\n",
    "\n",
    "n_frames = 50\n",
    "xpos, ypos = 0.5, 0.\n",
    "dypos = 1./50.\n",
    "\n",
    "def update_point(num):\n",
    "    global ypos\n",
    "    ypos = ypos + dypos\n",
    "    im.set_offsets((xpos, ypos))\n",
    "\n",
    "fig, ax = plt.subplots()\n",
    "plt.xlim(0, 1)\n",
    "plt.ylim(0, 1)\n",
    "im = ax.scatter(xpos, ypos)\n",
    "\n",
    "ani = animation.FuncAnimation(fig, update_point, n_frames)\n",
    "\n",
    "plt.close() \n",
    "\n",
    "ani_html = ani.to_jshtml(fps=30) \n",
    "HTML(ani_html)"
   ]
  },
  {
   "cell_type": "markdown",
   "metadata": {},
   "source": [
    "The last example is similar, but now animates a scatter plot with many points. It uses some additional functions (`numpy.vstack`) and methods of a scatter plot instance (e.g. `set_sizes()` and `set_facecolor()`)."
   ]
  },
  {
   "cell_type": "code",
   "execution_count": null,
   "metadata": {},
   "outputs": [],
   "source": [
    "import numpy as np\n",
    "import matplotlib.pyplot as plt\n",
    "import matplotlib.animation as animation\n",
    "from IPython.display import HTML\n",
    "\n",
    "npoint = 30\n",
    "n_frames = 100\n",
    "dstep = 400.\n",
    "\n",
    "def update_point(i_frame):\n",
    "    newx = x + np.random.randn(npoint) / dstep\n",
    "    newy = y + np.random.randn(npoint) / dstep\n",
    "    data = np.stack((newx, newy), axis=-1)\n",
    "    im.set_offsets(data)\n",
    "\n",
    "x = np.random.random(npoint)\n",
    "y = np.random.random(npoint)\n",
    "s = 500 * np.random.random(npoint)\n",
    "c = np.random.random(npoint * 3).reshape(npoint, 3)\n",
    "\n",
    "fig, ax = plt.subplots()\n",
    "plt.ylim(-0.2, 1.2)\n",
    "plt.xlim(-0.2, 1.2)\n",
    "im = ax.scatter(x, y)\n",
    "im.set_facecolor(c)\n",
    "im.set_sizes(s)\n",
    "\n",
    "ani = animation.FuncAnimation(fig, update_point, n_frames)\n",
    "\n",
    "plt.close() \n",
    "\n",
    "ani_html = ani.to_jshtml(fps=30) \n",
    "HTML(ani_html)"
   ]
  },
  {
   "cell_type": "markdown",
   "metadata": {},
   "source": [
    "## *Submitting this reading assignment*\n",
    "Before submitting your work, restart + rerun your notebook to make sure that your self-assessmet questions run correctly and without error. After you've executed and checked your notebook, choose: File >> Save_and_Export_Notebook_As >> HTML. This will download an HTML version of your notebook to your computer which you can upload to Canvas"
   ]
  },
  {
   "cell_type": "code",
   "execution_count": null,
   "metadata": {},
   "outputs": [],
   "source": []
  }
 ],
 "metadata": {
  "kernelspec": {
   "display_name": "Python 3",
   "language": "python",
   "name": "python3"
  },
  "language_info": {
   "codemirror_mode": {
    "name": "ipython",
    "version": 3
   },
   "file_extension": ".py",
   "mimetype": "text/x-python",
   "name": "python",
   "nbconvert_exporter": "python",
   "pygments_lexer": "ipython3",
   "version": "3.7.6"
  }
 },
 "nbformat": 4,
 "nbformat_minor": 4
}
