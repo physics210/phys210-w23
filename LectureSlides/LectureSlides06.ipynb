{
 "cells": [
  {
   "cell_type": "markdown",
   "metadata": {
    "slideshow": {
     "slide_type": "slide"
    }
   },
   "source": [
    "# PHYS 210 Lecture 06 - Sep 25, 2023\n",
    "Agenda:\n",
    "\n",
    "1. Announcements\n",
    "1. Homework 01: plans for today and Wednesday\n",
    "1. Details for Quiz 01 on Wednesday\n",
    "1. Reading recap"
   ]
  },
  {
   "cell_type": "markdown",
   "metadata": {
    "slideshow": {
     "slide_type": "slide"
    }
   },
   "source": [
    "## Office hours 4:00-5:30pm on Tuesday\n",
    "We will have two TAs there"
   ]
  },
  {
   "cell_type": "markdown",
   "metadata": {
    "slideshow": {
     "slide_type": "slide"
    }
   },
   "source": [
    "## Homework 01 first draft: in-class peer feedback today\n",
    "* In groups of 3 you will carefully review each other's code and provide feedback based on the the Homework 01 submission and preparation for Quiz 03\n",
    "* Group participation marks will be awarded by discussing the most important peer feedback you received with the teaching team"
   ]
  },
  {
   "cell_type": "markdown",
   "metadata": {
    "slideshow": {
     "slide_type": "slide"
    }
   },
   "source": [
    "## Homework 01 final draft: due on Wednesday\n",
    "* Incorporate the feedback you received\n",
    "* Revise your code as needed to be best prepared for the quiz tasks"
   ]
  },
  {
   "cell_type": "markdown",
   "metadata": {
    "slideshow": {
     "slide_type": "slide"
    }
   },
   "source": [
    "## Quiz 01: 40 minutes at the start of class on Wednesday\n",
    "* The first quiz question will be to copy in the code you submitted for your homework.\n",
    "* Open materials. Yes to ChatGPT and internet resources. No to direct communication with others\n",
    "* Make sure you have easy access to your Homework 01 notebook in case there are any Open Jupyter issues. \n",
    "* Practice working in at least one backup environment (syzygy, CoCalc, google colab, Jupyter on your own computer via Anaconda)\n",
    "* Submitted on Canvas with 5 additional minutes provided for submission time.\n",
    "* Afterward we will have a group quiz"
   ]
  },
  {
   "cell_type": "markdown",
   "metadata": {
    "slideshow": {
     "slide_type": "slide"
    }
   },
   "source": [
    "## Q&A (no polling questions today)"
   ]
  },
  {
   "cell_type": "markdown",
   "metadata": {
    "slideshow": {
     "slide_type": "slide"
    }
   },
   "source": [
    "### Q: When will be using Linux commands and for what? Why are we learning it? When are some times when we would be using a terminal to code instead of just with jupyter?\n",
    "\n",
    "Let's look at an example of trying to download an entire folder of files from Open Jupyter"
   ]
  },
  {
   "cell_type": "markdown",
   "metadata": {
    "slideshow": {
     "slide_type": "slide"
    }
   },
   "source": [
    "### Q: would it be possible for you to go over grep filters and redirecting output briefly?"
   ]
  },
  {
   "cell_type": "markdown",
   "metadata": {
    "slideshow": {
     "slide_type": "slide"
    }
   },
   "source": [
    "### Q: Why does cat only print twice?\n",
    "Let's look at how you can make sense of this on your own (and ask ChatGPT as well)"
   ]
  },
  {
   "cell_type": "code",
   "execution_count": 14,
   "metadata": {
    "slideshow": {
     "slide_type": "-"
    }
   },
   "outputs": [
    {
     "name": "stdout",
     "output_type": "stream",
     "text": [
      "I found a cat!\n",
      "I found a cat!\n"
     ]
    }
   ],
   "source": [
    "animals = [\"dog\", \"cat\", \"African swallow\", \"European swallow\"]\n",
    "for i in range(4):\n",
    "    animals = animals[i:]\n",
    "    if \"cat\" in animals:\n",
    "        print (\"I found a cat!\")"
   ]
  },
  {
   "cell_type": "markdown",
   "metadata": {
    "slideshow": {
     "slide_type": "slide"
    }
   },
   "source": [
    "### Q: Could you go over how to flatten a matrix using listed next comprehension?"
   ]
  },
  {
   "cell_type": "code",
   "execution_count": 2,
   "metadata": {},
   "outputs": [
    {
     "name": "stdout",
     "output_type": "stream",
     "text": [
      "[1, 2, 3, 4, 5, 6, 7, 8, 9]\n"
     ]
    }
   ],
   "source": [
    "matrix = [[1, 2, 3], [4, 5, 6], [7, 8, 9]]\n",
    "flattened = [num for row in matrix for num in row]\n",
    "print(flattened)"
   ]
  },
  {
   "cell_type": "code",
   "execution_count": 5,
   "metadata": {
    "slideshow": {
     "slide_type": "slide"
    }
   },
   "outputs": [
    {
     "name": "stdout",
     "output_type": "stream",
     "text": [
      "[0, 2, 4, 6, 8]\n",
      "[0, 2, 4, 6, 8]\n"
     ]
    }
   ],
   "source": [
    "# List comprehension\n",
    "evens = [x for x in range(10) if x % 2 == 0]\n",
    "print(evens)\n",
    "\n",
    "evens_long = []\n",
    "for x in range(10):\n",
    "    if x % 2 == 0:\n",
    "        evens_long.append(x)\n",
    "print(evens_long)\n",
    "        "
   ]
  },
  {
   "cell_type": "code",
   "execution_count": 6,
   "metadata": {
    "slideshow": {
     "slide_type": "slide"
    }
   },
   "outputs": [
    {
     "name": "stdout",
     "output_type": "stream",
     "text": [
      "[1, 2, 3, 4, 5, 6, 7, 8, 9]\n",
      "[1, 2, 3, 4, 5, 6, 7, 8, 9]\n"
     ]
    }
   ],
   "source": [
    "matrix = [[1, 2, 3], [4, 5, 6], [7, 8, 9]]\n",
    "flattened = [num for row in matrix for num in row]\n",
    "print(flattened)\n",
    "\n",
    "flattened_long = []\n",
    "for row in matrix:\n",
    "    for num in row:\n",
    "        flattened_long.append(num)\n",
    "print(flattened_long)"
   ]
  },
  {
   "cell_type": "code",
   "execution_count": 9,
   "metadata": {
    "slideshow": {
     "slide_type": "slide"
    }
   },
   "outputs": [
    {
     "name": "stdout",
     "output_type": "stream",
     "text": [
      "[0, -1, 2, -3, 4, -5, 6, -7, 8, -9]\n",
      "[0, -1, 2, -3, 4, -5, 6, -7, 8, -9]\n"
     ]
    }
   ],
   "source": [
    "numbers = [-x if x % 2 else x for x in range(10)]\n",
    "print(numbers)\n",
    "\n",
    "numbers_long = []\n",
    "for x in range(10):\n",
    "    if x % 2:\n",
    "        numbers_long.append(-x)\n",
    "    else:\n",
    "        numbers_long.append(x)\n",
    "print(numbers_long)"
   ]
  },
  {
   "cell_type": "markdown",
   "metadata": {
    "slideshow": {
     "slide_type": "slide"
    }
   },
   "source": [
    "# The rest of today\n",
    "* Peer feedback in groups of 3 and then discuss the feedback you received with the teaching team\n",
    "  - There are Word and google docs copies of a note-taking form for you to keep track of the feedback you receive for your own personal use\n",
    "* Then start on your Homework 01 revisions and quiz prep"
   ]
  },
  {
   "cell_type": "code",
   "execution_count": null,
   "metadata": {},
   "outputs": [],
   "source": []
  }
 ],
 "metadata": {
  "celltoolbar": "Slideshow",
  "kernelspec": {
   "display_name": "Python 3",
   "language": "python",
   "name": "python3"
  },
  "language_info": {
   "codemirror_mode": {
    "name": "ipython",
    "version": 3
   },
   "file_extension": ".py",
   "mimetype": "text/x-python",
   "name": "python",
   "nbconvert_exporter": "python",
   "pygments_lexer": "ipython3",
   "version": "3.7.6"
  }
 },
 "nbformat": 4,
 "nbformat_minor": 4
}
