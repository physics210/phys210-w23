{
 "cells": [
  {
   "cell_type": "markdown",
   "metadata": {},
   "source": [
    "# Day 18 Group Worksheet\n",
    "Nov 8, 2023\n",
    "\n",
    "If you're working on CoCalc, it's good to rename your notebook with a fun group name and to include your names below so that you can easily find it later for reference."
   ]
  },
  {
   "cell_type": "markdown",
   "metadata": {},
   "source": [
    "* Fun group name:   \n",
    "* Group members:"
   ]
  },
  {
   "cell_type": "markdown",
   "metadata": {},
   "source": [
    "## Task 1: Parsing mixed data 1"
   ]
  },
  {
   "cell_type": "markdown",
   "metadata": {},
   "source": [
    "The file `worksheet05-captains.txt` has three columns, the first is the captain's name, the second is their ID number, the third is the number of years served. Write a function that takes an ID number as input, and opens the text file `Worksheet18-captains.txt` and reads the lines one by one until it find the captain with that ID number and prints:\n",
    "\n",
    "Captain X served for Y years, under ID number Z.\n",
    "\n",
    "What happens if the ID number isn't found in the file?"
   ]
  },
  {
   "cell_type": "code",
   "execution_count": 4,
   "metadata": {},
   "outputs": [],
   "source": [
    "# Your code here\n",
    "\n"
   ]
  },
  {
   "cell_type": "markdown",
   "metadata": {},
   "source": [
    "## Task 2: Parsing mixed data 2"
   ]
  },
  {
   "cell_type": "markdown",
   "metadata": {},
   "source": [
    "In the reading we said that `np.loadtxt()` is tricky to use in files that mix numbers and text together. One way around this for files like `Worksheet18-captains.txt` is to specify which columns to read in the call to `np.loadtxt()`. Write a routine to do the same thing as before, but instead of searching through the file line by line, read in each column separately with `np.loadtxt()`. Here's one line to get you started:  \n",
    "`names = np.loadtxt('worksheet05-captains.txt', usecols=(0), skiprows = 1, dtype = str)`"
   ]
  },
  {
   "cell_type": "code",
   "execution_count": null,
   "metadata": {},
   "outputs": [],
   "source": [
    "# Your code here\n",
    "\n"
   ]
  },
  {
   "cell_type": "code",
   "execution_count": null,
   "metadata": {},
   "outputs": [],
   "source": []
  }
 ],
 "metadata": {
  "kernelspec": {
   "display_name": "Python 3",
   "language": "python",
   "name": "python3"
  },
  "language_info": {
   "codemirror_mode": {
    "name": "ipython",
    "version": 3
   },
   "file_extension": ".py",
   "mimetype": "text/x-python",
   "name": "python",
   "nbconvert_exporter": "python",
   "pygments_lexer": "ipython3",
   "version": "3.7.6"
  }
 },
 "nbformat": 4,
 "nbformat_minor": 4
}
