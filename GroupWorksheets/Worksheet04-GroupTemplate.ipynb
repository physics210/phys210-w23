{
 "cells": [
  {
   "cell_type": "markdown",
   "metadata": {
    "id": "68gKoP9jF9lU"
   },
   "source": [
    "# Day 04 Group Worksheet\n",
    "Sept 18, 2023\n",
    "\n",
    "If you're working on CoCalc, it's good to rename your notebook with a fun group name and to include your names below so that you can easily find it later for reference."
   ]
  },
  {
   "cell_type": "markdown",
   "metadata": {
    "id": "B8UKtrg1F9lm"
   },
   "source": [
    "* Fun group name:   \n",
    "* Group members:"
   ]
  },
  {
   "cell_type": "markdown",
   "metadata": {},
   "source": [
    "## 4.0 Warmup!"
   ]
  },
  {
   "cell_type": "markdown",
   "metadata": {},
   "source": [
    "As a group, come up with at least 3 different ways that you could fill the list `short` from the list `long`, such that the contents are as shown.\n",
    "```python\n",
    "long = [\"A\", \"B\", \"C\", \"D\", \"E\", \"F\", \"G\", \"H\", \"I\", \"J\"]\n",
    "print(short)\n",
    "```\n",
    "`[\"D\", \"F\", \"H\", \"J\"]`"
   ]
  },
  {
   "cell_type": "code",
   "execution_count": null,
   "metadata": {},
   "outputs": [],
   "source": [
    "# Method 1\n",
    "\n"
   ]
  },
  {
   "cell_type": "code",
   "execution_count": null,
   "metadata": {},
   "outputs": [],
   "source": [
    "# Method 2\n",
    "\n"
   ]
  },
  {
   "cell_type": "code",
   "execution_count": null,
   "metadata": {},
   "outputs": [],
   "source": [
    "# Method 3\n",
    "\n"
   ]
  },
  {
   "cell_type": "code",
   "execution_count": null,
   "metadata": {},
   "outputs": [],
   "source": [
    "# Method 4 (optional)\n",
    "\n"
   ]
  },
  {
   "cell_type": "code",
   "execution_count": null,
   "metadata": {},
   "outputs": [],
   "source": [
    "# Method 5 (optional)\n",
    "\n"
   ]
  },
  {
   "cell_type": "markdown",
   "metadata": {},
   "source": [
    "## More Euler's method for motion\n",
    "Today we are going to continue our work with Euler's method for motion by:\n",
    "1. Bringing in `for` loops as an alternative to `while` loops\n",
    "1. Introducing lists as a way to store all of the motion data generated throughout a loop\n",
    "1. Introducing collisions"
   ]
  },
  {
   "cell_type": "markdown",
   "metadata": {
    "id": "WF85UmjsF9lv"
   },
   "source": [
    "## 4.1 A collision and storing data in lists\n",
    "Below is a modified version of our Day 03 Euler's method code which introduces a collision, as well as storing our time, position and velocity data in lists to be able to analyze after the main loop. After the code you will find your tasks related to this code."
   ]
  },
  {
   "cell_type": "code",
   "execution_count": 7,
   "metadata": {
    "id": "Dkj-a45vF9mO"
   },
   "outputs": [],
   "source": [
    "# Constants and initial values\n",
    "y0 = 0. # m\n",
    "ymax = 100. # m\n",
    "v0 = 15.3 # m/s\n",
    "t0 = 0. #s\n",
    "tmax = 50. # s\n",
    "dt = 0.1 # s\n",
    "\n",
    "# Lists to store values throughout the simulation\n",
    "y = [y0]\n",
    "v = [v0]\n",
    "t = [t0]\n",
    "\n",
    "# Main loop\n",
    "while t[-1] < tmax:\n",
    "    \n",
    "    ynew = y[-1] + v[-1]*dt\n",
    "    \n",
    "    vnew = v[-1]\n",
    "    \n",
    "    if ynew >= ymax:\n",
    "        vnew = -vnew\n",
    "    \n",
    "    tnew = t[-1] + dt\n",
    "    \n",
    "    y.append(ynew)\n",
    "    v.append(vnew)\n",
    "    t.append(tnew)"
   ]
  },
  {
   "cell_type": "markdown",
   "metadata": {},
   "source": [
    "**a)** Let's start by looking at the use of lists in this version of the code. Add in any print or other diagnostic statements that you need to make sense of the code.\n",
    "\n",
    "Why are we using `[-1]` in the main `while` statement and throughout the loop? How is the condition that will end the loop being updated and checked? (i.e., How are we making progress toward `while` becoming false?) How are we storing the data generated throughout the while loop?"
   ]
  },
  {
   "cell_type": "markdown",
   "metadata": {},
   "source": [
    "* Your notes here\n",
    "* .."
   ]
  },
  {
   "cell_type": "markdown",
   "metadata": {},
   "source": [
    "**b)** How does the collision work? "
   ]
  },
  {
   "cell_type": "markdown",
   "metadata": {},
   "source": [
    "* Your notes here\n",
    "* .."
   ]
  },
  {
   "cell_type": "markdown",
   "metadata": {},
   "source": [
    "**d)** From within the `while` loop, use the variable `col_idx` to store the index at which the collision occured. Based on how the `t`, `y` and `v` lists are built, we expect that this same index would apply to all three. And then, after the `while` loop, build a `for` loop to print out the information from the five sequential steps consisting of the two steps immediately before the collision, the collision itself, and the two steps immediately after the collision. Below is an example of what this information could look like. \n",
    "\n",
    "Remember that we want you to use a `for` loop to do this after the `while` loop has finished. You may wish to lookup how to use `range()` to start with an index other 0.\n",
    "```\n",
    "t = 6.4 s,   y =  97.92 m,   v =  15.3 m/s\n",
    "t = 6.5 s,   y =  99.45 m,   v =  15.3 m/s\n",
    "t = 6.6 s,   y = 100.98 m,   v = -15.3 m/s\n",
    "t = 6.7 s,   y =  99.45 m,   v = -15.3 m/s\n",
    "t = 6.8 s,   y =  97.92 m,   v = -15.3 m/s\n",
    "```"
   ]
  },
  {
   "cell_type": "code",
   "execution_count": null,
   "metadata": {},
   "outputs": [],
   "source": [
    "# Your code here\n",
    "\n"
   ]
  },
  {
   "cell_type": "markdown",
   "metadata": {},
   "source": [
    "## Multiple collisions\n",
    "\n",
    "**e)** Introduce into your code a second collision barrier at -100m, such that the object will be bouncing back and forth between the two barriers. Change `col_idx` to a list of the indices at which these collisions occur. And then, after the `while` loop, build a `for` loop that uses the indices stored in `col_idx` to output the times of each collision, in a format similar to what is shown below. In your output you are welcome to communicate the collision numbers with the first collision being numbered 0 or 1.\n",
    "```\n",
    "Collision number 1 occurred at  6.6 seconds\n",
    "Collision number 2 occurred at 19.8 seconds\n",
    "Collision number 3 occurred at 33.0 seconds\n",
    "Collision number 4 occurred at 46.2 seconds\n",
    "```"
   ]
  },
  {
   "cell_type": "code",
   "execution_count": 27,
   "metadata": {},
   "outputs": [],
   "source": [
    "# Your code here\n",
    "\n"
   ]
  },
  {
   "cell_type": "markdown",
   "metadata": {},
   "source": [
    "## 4.3 Replacing the main `while` loop with a `for` loop"
   ]
  },
  {
   "cell_type": "markdown",
   "metadata": {
    "id": "soUXPUYDIhu7"
   },
   "source": [
    "**f)** Below we have provided a space for you to replace the original `while` loop with a `for` loop that will run for approximately the same number of iterations (steps) at the original code. Add a few notes contrasting the strengths and weaknesses of each approach for this specific task."
   ]
  },
  {
   "cell_type": "markdown",
   "metadata": {},
   "source": [
    "* Your notes here\n",
    "* .."
   ]
  },
  {
   "cell_type": "code",
   "execution_count": 30,
   "metadata": {},
   "outputs": [],
   "source": [
    "# Constants and initial values\n",
    "y0 = 0. # m\n",
    "ymax = 100. # m\n",
    "v0 = 15.3 # m/s\n",
    "t0 = 0. #s\n",
    "tmax = 50. # s\n",
    "dt = 0.1 # s\n",
    "\n",
    "# Lists to store values throughout the simulation\n",
    "y = [y0]\n",
    "v = [v0]\n",
    "t = [t0]\n",
    "\n",
    "# Main loop\n",
    "while t[-1] < tmax:\n",
    "    \n",
    "    ynew = y[-1] + v[-1]*dt\n",
    "    \n",
    "    vnew = v[-1]\n",
    "    \n",
    "    if ynew >= ymax:\n",
    "        vnew = -vnew\n",
    "    \n",
    "    tnew = t[-1] + dt\n",
    "    \n",
    "    y.append(ynew)\n",
    "    v.append(vnew)\n",
    "    t.append(tnew)\n",
    "\n"
   ]
  },
  {
   "cell_type": "markdown",
   "metadata": {},
   "source": [
    "## 4.4 Bonus tasks if you have time. \n",
    "\n",
    "**g)** Pick the tasks that are most interesting to you\n",
    "\n",
    "1. For Part e, try to figure out how to use the function `enumerate()` in your `for` loop statement (e.g., `for .. in enumerate(col_idx):` as an alternate method of extracting the desired information out of `col_idx`.\n",
    "1. In loops that take a long time to run, it can be helpful to provide progress feedback while the loop is running. Add code to one of your loops that prints some output every 100 iterations (e.g., `100 iterations complete`, `200 iterations complete`, etc,...).\n",
    "1. For a trickier challenge than the above task, instead print output for every 10% complete (e.g., `10% complete`, `20% complete`, etc,...). Make sure that this is built in a responsive way so that if you update `tmax` or `dt`, it will still work correctly."
   ]
  },
  {
   "cell_type": "code",
   "execution_count": null,
   "metadata": {},
   "outputs": [],
   "source": [
    "# Your code here\n",
    "\n"
   ]
  },
  {
   "cell_type": "code",
   "execution_count": null,
   "metadata": {},
   "outputs": [],
   "source": [
    "# Your code here\n",
    "\n"
   ]
  },
  {
   "cell_type": "code",
   "execution_count": null,
   "metadata": {},
   "outputs": [],
   "source": [
    "# Your code here\n",
    "\n"
   ]
  }
 ],
 "metadata": {
  "colab": {
   "provenance": []
  },
  "kernelspec": {
   "display_name": "Python 3",
   "language": "python",
   "name": "python3"
  },
  "language_info": {
   "codemirror_mode": {
    "name": "ipython",
    "version": 3
   },
   "file_extension": ".py",
   "mimetype": "text/x-python",
   "name": "python",
   "nbconvert_exporter": "python",
   "pygments_lexer": "ipython3",
   "version": "3.7.6"
  }
 },
 "nbformat": 4,
 "nbformat_minor": 1
}
