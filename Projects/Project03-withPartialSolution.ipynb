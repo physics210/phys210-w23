{
 "cells": [
  {
   "cell_type": "markdown",
   "metadata": {},
   "source": [
    "# Project 03: Chain Reaction\n",
    "**First Draft Due:** Monday, December 4, 2023 at the start of class<br>\n",
    "**Final Draft Due:** Thursday, December 7, 2023 at the end of the day<br>\n",
    "**Name:** (your name here...)"
   ]
  },
  {
   "cell_type": "markdown",
   "metadata": {},
   "source": [
    "You have been transported back in time (again!) this time to Enrico Fermi's office at the University of Chicago in 1942. Fermi is hard at work trying to build the first self-sustaining artificial nuclear reaction using Uranium 235. Once he calms down from the shock of witnessing time travel, Fermi has asked for your help to explore how factors such as size, shape and purity impact the ability of a sample of Uranium 235 to sustain a chain reaction.  \n",
    "\n",
    "Fermi initially presents you with his simplest model to help make it easy to troubleshoot and confirm the results from the Monte Carlo simulation that you will build of this chain reaction process. In this model, when a $^{235}U$ nucleus undergoes nuclear fission, it always releases two thermal neutrons, where a thermal neutron is one that is moving slowly enough to possibly be captured by other $^{235}U$ nuclei. These thermal neutrons will travel an average distance, known as the Mean Free Path $λ$, before being captured elsewhere in the sample. The probability of a thermal neutron being captured when it travels a distance $L$ is given by $p(L)∝e^{-L/λ}$. In this model, every captured thermal neutron results in an unstable $^{235}U$ nucleus which will almost immediately undergo its own fission process, releasing further neutrons, and possibly sustaining a chain reaction if enough of the neutrons are being captured inside the $^{235}U$ sample. You and Fermi have decided that a Monte Carlo process would be the best way to simulate this.\n",
    "\n",
    "Your algorithm will look something like this:\n",
    "1. Choose an initial number of thermal neutrons, $N$, to simulate.\n",
    "2. Randomly generate $N$ starting locations within the Uranium for these initial thermal neutrons.\n",
    "3. Randomly generate the directions of travel, in three dimensions, of the $N$ initial thermal neutrons.\n",
    "4. Using the Mean Free Path, generate the distances, $L$, that the $N$ initial thermal neutrons will travel in the sample before being captured.\n",
    "5. Determine how many of the neutrons are absorbed inside the sample after they have each traveled their randomly determined distance $L$ in their randomly determined direction from their randomly determined initial position. Neutrons that are still inside the sample after traveling their distance $L$ are considered to have been captured and will initiate a new fission event. Neutrons that do not remain inside the sample after traveling their distance $L$ are lost and will not initiate any further fission events.\n",
    "6. Determine the number of new thermal neutrons generated, knowing that each of the new fission events will generate 2 new neutrons. We will call this total number of new thermal neutrons $N_{\\text{new}}$.\n",
    "7. Report the multiplication factor, $f=N_{\\text{new}}/N$, for that simulation. If this value is above 1, the number of thermal neutrons being generated is increasing, which will result in a sustained nuclear chain reaction.\n",
    "\n",
    "Some initial brainstorming with Fermi results in the starter code below to generate $N$ initial thermal neutrons inside a cube with sides of length $a$. You will first spend some time characterizing uncertainties in the system, developing an understanding of how choices such as the initial number of thermal neutrons $N$ and the number of trials $m_\\text{trials}$ impacts these uncertainties. Then you will perform an investigation of how different parameters in the system, such as size, shape and purity, impact the system's ability to sustain a chain reaction (as determined by the multiplication factor). "
   ]
  },
  {
   "cell_type": "markdown",
   "metadata": {},
   "source": [
    "```python\n",
    "def func(N):\n",
    "    \n",
    "    # N = Initial number of thermal neutrons\n",
    "\n",
    "    # Length of the cube's side\n",
    "    a = 0.50 # m\n",
    "\n",
    "    # Fermi's best guess of the mean free path\n",
    "    # based on the neutron cross section in U235\n",
    "    mean_free_path = .15 # m\n",
    "\n",
    "    # Generate a random initial decay position for each neutron\n",
    "    x0 = a*(np.random.random(N)-.5)\n",
    "    y0 = a*(np.random.random(N)-.5)\n",
    "    z0 = a*(np.random.random(N)-.5)\n",
    "\n",
    "    # Generate random initial directions for each neutron\n",
    "    phi = 2*np.pi*(np.random.random(N))\n",
    "    cos = 2*(np.random.random(N)-.5)\n",
    "    theta =  np.arccos(cos)\n",
    "\n",
    "    # Randomly generate the distance travelled\n",
    "    d = -mean_free_path*np.log(np.random.random(N))\n",
    "\n",
    "    # ... haven't finished the function yet\n",
    "```"
   ]
  },
  {
   "cell_type": "markdown",
   "metadata": {},
   "source": [
    "### Characterizing the system"
   ]
  },
  {
   "cell_type": "markdown",
   "metadata": {},
   "source": [
    "An important part of the physical modelling process involves having a good understanding of the uncertainties in the system. Using the above starter code as an initial guide, build a system that characterizes the uncertainty in the Multiplication Factor for the following system:\n",
    "* A cube with sides of length $a = 0.50 \\text{ m}$,\n",
    "* A mean free path of $\\lambda = 0.15 \\text{ m}$,\n",
    "* Two new thermal neutrons generated per fission event, where every neutron that remains inside the sample will initiate a fission event\n",
    "* $N_\\text{thermal} = 1000$ initial thermal neutrons,\n",
    "* Repeating the experimental $m_\\text{trials} = 1000$ times to be able to charaterize the Multiplication Factor using mean and standard deviation.\n",
    "\n",
    "It is not necessary that you generate a histogram like the one below, but we provide it to give you some initial guidance on the approximate results that you should expect to achieve with this initial characterization of uncertainty."
   ]
  },
  {
   "cell_type": "markdown",
   "metadata": {},
   "source": [
    "<img src=\"https://i.ibb.co/HKmt68g/f-histo.png\" alt=\"f-histo\">"
   ]
  },
  {
   "cell_type": "markdown",
   "metadata": {},
   "source": [
    "Once you are confident that your system is behaving as intended, do a quick investigation of the impact of $N_\\text{thermal}$ and $m_\\text{trials}$ on your uncertainty in the Multiplication Factor. Use these results, along with the actual time needed to run your simulation, to make informed decisions about what values of $N_\\text{thermal}$ and $m_\\text{trials}$ to use during your main investigation. "
   ]
  },
  {
   "cell_type": "markdown",
   "metadata": {},
   "source": [
    "### Your investigation: Exploration of the Multiplication Factor"
   ]
  },
  {
   "cell_type": "markdown",
   "metadata": {},
   "source": [
    "Fermi's main task for you is to explore how the Multiplication Factor varies as a function of the shape and size of the sample, its purity, and the use of neutron moderators. You should start by coming up with research question(s) that explore(s) the behavior of $f$ over the phase space of this system. You should then make a visualization that effectively shows your answer to that question. Your visualizations should include fits that quantitatively capture the relationship between $f$ and your parameter(s) of choice. If you choose to implement any physical extensions, it would be good for your visualizations to include some exploration or demonstration of what their effects are.\n",
    "\n",
    "Some parameters that you could vary as well as places to extend the physics of the simulation:\n",
    "\n",
    "* **Shapes and aspect ratios:** The shape of the sample, which could include fundamentally different shapes, such as spheres, cylinders, and rectangular prisms (boxes). A helpful way to characterize the relative dimensions of a given shape (other than spheres and cubes) is the Shape Aspect Ratio, $S$. For a rectangular prism with volume $a \\times a \\times b$, the Shape Aspect Ratio would be $S=a/b$. For a cylinder it would be $S=r/h$. Compare how different shapes and/or different Shape Aspect Ratios impact $f$.\n",
    "* **Volume:** The volume of the sample, $V$.\n",
    "* **Probability that captured neutrons initiate further fissions:** The purity of the Uranium, where the more pure the sample, the more likely it is that a thermal neutron stopping inside the sample will be captured by a $^{235}U$ nucleus and result in a subsequent fission. In Fermi's simplest model, we treated it as $p=1.0$ that a neutron stopping within the sample would cause a subsequent fission, but you can explore the impact of varying the purity of the sample via this parameter.\n",
    "* **Mean free path:** Varying the mean free path in the sample via neutron moderators. When a thermal neutron interacts with a neutron moderator, it loses some kinetic energy, but has a negligible probability of actually being captured by the neutron moderator. In our simulation this can be modeled as reducing the mean free path of the neutrons in the sample since lower kinetic energies will mean that the neutrons travel less far before being absorbed.\n",
    "* **Number of neutrons per fission:** Although we used two neutrons per fission in Fermi's simplest model, the average number of neutrons produced per $^{235}U$ fission is actually 2.4355.\n",
    "* **Even more physics, coding and investigation extensions:** There is a lot of room to extend this project, which is a huge simplification of a nuclear chain reaction. One could account for the fact that more than one thermal neutron would have been generated at each location when generating our initial batch of thermal neutrons, could consider surrounding the sample with nuclear reflectors, could simulate multiple generations of fission events, could vary parameters such as $N_\\text{thermal}$ and $m_\\text{trials}$ in your phase space to do careful characterizations of uncertainty, and more.\n"
   ]
  },
  {
   "cell_type": "code",
   "execution_count": null,
   "metadata": {},
   "outputs": [],
   "source": [
    "### Partial solution for characterizing the system\n",
    "\n",
    "import numpy as np\n",
    "import matplotlib.pyplot as plt\n",
    "from scipy.optimize import curve_fit\n",
    "\n",
    "def get_f(N):\n",
    "    # N = Initial number of thermal neutrons\n",
    "\n",
    "    # Length of the cube's side\n",
    "    a = 0.50 # m\n",
    "\n",
    "    # Fermi's best guess of the mean free path\n",
    "    # based on the neutron cross section in U235\n",
    "    mean_free_path = .15 # m \n",
    "\n",
    "    # Probability that an absorbed neutron results in a fission\n",
    "    p = 0.9\n",
    "    \n",
    "    # Average number of thermal neutrons\n",
    "    N_therm_ave = 2.4355\n",
    "    \n",
    "    # Generate a random initial decay position for each neutron\n",
    "    x0 = a*(np.random.random(N)-.5)\n",
    "    y0 = a*(np.random.random(N)-.5)\n",
    "    z0 = a*(np.random.random(N)-.5)\n",
    "\n",
    "    # Generate random initial directions for each neutron\n",
    "    phi = 2*np.pi*(np.random.random(N))\n",
    "    cos = 2*(np.random.random(N)-.5)\n",
    "    theta =  np.arccos(cos)\n",
    "\n",
    "    # Randomly generate the distance travelled \n",
    "    d = -mean_free_path*np.log(np.random.random(N))\n",
    "\n",
    "    # Determine the final positions\n",
    "    xf = x0 + d*np.sin(theta)*np.cos(phi)\n",
    "    yf = y0 + d*np.sin(theta)*np.sin(phi)\n",
    "    zf = z0 + d*cos\n",
    "\n",
    "    # Determine how many of these stay in the Uranium\n",
    "    x_in = np.abs(xf) < a/2\n",
    "    y_in = np.abs(yf) < a/2\n",
    "    z_in = np.abs(zf) < a/2\n",
    "    xyz_in = np.logical_and(z_in, np.logical_and(x_in, y_in))\n",
    "    \n",
    "    # Total number absorbed based on staying \"in\" all three dimensions\n",
    "    N_absorbed = xyz_in.sum()\n",
    "    \n",
    "    # Each absorbed\n",
    "    N_fissions = sum(np.random.random(N_absorbed)<p)\n",
    "    \n",
    "    N_new = 2.* N_fissions\n",
    "    \n",
    "    return N_new/N\n",
    "\n",
    "def get_many_f(N, n_trials):\n",
    "    \n",
    "    f = np.zeros(n_trials)\n",
    "    for i in range(len(f)):\n",
    "        f[i] = get_f(N)\n",
    "\n",
    "    f_mean = f.mean()\n",
    "    f_std = f.std(ddof=1)\n",
    "    \n",
    "    return f, f_mean, f_std\n",
    "\n",
    "def gen_histogram2(f, f_mean, f_std):\n",
    "\n",
    "    # Create the histogram\n",
    "    plt.hist(f, bins='auto', color='blue', alpha=0.7, rwidth=0.85)\n",
    "    plt.xlabel('Multiplication Factor')\n",
    "    plt.ylabel('Frequency')\n",
    "    plt.title(f\"N(thermal) = 1000,   m(trials) = 1000\\nMultiplication Factor = {f_mean:.3f} ± {f_std:.3f}\")\n",
    "    plt.grid(axis='y', alpha=0.75)\n",
    "    #plt.savefig(\"f_histo.png\")\n",
    "    plt.show()\n",
    "\n",
    "N = 1000 # Initial number of thermal neutrons\n",
    "m_trials = 1000 # Number of trials to run\n",
    "\n",
    "f, f_mean, f_std = get_many_f(N, m_trials)\n",
    "\n",
    "gen_histogram2(f, f_mean, f_std )\n"
   ]
  },
  {
   "cell_type": "markdown",
   "metadata": {},
   "source": [
    "# Background and Motivation\n",
    "_(Provide some context for the problem and the specific reasearch question(s) you set out to answer. Make sure to discuss why your specific research question(s) would be interesting to investigate. Make sure to explicitly state which parameters you are changing and which paremeters you are keeping fixed. This is also the appropriate place to communicate your governing equations and introduce any additional equations that you might use to check the results of your code. Note: It is helpful for the graders if you are able to embed equations and calculations in the markdown or as images in the notebook instead of as additional files.)_"
   ]
  },
  {
   "cell_type": "markdown",
   "metadata": {},
   "source": [
    "(your words here...)"
   ]
  },
  {
   "cell_type": "markdown",
   "metadata": {},
   "source": [
    "# Methodology and computational code:\n",
    "_(How did you go about answering your questions(s)?  In 3-5 sentences, provide an overview of how your code below solves the problem. Additionally, include brief descriptions of any python packages you used beyond from the standard ones (i.e., those other than NumPy, Matplotlib or SciPy). You should also add citations for any of these in the references section.)_"
   ]
  },
  {
   "cell_type": "markdown",
   "metadata": {},
   "source": [
    "(your words here...)"
   ]
  },
  {
   "cell_type": "markdown",
   "metadata": {},
   "source": [
    "_(Below is the part of your notebook that should include the majority of your code.  Don’t put plots here, though, as they belong in the Data Vizualization section.)_\n"
   ]
  },
  {
   "cell_type": "code",
   "execution_count": null,
   "metadata": {},
   "outputs": [],
   "source": [
    "# Your main code here\n"
   ]
  },
  {
   "cell_type": "code",
   "execution_count": null,
   "metadata": {},
   "outputs": [],
   "source": [
    "# Add additional cells as needed, but your main visualizations should be produced in the section below\n"
   ]
  },
  {
   "cell_type": "markdown",
   "metadata": {},
   "source": [
    "# Error testing\n",
    "\n",
    "_(Convince yourself that your system, from a physics and a coding perspective, is behaving correctly and provide your most compelling evidence here. This may include calculations, notes, common-sense checking of the input and output from your code, or running the code with specific parameters to make sure everything behaves how you expect. It may also include visualizations whose purpose is strictly related to error checking. Use as many code and markdown cells as you need. Note: It is helpful for the graders if you are able to embed equations and calculations in the markdown or as images in the notebook instead of as additional files.)_"
   ]
  },
  {
   "cell_type": "markdown",
   "metadata": {},
   "source": [
    "(your words here. Add more markdown cells as needed.)"
   ]
  },
  {
   "cell_type": "code",
   "execution_count": null,
   "metadata": {},
   "outputs": [],
   "source": [
    "# Your error checking code, function calls and plotting code. Add more code cells as needed.\n"
   ]
  },
  {
   "cell_type": "markdown",
   "metadata": {},
   "source": [
    "# Data visualization, interpretation and presentation of results\n",
    "_(This section should include code that produces your visualizations and any other aspects of your data or results that you would like to present. Make sure to provide caption-style summaries with everything presented in this section so that the reader can understand and correctly interpret your visualizations and presented results.)_"
   ]
  },
  {
   "cell_type": "code",
   "execution_count": null,
   "metadata": {},
   "outputs": [],
   "source": [
    "# Plotting and other code that presents results. Add more code cells as needed.\n"
   ]
  },
  {
   "cell_type": "markdown",
   "metadata": {},
   "source": [
    "(your words here. Add more markdown cells as needed.)"
   ]
  },
  {
   "cell_type": "markdown",
   "metadata": {},
   "source": [
    "# Synthesis and discussion\n",
    "_(Use your results to dicuss the answer(s) to your research question(s). Make sure to provide quantitative answers to your questions and justify your conclusions based on information presented in the previous section. You should also discuss the limitations of your investigations, of your physical modelling and of your code, as well as the next steps if you were to continue working on this project.)_"
   ]
  },
  {
   "cell_type": "markdown",
   "metadata": {},
   "source": [
    "(your words here. Add more markdown cells as needed.)"
   ]
  },
  {
   "cell_type": "markdown",
   "metadata": {},
   "source": [
    "# References\n",
    "_(In addition to citations for any python packages used beyond our standard ones, list the sources for any data or literature cited in your project. Additionally, you must also cite the sources for any code that you found on the internet or from peers.)_"
   ]
  },
  {
   "cell_type": "markdown",
   "metadata": {},
   "source": [
    "(your words here. Add more markdown cells as needed.)"
   ]
  },
  {
   "cell_type": "markdown",
   "metadata": {},
   "source": [
    "# Self-evaluations\n",
    "Please visit the rubric on the Project 03 submission for the detailed criteria to use in your self-assessments."
   ]
  },
  {
   "cell_type": "markdown",
   "metadata": {},
   "source": [
    "### *Self-assessment 1: Coding Approaches*\n",
    "*(How well did you apply and extend your coding knowledge in this project? Consider steps you took to make the code more efficient, more readable and/or more concise. Discuss any new-to-you coding techniques, functions or python packages that you learned how to use. Reflect on any unforeseen coding challenges you faced in completing this project. Highlight something you feel you did particularily well and discuss an aspect of your code that would benefit the most from an improvement.)*"
   ]
  },
  {
   "cell_type": "markdown",
   "metadata": {},
   "source": [
    "**Self-assessment rating (*Outstanding, Publish, Minor Revisions, Major Revisions, Rework, Absent*):** (your rating here...)"
   ]
  },
  {
   "cell_type": "markdown",
   "metadata": {},
   "source": [
    "**Discussion of your coding approaches and justification of your rating:** \n",
    "\n",
    "(your words here...)"
   ]
  },
  {
   "cell_type": "markdown",
   "metadata": {},
   "source": [
    "### *Self-assessment 2: Physical modelling and investigation*\n",
    "*(How well did you apply your and extend your physical modelling and scientific investigation skills in this project? How realistic is the model that you used and why? Consider whether you added more realistic elements to the simulation and how those changed the results. What phase space(s) did you you chose to explore and how throrough was your exploration? Consider how you translated physics into code and if appropriate any new physics you learned or developed a more thorough understanding of. Consider how thorough and compelling your error-testing evidence is in terms of your system functioning correctly. Highlight something you feel you did particularily well and discuss an aspect of your modelling or investigation process that would benefit the most from an improvement.)*"
   ]
  },
  {
   "cell_type": "markdown",
   "metadata": {},
   "source": [
    "**Self-assessment rating (*Outstanding, Publish, Minor Revisions, Major Revisions, Rework, Absent*):** (your rating here...)"
   ]
  },
  {
   "cell_type": "markdown",
   "metadata": {},
   "source": [
    "**Discussion of your physical investigation and justification of your rating:** \n",
    "\n",
    "(your words here...)"
   ]
  },
  {
   "cell_type": "markdown",
   "metadata": {},
   "source": [
    "### *Self-assessment 3: Effectiveness of your visualizations and fits*\n",
    "*(How effectively do your visualizations communicate the overall results of your investigations? Consider not only your visualizations section, but also any visualizations you used in error checking and building your confidence that your system is behaving as intended. Were any of your visualizations particularly insightful regarding identifying or resolving unphysical behaviour. Consider the steps you took to maximize how well your visualizations support your ability to answer your research questions. Highlight something you feel you did particularily well and discuss an aspect of your visualizations that would benefit the most from an improvement.)*"
   ]
  },
  {
   "cell_type": "markdown",
   "metadata": {},
   "source": [
    "**Self-assessment rating (*Outstanding, Publish, Minor Revisions, Major Revisions, Rework, Absent*):** (your rating here...)"
   ]
  },
  {
   "cell_type": "markdown",
   "metadata": {},
   "source": [
    "**Discussion of your thoroughness of effectiveness of your visualizations and justification of your rating:** \n",
    "\n",
    "(your words here...)"
   ]
  },
  {
   "cell_type": "markdown",
   "metadata": {},
   "source": [
    "### *Self-assessment 4: Interpretation of Results*\n",
    " *(How accurately and thoroughly did you interpret your results and discuss the key features of your data / results / visualizations? Do your results and discussions answer your research question(s)? Are your limitations and next steps sufficient to provide an accurate picture of your results and actionable next steps?)*"
   ]
  },
  {
   "cell_type": "markdown",
   "metadata": {},
   "source": [
    "**Self-assessment rating (*Outstanding, Publish, Minor Revisions, Major Revisions, Rework, Absent*):** (your rating here...)"
   ]
  },
  {
   "cell_type": "markdown",
   "metadata": {},
   "source": [
    "**Discussion of your interpretation of results and justification of your rating:** \n",
    "\n",
    "(your words here...)"
   ]
  },
  {
   "cell_type": "code",
   "execution_count": null,
   "metadata": {},
   "outputs": [],
   "source": []
  }
 ],
 "metadata": {
  "colab": {
   "provenance": []
  },
  "kernelspec": {
   "display_name": "Python 3",
   "language": "python",
   "name": "python3"
  },
  "language_info": {
   "codemirror_mode": {
    "name": "ipython",
    "version": 3
   },
   "file_extension": ".py",
   "mimetype": "text/x-python",
   "name": "python",
   "nbconvert_exporter": "python",
   "pygments_lexer": "ipython3",
   "version": "3.7.6"
  }
 },
 "nbformat": 4,
 "nbformat_minor": 1
}
