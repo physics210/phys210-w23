{
 "cells": [
  {
   "cell_type": "markdown",
   "metadata": {
    "slideshow": {
     "slide_type": "slide"
    }
   },
   "source": [
    "# PHYS 210 Lecture 03 - Sept 13, 2023\n",
    "Agenda:\n",
    "\n",
    "1. Announcements (office hours)\n",
    "1. Pre-class reading Q&A and polling questions\n",
    "1. Day 03 group worksheet\n",
    "1. Assignment 03"
   ]
  },
  {
   "cell_type": "markdown",
   "metadata": {
    "slideshow": {
     "slide_type": "slide"
    }
   },
   "source": [
    "# Display hack to keep output visible on the screen"
   ]
  },
  {
   "cell_type": "code",
   "execution_count": null,
   "metadata": {},
   "outputs": [],
   "source": [
    "from IPython.core.display import display, HTML\n",
    "display(HTML(\"<style>div.output_scroll { height: 7em; }</style>\"))"
   ]
  },
  {
   "cell_type": "markdown",
   "metadata": {
    "slideshow": {
     "slide_type": "slide"
    }
   },
   "source": [
    "## When you need help...\n",
    "\n",
    "* Piazza\n",
    "* Office hours in Hebb 112 and on Zoom (Tues 4:00-5:30pm, Thurs 11:30am-1:00pm)\n",
    "* TAs, instructor and classmates during class time\n",
    "* Contact me by email if none of those seems like the right thing"
   ]
  },
  {
   "cell_type": "markdown",
   "metadata": {
    "slideshow": {
     "slide_type": "slide"
    }
   },
   "source": [
    "## Reading topics\n",
    "\n",
    "* **Conditionals:** `if` / `elif` / `else` to execute code only if a condition is met (aka True).\n",
    "* **Loops:** `while` statement executes a block of code repeatedly as long as a condition is True.\n",
    "* **Indentation:** New blocks of code must be indented. 4 spaces is best\n"
   ]
  },
  {
   "cell_type": "markdown",
   "metadata": {
    "slideshow": {
     "slide_type": "slide"
    }
   },
   "source": [
    "## Reading 03 Q&A"
   ]
  },
  {
   "cell_type": "markdown",
   "metadata": {
    "slideshow": {
     "slide_type": "slide"
    }
   },
   "source": [
    "## Polling questions"
   ]
  },
  {
   "cell_type": "markdown",
   "metadata": {
    "slideshow": {
     "slide_type": "slide"
    }
   },
   "source": [
    "**Poll 3.1:** Will the print statement happen?"
   ]
  },
  {
   "cell_type": "code",
   "execution_count": null,
   "metadata": {
    "slideshow": {
     "slide_type": "-"
    }
   },
   "outputs": [],
   "source": [
    "if (9//2 > 4):\n",
    "    print(\"Yes, we got in!\")"
   ]
  },
  {
   "cell_type": "markdown",
   "metadata": {
    "slideshow": {
     "slide_type": "-"
    }
   },
   "source": [
    "A) Yes<br>\n",
    "B) No"
   ]
  },
  {
   "cell_type": "markdown",
   "metadata": {
    "slideshow": {
     "slide_type": "slide"
    }
   },
   "source": [
    "**Poll 3.2:** How many times will hello be printed?\n",
    "```python\n",
    "x = 1\n",
    "while (x < 5):\n",
    "    print(\"hello\")\n",
    "```"
   ]
  },
  {
   "cell_type": "markdown",
   "metadata": {
    "slideshow": {
     "slide_type": "-"
    }
   },
   "source": [
    "A) 0 times<br>\n",
    "B) 4 times<br>\n",
    "C) 5 times<br>\n",
    "D) 6 times<br>\n",
    "E) It will keep printing forever"
   ]
  },
  {
   "cell_type": "markdown",
   "metadata": {
    "slideshow": {
     "slide_type": "slide"
    }
   },
   "source": [
    "**Poll 3.3:** How many times will hello be printed?"
   ]
  },
  {
   "cell_type": "code",
   "execution_count": null,
   "metadata": {
    "slideshow": {
     "slide_type": "-"
    }
   },
   "outputs": [],
   "source": [
    "x = 1\n",
    "while (x < 5):\n",
    "    print(\"hello\")\n",
    "    x = x + 1"
   ]
  },
  {
   "cell_type": "markdown",
   "metadata": {
    "slideshow": {
     "slide_type": "-"
    }
   },
   "source": [
    "A) 0 times<br>\n",
    "B) 4 times<br>\n",
    "C) 5 times<br>\n",
    "D) 6 times<br>\n",
    "E) It will keep printing forever"
   ]
  },
  {
   "cell_type": "markdown",
   "metadata": {
    "slideshow": {
     "slide_type": "slide"
    }
   },
   "source": [
    "**Q:** \"for question 3.2, I still do not understand why we need add \"\"time_then = time.time()\"\"\n",
    "I cannot understand what is that for.\"\n",
    "\n",
    "**Q:** The statements involving \"time.time()\" seem to be crucial to the functioning of while loops. What is the code doing to prevent the creation of runaway cells?\n"
   ]
  },
  {
   "cell_type": "markdown",
   "metadata": {
    "slideshow": {
     "slide_type": "slide"
    }
   },
   "source": [
    "Let's build this up in a much less complicated way"
   ]
  },
  {
   "cell_type": "code",
   "execution_count": null,
   "metadata": {},
   "outputs": [],
   "source": [
    "import numpy as np\n",
    "x = 2 # Start it at 2 to save some output space below\n",
    "xmax = np.pi\n",
    "dx = .25\n",
    "\n",
    "while x <= xmax:\n",
    "    print(f\"sin({x}) = {np.sin(x):.3f}\")\n",
    "    x = x + dx"
   ]
  },
  {
   "cell_type": "markdown",
   "metadata": {
    "slideshow": {
     "slide_type": "slide"
    }
   },
   "source": [
    "**1.** Does the \"I really wasn't expecting this result\" ever print?"
   ]
  },
  {
   "cell_type": "code",
   "execution_count": null,
   "metadata": {},
   "outputs": [],
   "source": [
    "import numpy as np; x = 2; xmax = np.pi; dx = .25\n",
    "\n",
    "while x <= xmax:\n",
    "    if (x > xmax):\n",
    "        print(\"I really wasn't expecting this result\")\n",
    "    else :\n",
    "        print(f\"sin({x}) = {np.sin(x):.3f}\")\n",
    "    x = x + dx"
   ]
  },
  {
   "cell_type": "markdown",
   "metadata": {
    "slideshow": {
     "slide_type": "slide"
    }
   },
   "source": [
    "Yes, but we have to move `x = x + dx`"
   ]
  },
  {
   "cell_type": "code",
   "execution_count": null,
   "metadata": {},
   "outputs": [],
   "source": [
    "import numpy as np; x = 2; xmax = np.pi; dx = .25\n",
    "\n",
    "while x <= xmax:\n",
    "    x = x + dx # my new home!\n",
    "    if (x > xmax):\n",
    "        print(\"I really wasn't expecting this result\")\n",
    "        print(f\"* sin({x}) = {np.sin(x):.3f}\")\n",
    "    else :\n",
    "        print(f\"sin({x}) = {np.sin(x):.3f}\")"
   ]
  },
  {
   "cell_type": "markdown",
   "metadata": {
    "slideshow": {
     "slide_type": "slide"
    }
   },
   "source": [
    "**2.** What happens if you add four spaces in front of the 'print(\"Loop finished\")' statement?"
   ]
  },
  {
   "cell_type": "code",
   "execution_count": null,
   "metadata": {},
   "outputs": [],
   "source": [
    "import numpy as np; x = 2; xmax = np.pi; dx = .25\n",
    "\n",
    "while x <= xmax:\n",
    "    print(f\"sin({x}) = {np.sin(x):.3f}\")\n",
    "    x = x + dx\n",
    "    \n",
    "    print(\"Loop finished\")"
   ]
  },
  {
   "cell_type": "markdown",
   "metadata": {
    "slideshow": {
     "slide_type": "slide"
    }
   },
   "source": [
    "**3.**  What happens if you comment out or delete the x = x + dx line? (Remember we already saw what happens if our `x = x + 1` was missing in Poll 3.2"
   ]
  },
  {
   "cell_type": "code",
   "execution_count": null,
   "metadata": {},
   "outputs": [],
   "source": [
    "import numpy as np; x = 2; xmax = np.pi; dx = .25; import time\n",
    "time_then = time.time()\n",
    "while x <= xmax:\n",
    "    \n",
    "    if (time.time()-time_then) > 0.1: print(\"Cell timed out\"); break\n",
    "    print(f\"sin({x}) = {np.sin(x):.3f}, {time.time()-time_then}\")\n",
    "    #x = x + dx"
   ]
  },
  {
   "cell_type": "markdown",
   "metadata": {
    "slideshow": {
     "slide_type": "slide"
    }
   },
   "source": [
    "**4.**  What happens if we define `xmax` as a value smaller than our initial value of `x=0.`?"
   ]
  },
  {
   "cell_type": "code",
   "execution_count": null,
   "metadata": {},
   "outputs": [],
   "source": [
    "import numpy as np; x = 0; dx = .25\n",
    "\n",
    "xmax = -8\n",
    "print(\"Starting the loop with x =\",x)\n",
    "\n",
    "while x <= xmax:\n",
    "    print(f\"sin({x}) = {np.sin(x):.3f}\")\n",
    "\n",
    "print(\"Loop finished\")"
   ]
  },
  {
   "cell_type": "markdown",
   "metadata": {
    "slideshow": {
     "slide_type": "slide"
    }
   },
   "source": [
    "## The rest of the day\n",
    "* Group worksheet 03 (one multi-part question)\n",
    "* Solo worksheet 03\n",
    "* Reading 04 for Monday (should be posted tonight)"
   ]
  },
  {
   "cell_type": "code",
   "execution_count": null,
   "metadata": {
    "slideshow": {
     "slide_type": "slide"
    }
   },
   "outputs": [],
   "source": []
  }
 ],
 "metadata": {
  "celltoolbar": "Slideshow",
  "kernelspec": {
   "display_name": "Python 3",
   "language": "python",
   "name": "python3"
  },
  "language_info": {
   "codemirror_mode": {
    "name": "ipython",
    "version": 3
   },
   "file_extension": ".py",
   "mimetype": "text/x-python",
   "name": "python",
   "nbconvert_exporter": "python",
   "pygments_lexer": "ipython3",
   "version": "3.7.6"
  }
 },
 "nbformat": 4,
 "nbformat_minor": 4
}
